{
 "cells": [
  {
   "cell_type": "markdown",
   "metadata": {},
   "source": [
    "![CC-BY-SA](https://mirrors.creativecommons.org/presskit/buttons/88x31/svg/by-sa.svg)\n",
    "\n",
    "\n",
    "This notebook was created by [Bernardo Freitas Paulo da Costa](http://www.im.ufrj.br/bernardofpc),\n",
    "and is licensed under Creative Commons BY-SA."
   ]
  },
  {
   "cell_type": "markdown",
   "metadata": {},
   "source": [
    "Antes de enviar este Teste, verifique que tudo está funcionando como esperado.\n",
    "Por exemplo, **rode o código inteiro, do zero**.\n",
    "Para isso, vá no menu, escolha _Kernel_, depois _Restart & Run All_.\n",
    "\n",
    "Verifique, também, que você respondeu todas as questões:\n",
    "* as questões de código têm `YOUR CODE HERE` (e você pode apagar o `raise NotImplemented` ao incluir sua resposta)\n",
    "* as questões discursivas têm \"YOUR ANSWER HERE\"."
   ]
  },
  {
   "cell_type": "markdown",
   "metadata": {},
   "source": [
    "---"
   ]
  },
  {
   "cell_type": "markdown",
   "metadata": {},
   "source": [
    "**Ideia original**: Luan Lima"
   ]
  },
  {
   "cell_type": "code",
   "execution_count": 27,
   "metadata": {
    "deletable": false,
    "editable": false,
    "nbgrader": {
     "cell_type": "code",
     "checksum": "99862e14aab109fcd43ea743c7d927a6",
     "grade": false,
     "grade_id": "cell-35133d245e796394",
     "locked": true,
     "schema_version": 3,
     "solution": false,
     "task": false
    }
   },
   "outputs": [],
   "source": [
    "import numpy as np\n",
    "import matplotlib.pyplot as plt"
   ]
  },
  {
   "cell_type": "markdown",
   "metadata": {
    "deletable": false,
    "editable": false,
    "nbgrader": {
     "cell_type": "markdown",
     "checksum": "f89cae9b72c7a2b009446cd90c2b2532",
     "grade": false,
     "grade_id": "cell-820f5d4e532f5d98",
     "locked": true,
     "schema_version": 3,
     "solution": false,
     "task": false
    }
   },
   "source": [
    "# Teste 2: Erros no algoritmo da bisseção"
   ]
  },
  {
   "cell_type": "markdown",
   "metadata": {
    "deletable": false,
    "editable": false,
    "nbgrader": {
     "cell_type": "markdown",
     "checksum": "365d0b0b3861560f2e7b1479c76fc87b",
     "grade": false,
     "grade_id": "cell-a5d583522ffe6bf7",
     "locked": true,
     "schema_version": 3,
     "solution": false,
     "task": false
    }
   },
   "source": [
    "## Questão 1: Todos os pontos da bisseção\n",
    "\n",
    "Neste teste vamos estudar a evolução do erro no eixo $y$ no decorrer do algoritmo da bisseção.\n",
    "Para isso, vamos usar uma variação do método da bisseção que retorne\n",
    "uma lista com todos os pontos percorridos pelo algoritmo até atingir o critério de parada.\n",
    "\n",
    "Implemente a função `bissecao_pts`, utilizando como critérios de parada `xtol`, `ytol` e `maxiter`."
   ]
  },
  {
   "cell_type": "code",
   "execution_count": 8,
   "metadata": {
    "deletable": false,
    "nbgrader": {
     "cell_type": "code",
     "checksum": "a023f2da649f7da1217fe73b6d96f4c6",
     "grade": false,
     "grade_id": "cell-45970c6f00e980fe",
     "locked": false,
     "schema_version": 3,
     "solution": true,
     "task": false
    }
   },
   "outputs": [],
   "source": [
    "def bissecao_pts(f, a, b, xtol=1e-8, ytol=1e-8, maxiter=100):\n",
    "    pts=[]\n",
    "    m = (a+b)/2\n",
    "    fm = f(m)\n",
    "    iters=1\n",
    "    pts.append(m)\n",
    "    while (abs(b-a) >= xtol) and (iters < maxiter) and (abs(fm) > ytol):\n",
    "        if fm*f(a) < 0:\n",
    "            b = m\n",
    "            m = (a+b)/2\n",
    "            fm = f(m)\n",
    "            if a not in pts:\n",
    "                pts.append(a)\n",
    "            if m not in pts:\n",
    "                pts.append(m)\n",
    "        else:\n",
    "            a = m\n",
    "            m = (a+b)/2\n",
    "            fm = f(m)\n",
    "            if m not in pts:\n",
    "                pts.append(m)\n",
    "        iters+=1\n",
    "    return pts"
   ]
  },
  {
   "cell_type": "markdown",
   "metadata": {},
   "source": [
    "Alguns testes básicos para esta nova bisseção."
   ]
  },
  {
   "cell_type": "code",
   "execution_count": 9,
   "metadata": {
    "deletable": false,
    "editable": false,
    "nbgrader": {
     "cell_type": "code",
     "checksum": "cb99a4c5b0afd2570e604c4bcd068a62",
     "grade": false,
     "grade_id": "cell-809e377fa1b0a7f8",
     "locked": true,
     "schema_version": 3,
     "solution": false,
     "task": false
    }
   },
   "outputs": [],
   "source": [
    "def p(a): \n",
    "    def f(x): return np.tan(x)-a\n",
    "    return f"
   ]
  },
  {
   "cell_type": "code",
   "execution_count": 10,
   "metadata": {
    "deletable": false,
    "editable": false,
    "nbgrader": {
     "cell_type": "code",
     "checksum": "e3357f59de3395ae079ec702268f0a94",
     "grade": true,
     "grade_id": "cell-9c7f3d4ad14fabec",
     "locked": true,
     "points": 1,
     "schema_version": 3,
     "solution": false,
     "task": false
    }
   },
   "outputs": [],
   "source": [
    "pts = bissecao_pts(p(1),0,np.pi/2, ytol=0)\n",
    "assert abs(pts[-1]-np.pi/4) < 1e-8"
   ]
  },
  {
   "cell_type": "code",
   "execution_count": 11,
   "metadata": {
    "deletable": false,
    "editable": false,
    "nbgrader": {
     "cell_type": "code",
     "checksum": "8d68d902f40e0836bf4fb675de461285",
     "grade": true,
     "grade_id": "cell-55dd808b2b27a77b",
     "locked": true,
     "points": 1,
     "schema_version": 3,
     "solution": false,
     "task": false
    }
   },
   "outputs": [],
   "source": [
    "for a in np.logspace(1,4):\n",
    "    pts = bissecao_pts(p(a),0,np.pi/2, xtol=0)\n",
    "    assert 1e-10 < abs(np.tan(pts[-1])-a) < 1e-8, (a, abs(np.tan(pts[-1])-a), len(pts))\n",
    "    assert 1e-8 < abs(np.tan(pts[-2])-a)"
   ]
  },
  {
   "cell_type": "code",
   "execution_count": 12,
   "metadata": {
    "deletable": false,
    "editable": false,
    "nbgrader": {
     "cell_type": "code",
     "checksum": "e7f6344ac0ba9723ce9250c7da1c2766",
     "grade": true,
     "grade_id": "cell-ef9b324913707a25",
     "locked": true,
     "points": 1,
     "schema_version": 3,
     "solution": false,
     "task": false
    }
   },
   "outputs": [],
   "source": [
    "for n in range(2,10):\n",
    "    pts = bissecao_pts(p(n),0,np.pi/2, xtol=0)\n",
    "    assert 25 < len(pts) < 35"
   ]
  },
  {
   "cell_type": "markdown",
   "metadata": {},
   "source": [
    "## Questão 2: Aquecimento\n",
    "\n",
    "Vamos começar estudando como se comporta o erro em $y$ para a função $f(x) = \\sin(x)$. Faça um gráfico que contenha:\n",
    "- no eixo horizontal, o número $n$ de iterações realizadas\n",
    "- no eixo vertical, o erro em $y$ após a $n$-ésima iteração.\n",
    "\n",
    "Utilize o intervalo padrão abaixo para todas as questões do teste."
   ]
  },
  {
   "cell_type": "code",
   "execution_count": 13,
   "metadata": {
    "deletable": false,
    "editable": false,
    "nbgrader": {
     "cell_type": "code",
     "checksum": "f956cde830e44298f20f289b80dfdbc6",
     "grade": false,
     "grade_id": "cell-d09e0df0cf66de55",
     "locked": true,
     "schema_version": 3,
     "solution": false,
     "task": false
    }
   },
   "outputs": [],
   "source": [
    "a = -1+1e-12\n",
    "b = 1/2"
   ]
  },
  {
   "cell_type": "code",
   "execution_count": 34,
   "metadata": {
    "deletable": false,
    "nbgrader": {
     "cell_type": "code",
     "checksum": "1e595caac218d083d3a3a93404a5268b",
     "grade": true,
     "grade_id": "cell-d25f8f8339630966",
     "locked": false,
     "points": 2,
     "schema_version": 3,
     "solution": true,
     "task": false
    }
   },
   "outputs": [
    {
     "data": {
      "image/png": "[encoded data removed]",
      "text/plain": [
       "<Figure size 432x288 with 1 Axes>"
      ]
     },
     "metadata": {
      "needs_background": "light"
     },
     "output_type": "display_data"
    }
   ],
   "source": [
    "f = lambda x: np.sin(x)\n",
    "niters = []\n",
    "y = []\n",
    "for i in np.linspace(1,50, 50):\n",
    "    niters.append(i)\n",
    "    y.append(f(bissecao_pts(f, a, b, ytol=0, xtol=0,maxiter=i)[-1]))\n",
    "\n",
    "plt.plot(niters, np.abs(y))\n",
    "plt.title(\"Erro de f(x) por número de iterações\")\n",
    "plt.xlabel(\"iterações\")\n",
    "plt.ylabel(\"Erro\");\n"
   ]
  },
  {
   "cell_type": "markdown",
   "metadata": {
    "deletable": false,
    "editable": false,
    "nbgrader": {
     "cell_type": "markdown",
     "checksum": "a6fe6f32695309ce80eae4c7cd3ca739",
     "grade": false,
     "grade_id": "cell-0a46cd449caa892f",
     "locked": true,
     "schema_version": 3,
     "solution": false,
     "task": false
    }
   },
   "source": [
    "Comente o gráfico. O que você observa sobre a velocidade de convergência do método?"
   ]
  },
  {
   "cell_type": "markdown",
   "metadata": {
    "deletable": false,
    "nbgrader": {
     "cell_type": "markdown",
     "checksum": "0e52fb220f06663461a86332a98f09c0",
     "grade": true,
     "grade_id": "cell-50e7c0cae1a5ed1f",
     "locked": false,
     "points": 2,
     "schema_version": 3,
     "solution": true,
     "task": false
    }
   },
   "source": [
    "O gráfico apresenta o módulo do valor da função f(X) para o ponto retornado pela bisseção de acordo com o número máximo de iterações, indo de 1 a 100. Nota-se uma queda exponencial, o que significa que um incremento na precisão tem pouco incremento no número de iterações, ou um incremento no número de iteração tem grande incremento na precisão. Em determinado momento, um incremento no número máximo de iterações não produz nenhum aumento na precisão, porque a bisseção passa a atingir o mínimo de precisão padrão dela antes de atingir o máximo de iterações repassado a ela."
   ]
  },
  {
   "cell_type": "markdown",
   "metadata": {
    "deletable": false,
    "editable": false,
    "nbgrader": {
     "cell_type": "markdown",
     "checksum": "4b12064791841887aa244276cca14be9",
     "grade": false,
     "grade_id": "cell-4987ac2bfdaaf3a0",
     "locked": true,
     "schema_version": 3,
     "solution": false,
     "task": false
    }
   },
   "source": [
    "Agora represente, em um mesmo gráfico, a evolução do erro em $y$ para as funções $f(x) = \\sin(x)$ e $g(x) = \\sqrt[3]{x}$ (use `np.cbrt`).\n",
    "\n",
    "Não se esqueça de botar título, legendas e labels nos eixos."
   ]
  },
  {
   "cell_type": "code",
   "execution_count": 33,
   "metadata": {
    "deletable": false,
    "nbgrader": {
     "cell_type": "code",
     "checksum": "ccaf9a0759215f4c131d29dbeb15e4db",
     "grade": true,
     "grade_id": "cell-c5836d96b200d36e",
     "locked": false,
     "points": 1,
     "schema_version": 3,
     "solution": true,
     "task": false
    }
   },
   "outputs": [
    {
     "data": {
      "image/png": "[encoded data removed]",
      "text/plain": [
       "<Figure size 432x288 with 1 Axes>"
      ]
     },
     "metadata": {
      "needs_background": "light"
     },
     "output_type": "display_data"
    }
   ],
   "source": [
    "g = lambda x: np.cbrt(x)\n",
    "niters = []\n",
    "fys = []\n",
    "gys = []\n",
    "for i in np.linspace(1,50, 50):\n",
    "    niters.append(i)\n",
    "    fys.append(f(bissecao_pts(f, a, b, ytol=0, xtol=0,maxiter=i)[-1]))\n",
    "    gys.append(g(bissecao_pts(g, a, b, ytol=0, xtol=0,maxiter=i)[-1]))\n",
    "\n",
    "plt.semilogy(niters, np.abs(fys), label=\"sin(x)\")\n",
    "plt.semilogy(niters, np.abs(gys), label=\"np.cbrt(x)\")\n",
    "plt.xlabel(\"iterações\")\n",
    "plt.ylabel(\"erro\")\n",
    "plt.title(\"Erro de f(x) e g(x) por número de iterações\")\n",
    "plt.legend()\n",
    "ax = plt.gca()"
   ]
  },
  {
   "cell_type": "code",
   "execution_count": 16,
   "metadata": {
    "deletable": false,
    "editable": false,
    "nbgrader": {
     "cell_type": "code",
     "checksum": "5619b8a94455aa473bd80599dcefe790",
     "grade": true,
     "grade_id": "cell-300d2ade835bfa3b",
     "locked": true,
     "points": 1,
     "schema_version": 3,
     "solution": false,
     "task": false
    }
   },
   "outputs": [],
   "source": [
    "assert len(ax.lines) == 2\n",
    "assert len(ax.legend().texts) == 2"
   ]
  },
  {
   "cell_type": "code",
   "execution_count": 17,
   "metadata": {
    "deletable": false,
    "editable": false,
    "nbgrader": {
     "cell_type": "code",
     "checksum": "91b868f125fce9fc885ee7d3ac230cfc",
     "grade": true,
     "grade_id": "cell-7c3e1a77303b569d",
     "locked": true,
     "points": 1,
     "schema_version": 3,
     "solution": false,
     "task": false
    }
   },
   "outputs": [],
   "source": [
    "assert ax.title.get_text() != \"\"\n",
    "assert ax.get_xlabel() != \"\"\n",
    "assert ax.get_ylabel() != \"\""
   ]
  },
  {
   "cell_type": "markdown",
   "metadata": {
    "deletable": false,
    "editable": false,
    "nbgrader": {
     "cell_type": "markdown",
     "checksum": "3186cf4f1704cf65bc533bc0598b52ba",
     "grade": false,
     "grade_id": "cell-7ee8498e642c7d83",
     "locked": true,
     "schema_version": 3,
     "solution": false,
     "task": false
    }
   },
   "source": [
    "Compare a velocidade de convergência do método relativamente às duas funções. Como você explica essa diferença? Sinta-se à vontade para utilizar mais gráficos ou caixas de código para ajudar na sua explicação."
   ]
  },
  {
   "cell_type": "code",
   "execution_count": 18,
   "metadata": {
    "deletable": false,
    "nbgrader": {
     "cell_type": "code",
     "checksum": "fbcc23a65806d9af205c3f5f5eb411a5",
     "grade": true,
     "grade_id": "cell-93d81dd6cee6d454",
     "locked": false,
     "points": 1,
     "schema_version": 3,
     "solution": true,
     "task": false
    }
   },
   "outputs": [
    {
     "data": {
      "image/png": "[encoded data removed]",
      "text/plain": [
       "<Figure size 432x288 with 1 Axes>"
      ]
     },
     "metadata": {
      "needs_background": "light"
     },
     "output_type": "display_data"
    }
   ],
   "source": [
    "xs = np.linspace(-2,2,num=100)\n",
    "fs = f(xs)\n",
    "gs = g(xs)\n",
    "plt.plot(xs, fs, label=\"f(x) = sin(x)\")\n",
    "plt.plot(xs, gs, label=\"g(x) = np.cbrt(x)\")\n",
    "plt.xlabel(\"x\")\n",
    "plt.ylabel(\"y\")\n",
    "plt.title(\"Gráfico de f(x) e g(x)\")\n",
    "plt.legend()\n",
    "plt.grid()\n",
    "plt.show()"
   ]
  },
  {
   "cell_type": "code",
   "execution_count": 19,
   "metadata": {},
   "outputs": [
    {
     "data": {
      "image/png": "[encoded data removed]",
      "text/plain": [
       "<Figure size 432x288 with 1 Axes>"
      ]
     },
     "metadata": {
      "needs_background": "light"
     },
     "output_type": "display_data"
    }
   ],
   "source": [
    "xs = np.linspace(0,0.01,num=100)\n",
    "fs = f(xs)\n",
    "gs = g(xs)\n",
    "plt.plot(xs, fs, label=\"f(x) = sin(x)\")\n",
    "plt.plot(xs, gs, label=\"g(x) = np.cbrt(x)\")\n",
    "plt.xlabel(\"x\")\n",
    "plt.ylabel(\"y\")\n",
    "plt.title(\"Gráfico de f(x) e g(x)\")\n",
    "plt.legend()\n",
    "plt.grid()\n",
    "plt.show()"
   ]
  },
  {
   "cell_type": "markdown",
   "metadata": {
    "deletable": false,
    "nbgrader": {
     "cell_type": "markdown",
     "checksum": "68b59e91ad6b652ec362da2f21275082",
     "grade": true,
     "grade_id": "cell-1b2c60ad6938101d",
     "locked": false,
     "points": 2,
     "schema_version": 3,
     "solution": true,
     "task": false
    }
   },
   "source": [
    "De acordo com os novos gráficos mostrados, a função $sin(x)$ está mais próxima de y=0 que a $\\sqrt[3]{x}$ e a cada iteração se aproxima mais rápido de y=0. O segundo gráfico faz uma aproximação em x=0 e evidencia que, mesmo em pontos na ordem de $10^{-3}$, f(x) está mais próxima de y=0 que g(x). Poderíamos reduzir ainda mais a ordem e ver o mesmo comportamento. Isto faz com que a cada nova iteração, a função f(x) esteja mais próxima da raiz do que a g(x), então o erro diminui mais. No final das contas, a g(x) atinge o mínimo padrão de erro no eixo x primeiro, algumas iterações depois que f(x) atinge o mínimo padrão do erro para o eixo y. "
   ]
  },
  {
   "cell_type": "markdown",
   "metadata": {
    "deletable": false,
    "editable": false,
    "nbgrader": {
     "cell_type": "markdown",
     "checksum": "7942efca64685cc0ce7a95f731707297",
     "grade": false,
     "grade_id": "cell-4ec6a3ebf7ff3b2d",
     "locked": true,
     "schema_version": 3,
     "solution": false,
     "task": false
    }
   },
   "source": [
    "## Questão 3: Uma função diferentona\n",
    "\n",
    "Agora vamos bolar uma função um pouco diferente para explorar os limites do método de bisseção. A função vai ser:"
   ]
  },
  {
   "cell_type": "code",
   "execution_count": 20,
   "metadata": {
    "deletable": false,
    "editable": false,
    "nbgrader": {
     "cell_type": "code",
     "checksum": "14da01c18aa1b9a9814db10ad32a412c",
     "grade": false,
     "grade_id": "cell-ee3917ccc07c549f",
     "locked": true,
     "schema_version": 3,
     "solution": false,
     "task": false
    }
   },
   "outputs": [],
   "source": [
    "def h(x):\n",
    "    return np.sign(x) / np.log(np.abs(x))"
   ]
  },
  {
   "cell_type": "markdown",
   "metadata": {
    "deletable": false,
    "editable": false,
    "nbgrader": {
     "cell_type": "markdown",
     "checksum": "32851ed2503d0d2d18e0bba20fbde25d",
     "grade": false,
     "grade_id": "cell-62e0a10ca7acbd26",
     "locked": true,
     "schema_version": 3,
     "solution": false,
     "task": false
    }
   },
   "source": [
    "Faça um gráfico dessa função em uma vizinhança de 0."
   ]
  },
  {
   "cell_type": "code",
   "execution_count": 21,
   "metadata": {
    "deletable": false,
    "nbgrader": {
     "cell_type": "code",
     "checksum": "f5128932df0cb9127ffda73f62d7d270",
     "grade": true,
     "grade_id": "cell-b38e07378de267f3",
     "locked": false,
     "points": 1,
     "schema_version": 3,
     "solution": true,
     "task": false
    }
   },
   "outputs": [
    {
     "data": {
      "image/png": "[encoded data removed]",
      "text/plain": [
       "<Figure size 432x288 with 1 Axes>"
      ]
     },
     "metadata": {
      "needs_background": "light"
     },
     "output_type": "display_data"
    }
   ],
   "source": [
    "x = np.linspace(-0.05,0.05, num=1000)\n",
    "y = h(x)\n",
    "plt.plot(x,y)\n",
    "plt.title(\"h(x) em uma vizinhança de x=0\")\n",
    "plt.xlabel(\"x\")\n",
    "plt.ylabel(\"y\")\n",
    "ax = plt.gca()"
   ]
  },
  {
   "cell_type": "code",
   "execution_count": 22,
   "metadata": {
    "deletable": false,
    "editable": false,
    "nbgrader": {
     "cell_type": "code",
     "checksum": "0925cacfa5b870aa4527905d877b7583",
     "grade": true,
     "grade_id": "cell-d5a89ea1f949e376",
     "locked": true,
     "points": 1,
     "schema_version": 3,
     "solution": false,
     "task": false
    }
   },
   "outputs": [],
   "source": [
    "assert ax.title.get_text() != \"\"\n",
    "assert len(ax.lines) == 1"
   ]
  },
  {
   "cell_type": "markdown",
   "metadata": {
    "deletable": false,
    "editable": false,
    "nbgrader": {
     "cell_type": "markdown",
     "checksum": "1f5b4f703865ab2030d415b911980b7e",
     "grade": false,
     "grade_id": "cell-3aec5f03becf146d",
     "locked": true,
     "schema_version": 3,
     "solution": false,
     "task": false
    }
   },
   "source": [
    "Faça mais um gráfico, dessa vez comparando a evolução dos erros para as funções $f$, $g$ e $h$."
   ]
  },
  {
   "cell_type": "code",
   "execution_count": 32,
   "metadata": {
    "deletable": false,
    "nbgrader": {
     "cell_type": "code",
     "checksum": "7c19fd5a9b2cf2317471db0eec61f7a3",
     "grade": false,
     "grade_id": "cell-f5e298105af04362",
     "locked": false,
     "schema_version": 3,
     "solution": true,
     "task": false
    }
   },
   "outputs": [
    {
     "data": {
      "image/png": "[encoded data removed]",
      "text/plain": [
       "<Figure size 432x288 with 1 Axes>"
      ]
     },
     "metadata": {
      "needs_background": "light"
     },
     "output_type": "display_data"
    }
   ],
   "source": [
    "x2 = np.linspace(1,50, num=50)\n",
    "fy = []\n",
    "gy = []\n",
    "hy = []\n",
    "for i in x2:\n",
    "    fy.append(abs(f(bissecao_pts(f, a, b, maxiter=i)[-1])))\n",
    "    gy.append(abs(g(bissecao_pts(g, a, b, maxiter=i)[-1])))\n",
    "    hy.append(abs(h(bissecao_pts(h, a, b, maxiter=i)[-1])))\n",
    "plt.plot(x2,fy, label=\"f(x)\")\n",
    "plt.plot(x2,gy, label=\"g(x)\")\n",
    "plt.plot(x2,hy, label=\"h(x)\")\n",
    "plt.legend()\n",
    "plt.title(\"Erros de f(x), h(x) e g(x) pelo número de iterações\")\n",
    "plt.xlabel(\"iterações\")\n",
    "plt.ylabel(\"Erro\")\n",
    "ax = plt.gca()"
   ]
  },
  {
   "cell_type": "code",
   "execution_count": 24,
   "metadata": {
    "deletable": false,
    "editable": false,
    "nbgrader": {
     "cell_type": "code",
     "checksum": "7a07ed6a7b317fa1133c76c2b43ef87b",
     "grade": true,
     "grade_id": "cell-e6da1037eac222f1",
     "locked": true,
     "points": 1,
     "schema_version": 3,
     "solution": false,
     "task": false
    }
   },
   "outputs": [],
   "source": [
    "assert len(ax.lines) == 3\n",
    "assert len(ax.legend().texts) == 3\n",
    "assert ax.title.get_text() != \"\"\n",
    "assert ax.get_xlabel() != \"\"\n",
    "assert ax.get_ylabel() != \"\""
   ]
  },
  {
   "cell_type": "markdown",
   "metadata": {
    "deletable": false,
    "editable": false,
    "nbgrader": {
     "cell_type": "markdown",
     "checksum": "645a94b855c944214636741905e49aad",
     "grade": false,
     "grade_id": "cell-ea232db3be32ce1f",
     "locked": true,
     "schema_version": 3,
     "solution": false,
     "task": false
    }
   },
   "source": [
    "O que aconteceu desta vez? Explique o porquê."
   ]
  },
  {
   "cell_type": "markdown",
   "metadata": {
    "deletable": false,
    "nbgrader": {
     "cell_type": "markdown",
     "checksum": "658f032a43c616427e154a648f1eb297",
     "grade": true,
     "grade_id": "cell-1b984d8ed4e4b395",
     "locked": false,
     "points": 2,
     "schema_version": 3,
     "solution": true,
     "task": false
    }
   },
   "source": [
    "A nova função tem comportamento parecido com a g(x), está muito mais acima no eixo y do que a f(x), e em alguns momentos acima também da g(x), além de se aproximar mais devagar ainda de y=0. h(x) e g(x) terminam a bisseção pelo mesmo motivo, o mínimo padrão do erro no x é atingido. Além disso, g(x) não está definida em x=0."
   ]
  },
  {
   "cell_type": "markdown",
   "metadata": {
    "deletable": false,
    "editable": false,
    "nbgrader": {
     "cell_type": "markdown",
     "checksum": "c46e260fb6a16c5f3aa4bf1a19796ebc",
     "grade": false,
     "grade_id": "cell-f80e9f87748d7507",
     "locked": true,
     "schema_version": 3,
     "solution": false,
     "task": false
    }
   },
   "source": [
    "## Questão 4: O outro lado da moeda\n",
    "\n",
    "Para fechar com chave de ouro, vamos estudar a evolução do erro da função $h_2(x) = h^{-1}(x)$, isto é, a função $h_2$ tal que $h_2(h(x)) = x$ (digamos, em uma vizinhança de $x=0$). Implemente a função $h_2$ abaixo:"
   ]
  },
  {
   "cell_type": "code",
   "execution_count": 25,
   "metadata": {
    "deletable": false,
    "nbgrader": {
     "cell_type": "code",
     "checksum": "e4ec77c7db4ab44086e0368ac699b2c4",
     "grade": false,
     "grade_id": "cell-6f975613b554e4eb",
     "locked": false,
     "schema_version": 3,
     "solution": true,
     "task": false
    }
   },
   "outputs": [],
   "source": [
    "def h2(y): # y = h(x)\n",
    "    # Achar um x, h(x) - y = 0\n",
    "    def inv(x):\n",
    "        return h(x) - y\n",
    "    x2 = bissecao_pts(inv, a, -a, maxiter=350, ytol=0, xtol=0)[-1]\n",
    "    return x2 # x2 é o x em h(x) = y"
   ]
  },
  {
   "cell_type": "code",
   "execution_count": 26,
   "metadata": {
    "deletable": false,
    "editable": false,
    "nbgrader": {
     "cell_type": "code",
     "checksum": "c7d2a2c4b48a6a736d77d550511cd8f1",
     "grade": true,
     "grade_id": "cell-2a91a6c59b5d84c0",
     "locked": true,
     "points": 2,
     "schema_version": 3,
     "solution": false,
     "task": false
    }
   },
   "outputs": [
    {
     "name": "stderr",
     "output_type": "stream",
     "text": [
      "C:\\Users\\gusta\\Anaconda3\\lib\\site-packages\\ipykernel_launcher.py:2: RuntimeWarning: divide by zero encountered in log\n",
      "  \n"
     ]
    }
   ],
   "source": [
    "for x in np.linspace(-1+1e-8,1-1e-8,200):\n",
    "    assert abs(h2(h(x))-x) < 1e-15, (x, x - h2(h(x)))\n",
    "    assert abs(h(h2(x))-x) < 1e-15, (x, x - h(h2(x)))"
   ]
  },
  {
   "cell_type": "markdown",
   "metadata": {
    "deletable": false,
    "editable": false,
    "nbgrader": {
     "cell_type": "markdown",
     "checksum": "fd6a5ca5153aaee43b99492fff19bcf7",
     "grade": false,
     "grade_id": "cell-e2e5a2e9c0c97a02",
     "locked": true,
     "schema_version": 3,
     "solution": false,
     "task": false
    }
   },
   "source": [
    "Repita os estudos realizados anteriormente, com a inclusão de $h_2$."
   ]
  },
  {
   "cell_type": "code",
   "execution_count": 29,
   "metadata": {
    "deletable": false,
    "nbgrader": {
     "cell_type": "code",
     "checksum": "f5d59cb68451a9e932b18d4cc3628c41",
     "grade": true,
     "grade_id": "cell-4775dece22517358",
     "locked": false,
     "points": 1,
     "schema_version": 3,
     "solution": true,
     "task": false
    }
   },
   "outputs": [
    {
     "name": "stderr",
     "output_type": "stream",
     "text": [
      "C:\\Users\\gusta\\Anaconda3\\lib\\site-packages\\ipykernel_launcher.py:2: RuntimeWarning: divide by zero encountered in log\n",
      "  \n"
     ]
    },
    {
     "data": {
      "image/png": "[encoded data removed]",
      "text/plain": [
       "<Figure size 432x288 with 1 Axes>"
      ]
     },
     "metadata": {
      "needs_background": "light"
     },
     "output_type": "display_data"
    }
   ],
   "source": [
    "x2 = np.linspace(1,30, num=30)\n",
    "fy = []\n",
    "gy = []\n",
    "hy = []\n",
    "h2y =[]\n",
    "for i in x2:\n",
    "    fy.append(abs(f(bissecao_pts(f, a, b, ytol=0, xtol=0,  maxiter=i)[-1])))\n",
    "    gy.append(abs(g(bissecao_pts(g, a, b, ytol=0, xtol=0, maxiter=i)[-1])))\n",
    "    hy.append(abs(h(bissecao_pts(h, a, b, ytol=0, xtol=0, maxiter=i)[-1])))\n",
    "    h2y.append(abs(h2(bissecao_pts(h2, a, b, maxiter=i)[-1])))\n",
    "plt.plot(x2,fy, label=\"f(x)\")\n",
    "plt.plot(x2,gy, label=\"g(x)\")\n",
    "plt.plot(x2,hy, label=\"h(x)\")\n",
    "plt.plot(x2,h2y, label=\"h2(x)\")\n",
    "plt.legend()\n",
    "plt.title(\"Erros de f(x), h(x), g(x) e h2(x) pelo número de iterações\")\n",
    "plt.xlabel(\"iterações\")\n",
    "plt.ylabel(\"Erro\")\n",
    "ax = plt.gca()"
   ]
  },
  {
   "cell_type": "markdown",
   "metadata": {
    "deletable": false,
    "editable": false,
    "nbgrader": {
     "cell_type": "markdown",
     "checksum": "892a95e996a428e24df015c7bcc0e4ee",
     "grade": false,
     "grade_id": "cell-6d0688cc3584f472",
     "locked": true,
     "schema_version": 3,
     "solution": false,
     "task": false
    }
   },
   "source": [
    "Comente os resultados abaixo."
   ]
  },
  {
   "cell_type": "markdown",
   "metadata": {
    "deletable": false,
    "nbgrader": {
     "cell_type": "markdown",
     "checksum": "3971360672d55a9781c0dc9af80d023c",
     "grade": true,
     "grade_id": "cell-f7ae7b499409d7d7",
     "locked": false,
     "points": 2,
     "schema_version": 3,
     "solution": true,
     "task": false
    }
   },
   "source": [
    "A forma como a função h2 foi implementada usa a bisseção com valores exigentes para os critérios de parada, para que o erro dela esteja dentro do aceitável nos asserts, dessa forma o gráfico dela fica com o erro extretamente menor que as demais funções."
   ]
  }
 ],
 "metadata": {
  "kernelspec": {
   "display_name": "Python 3",
   "language": "python",
   "name": "python3"
  },
  "language_info": {
   "codemirror_mode": {
    "name": "ipython",
    "version": 3
   },
   "file_extension": ".py",
   "mimetype": "text/x-python",
   "name": "python",
   "nbconvert_exporter": "python",
   "pygments_lexer": "ipython3",
   "version": "3.7.3"
  }
 },
 "nbformat": 4,
 "nbformat_minor": 4
}
