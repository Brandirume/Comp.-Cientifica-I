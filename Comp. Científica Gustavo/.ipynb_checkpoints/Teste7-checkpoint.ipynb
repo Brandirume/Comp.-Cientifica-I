{
 "cells": [
  {
   "cell_type": "markdown",
   "metadata": {},
   "source": [
    "![CC-BY-SA](https://mirrors.creativecommons.org/presskit/buttons/88x31/svg/by-sa.svg)\n",
    "\n",
    "\n",
    "This notebook was created by [Bernardo Freitas Paulo da Costa](http://www.im.ufrj.br/bernardofpc),\n",
    "and is licensed under Creative Commons BY-SA."
   ]
  },
  {
   "cell_type": "markdown",
   "metadata": {},
   "source": [
    "Antes de enviar este Teste, verifique que tudo está funcionando como esperado.\n",
    "Por exemplo, **rode o código inteiro, do zero**.\n",
    "Para isso, vá no menu, escolha _Kernel_, depois _Restart & Run All_.\n",
    "\n",
    "Verifique, também, que você respondeu todas as questões:\n",
    "* as questões de código têm `YOUR CODE HERE` (e você pode apagar o `raise NotImplemented` ao incluir sua resposta)\n",
    "* as questões discursivas têm \"YOUR ANSWER HERE\"."
   ]
  },
  {
   "cell_type": "markdown",
   "metadata": {},
   "source": [
    "---"
   ]
  },
  {
   "cell_type": "code",
   "execution_count": null,
   "metadata": {
    "deletable": false,
    "editable": false,
    "nbgrader": {
     "cell_type": "code",
     "checksum": "779f6929121557207b2d6066a2b4f356",
     "grade": false,
     "grade_id": "cell-7e8687c0972c6579",
     "locked": true,
     "schema_version": 3,
     "solution": false,
     "task": false
    }
   },
   "outputs": [],
   "source": [
    "import numpy as np\n",
    "import matplotlib.pyplot as plt"
   ]
  },
  {
   "cell_type": "markdown",
   "metadata": {},
   "source": [
    "# Teste 7: Erros do polinômio interpolador"
   ]
  },
  {
   "cell_type": "markdown",
   "metadata": {},
   "source": [
    "## Questão 1: os métodos\n",
    "\n",
    "Escreva uma função que retorna os coeficientes do polinômio interpolador,\n",
    "dadas duas listas (ou `np.array`s) para $x_i$ e $y_i$.\n",
    "\n",
    "Use esta função para criar uma outra, que retorna uma função\n",
    "\"naturalmente\" vetorizada (ou seja, sem usar `np.vectorize`)\n",
    "que calcula esse polinômio interpolador."
   ]
  },
  {
   "cell_type": "code",
   "execution_count": null,
   "metadata": {
    "deletable": false,
    "nbgrader": {
     "cell_type": "code",
     "checksum": "5dc3155be6827e8f6130e3eeab68bef1",
     "grade": false,
     "grade_id": "cell-1403b2d5c84f2232",
     "locked": false,
     "schema_version": 3,
     "solution": true,
     "task": false
    }
   },
   "outputs": [],
   "source": [
    "def lagrange_coefs(xs,ys):\n",
    "    \"\"\" \n",
    "    Coeficientes (em ordem crescente) do polinômio interpolador dos pontos (x_i, y_i).\n",
    "    \"\"\"\n",
    "    assert(len(xs) == len(ys))\n",
    "    vander = np.vander(xs)\n",
    "    coefs = np.linalg.solve(vander, ys)\n",
    "    return coefs[::-1]\n",
    "def lagrange(xs,ys):\n",
    "    \"\"\" \n",
    "    Retorna uma função que calcula polinômio interpolador de Lagrange dos pontos (x_i, y_i). \n",
    "    \"\"\"\n",
    "    coefs = lagrange_coefs(xs,ys)\n",
    "    def pol(x):\n",
    "        poli = 0\n",
    "        grau = 0\n",
    "        for i in coefs:\n",
    "            poli += i*x**grau\n",
    "            grau +=1\n",
    "        return poli\n",
    "    return pol"
   ]
  },
  {
   "cell_type": "code",
   "execution_count": null,
   "metadata": {
    "deletable": false,
    "editable": false,
    "nbgrader": {
     "cell_type": "code",
     "checksum": "2205597a87d18ebb1e6bc92c1512cb9e",
     "grade": true,
     "grade_id": "cell-8544af132c09268c",
     "locked": true,
     "points": 1,
     "schema_version": 3,
     "solution": false,
     "task": false
    }
   },
   "outputs": [],
   "source": [
    "c = lagrange_coefs([1,2,3], [4,5,7])\n",
    "assert np.allclose(c, [4, -1/2, 1/2], atol=1e-14, rtol=1e-14)"
   ]
  },
  {
   "cell_type": "code",
   "execution_count": null,
   "metadata": {
    "deletable": false,
    "editable": false,
    "nbgrader": {
     "cell_type": "code",
     "checksum": "eb38283b87c501b06517c72b9bc1396c",
     "grade": true,
     "grade_id": "cell-8a0c51a8195c0b55",
     "locked": true,
     "points": 1,
     "schema_version": 3,
     "solution": false,
     "task": false
    }
   },
   "outputs": [],
   "source": [
    "p = lagrange([1,2,3], [4,5,7])\n",
    "assert np.isclose(p(0), 4, atol=1e-14, rtol=1e-14)\n",
    "assert np.isclose(p(1/2), 3.875, atol=1e-14, rtol=1e-14)"
   ]
  },
  {
   "cell_type": "code",
   "execution_count": null,
   "metadata": {
    "deletable": false,
    "editable": false,
    "nbgrader": {
     "cell_type": "code",
     "checksum": "d69dad10ea3b98202ef491616bebaa35",
     "grade": true,
     "grade_id": "cell-81973885ef6328a4",
     "locked": true,
     "points": 1,
     "schema_version": 3,
     "solution": false,
     "task": false
    }
   },
   "outputs": [],
   "source": [
    "c = lagrange_coefs([1,-1,2,-2], [1, 2, 3, 4])\n",
    "assert np.allclose(c*12, [10, -7, 8, 1])"
   ]
  },
  {
   "cell_type": "code",
   "execution_count": null,
   "metadata": {
    "deletable": false,
    "editable": false,
    "nbgrader": {
     "cell_type": "code",
     "checksum": "d65c5f72f42bb0b15831296d9a6d9201",
     "grade": true,
     "grade_id": "cell-49720504fbb57a43",
     "locked": true,
     "points": 1,
     "schema_version": 3,
     "solution": false,
     "task": false
    }
   },
   "outputs": [],
   "source": [
    "p = lagrange([1,-1,2,-2], [1, 2, 3, 4])\n",
    "assert np.isclose(p(5.1), 26.252583333333333, atol=1e-14, rtol=1e-14)"
   ]
  },
  {
   "cell_type": "markdown",
   "metadata": {},
   "source": [
    "## Questão 2: Calculando erros\n",
    "\n",
    "Dadas duas funções, $f$ e $g$, podemos definir o erro entre elas num intervalo $[a,b]$ como\n",
    "- a integral do valor absoluto da diferença\n",
    "- a raiz quadrada da integral do quadrado da diferença\n",
    "- o máximo do valor absoluto da diferença\n",
    "\n",
    "No computador, vamos aproximar estas medidas, calculando a diferença em alguma discretização do intervalo,\n",
    "e depois tomando o máximo / soma dos erros.\n",
    "Vamos usar o \"método do ponto médio\" para as integrais e, por analogia,\n",
    "os mesmos pontos para o máximo."
   ]
  },
  {
   "cell_type": "code",
   "execution_count": null,
   "metadata": {
    "deletable": false,
    "nbgrader": {
     "cell_type": "code",
     "checksum": "a17fb80d9467646997171231717882ea",
     "grade": false,
     "grade_id": "cell-88c54511fc4c21a1",
     "locked": false,
     "schema_version": 3,
     "solution": true,
     "task": false
    }
   },
   "outputs": [],
   "source": [
    "def erro1(f, g, a, b, n=100):\n",
    "    fx = lambda x: np.abs(f(x)-g(x))\n",
    "    xs, h = np.linspace(a,b, num=n, endpoint=False, retstep=True)\n",
    "    mids = xs + h/2\n",
    "    y = np.sum(fx(mids))*h\n",
    "    return y"
   ]
  },
  {
   "cell_type": "code",
   "execution_count": null,
   "metadata": {
    "deletable": false,
    "editable": false,
    "nbgrader": {
     "cell_type": "code",
     "checksum": "9cc3e3f9d0ab408fe42ff419c89d2bd1",
     "grade": true,
     "grade_id": "cell-6933767342d1114f",
     "locked": true,
     "points": 1,
     "schema_version": 3,
     "solution": false,
     "task": false
    }
   },
   "outputs": [],
   "source": [
    "assert np.isclose(erro1(np.sin, np.cos, 0, np.pi, n=250), 2.8283899040391645)"
   ]
  },
  {
   "cell_type": "code",
   "execution_count": null,
   "metadata": {
    "deletable": false,
    "editable": false,
    "nbgrader": {
     "cell_type": "code",
     "checksum": "8ec7c47815928bb18b1a91f0d8bc8b0f",
     "grade": true,
     "grade_id": "cell-90946a79817f2469",
     "locked": true,
     "points": 1,
     "schema_version": 3,
     "solution": false,
     "task": false
    }
   },
   "outputs": [],
   "source": [
    "assert np.isclose(erro1(np.exp, np.cos, -np.pi, np.pi), 23.565960230071205)"
   ]
  },
  {
   "cell_type": "code",
   "execution_count": null,
   "metadata": {
    "deletable": false,
    "nbgrader": {
     "cell_type": "code",
     "checksum": "d3fd9aa351d82fc5b6758b3c63380e2b",
     "grade": false,
     "grade_id": "cell-d5bacc2b30664da2",
     "locked": false,
     "schema_version": 3,
     "solution": true,
     "task": false
    }
   },
   "outputs": [],
   "source": [
    "def erro2(f, g, a, b, n=100):\n",
    "    fx = lambda x: np.power(f(x)-g(x), 2)\n",
    "    xs, h = np.linspace(a,b, num=n, endpoint=False, retstep=True)\n",
    "    mids = xs + h/2\n",
    "    y = np.sqrt(np.sum(fx(mids))*h)\n",
    "    return y"
   ]
  },
  {
   "cell_type": "code",
   "execution_count": null,
   "metadata": {
    "deletable": false,
    "editable": false,
    "nbgrader": {
     "cell_type": "code",
     "checksum": "277a5e9f75243a4efb281c0b59c81380",
     "grade": true,
     "grade_id": "cell-26b07872979cc4eb",
     "locked": true,
     "points": 1,
     "schema_version": 3,
     "solution": false,
     "task": false
    }
   },
   "outputs": [],
   "source": [
    "assert np.isclose(erro2(np.sin, np.cos, 0, np.pi), np.sqrt(np.pi))\n",
    "assert np.isclose(erro2(np.exp, np.cos, -np.pi, np.pi, n=200), 17.14462097595834)"
   ]
  },
  {
   "cell_type": "code",
   "execution_count": null,
   "metadata": {
    "deletable": false,
    "nbgrader": {
     "cell_type": "code",
     "checksum": "999450532acdccb682e6e2f1f1e8300d",
     "grade": false,
     "grade_id": "cell-b3ae746f0c8684e0",
     "locked": false,
     "schema_version": 3,
     "solution": true,
     "task": false
    }
   },
   "outputs": [],
   "source": [
    "def erromax(f, g, a, b, n=100):\n",
    "    fx = lambda x: np.abs(f(x)-g(x))\n",
    "    xs, h = np.linspace(a,b, num=n, endpoint=False, retstep=True)\n",
    "    mids = xs + h/2\n",
    "    y = np.max(fx(mids))\n",
    "    return y"
   ]
  },
  {
   "cell_type": "code",
   "execution_count": null,
   "metadata": {
    "deletable": false,
    "editable": false,
    "nbgrader": {
     "cell_type": "code",
     "checksum": "84cb778a39edeacb4480abe11a790d8b",
     "grade": true,
     "grade_id": "cell-9c4f8e1e7cdf1a83",
     "locked": true,
     "points": 1,
     "schema_version": 3,
     "solution": false,
     "task": false
    }
   },
   "outputs": [],
   "source": [
    "assert np.isclose(erromax(np.sin, np.cos, 0, np.pi/2), 0.9921152567560784)\n",
    "assert np.isclose(erromax(np.exp, np.cos, -np.pi, np.pi, n=200), 23.779916094373814)"
   ]
  },
  {
   "cell_type": "markdown",
   "metadata": {},
   "source": [
    "## Questão 3: Gráficos\n",
    "\n",
    "Faça o gráfico da função $\\sin(x^2)$, e também do polinômio interpolador de grau 3,\n",
    "no intervalo $[0, \\sqrt{2\\pi}]$."
   ]
  },
  {
   "cell_type": "code",
   "execution_count": null,
   "metadata": {
    "deletable": false,
    "nbgrader": {
     "cell_type": "code",
     "checksum": "247e77e13766ae31c83bc6493004f753",
     "grade": true,
     "grade_id": "cell-7cdd2db82f0b3042",
     "locked": false,
     "points": 2,
     "schema_version": 3,
     "solution": true,
     "task": false
    }
   },
   "outputs": [],
   "source": [
    "f = lambda x: np.sin(x**2)\n",
    "xs = np.linspace(0, np.sqrt(2*np.pi), num=4)\n",
    "pol = lagrange(xs, f(xs))\n",
    "ts = np.linspace(0, np.sqrt(2*np.pi), num=1000)\n",
    "plt.plot(ts, pol(ts), label=\"Polinômio\")\n",
    "plt.plot(ts, f(ts), label=\"$sin(x^2)$\")\n",
    "plt.legend();\n"
   ]
  },
  {
   "cell_type": "markdown",
   "metadata": {},
   "source": [
    "Agora, faça o gráfico da diferença (sem valor absoluto) entre a função e o polinômio interpolador"
   ]
  },
  {
   "cell_type": "code",
   "execution_count": null,
   "metadata": {
    "deletable": false,
    "nbgrader": {
     "cell_type": "code",
     "checksum": "38b678c9b0490f8073c4e23d129a5741",
     "grade": false,
     "grade_id": "cell-23667977968355c8",
     "locked": false,
     "schema_version": 3,
     "solution": true,
     "task": false
    }
   },
   "outputs": [],
   "source": [
    "plt.plot(ts, f(ts)-pol(ts))\n",
    "plt.title(\"Erro entre $sin(x^2)$ e polinômio de grau 3\")\n",
    "ax = plt.gca()"
   ]
  },
  {
   "cell_type": "code",
   "execution_count": null,
   "metadata": {
    "deletable": false,
    "editable": false,
    "nbgrader": {
     "cell_type": "code",
     "checksum": "c7870db8f659f1a1189bb8ecca421a62",
     "grade": true,
     "grade_id": "cell-fdefaaefc79047d6",
     "locked": true,
     "points": 1,
     "schema_version": 3,
     "solution": false,
     "task": false
    }
   },
   "outputs": [],
   "source": [
    "assert len(ax.lines) == 1\n",
    "assert ax.get_title != \"\"\n",
    "\n",
    "ys = ax.lines[0].get_ydata()\n",
    "assert min(ys) < -1\n",
    "assert max(ys) > 0.4"
   ]
  },
  {
   "cell_type": "markdown",
   "metadata": {},
   "source": [
    "Repita para o polinômio de grau 7 (que tem o dobro de coeficientes)."
   ]
  },
  {
   "cell_type": "code",
   "execution_count": null,
   "metadata": {
    "deletable": false,
    "nbgrader": {
     "cell_type": "code",
     "checksum": "6dc9885fa8de95945a4a5a950b435c48",
     "grade": false,
     "grade_id": "cell-ecf5025a45a9282f",
     "locked": false,
     "schema_version": 3,
     "solution": true,
     "task": false
    }
   },
   "outputs": [],
   "source": [
    "fig, axs = plt.subplots(ncols=2, figsize=(12,4))\n",
    "ax1, ax2 = axs\n",
    "\n",
    "xs = np.linspace(0, np.sqrt(2*np.pi), num=8)\n",
    "pol = lagrange(xs, f(xs))\n",
    "\n",
    "ax1.plot(ts, pol(ts), label=\"Polinômio\")\n",
    "ax1.plot(ts, f(ts), label=\"$sin(x^2)$\")\n",
    "ax1.set_title(\"Gráfico $sin(x^2)$ e polinômio de grau 7\")\n",
    "ax1.legend()\n",
    "ax2.plot(ts, f(ts)-pol(ts))\n",
    "ax2.set_title(\"Erro entre $sin(x^2)$ e polinômio de grau 7\");"
   ]
  },
  {
   "cell_type": "code",
   "execution_count": null,
   "metadata": {
    "deletable": false,
    "editable": false,
    "nbgrader": {
     "cell_type": "code",
     "checksum": "ce48485d20990625eb5698a4ac90a947",
     "grade": true,
     "grade_id": "cell-059d2c3c7762ef9d",
     "locked": true,
     "points": 1,
     "schema_version": 3,
     "solution": false,
     "task": false
    }
   },
   "outputs": [],
   "source": [
    "assert len(ax1.lines) == 2\n",
    "assert len(ax1.legend().texts) == 2\n",
    "assert ax1.title.get_text() != \"\""
   ]
  },
  {
   "cell_type": "code",
   "execution_count": null,
   "metadata": {
    "deletable": false,
    "editable": false,
    "nbgrader": {
     "cell_type": "code",
     "checksum": "ac8c85eb29614431f2b783ddadb18dd1",
     "grade": true,
     "grade_id": "cell-c6748cb924a27cd1",
     "locked": true,
     "points": 1,
     "schema_version": 3,
     "solution": false,
     "task": false
    }
   },
   "outputs": [],
   "source": [
    "assert len(ax2.lines) == 1\n",
    "assert ax2.title.get_text() != \"\"\n",
    "\n",
    "ys = ax2.lines[0].get_ydata()\n",
    "assert np.isclose(max(ys), 0.06, atol=1e-4)\n",
    "assert np.isclose(min(ys), -0.0140140, atol=1e-4)"
   ]
  },
  {
   "cell_type": "markdown",
   "metadata": {},
   "source": [
    "O erro máximo é fácil de ver pelo gráfico.\n",
    "Use as funções `erro1` e `erro2` para comparar, também, os erros \"ao longo do intervalo inteiro\"."
   ]
  },
  {
   "cell_type": "code",
   "execution_count": null,
   "metadata": {
    "deletable": false,
    "nbgrader": {
     "cell_type": "code",
     "checksum": "dd7e133076f64eed046b815e8766eb30",
     "grade": true,
     "grade_id": "cell-c5d396ced012733c",
     "locked": false,
     "points": 2,
     "schema_version": 3,
     "solution": true,
     "task": false
    }
   },
   "outputs": [],
   "source": [
    "er1 = erro1(f, pol, 0, np.sqrt(2*np.pi)) \n",
    "er2 = erro2(f, pol, 0, np.sqrt(2*np.pi))\n",
    "print(f\"Erro 1 : {er1}, Erro 2 :{er2}\")"
   ]
  },
  {
   "cell_type": "markdown",
   "metadata": {},
   "source": [
    "## Questão 4: Erros e subdivisões\n",
    "\n",
    "Para o grau $d$ do polinômio interpolador variando entre $3$ e $30$,\n",
    "faça o gráfico do máximo do erro entre o polinômio interpolador e a função $\\sin(x^2)$,\n",
    "no mesmo intervalo $[0, \\sqrt{2\\pi}]$."
   ]
  },
  {
   "cell_type": "code",
   "execution_count": null,
   "metadata": {
    "deletable": false,
    "nbgrader": {
     "cell_type": "code",
     "checksum": "1076769bcd58436040db436395c8a845",
     "grade": true,
     "grade_id": "cell-d98f11ea717ad6d7",
     "locked": false,
     "points": 1,
     "schema_version": 3,
     "solution": true,
     "task": false
    }
   },
   "outputs": [],
   "source": [
    "ds = np.arange(3,30)\n",
    "polis = []\n",
    "for d in ds:\n",
    "    xs = np.linspace(0, np.sqrt(np.pi*2), num=d+1)\n",
    "    poli = lagrange(xs, f(xs))\n",
    "    polis.append(poli)\n",
    "\n",
    "ys = [max(poli(ts)-f(ts)) for poli in polis]\n",
    "plt.semilogy(ds+1, ys)\n",
    "plt.title(\"Máximo erro para cada polinômio de grau x\")\n",
    "plt.xlabel(\"grau\")\n",
    "ax = plt.gca()"
   ]
  },
  {
   "cell_type": "code",
   "execution_count": null,
   "metadata": {
    "deletable": false,
    "editable": false,
    "nbgrader": {
     "cell_type": "code",
     "checksum": "8e1caf0d72598c1a0d31aabd5e67b59a",
     "grade": true,
     "grade_id": "cell-ab310c7e02a6ef0d",
     "locked": true,
     "points": 1,
     "schema_version": 3,
     "solution": false,
     "task": false
    }
   },
   "outputs": [],
   "source": [
    "assert len(ax.lines) == 1\n",
    "assert ax.title.get_text() != \"\"\n",
    "assert ax.get_xlabel() != \"\""
   ]
  },
  {
   "cell_type": "markdown",
   "metadata": {},
   "source": [
    "Como o erro decai quando aumentamos $n$?"
   ]
  },
  {
   "cell_type": "markdown",
   "metadata": {
    "deletable": false,
    "nbgrader": {
     "cell_type": "markdown",
     "checksum": "883400446bad45d4113660633a37e833",
     "grade": true,
     "grade_id": "cell-8126993128208237",
     "locked": false,
     "points": 1,
     "schema_version": 3,
     "solution": true,
     "task": false
    }
   },
   "source": [
    "Decai exponencialmente, mas com algumas variações."
   ]
  },
  {
   "cell_type": "markdown",
   "metadata": {},
   "source": [
    "Agora, repita para os 3 erros."
   ]
  },
  {
   "cell_type": "code",
   "execution_count": null,
   "metadata": {
    "deletable": false,
    "nbgrader": {
     "cell_type": "code",
     "checksum": "f5ae56ef4ed4e2e18c7710cb8a99c31f",
     "grade": false,
     "grade_id": "cell-16ea79dfe6775007",
     "locked": false,
     "schema_version": 3,
     "solution": true,
     "task": false
    }
   },
   "outputs": [],
   "source": [
    "ds = np.arange(3,30)\n",
    "polis = []\n",
    "ys2, ys3, ys4 = [], [], []\n",
    "\n",
    "for d in ds:\n",
    "    xs = np.linspace(0, np.sqrt(np.pi*2), num=d+1)\n",
    "    poli = lagrange(xs, f(xs))\n",
    "    polis.append(poli)\n",
    "\n",
    "for poli in polis:\n",
    "    ys2.append(erro1(poli, f, 0, np.sqrt(2*np.pi)))\n",
    "    ys3.append(erro2(poli, f, 0, np.sqrt(2*np.pi)))\n",
    "    ys4.append(erromax(poli, f, 0, np.sqrt(2*np.pi)))\n",
    "\n",
    "plt.semilogy(ds+1, ys2, label=\"erro1\")\n",
    "plt.semilogy(ds+1, ys3, label=\"erro2\")\n",
    "plt.semilogy(ds+1, ys4, label=\"erromax\")\n",
    "plt.legend()\n",
    "plt.xlabel(\"grau\")\n",
    "plt.title(\"Três métodos para o erro num intervalo conforme o grau do polinômio\")\n",
    "ax = plt.gca()"
   ]
  },
  {
   "cell_type": "code",
   "execution_count": null,
   "metadata": {
    "deletable": false,
    "editable": false,
    "nbgrader": {
     "cell_type": "code",
     "checksum": "37502e0fc77a556573eddd29c45935c1",
     "grade": true,
     "grade_id": "cell-fffd23ea13292231",
     "locked": true,
     "points": 1,
     "schema_version": 3,
     "solution": false,
     "task": false
    }
   },
   "outputs": [],
   "source": [
    "assert len(ax.lines) == 3\n",
    "assert len(ax.legend().texts) == 3\n",
    "assert ax.get_title() != \"\""
   ]
  },
  {
   "cell_type": "markdown",
   "metadata": {},
   "source": [
    "O que você observa?  Todos os erros decaem da mesma forma?"
   ]
  },
  {
   "cell_type": "markdown",
   "metadata": {
    "deletable": false,
    "nbgrader": {
     "cell_type": "markdown",
     "checksum": "18a5dbd627ecbf47304a45c0287013fa",
     "grade": true,
     "grade_id": "cell-741dabe58b8be5bc",
     "locked": false,
     "points": 2,
     "schema_version": 3,
     "solution": true,
     "task": false
    }
   },
   "source": [
    "O perfil das curvas são praticamente iguais e todas decaem exponencialmente, mas a velocidade de decaimento são diferentes. Erro1 decai mais que as outras, seguida do erro2 e, por fim, erromax, a que decai menos com o aumento do grau."
   ]
  }
 ],
 "metadata": {
  "kernelspec": {
   "display_name": "Python 3",
   "language": "python",
   "name": "python3"
  },
  "language_info": {
   "codemirror_mode": {
    "name": "ipython",
    "version": 3
   },
   "file_extension": ".py",
   "mimetype": "text/x-python",
   "name": "python",
   "nbconvert_exporter": "python",
   "pygments_lexer": "ipython3",
   "version": "3.7.3"
  }
 },
 "nbformat": 4,
 "nbformat_minor": 4
}
