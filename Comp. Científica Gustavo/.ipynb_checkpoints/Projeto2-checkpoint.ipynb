{
 "cells": [
  {
   "cell_type": "markdown",
   "metadata": {
    "id": "Q6-4jvj8V4TD"
   },
   "source": [
    "![CC-BY-SA](https://mirrors.creativecommons.org/presskit/buttons/88x31/svg/by-sa.svg)\n",
    "\n",
    "\n",
    "This notebook was created by [Bernardo Freitas Paulo da Costa](http://www.im.ufrj.br/bernardofpc),\n",
    "and is licensed under Creative Commons BY-SA."
   ]
  },
  {
   "cell_type": "markdown",
   "metadata": {
    "id": "rKpCZFbnV4TM"
   },
   "source": [
    "Antes de enviar este Teste, verifique que tudo está funcionando como esperado.\n",
    "Por exemplo, **rode o código inteiro, do zero**.\n",
    "Para isso, vá no menu, escolha _Kernel_, depois _Restart & Run All_.\n",
    "\n",
    "Verifique, também, que você respondeu todas as questões:\n",
    "* as questões de código têm `YOUR CODE HERE` (e você pode apagar o `raise NotImplemented` ao incluir sua resposta)\n",
    "* as questões discursivas têm \"YOUR ANSWER HERE\"."
   ]
  },
  {
   "cell_type": "markdown",
   "metadata": {
    "id": "XHn48S1DV4TN"
   },
   "source": [
    "---"
   ]
  },
  {
   "cell_type": "markdown",
   "metadata": {
    "deletable": false,
    "editable": false,
    "id": "LQC2WJhQV4TN",
    "nbgrader": {
     "cell_type": "markdown",
     "checksum": "6bb97eedf1717e4a1dde0d11cfc1a365",
     "grade": false,
     "grade_id": "cell-26032691f76721f4",
     "locked": true,
     "schema_version": 3,
     "solution": false,
     "task": false
    }
   },
   "source": [
    "# Projeto 2: Integração adaptativa"
   ]
  },
  {
   "cell_type": "code",
   "execution_count": null,
   "metadata": {
    "deletable": false,
    "editable": false,
    "id": "WceJTai0V4TO",
    "nbgrader": {
     "cell_type": "code",
     "checksum": "097a75afd4836d409de20e73a605a144",
     "grade": false,
     "grade_id": "cell-6d60051712cbf34b",
     "locked": true,
     "schema_version": 3,
     "solution": false,
     "task": false
    }
   },
   "outputs": [],
   "source": [
    "import numpy as np\n",
    "import matplotlib.pyplot as plt"
   ]
  },
  {
   "cell_type": "markdown",
   "metadata": {
    "deletable": false,
    "editable": false,
    "id": "LYHOu9hVV4TO",
    "nbgrader": {
     "cell_type": "markdown",
     "checksum": "ea51194b5f3e056dfcf7e74b214de1f2",
     "grade": false,
     "grade_id": "cell-45566b97b51154ba",
     "locked": true,
     "schema_version": 3,
     "solution": false,
     "task": false
    }
   },
   "source": [
    "# Parte 0: Os métodos\n",
    "\n",
    "Inclua abaixo os métodos de integração do retângulo, do trapézio, do ponto médio e de Simpson."
   ]
  },
  {
   "cell_type": "code",
   "execution_count": null,
   "metadata": {
    "deletable": false,
    "id": "XUkDNNNPV4TP",
    "nbgrader": {
     "cell_type": "code",
     "checksum": "0ed782626e2ef1be067d347370cd350e",
     "grade": false,
     "grade_id": "cell-5381caf7e8c6f3c6",
     "locked": false,
     "schema_version": 3,
     "solution": true,
     "task": false
    }
   },
   "outputs": [],
   "source": [
    "def retangulo(f, a, b, n=1000):\n",
    "    \"\"\"integral pelo método do retângulo da função vetorizada f\"\"\"\n",
    "    x, h = np.linspace(a, b, num=n, endpoint=False, retstep=True)\n",
    "    \n",
    "    return np.sum(f(x)) * h\n",
    "\n",
    "def trapezio(f, a, b, n=1000):\n",
    "    \"\"\"integral pelo método do trapézio da função vetorizada f\"\"\"\n",
    "    x, h = np.linspace(a, b, num=n, endpoint=False, retstep=True)\n",
    "\n",
    "    return (np.sum(f(x)) + (f(b) - f(a)) / 2) * h\n",
    "\n",
    "def midpoint(f, a, b, n=1000):\n",
    "    \"\"\"integral pelo método do ponto médio da função vetorizada f\"\"\"\n",
    "    x, h = np.linspace(a, b, num=n, endpoint=False, retstep=True)\n",
    "    mids = x + (h / 2)\n",
    "\n",
    "    return np.sum(f(mids)) * h\n",
    "\n",
    "def simpson(f, a, b, n=1000):\n",
    "    \"\"\"integral pelo método do ponto médio da função vetorizada f\"\"\"\n",
    "    x, h = np.linspace(a, b, num=n, endpoint=False, retstep=True)\n",
    "    mids = x + (h / 2)\n",
    "\n",
    "    return (4 * np.sum(f(mids)) + 2 * np.sum(f(x)) + (f(b) - f(a))) * (h/6)"
   ]
  },
  {
   "cell_type": "code",
   "execution_count": null,
   "metadata": {
    "deletable": false,
    "editable": false,
    "id": "My8xHwzhV4TQ",
    "nbgrader": {
     "cell_type": "code",
     "checksum": "2f7d564a8d2c96aea96ffc48ac139fa9",
     "grade": false,
     "grade_id": "cell-e50a8790cbad24cd",
     "locked": true,
     "schema_version": 3,
     "solution": false,
     "task": false
    }
   },
   "outputs": [],
   "source": [
    "methods = [retangulo, trapezio, midpoint, simpson]"
   ]
  },
  {
   "cell_type": "code",
   "execution_count": null,
   "metadata": {
    "colab": {
     "base_uri": "https://localhost:8080/"
    },
    "id": "j7Sb4WEIV4TQ",
    "outputId": "12d8ed3f-7bfc-4609-9428-4dd9ba95fef0"
   },
   "outputs": [
    {
     "name": "stdout",
     "output_type": "stream",
     "text": [
      "Erro usando retangulo: -6.386926e-03\n",
      "Erro usando trapezio :  2.129685e-06\n",
      "Erro usando midpoint : -1.064843e-06\n",
      "Erro usando simpson  :  3.463896e-14\n"
     ]
    }
   ],
   "source": [
    "exact = np.exp(2) - np.exp(0)\n",
    "for method in methods:\n",
    "    print(f\"Erro usando {method.__name__:9s}: {method(np.exp, 0, 2) - exact: 7e}\")"
   ]
  },
  {
   "cell_type": "code",
   "execution_count": null,
   "metadata": {
    "deletable": false,
    "editable": false,
    "id": "NtzjkIuUV4TQ",
    "nbgrader": {
     "cell_type": "code",
     "checksum": "16fdc754f0bd4686a16eb95f5facc7f3",
     "grade": true,
     "grade_id": "cell-3d15bcebb9d065d2",
     "locked": true,
     "points": 2,
     "schema_version": 3,
     "solution": false,
     "task": false
    }
   },
   "outputs": [],
   "source": [
    "exact = np.exp(2) - np.exp(0)\n",
    "tols = [1e-2, 4e-6, 2e-6, 1e-12]\n",
    "for m, tol in zip(methods, tols):\n",
    "    assert np.isclose(m(np.exp, 0, 2), exact, atol=tol)"
   ]
  },
  {
   "cell_type": "markdown",
   "metadata": {
    "id": "PVANmtH6V4TR"
   },
   "source": [
    "# Parte 1: Integrais adaptativas\n",
    "\n",
    "Uma das grandes dificuldades da integração numérica é saber\n",
    "\"quão pequenos devem ser os intervalos de integração\".\n",
    "\n",
    "Uma das respostas para esta questão é a seguinte:\n",
    "\"Até que reduzir mais ainda não faça tanta diferença\".\n",
    "\n",
    "Um método, por exemplo, aproxima a integral em $[a,b]$ com $N$ intervalos,\n",
    "e depois, com $2N$ intervalos.\n",
    "\n",
    "## Questão 1: Aumentando $N$\n",
    "\n",
    "Para cada um dos métodos, faça um gráfico, mostrando, em função de $N$:\n",
    "- o erro de $I_{N}$ até a integral exata\n",
    "- o erro de $I_{2N}$ até a integral exata\n",
    "- a diferença entre as integrais $I_N$ e $I_{2N}$."
   ]
  },
  {
   "cell_type": "code",
   "execution_count": null,
   "metadata": {
    "colab": {
     "base_uri": "https://localhost:8080/",
     "height": 285
    },
    "deletable": false,
    "id": "YaToViKPV4TR",
    "nbgrader": {
     "cell_type": "code",
     "checksum": "f7e1d5186cfaee91d71d727f7c20115f",
     "grade": true,
     "grade_id": "cell-5eedd26d73744ea7",
     "locked": false,
     "points": 2,
     "schema_version": 3,
     "solution": true,
     "task": false
    },
    "outputId": "8493af1d-398e-444a-ec85-3ff651ec2c10"
   },
   "outputs": [
    {
     "data": {
      "image/png": "[encoded data removed]",
      "text/plain": [
       "<Figure size 1080x288 with 4 Axes>"
      ]
     },
     "metadata": {
      "needs_background": "light",
      "tags": []
     },
     "output_type": "display_data"
    }
   ],
   "source": [
    "fig, axs = plt.subplots(ncols=4, figsize=(15,4))\n",
    "Ns = 2**np.arange(3,16)\n",
    "exact = np.exp(2) - np.exp(0)\n",
    "\n",
    "for (ax,m) in zip(axs, methods):\n",
    "    IN = np.array([m(np.exp, 0, 2, n=N) for N in Ns])\n",
    "    I2N = np.array([m(np.exp, 0, 2, n=2*N) for N in Ns])\n",
    "    diff =abs(IN - I2N)\n",
    "    ax.loglog(Ns, abs(IN - exact), label=\"erro de $I_N$\")\n",
    "    ax.loglog(Ns, abs(I2N - exact), label=\"erro de $I_{2N}$\")\n",
    "    ax.loglog(Ns, diff, label=\"$I_N - I_{2N}$ \")\n",
    "    ax.set_title(f\"{m.__name__}\")\n",
    "    ax.legend()\n",
    "    ax.grid()"
   ]
  },
  {
   "cell_type": "markdown",
   "metadata": {
    "id": "k8czts8xV4TS"
   },
   "source": [
    "O que você observa?"
   ]
  },
  {
   "cell_type": "markdown",
   "metadata": {
    "deletable": false,
    "id": "CXIbVUHxV4TS",
    "nbgrader": {
     "cell_type": "markdown",
     "checksum": "b301b0b274032f07e4787a1fd61ea7c2",
     "grade": true,
     "grade_id": "cell-1ae3f944466147e0",
     "locked": false,
     "points": 2,
     "schema_version": 3,
     "solution": true,
     "task": false
    }
   },
   "source": [
    "**Resposta:** Pode-se observar que o erro para subdivisões $2N$ são menores do que para $N$, independente do método aplicado."
   ]
  },
  {
   "cell_type": "markdown",
   "metadata": {
    "id": "Z55qMKCGV4TS"
   },
   "source": [
    "Quantas subdivisões parecem ser necessárias para que o erro do método do trapézio cheguem em $10^{-14}$?"
   ]
  },
  {
   "cell_type": "markdown",
   "metadata": {
    "id": "EGFMBnBPfaWi"
   },
   "source": [
    "**Resposta:** Vemos pelo gŕafico abaixo que estão na ordem de $10^7$ o número de subdivisões para que o erro chegue em $10^{-14}$"
   ]
  },
  {
   "cell_type": "code",
   "execution_count": null,
   "metadata": {
    "colab": {
     "base_uri": "https://localhost:8080/",
     "height": 299
    },
    "deletable": false,
    "id": "jYfWdsq5V4TS",
    "nbgrader": {
     "cell_type": "code",
     "checksum": "0452b9023cfdd713bc902baf9f386fd5",
     "grade": true,
     "grade_id": "cell-0838e8308c7a5376",
     "locked": false,
     "points": 1,
     "schema_version": 3,
     "solution": true,
     "task": false
    },
    "outputId": "99c14827-d285-489e-df73-f2ae8699b9ce"
   },
   "outputs": [
    {
     "data": {
      "image/png": "[encoded data removed]",
      "text/plain": [
       "<Figure size 432x288 with 1 Axes>"
      ]
     },
     "metadata": {
      "needs_background": "light",
      "tags": []
     },
     "output_type": "display_data"
    }
   ],
   "source": [
    "ns = np.floor(np.logspace(2,8,num = 30, base = 10))\n",
    "ns = ns.astype(int)\n",
    "trap_y = np.abs([trapezio(np.exp,0,2,n) - exact for n in ns])\n",
    "plt.loglog(ns,trap_y);\n",
    "plt.xlabel('número de subdivisões');\n",
    "plt.ylabel('erro');\n",
    "plt.title('Gráfico da evolução do erro para o método do trapézio');\n",
    "plt.grid();"
   ]
  },
  {
   "cell_type": "markdown",
   "metadata": {
    "id": "cAqxJVnDV4TT"
   },
   "source": [
    "Agora, faça o mesmo estudo para uma outra função de sua escolha."
   ]
  },
  {
   "cell_type": "code",
   "execution_count": null,
   "metadata": {
    "colab": {
     "base_uri": "https://localhost:8080/",
     "height": 285
    },
    "deletable": false,
    "id": "Ge22U1wVV4TT",
    "nbgrader": {
     "cell_type": "code",
     "checksum": "12ac31c8175b2216d6907a8f9e15800f",
     "grade": true,
     "grade_id": "cell-90b90e5b2b7574f9",
     "locked": false,
     "points": 1,
     "schema_version": 3,
     "solution": true,
     "task": false
    },
    "outputId": "d4540467-ab29-4fd6-c22c-e42724a05cd5"
   },
   "outputs": [
    {
     "data": {
      "image/png": "[encoded data removed]",
      "text/plain": [
       "<Figure size 1080x288 with 4 Axes>"
      ]
     },
     "metadata": {
      "needs_background": "light",
      "tags": []
     },
     "output_type": "display_data"
    }
   ],
   "source": [
    "fig, axs = plt.subplots(ncols=4, figsize=(15,4))\n",
    "Ns = 2**np.arange(3,16)\n",
    "a,b = 1/8, 1/2 \n",
    "def f(x):\n",
    "    return 1/x\n",
    "exact = np.log(1/2)- np.log(1/8) \n",
    "\n",
    "for (ax,m) in zip(axs, methods):\n",
    "    IN = np.array([m(f, a,b , n=N) for N in Ns])\n",
    "    I2N = np.array([m(f, a, b, n=2*N) for N in Ns])\n",
    "    diff =abs(IN - I2N)\n",
    "    ax.loglog(Ns, abs(IN - exact), label=\"erro de $I_N$\")\n",
    "    ax.loglog(Ns, abs(I2N - exact), label=\"erro de $I_{2N}$\")\n",
    "    ax.loglog(Ns, diff, label=\"$I_N - I_{2N}$ \")\n",
    "    ax.set_title(f\"{m.__name__}\")\n",
    "    ax.legend()\n",
    "    ax.grid()"
   ]
  },
  {
   "cell_type": "markdown",
   "metadata": {
    "id": "qMiYHG_oV4TT"
   },
   "source": [
    "Explique a sua escolha.\n",
    "Os resultados são similares ou diferentes?"
   ]
  },
  {
   "cell_type": "markdown",
   "metadata": {
    "deletable": false,
    "id": "Hym0X7OyV4TT",
    "nbgrader": {
     "cell_type": "markdown",
     "checksum": "aa185452f403029802de52ce1fdd0da7",
     "grade": true,
     "grade_id": "cell-e5f323a246011e50",
     "locked": false,
     "points": 2,
     "schema_version": 3,
     "solution": true,
     "task": false
    }
   },
   "source": [
    "**Resposta:** Escolhemos a função $f(x) = \\frac{1}{x}$, pois possui uma integral analítica conhecida. Vimos que os resultados foram similares em relação ao último experimento.\n",
    "\n"
   ]
  },
  {
   "cell_type": "markdown",
   "metadata": {
    "id": "GVA757P1V4TU"
   },
   "source": [
    "## Questão 2: Dobrando Simpson\n",
    "\n",
    "Agora, escreva um método `simpson2(f, a, b, tol)` que calcula a integral de $f$ no intervalo $[a,b]$,\n",
    "dobrando o número de subdivisões, até que a diferença entre uma integral e a seguinte fique abaixo de  `tol`.\n",
    "\n",
    "- Qual integral você acha melhor retornar?\n",
    "  $I_N$ ou $I_{2N}$?\n",
    "- Retorne, também, o número de subdivisões final."
   ]
  },
  {
   "cell_type": "code",
   "execution_count": 42,
   "metadata": {
    "deletable": false,
    "id": "QCJazCDtV4TU",
    "nbgrader": {
     "cell_type": "code",
     "checksum": "df44e96d092a4e95c20088b2d9983a5f",
     "grade": false,
     "grade_id": "cell-965da88fd828fcb3",
     "locked": false,
     "schema_version": 3,
     "solution": true,
     "task": false
    }
   },
   "outputs": [],
   "source": [
    "def simpson2(f, a, b, tol=1e-8):\n",
    "    \"\"\"calcula a integral de f no intervalo [a,b], dobrando o número de subdivisões,\n",
    "    até que a diferença entre uma integral e a seguinte fique abaixo de da \n",
    "    tolerância ´tol´. retorna a integral com maior subdivisões ´n´ e o próprio ´n´\"\"\"\n",
    "    n = 0\n",
    "# Difrença entre uma integral e outra com o dobro de subdivisões\n",
    "    simp1, simp2 = simpson(f, a, b, n=1), simpson(f, a, b, n=2)\n",
    "    diff = simp1 - simp2\n",
    "    # Verifica com quantas subdivisões a tolerância foi atingida\n",
    "    while abs(diff) > tol:\n",
    "        n += 1\n",
    "        simp1, simp2 = simpson(f, a, b, n=2**n), simpson(f, a, b, n=2**(n+1))\n",
    "        diff = simp1 - simp2\n",
    "        \n",
    "    return simp2, 2 ** (n + 1)\n",
    "    "
   ]
  },
  {
   "cell_type": "code",
   "execution_count": null,
   "metadata": {
    "deletable": false,
    "editable": false,
    "id": "EkT0mJMHV4TU",
    "nbgrader": {
     "cell_type": "code",
     "checksum": "a737a8b52cedac65d64f5cef76ac5a76",
     "grade": true,
     "grade_id": "cell-70c70f8aeb9b817a",
     "locked": true,
     "points": 2,
     "schema_version": 3,
     "solution": false,
     "task": false
    }
   },
   "outputs": [],
   "source": [
    "I, n = simpson2(np.exp, 0, 2)\n",
    "assert np.isclose(I, np.exp(2) - 1)\n",
    "assert n >= 64"
   ]
  },
  {
   "cell_type": "code",
   "execution_count": null,
   "metadata": {
    "deletable": false,
    "editable": false,
    "id": "kWE1lYTSV4TU",
    "nbgrader": {
     "cell_type": "code",
     "checksum": "675f219e2b4ca4bafa6a86c3cb760f0b",
     "grade": true,
     "grade_id": "cell-6a7e0df6d927ed03",
     "locked": true,
     "points": 1,
     "schema_version": 3,
     "solution": false,
     "task": false
    }
   },
   "outputs": [],
   "source": [
    "I, n = simpson2(np.exp, 0, 2, tol=1)\n",
    "assert n <= 8\n",
    "assert np.isclose(I, np.exp(2) - 1, atol=1)\n",
    "assert not np.isclose(I, np.exp(2) - 1)"
   ]
  },
  {
   "cell_type": "code",
   "execution_count": null,
   "metadata": {
    "deletable": false,
    "editable": false,
    "id": "d_D4OvQ9V4TV",
    "nbgrader": {
     "cell_type": "code",
     "checksum": "dd2631980f21c6acde18a7f9e397cfe7",
     "grade": true,
     "grade_id": "cell-fff3eb90b25a771b",
     "locked": true,
     "points": 1,
     "schema_version": 3,
     "solution": false,
     "task": false
    }
   },
   "outputs": [],
   "source": [
    "I, n = simpson2(np.exp, 0, 2, tol=1e-14)\n",
    "assert np.isclose(I, np.exp(2) - 1, atol=1e-14, rtol=1e-14)\n",
    "assert n >= 64*32"
   ]
  },
  {
   "cell_type": "markdown",
   "metadata": {
    "deletable": false,
    "editable": false,
    "id": "5AIFbPrnV4TV",
    "nbgrader": {
     "cell_type": "markdown",
     "checksum": "44af0d772e08faf18d7f6003e7534c23",
     "grade": false,
     "grade_id": "cell-dbef011f088875df",
     "locked": true,
     "schema_version": 3,
     "solution": false,
     "task": false
    }
   },
   "source": [
    "Mas nem tudo é perfeito:\n",
    "algumas funções podem \"confundir\" o dobrador:"
   ]
  },
  {
   "cell_type": "code",
   "execution_count": null,
   "metadata": {
    "colab": {
     "base_uri": "https://localhost:8080/"
    },
    "deletable": false,
    "editable": false,
    "id": "bdeM97-XV4TV",
    "nbgrader": {
     "cell_type": "code",
     "checksum": "b399af7e769c345c3a69eb0f34e36f92",
     "grade": false,
     "grade_id": "cell-e90f6686ca61f34f",
     "locked": true,
     "schema_version": 3,
     "solution": false,
     "task": false
    },
    "outputId": "63de4011-b852-4d83-8e57-7ef84e832729"
   },
   "outputs": [
    {
     "data": {
      "text/plain": [
       "(1.0051486539434489e-30, 2)"
      ]
     },
     "execution_count": 74,
     "metadata": {
      "tags": []
     },
     "output_type": "execute_result"
    }
   ],
   "source": [
    "def f(x): return np.sin(x)**2\n",
    "simpson2(f, 0, 4*np.pi)"
   ]
  },
  {
   "cell_type": "markdown",
   "metadata": {
    "id": "SZZIDmTyV4TV"
   },
   "source": [
    "Explique o que aconteceu."
   ]
  },
  {
   "cell_type": "markdown",
   "metadata": {
    "deletable": false,
    "id": "ggP_CvqrV4TW",
    "nbgrader": {
     "cell_type": "markdown",
     "checksum": "d5e38478196d689d992a92184bd2add6",
     "grade": true,
     "grade_id": "cell-0561ce194bdb960f",
     "locked": false,
     "points": 2,
     "schema_version": 3,
     "solution": true,
     "task": false
    }
   },
   "source": [
    "**Resposta:** Todos os pontos que o método de Simpson usa para calcular a intgral cai em $f(x)=0$. Portanto a integral por Simpson deu zero com o erro da propria $f$\n"
   ]
  },
  {
   "cell_type": "markdown",
   "metadata": {
    "id": "AMLWhYifV4TW"
   },
   "source": [
    "Como você faria para calcular essa integral com precisão?\n",
    "Descreva sua ideia abaixo, e faça os cálculos em seguida."
   ]
  },
  {
   "cell_type": "markdown",
   "metadata": {
    "deletable": false,
    "id": "8y38uds7V4TW",
    "nbgrader": {
     "cell_type": "markdown",
     "checksum": "8ec73a4863d6e68de1ee3c18a059f69d",
     "grade": true,
     "grade_id": "cell-a062316f4693406a",
     "locked": false,
     "points": 1,
     "schema_version": 3,
     "solution": true,
     "task": false
    }
   },
   "source": [
    "**Resposta:** Dividiria o intervalo de integração, fazia a integral dessas partes separadamente e depois somaria as integrais das partes."
   ]
  },
  {
   "cell_type": "code",
   "execution_count": null,
   "metadata": {
    "colab": {
     "base_uri": "https://localhost:8080/"
    },
    "deletable": false,
    "id": "fq1gxfuCV4TW",
    "nbgrader": {
     "cell_type": "code",
     "checksum": "a964a49a288481d4f18ed936e6418942",
     "grade": true,
     "grade_id": "cell-69f5044e95625899",
     "locked": false,
     "points": 1,
     "schema_version": 3,
     "solution": true,
     "task": false
    },
    "outputId": "23e913d1-fd6a-4d05-cb7a-6ec6c12b67ee"
   },
   "outputs": [
    {
     "name": "stdout",
     "output_type": "stream",
     "text": [
      "Integral do primeiro subintervalo: 3.141592653589793; nº de subdivisões: 8 \n",
      "Integral do segundo subintervalo:  3.141592653589795; nº de subdivisões: 8\n",
      "Integral final:                    6.283185307179588; nº de subdivisões: 16\n"
     ]
    }
   ],
   "source": [
    "a, c, b = 0, 2 * np.pi, 4 * np.pi\n",
    "print(f\"Integral do primeiro subintervalo: {simpson2(f, a, c)[0]}; nº de subdivisões: {simpson2(f, a, c)[1]} \") \n",
    "print(f\"Integral do segundo subintervalo:  {simpson2(f, c, b)[0]}; nº de subdivisões: {simpson2(f, c, b)[1]}\")\n",
    "\n",
    "solucao = tuple(map(np.sum, zip(simpson2(f, a, c), simpson2(f, c, b))))\n",
    "print(f\"Integral final:                    {solucao[0]}; nº de subdivisões: {solucao[1]}\")"
   ]
  },
  {
   "cell_type": "markdown",
   "metadata": {
    "id": "VD8tkv-PV4TW"
   },
   "source": [
    "Este mesmo método se aplica para calcular\n",
    "$$ \\int_0^{16\\pi} \\frac{\\sin(x)^2}{\\sqrt{1+x}} dx ? $$\n",
    "\n",
    "Modifique o necessário para calcular essa integral!"
   ]
  },
  {
   "cell_type": "code",
   "execution_count": null,
   "metadata": {
    "colab": {
     "base_uri": "https://localhost:8080/"
    },
    "deletable": false,
    "id": "eaC9aDKvV4TX",
    "nbgrader": {
     "cell_type": "code",
     "checksum": "a823c7a32427e99567a795302c4eeeb3",
     "grade": true,
     "grade_id": "cell-5ee238d9613a3bdb",
     "locked": false,
     "points": 1,
     "schema_version": 3,
     "solution": true,
     "task": false
    },
    "outputId": "75baaf41-8bdf-4580-bb13-d920fa61e54a"
   },
   "outputs": [
    {
     "name": "stdout",
     "output_type": "stream",
     "text": [
      "Integral do intervalo: 6.117390358862394; nº de subdivisões: 832\n"
     ]
    }
   ],
   "source": [
    "def f2(x): return (np.sin(x) ** 2) / np.sqrt(1 + x)\n",
    "a, b = 0, 16*np.pi\n",
    "subdiv = np.linspace(a,b, num=9)\n",
    "sol = tuple(map(np.sum, zip(*[simpson2(f2, subdiv[i], subdiv[i+1]) for i in range(len(subdiv)-1)])))\n",
    "print(f\"Integral do intervalo: {sol[0]}; nº de subdivisões: {sol[1]}\")"
   ]
  },
  {
   "cell_type": "markdown",
   "metadata": {
    "id": "Xf-TKLp5V4TX"
   },
   "source": [
    "O que ficou diferente\n",
    "- para você?\n",
    "- para o programa?"
   ]
  },
  {
   "cell_type": "markdown",
   "metadata": {
    "deletable": false,
    "id": "OKTMvCV1V4TX",
    "nbgrader": {
     "cell_type": "markdown",
     "checksum": "d6bd6c07936904ec8b2e40d91584d535",
     "grade": true,
     "grade_id": "cell-27fd54e5e3548e70",
     "locked": false,
     "points": 2,
     "schema_version": 3,
     "solution": true,
     "task": false
    }
   },
   "source": [
    "**Resposta:** Teve que lidar com mais intervalos de integração, calcular mais integrais e manipular melhor o array de resposta para dar a intergral do intervalo principal e a soma das subdivisões que cada método precisou. "
   ]
  },
  {
   "cell_type": "markdown",
   "metadata": {
    "id": "8bOAyNvLV4Tb"
   },
   "source": [
    "## Questão 3: Dobrando Simpson aos poucos\n",
    "\n",
    "Se usarmos um intervalo de integração grande,\n",
    "pode ser que a variação da função em uma parte seja bem menor do que em outra,\n",
    "e daí seria mais importante \"refinar\" o método apenas na parte onde a função varia mais.\n",
    "\n",
    "Para fazer isso, vamos usar uma abordagem **recursiva**:\n",
    "1. calculamos a integral no intervalo $[a,b]$ com 1 e com 2 subdivisões\n",
    "2. se ambas as integrais estiverem suficientemente próximas, terminamos:\n",
    "    - retornamos a aproximação, e \"2\" para o número de subdivisões\n",
    "3. senão, calculamos recursivamente a integral em $[a,m]$ e $[m,b]$,\n",
    "    - e retornamos a soma das integrais, além da soma do número de subdivisões para cada metade.\n",
    "\n",
    "Explique porque, ao calcular recursivamente, é importante dividir a tolerência por 2."
   ]
  },
  {
   "cell_type": "markdown",
   "metadata": {
    "deletable": false,
    "id": "asqOBQDlV4Tb",
    "nbgrader": {
     "cell_type": "markdown",
     "checksum": "9a31941a43d321e778cab5e21e82b103",
     "grade": true,
     "grade_id": "cell-3b427bd92b314575",
     "locked": false,
     "points": 2,
     "schema_version": 3,
     "solution": true,
     "task": false
    }
   },
   "source": [
    "**Resposta:** A tolerância está associada ao intervalo todo. Quando eu faço subdivisões desse intervalo, eu preciso que a tolerancia diminua na mesma proporção, pois diminuindo os intervalos e mantendo a tolerância, o erro associado se acumula em cada recursão."
   ]
  },
  {
   "cell_type": "code",
   "execution_count": null,
   "metadata": {
    "deletable": false,
    "id": "_GsfCiWSV4Tb",
    "nbgrader": {
     "cell_type": "code",
     "checksum": "a247b7916222f63a2c68b0f28ea89ba6",
     "grade": false,
     "grade_id": "cell-dbebc62c00ef8d3b",
     "locked": false,
     "schema_version": 3,
     "solution": true,
     "task": false
    }
   },
   "outputs": [],
   "source": [
    "def simpson_rec(f, a, b, tol=1e-8):\n",
    "    cache = [simpson(f,a,b,n = 1),simpson(f,a,b,n = 2)]\n",
    "    diff = cache[0] - cache[1]\n",
    "    if abs(diff) < tol:\n",
    "        return cache[1], 2\n",
    "    else:\n",
    "        m = (a+b)/2\n",
    "        I1, n1 = simpson_rec(f,a,m,tol = tol/2)\n",
    "        I2, n2 = simpson_rec(f,m,b,tol = tol/2)\n",
    "        return I1 + I2, n1 + n2"
   ]
  },
  {
   "cell_type": "code",
   "execution_count": null,
   "metadata": {
    "deletable": false,
    "editable": false,
    "id": "BW2wl7NiV4Tc",
    "nbgrader": {
     "cell_type": "code",
     "checksum": "4b2e54e2a6be030108d2a76e585aea61",
     "grade": true,
     "grade_id": "cell-72f0f0968b236170",
     "locked": true,
     "points": 1,
     "schema_version": 3,
     "solution": false,
     "task": false
    }
   },
   "outputs": [],
   "source": [
    "I, n = simpson_rec(np.exp, 0, 2)\n",
    "assert np.isclose(I, np.exp(2) - np.exp(0))\n",
    "assert n >= 64"
   ]
  },
  {
   "cell_type": "code",
   "execution_count": null,
   "metadata": {
    "deletable": false,
    "editable": false,
    "id": "8SymHdjfV4Tc",
    "nbgrader": {
     "cell_type": "code",
     "checksum": "5df041e8d2d7945524a3f0b72dc72df3",
     "grade": true,
     "grade_id": "cell-d2c08ff95881f78f",
     "locked": true,
     "points": 1,
     "schema_version": 3,
     "solution": false,
     "task": false
    }
   },
   "outputs": [],
   "source": [
    "I, n = simpson_rec(np.exp, 0, 2, tol=1e-12)\n",
    "assert np.isclose(I, np.exp(2) - np.exp(0), atol=1e-12, rtol=1e-12)\n",
    "assert n >= 512"
   ]
  },
  {
   "cell_type": "markdown",
   "metadata": {
    "id": "kN3ufU8oV4Tc"
   },
   "source": [
    "Faça um gráfico que mostre o erro real em função da tolerância passada,\n",
    "tanto para o método recursivo como para o método \"dobrador\"."
   ]
  },
  {
   "cell_type": "code",
   "execution_count": null,
   "metadata": {
    "colab": {
     "base_uri": "https://localhost:8080/",
     "height": 299
    },
    "deletable": false,
    "id": "heUWB4ftV4Tc",
    "nbgrader": {
     "cell_type": "code",
     "checksum": "5cfc277777734be3d9a20f66fefbdb1c",
     "grade": false,
     "grade_id": "cell-c4d706b80d94cf1a",
     "locked": false,
     "schema_version": 3,
     "solution": true,
     "task": false
    },
    "outputId": "44c94c1d-07dd-46fb-acab-c7106b8c9017"
   },
   "outputs": [
    {
     "data": {
      "image/png": "[encoded data removed]",
      "text/plain": [
       "<Figure size 432x288 with 1 Axes>"
      ]
     },
     "metadata": {
      "needs_background": "light",
      "tags": []
     },
     "output_type": "display_data"
    }
   ],
   "source": [
    "tols = np.logspace(-12,-2)\n",
    "exact = np.exp(2) - np.exp(0)\n",
    "\n",
    "plt.loglog(tols, tols, \"--\")\n",
    "y_rec = np.abs([simpson_rec(np.exp,0,2,t)[0] - exact for t in tols])\n",
    "y_2 = np.abs([simpson2(np.exp,0,2,t)[0] - exact for t in tols])\n",
    "plt.loglog(tols,y_rec,label = 'Método recursivo')\n",
    "plt.loglog(tols,y_2,label = 'Método dobrador')\n",
    "plt.grid();\n",
    "plt.legend();\n",
    "plt.xlabel('tol');\n",
    "plt.ylabel('erro');\n",
    "plt.title('Comparando os erros em função da tolerância passada');\n",
    "ax = plt.gca()"
   ]
  },
  {
   "cell_type": "code",
   "execution_count": null,
   "metadata": {
    "deletable": false,
    "editable": false,
    "id": "HNHsmXXxV4Td",
    "nbgrader": {
     "cell_type": "code",
     "checksum": "8f63e3598a26363ea27e046726598429",
     "grade": true,
     "grade_id": "cell-f481f74c0f36828b",
     "locked": true,
     "points": 1,
     "schema_version": 3,
     "solution": false,
     "task": false
    }
   },
   "outputs": [],
   "source": [
    "assert len(ax.lines) == 3\n",
    "assert len(ax.legend().texts) == 2"
   ]
  },
  {
   "cell_type": "code",
   "execution_count": null,
   "metadata": {
    "deletable": false,
    "editable": false,
    "id": "KtCfvmgIV4Td",
    "nbgrader": {
     "cell_type": "code",
     "checksum": "e9e9bf9aa51d5210d07286158c96288d",
     "grade": true,
     "grade_id": "cell-f7e7bd95cb65f999",
     "locked": true,
     "points": 1,
     "schema_version": 3,
     "solution": false,
     "task": false
    }
   },
   "outputs": [],
   "source": [
    "assert ax.title.get_text() != \"\"\n",
    "assert ax.get_xlabel() != \"\""
   ]
  },
  {
   "cell_type": "markdown",
   "metadata": {
    "id": "Z-QbIqa7V4Td"
   },
   "source": [
    "Os métodos cumprem o que prometem?"
   ]
  },
  {
   "cell_type": "markdown",
   "metadata": {
    "deletable": false,
    "id": "rEzA80nmV4Td",
    "nbgrader": {
     "cell_type": "markdown",
     "checksum": "a3fa53c34b33432c0061f5c3f38d5d2c",
     "grade": true,
     "grade_id": "cell-74d0d310737f973e",
     "locked": false,
     "points": 1,
     "schema_version": 3,
     "solution": true,
     "task": false
    }
   },
   "source": [
    "YOUR ANSWER HERE"
   ]
  },
  {
   "cell_type": "markdown",
   "metadata": {
    "id": "7Y4gbyViV4Td"
   },
   "source": [
    "Agora, faça um gráfico do número de subdivisões utilizadas por cada método, em função da tolerância."
   ]
  },
  {
   "cell_type": "code",
   "execution_count": null,
   "metadata": {
    "colab": {
     "base_uri": "https://localhost:8080/",
     "height": 299
    },
    "deletable": false,
    "id": "Ld8kkpKAV4Te",
    "nbgrader": {
     "cell_type": "code",
     "checksum": "db7e6f38fc1321d8b84d8401e9d98cba",
     "grade": false,
     "grade_id": "cell-bbd7bf4fd979d468",
     "locked": false,
     "schema_version": 3,
     "solution": true,
     "task": false
    },
    "outputId": "4a1b5c64-9af1-4f2f-b932-23fd64025c6e"
   },
   "outputs": [
    {
     "data": {
      "image/png": "[encoded data removed]",
      "text/plain": [
       "<Figure size 432x288 with 1 Axes>"
      ]
     },
     "metadata": {
      "needs_background": "light",
      "tags": []
     },
     "output_type": "display_data"
    }
   ],
   "source": [
    "tols = np.logspace(-12,-2,)\n",
    "\n",
    "\n",
    "\n",
    "y_rec = np.abs([simpson_rec(np.exp,0,2,t)[1] for t in tols])\n",
    "y_2 = np.abs([simpson2(np.exp,0,2,t)[1]  for t in tols])\n",
    "plt.loglog(tols,y_rec,label = 'Método recursivo')\n",
    "plt.loglog(tols,y_2,label = 'Método dobrador')\n",
    "plt.grid();\n",
    "plt.legend();\n",
    "plt.xlabel('tol');\n",
    "plt.ylabel('número de subdivisões');\n",
    "plt.title('Comparando os erros em função da tolerância passada');\n",
    "ax = plt.gca()"
   ]
  },
  {
   "cell_type": "code",
   "execution_count": null,
   "metadata": {
    "deletable": false,
    "editable": false,
    "id": "I_hY9RgKV4Te",
    "nbgrader": {
     "cell_type": "code",
     "checksum": "5852ddf599d45f3fd44a279266e32b80",
     "grade": true,
     "grade_id": "cell-5d79cbb2d57acd20",
     "locked": true,
     "points": 1,
     "schema_version": 3,
     "solution": false,
     "task": false
    }
   },
   "outputs": [],
   "source": [
    "assert len(ax.lines) == 2\n",
    "assert len(ax.legend().texts) == 2\n",
    "assert ax.title.get_text() != \"\"\n",
    "assert ax.get_xlabel() != \"\""
   ]
  },
  {
   "cell_type": "markdown",
   "metadata": {
    "id": "TQG7X2LwV4Te"
   },
   "source": [
    "Repita ambos os gráficos, para outra função, em outro intervalo."
   ]
  },
  {
   "cell_type": "code",
   "execution_count": null,
   "metadata": {
    "colab": {
     "base_uri": "https://localhost:8080/",
     "height": 314
    },
    "deletable": false,
    "id": "Fc09v4z1V4Te",
    "nbgrader": {
     "cell_type": "code",
     "checksum": "9b7745ee51972649750e5e5e191276ee",
     "grade": true,
     "grade_id": "cell-80fb541c1ac0c945",
     "locked": false,
     "points": 2,
     "schema_version": 3,
     "solution": true,
     "task": false
    },
    "outputId": "db98d119-b360-452f-e1d9-0a27434765f7"
   },
   "outputs": [
    {
     "data": {
      "image/png": "[encoded data removed]",
      "text/plain": [
       "<Figure size 864x288 with 2 Axes>"
      ]
     },
     "metadata": {
      "needs_background": "light",
      "tags": []
     },
     "output_type": "display_data"
    }
   ],
   "source": [
    "fig, (ax1, ax2) = plt.subplots(ncols=2, figsize=(12,4))\n",
    "\n",
    "tols = np.logspace(-12,-2)\n",
    "\n",
    "s = 0,3\n",
    "def f(x):\n",
    "    return np.sqrt(x)\n",
    "exact2 = 2/3*3**(3/2)\n",
    "\n",
    "\n",
    "y_rec = np.abs([simpson_rec(f,s[0],s[1],t)[0] - exact2 for t in tols])\n",
    "y_2 = np.abs([simpson2(f,s[0],s[1],t)[0] - exact2 for t in tols])\n",
    "ax1.loglog(tols,y_rec,label = 'Método recursivo')\n",
    "ax1.loglog(tols,y_2,label = 'Método dobrador')\n",
    "ax1.grid();\n",
    "ax1.legend();\n",
    "ax1.set_xlabel('tol');\n",
    "ax1.set_ylabel('erro');\n",
    "ax1.set_title('Comparando os erros em função da tolerância passada');\n",
    "\n",
    "y_nrec = np.abs([simpson_rec(f,s[0],s[1],t)[1] for t in tols])\n",
    "y_n2 = np.abs([simpson2(f,s[0],s[1],t)[1]  for t in tols])\n",
    "ax2.loglog(tols,y_nrec,label = 'Método recursivo')\n",
    "ax2.loglog(tols,y_n2,label = 'Método dobrador')\n",
    "ax2.grid();\n",
    "ax2.legend();\n",
    "ax2.set_xlabel('tol');\n",
    "ax2.set_ylabel('número de subdivisões');\n",
    "ax2.set_title('Comparando o número de subdivisões em função \\n da tolerância passada');\n",
    "\n"
   ]
  },
  {
   "cell_type": "markdown",
   "metadata": {
    "id": "mwHzAHY0V4Te"
   },
   "source": [
    "Estes métodos parecem equivalentes ou não?"
   ]
  },
  {
   "cell_type": "markdown",
   "metadata": {
    "deletable": false,
    "id": "Kqs5SdEQV4Tf",
    "nbgrader": {
     "cell_type": "markdown",
     "checksum": "efed4691cb50e8aeecbdf3460ee744db",
     "grade": true,
     "grade_id": "cell-36c06500293438ae",
     "locked": false,
     "points": 1,
     "schema_version": 3,
     "solution": true,
     "task": false
    }
   },
   "source": [
    "**Resposta:** A idéia dos dois métodos é a mesma, porém o método recursivo é mais otimizado,pois ele poupa o número de subdivisões, enquanto que o dobrador vai sempre dobrando o número total de intervalos a cada iteração."
   ]
  },
  {
   "cell_type": "markdown",
   "metadata": {
    "id": "xJivS9hLV4Tf"
   },
   "source": [
    "# Parte 2: Funções pseudo-periódicas\n",
    "\n",
    "Vamos continuar combinando inteligência computacional e humana.\n",
    "Aqui, vamos usar nosso conhecimento de uma função para usar os métodos de integração \"após umas contas\"."
   ]
  },
  {
   "cell_type": "markdown",
   "metadata": {
    "id": "q4JJl421V4Tf"
   },
   "source": [
    "## Questão 4: Mudança de variáveis\n",
    "\n",
    "A função $g(x) = \\sin(x^2)$ não é periódica, mas tem uma componente oscilatória importante.\n",
    "Dê a função $h(u)$, que corresponde ao integrando de uma mudança de variáveis tal que\n",
    "$$ \\int_a^b g(x) \\, dx = \\int_{a^2}^{b^2} h(u) \\, du.$$"
   ]
  },
  {
   "cell_type": "code",
   "execution_count": null,
   "metadata": {
    "deletable": false,
    "editable": false,
    "id": "eGYNPNzZV4Tg",
    "nbgrader": {
     "cell_type": "code",
     "checksum": "a30c29135e53d2f74b0eaa5d4f9f2fa0",
     "grade": false,
     "grade_id": "cell-a8c43f6b6695525f",
     "locked": true,
     "schema_version": 3,
     "solution": false,
     "task": false
    }
   },
   "outputs": [],
   "source": [
    "def g(x):\n",
    "    return np.sin(x**2)"
   ]
  },
  {
   "cell_type": "code",
   "execution_count": null,
   "metadata": {
    "deletable": false,
    "id": "JWLR83ScV4Tg",
    "nbgrader": {
     "cell_type": "code",
     "checksum": "69595c20679137a00c51279234323d64",
     "grade": false,
     "grade_id": "cell-7cc4ddf22a539d20",
     "locked": false,
     "schema_version": 3,
     "solution": true,
     "task": false
    }
   },
   "outputs": [],
   "source": [
    "def h(y):\n",
    "    return np.sin(y)/(2*np.sqrt(y))"
   ]
  },
  {
   "cell_type": "code",
   "execution_count": null,
   "metadata": {
    "deletable": false,
    "editable": false,
    "id": "le3pGbMqV4Tg",
    "nbgrader": {
     "cell_type": "code",
     "checksum": "09946bbb781594ef0d80d2686a390cf2",
     "grade": true,
     "grade_id": "cell-b60272a8349d9290",
     "locked": true,
     "points": 1,
     "schema_version": 3,
     "solution": false,
     "task": false
    }
   },
   "outputs": [],
   "source": [
    "assert np.isclose(h(1), 0.42073549240394825)"
   ]
  },
  {
   "cell_type": "code",
   "execution_count": null,
   "metadata": {
    "deletable": false,
    "editable": false,
    "id": "4EzlWtwXV4Th",
    "nbgrader": {
     "cell_type": "code",
     "checksum": "325b8ca8ca6a0a04d4138a81cc05c699",
     "grade": true,
     "grade_id": "cell-ebf3150fe385354b",
     "locked": true,
     "points": 1,
     "schema_version": 3,
     "solution": false,
     "task": false
    }
   },
   "outputs": [],
   "source": [
    "assert np.abs(h(np.pi)) < 1e-15"
   ]
  },
  {
   "cell_type": "markdown",
   "metadata": {
    "id": "hn1O61zMV4Th"
   },
   "source": [
    "Faça um gráfico de $h$, no intervalo $[1, 20]$."
   ]
  },
  {
   "cell_type": "code",
   "execution_count": null,
   "metadata": {
    "colab": {
     "base_uri": "https://localhost:8080/",
     "height": 281
    },
    "deletable": false,
    "id": "613sNAAzV4Th",
    "nbgrader": {
     "cell_type": "code",
     "checksum": "eb7610b014afdf9df27c558e670f5365",
     "grade": false,
     "grade_id": "cell-71f60ad5f07441c9",
     "locked": false,
     "schema_version": 3,
     "solution": true,
     "task": false
    },
    "outputId": "f4bd4bc9-8c2b-4f38-a7bd-35559b68f047"
   },
   "outputs": [
    {
     "data": {
      "image/png": "[encoded data removed]",
      "text/plain": [
       "<Figure size 432x288 with 1 Axes>"
      ]
     },
     "metadata": {
      "needs_background": "light",
      "tags": []
     },
     "output_type": "display_data"
    }
   ],
   "source": [
    "ls = np.linspace(1,20, num=100)\n",
    "plt.plot(ls, h(ls))\n",
    "plt.title(\"gráfico h(y)\")\n",
    "ax = plt.gca()"
   ]
  },
  {
   "cell_type": "code",
   "execution_count": null,
   "metadata": {
    "deletable": false,
    "editable": false,
    "id": "RzzvpBFkV4Ti",
    "nbgrader": {
     "cell_type": "code",
     "checksum": "1cdfa1f99dec0514f93009024cdc792d",
     "grade": true,
     "grade_id": "cell-b524b17ed51e0f43",
     "locked": true,
     "points": 1,
     "schema_version": 3,
     "solution": false,
     "task": false
    }
   },
   "outputs": [],
   "source": [
    "assert len(ax.lines) == 1\n",
    "assert ax.title.get_text() != \"\""
   ]
  },
  {
   "cell_type": "code",
   "execution_count": null,
   "metadata": {
    "deletable": false,
    "editable": false,
    "id": "KE7yWlzpV4Ti",
    "nbgrader": {
     "cell_type": "code",
     "checksum": "53c6f8e1c3d7423106ea0d6c6d3d16b0",
     "grade": true,
     "grade_id": "cell-00a6a29b2c4a1093",
     "locked": true,
     "points": 1,
     "schema_version": 3,
     "solution": false,
     "task": false
    }
   },
   "outputs": [],
   "source": [
    "l = ax.lines[0]\n",
    "assert min(l.get_xdata()) == 1\n",
    "assert max(l.get_xdata()) == 20"
   ]
  },
  {
   "cell_type": "markdown",
   "metadata": {
    "id": "dA215Nw1V4Ti"
   },
   "source": [
    "## Questão 5: Erros de integração\n",
    "\n",
    "Vamos observar como os métodos de integração se comportam quando integramos $g$ ou $h$.\n",
    "Para isso, vamos precisar de um integrador (numérico!) suficientemente preciso.\n",
    "Por simplicidade, vamos integrar a função $g$."
   ]
  },
  {
   "cell_type": "code",
   "execution_count": null,
   "metadata": {
    "deletable": false,
    "id": "9JcdYuxKV4Ti",
    "nbgrader": {
     "cell_type": "code",
     "checksum": "0255df5b84cfc48b5cd6a3b9d328bb0b",
     "grade": false,
     "grade_id": "cell-78dee28a81983d96",
     "locked": false,
     "schema_version": 3,
     "solution": true,
     "task": false
    }
   },
   "outputs": [],
   "source": [
    "def G(a,b):\n",
    "    y = simpson(g, a, b, n=10000);\n",
    "    return y"
   ]
  },
  {
   "cell_type": "code",
   "execution_count": null,
   "metadata": {
    "deletable": false,
    "editable": false,
    "id": "sOxTw7G5V4Ti",
    "nbgrader": {
     "cell_type": "code",
     "checksum": "10de28c495908a43fb8679e1dc153b42",
     "grade": true,
     "grade_id": "cell-f54c55574a200ba5",
     "locked": true,
     "points": 2,
     "schema_version": 3,
     "solution": false,
     "task": false
    }
   },
   "outputs": [],
   "source": [
    "assert np.isclose(G(1,2),    0.49450818762037513)\n",
    "assert np.isclose(G(20,33), -0.006737045607890843)"
   ]
  },
  {
   "cell_type": "markdown",
   "metadata": {
    "id": "XLKq3kC5V4Tj"
   },
   "source": [
    "Calcule a integral de $g$ no intervalo $[1,2]$ e a correspondente integral de $h$ em $[1,4]$,\n",
    "para a tolerância padrão `1e-8`,\n",
    "usando algum dos métodos adaptativos que vimos.\n",
    "\n",
    "Qual o erro de cada um dos métodos?\n",
    "Em quantos pontos cada um calcula?"
   ]
  },
  {
   "cell_type": "code",
   "execution_count": null,
   "metadata": {
    "colab": {
     "base_uri": "https://localhost:8080/"
    },
    "deletable": false,
    "id": "sWsIMlz6V4Tj",
    "nbgrader": {
     "cell_type": "code",
     "checksum": "f311fdc868bb1e95d9c05c3d5d463ce5",
     "grade": true,
     "grade_id": "cell-3e696cbbbd91aaf1",
     "locked": false,
     "points": 2,
     "schema_version": 3,
     "solution": true,
     "task": false
    },
    "outputId": "ce4fe4d5-5472-4e03-f2f9-66a5cc991c11"
   },
   "outputs": [
    {
     "name": "stdout",
     "output_type": "stream",
     "text": [
      "Erro para g em [1,2]: 9.62617208166705e-11, pontos: 128\n",
      "Erro para h em [1,4]: 1.7566320620332476e-10, pontos: 64\n"
     ]
    }
   ],
   "source": [
    "y1 = simpson2(g, 1, 2);\n",
    "y2 = simpson2(h, 1, 4);\n",
    "print(f\"Erro para g em [1,2]: {abs(y1[0]- G(1,2))}, pontos: {y1[1]}\")\n",
    "print(f\"Erro para h em [1,4]: {abs(y2[0]- G(1,2))}, pontos: {y2[1]}\")"
   ]
  },
  {
   "cell_type": "markdown",
   "metadata": {
    "id": "D0AoSV7SV4Tj"
   },
   "source": [
    "O que acontece se pedirmos mais precisão? E menos?"
   ]
  },
  {
   "cell_type": "code",
   "execution_count": null,
   "metadata": {
    "colab": {
     "base_uri": "https://localhost:8080/"
    },
    "deletable": false,
    "id": "SRH9aLyTV4Tj",
    "nbgrader": {
     "cell_type": "code",
     "checksum": "7692a3b2df702cd2064516f4870e84c3",
     "grade": true,
     "grade_id": "cell-cae6c9a6394225f8",
     "locked": false,
     "points": 2,
     "schema_version": 3,
     "solution": true,
     "task": false
    },
    "outputId": "784939c5-5293-441c-8d6c-e951bc92f122"
   },
   "outputs": [
    {
     "name": "stdout",
     "output_type": "stream",
     "text": [
      "Com mais precisão:\n",
      "Erro para g em [1,2]: 6.0163540815949546e-12, pontos: 256\n",
      "Erro para h em [1,4]: 1.098682256284178e-11, pontos: 128\n",
      "\n",
      "Com menos precisão:\n",
      "Erro para g em [1,2]: 1.5403645581280045e-09, pontos: 64\n",
      "Erro para h em [1,4]: 2.802464482698497e-09, pontos: 32\n",
      "\n"
     ]
    }
   ],
   "source": [
    "y1 = simpson2(g, 1, 2, tol=1e-9);\n",
    "y2 = simpson2(h, 1, 4,tol=1e-9);\n",
    "print(\"Com mais precisão:\")\n",
    "print(f\"Erro para g em [1,2]: {abs(y1[0]- G(1,2))}, pontos: {y1[1]}\")\n",
    "print(f\"Erro para h em [1,4]: {abs(y2[0]- G(1,2))}, pontos: {y2[1]}\\n\")\n",
    "y1 = simpson2(g, 1, 2, tol=1e-7);\n",
    "y2 = simpson2(h, 1, 4,tol=1e-7);\n",
    "print(\"Com menos precisão:\")\n",
    "print(f\"Erro para g em [1,2]: {abs(y1[0]- G(1,2))}, pontos: {y1[1]}\")\n",
    "print(f\"Erro para h em [1,4]: {abs(y2[0]- G(1,2))}, pontos: {y2[1]}\\n\")"
   ]
  },
  {
   "cell_type": "markdown",
   "metadata": {
    "id": "JvzHdSOAV4Tj"
   },
   "source": [
    "Quais diferenças você observa entre integrar $g$ ou $h$?"
   ]
  },
  {
   "cell_type": "markdown",
   "metadata": {
    "deletable": false,
    "id": "WjKe27PJV4Tk",
    "nbgrader": {
     "cell_type": "markdown",
     "checksum": "569de4499f0d7f15ff2b307442230bc6",
     "grade": true,
     "grade_id": "cell-91cebfd1ea80632d",
     "locked": false,
     "points": 2,
     "schema_version": 3,
     "solution": true,
     "task": false
    }
   },
   "source": [
    "As diferenças são que, usando h, o erro é maior e o número de pontos usados são metade para uma mesma tolerância em comparação com g."
   ]
  },
  {
   "cell_type": "markdown",
   "metadata": {
    "id": "Bgzy0Jn5V4Tk"
   },
   "source": [
    "## Questão 6: Explorando os períodos\n",
    "\n",
    "Agora, vamos integrar num intervalo que corresponde a um \"período\" de $g$:\n",
    "$[\\sqrt{\\pi}, \\sqrt{2\\pi}]$.\n",
    "\n",
    "Repita os estudos feitos na questão anterior."
   ]
  },
  {
   "cell_type": "code",
   "execution_count": null,
   "metadata": {
    "colab": {
     "base_uri": "https://localhost:8080/"
    },
    "deletable": false,
    "id": "a2Jj413GV4Tk",
    "nbgrader": {
     "cell_type": "code",
     "checksum": "88e144c2536e7ce51912bd0c1c48a47b",
     "grade": true,
     "grade_id": "cell-68d5b5edbd7061e3",
     "locked": false,
     "points": 1,
     "schema_version": 3,
     "solution": true,
     "task": false
    },
    "outputId": "445eb288-8f36-4622-9751-e37c76fd420c"
   },
   "outputs": [
    {
     "name": "stdout",
     "output_type": "stream",
     "text": [
      "Erro para g em [1,2]: 6.409262010009797e-11, pontos: 128\n",
      "Erro para h em [1,4]: 5.114203505129922e-11, pontos: 128\n",
      "\n",
      "Com mais precisão (1e-9):\n",
      "Erro para g em [1,2]: 6.409262010009797e-11, pontos: 128\n",
      "Erro para h em [1,4]: 5.114203505129922e-11, pontos: 128\n",
      "\n",
      "Com menos precisão (1e-7):\n",
      "Erro para g em [1,2]: 1.0255380433754624e-09, pontos: 64\n",
      "Erro para h em [1,4]: 8.183103084036247e-10, pontos: 64\n",
      "\n"
     ]
    }
   ],
   "source": [
    "spi  = np.sqrt(np.pi)\n",
    "s2pi = np.sqrt(2*np.pi) # para ficar mais legível\n",
    "\n",
    "y1 = simpson2(g, spi, s2pi);\n",
    "y2 = simpson2(h, (spi**2), (s2pi**2));\n",
    "print(f\"Erro para g em [1,2]: {abs(y1[0]- G(spi,s2pi))}, pontos: {y1[1]}\")\n",
    "print(f\"Erro para h em [1,4]: {abs(y2[0]- G(spi,s2pi))}, pontos: {y2[1]}\\n\")\n",
    "y1 = simpson2(g, spi, s2pi, tol=1e-9);\n",
    "y2 = simpson2(h, (spi**2), (s2pi**2),tol=1e-9);\n",
    "print(\"Com mais precisão (1e-9):\")\n",
    "print(f\"Erro para g em [1,2]: {abs(y1[0]- G(spi,s2pi))}, pontos: {y1[1]}\")\n",
    "print(f\"Erro para h em [1,4]: {abs(y2[0]- G(spi,s2pi))}, pontos: {y2[1]}\\n\")\n",
    "y1 = simpson2(g, spi, s2pi, tol=1e-7);\n",
    "y2 = simpson2(h, (spi**2), (s2pi**2),tol=1e-7);\n",
    "print(\"Com menos precisão (1e-7):\")\n",
    "print(f\"Erro para g em [1,2]: {abs(y1[0]- G(spi,s2pi))}, pontos: {y1[1]}\")\n",
    "print(f\"Erro para h em [1,4]: {abs(y2[0]- G(spi,s2pi))}, pontos: {y2[1]}\\n\")"
   ]
  },
  {
   "cell_type": "markdown",
   "metadata": {
    "id": "WIu795hBV4Tk"
   },
   "source": [
    "Neste caso, há mais ou menos diferença entre os métodos?"
   ]
  },
  {
   "cell_type": "markdown",
   "metadata": {
    "deletable": false,
    "id": "3wemWNn8V4Tk",
    "nbgrader": {
     "cell_type": "markdown",
     "checksum": "e63d68df8d030627354377173e4973bb",
     "grade": true,
     "grade_id": "cell-d416b276a6876273",
     "locked": false,
     "points": 1,
     "schema_version": 3,
     "solution": true,
     "task": false
    }
   },
   "source": [
    "Há menos diferenças, o número de pontos usados são iguais nos dois métodos, apesar do erro ser diferente."
   ]
  },
  {
   "cell_type": "markdown",
   "metadata": {
    "id": "dUO8o1dAV4Tk"
   },
   "source": [
    "Para lidar com os zeros periódicos de $h$,\n",
    "escreva a função `multiint(f, intervals, tol)`, que retorna:\n",
    "- a soma das integrais de $f$ em cada um dos intervalos\n",
    "  (uma lista de pares, com as extremidades iniciais e finais);\n",
    "- bem como o número total de subdivisões efetuadas.\n",
    "\n",
    "Lembre de dividir a tolerância pelo número de intervalos, ao chamar o integrador em cada um deles ;-)"
   ]
  },
  {
   "cell_type": "code",
   "execution_count": null,
   "metadata": {
    "deletable": false,
    "id": "d2nOlRugV4Tl",
    "nbgrader": {
     "cell_type": "code",
     "checksum": "bbd0157527390e2a0becf64a07dbd5b6",
     "grade": false,
     "grade_id": "cell-3485148f70086f30",
     "locked": false,
     "schema_version": 3,
     "solution": true,
     "task": false
    }
   },
   "outputs": [],
   "source": [
    "def multiint(f, intervals, tol=1e-8):\n",
    "    n = len(intervals)\n",
    "    tol = tol/n\n",
    "    y = 0\n",
    "    ns = 0\n",
    "    for inter in intervals:\n",
    "        z = simpson2(f, inter[0], inter[1], tol=tol)\n",
    "        y += z[0]\n",
    "        ns +=z[1]\n",
    "    return y, ns"
   ]
  },
  {
   "cell_type": "code",
   "execution_count": null,
   "metadata": {
    "deletable": false,
    "editable": false,
    "id": "Iq4KTPiFV4Tl",
    "nbgrader": {
     "cell_type": "code",
     "checksum": "51ba6e6dee20ab6a71fc879950e47465",
     "grade": true,
     "grade_id": "cell-82d4d7d1ec3eee7b",
     "locked": true,
     "points": 1,
     "schema_version": 3,
     "solution": false,
     "task": false
    }
   },
   "outputs": [],
   "source": [
    "I = multiint(np.sin, [(0, np.pi), (2*np.pi, 3*np.pi), (4*np.pi, 5*np.pi)])\n",
    "assert np.isclose(I[0], 6, atol=1e-8, rtol=1e-8)\n",
    "assert I[1] > 3*32"
   ]
  },
  {
   "cell_type": "code",
   "execution_count": null,
   "metadata": {
    "deletable": false,
    "editable": false,
    "id": "RbYZhTaGV4Tm",
    "nbgrader": {
     "cell_type": "code",
     "checksum": "9edf43208d661dfa74a8441f0c18d1c1",
     "grade": true,
     "grade_id": "cell-02b106cf60203920",
     "locked": true,
     "points": 1,
     "schema_version": 3,
     "solution": false,
     "task": false
    }
   },
   "outputs": [],
   "source": [
    "I = multiint(np.sin, [(0, np.pi), (np.pi, 2*np.pi), (2*np.pi, 8)])\n",
    "assert np.isclose(I[0], 1 - np.cos(8), atol=1e-8, rtol=1e-8)\n",
    "assert I[1] > 100"
   ]
  },
  {
   "cell_type": "markdown",
   "metadata": {
    "id": "Eu0Uxuj0V4Tm"
   },
   "source": [
    "Agora, estude como os erros de integral de $g$ e $h$ se comportam,\n",
    "para intervalos com mais \"períodos\"."
   ]
  },
  {
   "cell_type": "code",
   "execution_count": null,
   "metadata": {
    "colab": {
     "base_uri": "https://localhost:8080/"
    },
    "deletable": false,
    "id": "ND2pJT2VV4Tm",
    "nbgrader": {
     "cell_type": "code",
     "checksum": "96ed72a72f7e00e78ef35d67689e98f5",
     "grade": true,
     "grade_id": "cell-7d7dc222e8b2190d",
     "locked": false,
     "points": 2,
     "schema_version": 3,
     "solution": true,
     "task": false
    },
    "outputId": "359ad0f3-3120-41c7-ffdb-3f9957969e1b"
   },
   "outputs": [
    {
     "name": "stdout",
     "output_type": "stream",
     "text": [
      "Erro usando g:0.6240468851735721, pontos: 384\n",
      "Erro usando h:0.6240468851590937, pontos: 384\n"
     ]
    }
   ],
   "source": [
    "i1  = [(np.sqrt(np.pi), np.sqrt(2*np.pi)), (np.sqrt(3*np.pi),np.sqrt(4*np.pi)), (np.sqrt(5*np.pi), np.sqrt(6*np.pi))]\n",
    "i2 = np.power(i1,2)\n",
    "I1 = multiint(g, i1)\n",
    "I2 = multiint(h, i2)\n",
    "print(f\"Erro usando g:{abs(I1[0]- G(np.sqrt(np.pi),np.sqrt(6*np.pi)))}, pontos: {I1[1]}\")\n",
    "print(f\"Erro usando h:{abs(I2[0]- G(np.sqrt(np.pi),np.sqrt(6*np.pi)))}, pontos: {I2[1]}\")\n"
   ]
  },
  {
   "cell_type": "markdown",
   "metadata": {
    "id": "swH21iVO_8_H"
   },
   "source": []
  },
  {
   "cell_type": "markdown",
   "metadata": {
    "id": "wme_TGXtV4Tn"
   },
   "source": [
    "Comente o comportamento dos dois métodos para esta nova situação.\n",
    "O que você percebe?"
   ]
  },
  {
   "cell_type": "markdown",
   "metadata": {
    "deletable": false,
    "id": "ocFqeUeFV4Tn",
    "nbgrader": {
     "cell_type": "markdown",
     "checksum": "2adc1ee4373f03b67ad3d34bfb7feceb",
     "grade": true,
     "grade_id": "cell-3a4055e20218fb62",
     "locked": false,
     "points": 2,
     "schema_version": 3,
     "solution": true,
     "task": false
    }
   },
   "source": [
    "O número de pontos usados é o mesmo para ambos casos, o erro, no entanto, é menor usando h. Embora h agora tenham vantagem sobre g, o erro é muito grande"
   ]
  },
  {
   "cell_type": "markdown",
   "metadata": {
    "id": "ii_QrguqV4Tn"
   },
   "source": [
    "## Questão 7: Mantendo o integrando positivo\n",
    "\n",
    "A função que estamos integrando é bastante oscilatória.\n",
    "Após a mudança de variáveis, é possível somar a parte positiva com a negativa seguinte (ou vice-versa),\n",
    "e reduzir a amplitude do integrando.\n",
    "\n",
    "Faça um gráfico de $h$ e de $j(u) = h(u) + h(u + \\pi)$ no intervalo $[1,20]$."
   ]
  },
  {
   "cell_type": "code",
   "execution_count": 149,
   "metadata": {
    "colab": {
     "base_uri": "https://localhost:8080/",
     "height": 281
    },
    "deletable": false,
    "id": "w15DJXBRV4To",
    "nbgrader": {
     "cell_type": "code",
     "checksum": "0f5f43699da81b3e086d42382899225b",
     "grade": false,
     "grade_id": "cell-12b7eacef0881569",
     "locked": false,
     "schema_version": 3,
     "solution": true,
     "task": false
    },
    "outputId": "04666ec4-97da-479b-d570-99483f4d2c61"
   },
   "outputs": [
    {
     "data": {
      "image/png": "[encoded data removed]",
      "text/plain": [
       "<Figure size 432x288 with 1 Axes>"
      ]
     },
     "metadata": {
      "needs_background": "light",
      "tags": []
     },
     "output_type": "display_data"
    }
   ],
   "source": [
    "j = lambda x: h(x) + h(x + np.pi)\n",
    "\n",
    "ns = np.linspace(1,20, num= 100)\n",
    "plt.plot(ns, j(ns), label=\"j(u)\")\n",
    "plt.plot(ns, h(ns), label=\"h(u)\")\n",
    "plt.title(\"gráfico de j(u) e h(u)\")\n",
    "ax = plt.gca()"
   ]
  },
  {
   "cell_type": "code",
   "execution_count": null,
   "metadata": {
    "deletable": false,
    "editable": false,
    "id": "SXJfyqQGV4To",
    "nbgrader": {
     "cell_type": "code",
     "checksum": "4f87dbd55bcadaaec6cdf49a76bc1a78",
     "grade": true,
     "grade_id": "cell-3e0c4b4e11a1afa8",
     "locked": true,
     "points": 1,
     "schema_version": 3,
     "solution": false,
     "task": false
    }
   },
   "outputs": [],
   "source": [
    "assert len(ax.lines) == 2\n",
    "assert len(ax.legend().texts) == 2\n",
    "assert ax.title.get_text() != \"\""
   ]
  },
  {
   "cell_type": "code",
   "execution_count": null,
   "metadata": {
    "deletable": false,
    "editable": false,
    "id": "_y7JMQQKV4To",
    "nbgrader": {
     "cell_type": "code",
     "checksum": "6541a7ba0d2730e692deb82aeb5b8173",
     "grade": true,
     "grade_id": "cell-de9011428cadd957",
     "locked": true,
     "points": 1,
     "schema_version": 3,
     "solution": false,
     "task": false
    }
   },
   "outputs": [],
   "source": [
    "l = ax.lines[0]\n",
    "assert min(l.get_xdata()) == 1\n",
    "assert max(l.get_xdata()) == 20"
   ]
  },
  {
   "cell_type": "markdown",
   "metadata": {
    "id": "UPW-6ndfV4Tp"
   },
   "source": [
    "Faça, também, gráficos separados no intervalo $[6\\pi,60\\pi]$ para $h$ e $j$."
   ]
  },
  {
   "cell_type": "code",
   "execution_count": 150,
   "metadata": {
    "colab": {
     "base_uri": "https://localhost:8080/",
     "height": 298
    },
    "deletable": false,
    "id": "xJRkpnnxV4Tp",
    "nbgrader": {
     "cell_type": "code",
     "checksum": "96171f3437bc527fdade90f8d0c78e0a",
     "grade": false,
     "grade_id": "cell-998f6857a394395d",
     "locked": false,
     "schema_version": 3,
     "solution": true,
     "task": false
    },
    "outputId": "b7343003-1b5f-4cc4-eabc-eb753ff14951"
   },
   "outputs": [
    {
     "data": {
      "text/plain": [
       "Text(0.5, 1.0, 'h(u)')"
      ]
     },
     "execution_count": 150,
     "metadata": {
      "tags": []
     },
     "output_type": "execute_result"
    },
    {
     "data": {
      "image/png": "[encoded data removed]",
      "text/plain": [
       "<Figure size 864x288 with 2 Axes>"
      ]
     },
     "metadata": {
      "needs_background": "light",
      "tags": []
     },
     "output_type": "display_data"
    }
   ],
   "source": [
    "fig, axs = plt.subplots(ncols=2, figsize=(12,4))\n",
    "(ax1, ax2) = axs\n",
    "\n",
    "ns = np.linspace(6*np.pi,60*np.pi, num= 100)\n",
    "ax1.plot(ns, j(ns))\n",
    "ax1.set_title(\"j(u)\")\n",
    "ax2.plot(ns, h(ns))\n",
    "ax2.set_title(\"h(u)\")"
   ]
  },
  {
   "cell_type": "code",
   "execution_count": null,
   "metadata": {
    "id": "aT9QeGoEV4Tp"
   },
   "outputs": [],
   "source": [
    "for ax in axs:\n",
    "    assert len(ax.lines) == 1\n",
    "    assert ax.title.get_text() != \"\""
   ]
  },
  {
   "cell_type": "markdown",
   "metadata": {
    "id": "qw4_n2_iV4Tq"
   },
   "source": [
    "O que você nota do comportamento de $h$ e $j$?"
   ]
  },
  {
   "cell_type": "markdown",
   "metadata": {
    "id": "puKkjQ6TV4Tq"
   },
   "source": [
    "Agora, compare integrar\n",
    "- $g$ no intervalo $[\\sqrt{6\\pi}, \\sqrt{30\\pi}]$,\n",
    "- $h$ no intervalo $[6\\pi, 30\\pi]$,\n",
    "- $j$ nos intervalos correspondentes\n",
    "\n",
    "Para isto, calcule os erros e números de subdivisões usados para vários valores da tolerância,\n",
    "e faça um gráfico do erro em função do número de subdivisões."
   ]
  },
  {
   "cell_type": "code",
   "execution_count": 155,
   "metadata": {
    "colab": {
     "base_uri": "https://localhost:8080/",
     "height": 269
    },
    "deletable": false,
    "id": "bFGEr1AdV4Tq",
    "nbgrader": {
     "cell_type": "code",
     "checksum": "93774c6e8c3bad7979899f1af84113ed",
     "grade": true,
     "grade_id": "cell-ae79ce4684a114ab",
     "locked": false,
     "points": 2,
     "schema_version": 3,
     "solution": true,
     "task": false
    },
    "outputId": "f935f8cb-1c0b-4875-c0b1-4cea9b9e1813"
   },
   "outputs": [
    {
     "data": {
      "image/png": "[encoded data removed]",
      "text/plain": [
       "<Figure size 432x288 with 1 Axes>"
      ]
     },
     "metadata": {
      "needs_background": "light",
      "tags": []
     },
     "output_type": "display_data"
    }
   ],
   "source": [
    "a, b = np.sqrt(6*np.pi), np.sqrt(30*np.pi)\n",
    "I = G(a,b)\n",
    "tols = np.logspace(-12,-4)\n",
    "z1, z2, z3 = [],[],[]\n",
    "for tol in tols:\n",
    "    z1.append(simpson2(g, a, b, tol))\n",
    "    z2.append(simpson2(h, 6*np.pi, 30*np.pi, tol))\n",
    "    z3.append(simpson2(j, 6*np.pi, 29*np.pi, tol))\n",
    "plt.loglog([z[1] for z in z1], [abs(z[0] - I) for z in z1], label=\"g\")\n",
    "plt.loglog([z[1] for z in z2], [abs(z[0] - I) for z in z2],\".\", label=\"h\")\n",
    "plt.loglog([z[1] for z in z3], [abs(z[0] - I) for z in z3], label=\"j\")\n",
    "plt.legend()\n",
    "ax = plt.gca()"
   ]
  },
  {
   "cell_type": "code",
   "execution_count": 156,
   "metadata": {
    "deletable": false,
    "editable": false,
    "id": "Th6RWm8DV4Tr",
    "nbgrader": {
     "cell_type": "code",
     "checksum": "8ef3b24ad879c08ac13d3779d0d19be7",
     "grade": true,
     "grade_id": "cell-24d24913fb0c3c5b",
     "locked": true,
     "points": 1,
     "schema_version": 3,
     "solution": false,
     "task": false
    }
   },
   "outputs": [],
   "source": [
    "assert len(ax.lines) == 3"
   ]
  },
  {
   "cell_type": "markdown",
   "metadata": {
    "id": "h1flkwaEV4Tr"
   },
   "source": [
    "O que você observa agora?\n",
    "A comparação do número de subdivisões é justa entre $h$ e $j$?"
   ]
  },
  {
   "cell_type": "markdown",
   "metadata": {
    "deletable": false,
    "id": "cZ8zksYoV4Tr",
    "nbgrader": {
     "cell_type": "markdown",
     "checksum": "89741c9c72c422dab3ba3d1816f2c021",
     "grade": true,
     "grade_id": "cell-f665a2257de66496",
     "locked": false,
     "points": 2,
     "schema_version": 3,
     "solution": true,
     "task": false
    }
   },
   "source": [
    "g(x) tem erros muito menores, e os números de subdivisões maiores em relação aos outros. \n",
    "\n"
   ]
  },
  {
   "cell_type": "markdown",
   "metadata": {
    "id": "dFXAD9V4V4Tr"
   },
   "source": [
    "Qual método você escolheria para estimar a integral de 0 a infinito de $g$?\n",
    "Porquê?"
   ]
  },
  {
   "cell_type": "markdown",
   "metadata": {
    "deletable": false,
    "id": "hvNj7mD0V4Ts",
    "nbgrader": {
     "cell_type": "markdown",
     "checksum": "526fbe4b01ba572f004270988ae5d153",
     "grade": true,
     "grade_id": "cell-58895de27cbdaa7c",
     "locked": false,
     "points": 2,
     "schema_version": 3,
     "solution": true,
     "task": false
    }
   },
   "source": [
    "YOUR ANSWER HERE"
   ]
  }
 ],
 "metadata": {
  "@webio": {
   "lastCommId": null,
   "lastKernelId": null
  },
  "colab": {
   "collapsed_sections": [],
   "name": "Projeto2.ipynb",
   "provenance": []
  },
  "hide_input": false,
  "kernelspec": {
   "display_name": "Python 3",
   "language": "python",
   "name": "python3"
  },
  "language_info": {
   "codemirror_mode": {
    "name": "ipython",
    "version": 3
   },
   "file_extension": ".py",
   "mimetype": "text/x-python",
   "name": "python",
   "nbconvert_exporter": "python",
   "pygments_lexer": "ipython3",
   "version": "3.7.3"
  }
 },
 "nbformat": 4,
 "nbformat_minor": 5
}
