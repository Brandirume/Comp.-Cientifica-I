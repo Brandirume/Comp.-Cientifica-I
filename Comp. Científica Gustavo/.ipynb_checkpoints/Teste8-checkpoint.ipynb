{
 "cells": [
  {
   "cell_type": "markdown",
   "metadata": {},
   "source": [
    "![CC-BY-SA](https://mirrors.creativecommons.org/presskit/buttons/88x31/svg/by-sa.svg)\n",
    "\n",
    "\n",
    "This notebook was created by [Bernardo Freitas Paulo da Costa](http://www.im.ufrj.br/bernardofpc),\n",
    "and is licensed under Creative Commons BY-SA."
   ]
  },
  {
   "cell_type": "markdown",
   "metadata": {},
   "source": [
    "Antes de enviar este Teste, verifique que tudo está funcionando como esperado.\n",
    "Por exemplo, **rode o código inteiro, do zero**.\n",
    "Para isso, vá no menu, escolha _Kernel_, depois _Restart & Run All_.\n",
    "\n",
    "Verifique, também, que você respondeu todas as questões:\n",
    "* as questões de código têm `YOUR CODE HERE` (e você pode apagar o `raise NotImplemented` ao incluir sua resposta)\n",
    "* as questões discursivas têm \"YOUR ANSWER HERE\"."
   ]
  },
  {
   "cell_type": "markdown",
   "metadata": {},
   "source": [
    "---"
   ]
  },
  {
   "cell_type": "code",
   "execution_count": 1,
   "metadata": {},
   "outputs": [],
   "source": [
    "import numpy as np\n",
    "import matplotlib.pyplot as plt"
   ]
  },
  {
   "cell_type": "markdown",
   "metadata": {},
   "source": [
    "# Regressão generalizada\n",
    "\n",
    "O modelo de regressão pode ser generalizado para encontrar os coeficientes de $n$ funções $f_i$\n",
    "para aproximar, o melhor possível, os valores $y_j$ observados em $m$ pontos $t_j$."
   ]
  },
  {
   "cell_type": "markdown",
   "metadata": {},
   "source": [
    "## Questão 1: Calculando a regressão\n",
    "\n",
    "Abaixo, dê uma função que calcula a matriz do sistema linear e, em seguida,\n",
    "a que usa esta matriz para calcular os parâmetros do modelo -\n",
    "neste caso, os coeficientes multiplicando cada uma das $f_i$'s."
   ]
  },
  {
   "cell_type": "code",
   "execution_count": 2,
   "metadata": {
    "deletable": false,
    "nbgrader": {
     "cell_type": "code",
     "checksum": "505a3d846447424080761dc54422becb",
     "grade": false,
     "grade_id": "cell-46092e60d0197688",
     "locked": false,
     "schema_version": 3,
     "solution": true,
     "task": false
    }
   },
   "outputs": [],
   "source": [
    "def model_M(ts,fs):\n",
    "    \"\"\"\n",
    "    Constrói a matriz M = [[f1(t1), f2(t1), ...],\n",
    "                           [f1(t2), f2(t2), ...],\n",
    "                           [f1(t3), f2(t3), ...],\n",
    "                           ...\n",
    "                          ] (array)\n",
    "    correspondente ao sistema  y_j = \\sum a_i f_i(t_j)\n",
    "    \"\"\"\n",
    "    M = []\n",
    "    for t in ts:\n",
    "            M += [[f(t) for f in fs]]\n",
    "    return np.array(M)\n",
    "\n",
    "def model_par(ts,ys,fs):\n",
    "    \"\"\"\n",
    "    Calcula os coeficientes  a_i  que minimizam o erro quadrático do sistema  y_j = \\sum a_i f_i(t_j)\n",
    "    \"\"\"\n",
    "    M = model_M(ts,fs)\n",
    "    coefs, *_ = np.linalg.lstsq(M,ys,rcond=None)\n",
    "    return coefs"
   ]
  },
  {
   "cell_type": "code",
   "execution_count": 3,
   "metadata": {
    "deletable": false,
    "editable": false,
    "nbgrader": {
     "cell_type": "code",
     "checksum": "648a5679e3e2514d7fb9a3f5026cab44",
     "grade": false,
     "grade_id": "cell-4108c8bd769c74e8",
     "locked": true,
     "schema_version": 3,
     "solution": false,
     "task": false
    }
   },
   "outputs": [],
   "source": [
    "def make_sin(n):\n",
    "    def f(x):\n",
    "        return np.sin(n*x)\n",
    "    return f\n",
    "\n",
    "def make_cos(n):\n",
    "    def f(x):\n",
    "        return np.cos(n*x)\n",
    "    return f"
   ]
  },
  {
   "cell_type": "code",
   "execution_count": 4,
   "metadata": {
    "deletable": false,
    "editable": false,
    "nbgrader": {
     "cell_type": "code",
     "checksum": "f0892ec1bb1710c5fb0dd2509a38d2fb",
     "grade": true,
     "grade_id": "cell-aaba884e82e65aff",
     "locked": true,
     "points": 1,
     "schema_version": 3,
     "solution": false,
     "task": false
    }
   },
   "outputs": [],
   "source": [
    "fs = [make_sin(2), make_cos(3), make_cos(4)]\n",
    "ts = np.arange(10)\n",
    "M = model_M(ts, fs)\n",
    "n, m = np.shape(M)\n",
    "assert n == len(ts)\n",
    "assert m == len(fs)"
   ]
  },
  {
   "cell_type": "code",
   "execution_count": 5,
   "metadata": {
    "deletable": false,
    "editable": false,
    "nbgrader": {
     "cell_type": "code",
     "checksum": "ef2f7b8084838c79f0d890126b2fdb8e",
     "grade": true,
     "grade_id": "cell-f2d0df1f234b1914",
     "locked": true,
     "points": 1,
     "schema_version": 3,
     "solution": false,
     "task": false
    }
   },
   "outputs": [],
   "source": [
    "fs = [np.exp, np.log, np.tan, np.sin]\n",
    "ts = np.arange(4,20)\n",
    "M = model_M(ts, fs)\n",
    "\n",
    "assert M[3,1] == np.log(7)\n",
    "assert M[6,2] == np.tan(10)"
   ]
  },
  {
   "cell_type": "code",
   "execution_count": 6,
   "metadata": {
    "deletable": false,
    "editable": false,
    "nbgrader": {
     "cell_type": "code",
     "checksum": "33d920c48614427761aa43726c2d90ca",
     "grade": true,
     "grade_id": "cell-a07ec5729017e1f7",
     "locked": true,
     "points": 1,
     "schema_version": 3,
     "solution": false,
     "task": false
    }
   },
   "outputs": [],
   "source": [
    "np.random.seed(1)\n",
    "ys = np.random.randn(16)\n",
    "coefs = model_par(ts, ys, fs)\n",
    "assert len(coefs) == len(fs)"
   ]
  },
  {
   "cell_type": "code",
   "execution_count": 7,
   "metadata": {
    "deletable": false,
    "editable": false,
    "nbgrader": {
     "cell_type": "code",
     "checksum": "ba02609e3fdfb11334f4a9b731f39bea",
     "grade": true,
     "grade_id": "cell-6cd4e28bc1539c53",
     "locked": true,
     "points": 1,
     "schema_version": 3,
     "solution": false,
     "task": false
    }
   },
   "outputs": [],
   "source": [
    "coefs = model_par(ts, ys, fs)\n",
    "assert np.isclose(coefs[0], 0)\n",
    "assert np.abs(coefs[3] + 0.5) < 0.1"
   ]
  },
  {
   "cell_type": "markdown",
   "metadata": {},
   "source": [
    "# Regressão com erro de observação\n",
    "\n",
    "Uma das grandes vantagens da regressão é poder \"limpar\" os erros de observação.\n",
    "Mas, é claro, isso só é possível quando temos \"bem mais\" observações do que funções na base.\n",
    "\n",
    "Nesta parte, veremos como isso acontece para uma função curiosa:"
   ]
  },
  {
   "cell_type": "code",
   "execution_count": 56,
   "metadata": {
    "deletable": false,
    "editable": false,
    "nbgrader": {
     "cell_type": "code",
     "checksum": "d4c89a77d706061a5867406d02661b80",
     "grade": false,
     "grade_id": "cell-1025432b5219f90c",
     "locked": true,
     "schema_version": 3,
     "solution": false,
     "task": false
    }
   },
   "outputs": [],
   "source": [
    "def func(x):\n",
    "    return 2**np.sin(2*x) - np.exp(np.cos(3*x))"
   ]
  },
  {
   "cell_type": "markdown",
   "metadata": {},
   "source": [
    "Agora, vamos construir nossos \"dados de ajuste\" (com erros):"
   ]
  },
  {
   "cell_type": "code",
   "execution_count": 90,
   "metadata": {
    "deletable": false,
    "editable": false,
    "nbgrader": {
     "cell_type": "code",
     "checksum": "6e992467c604d8e9ac89044cc78108c1",
     "grade": false,
     "grade_id": "cell-4e0b987bfca40324",
     "locked": true,
     "schema_version": 3,
     "solution": false,
     "task": false
    }
   },
   "outputs": [],
   "source": [
    "a = 0\n",
    "b = 2*np.pi\n",
    "\n",
    "N = 19\n",
    "xs = np.linspace(a,b,N)\n",
    "ys = func(xs)\n",
    "np.random.seed(2)\n",
    "errs = np.random.normal(scale=0.5,size=N)\n",
    "ys += errs"
   ]
  },
  {
   "cell_type": "markdown",
   "metadata": {},
   "source": [
    "## Questão 2: Explorando os dados\n",
    "\n",
    "Faça um gráfico tanto da função `func` como dos dados,\n",
    "no intervalo considerado."
   ]
  },
  {
   "cell_type": "code",
   "execution_count": 91,
   "metadata": {
    "deletable": false,
    "nbgrader": {
     "cell_type": "code",
     "checksum": "df32eb820246ae5d997ae182f09c285d",
     "grade": false,
     "grade_id": "cell-740a256c52460174",
     "locked": false,
     "schema_version": 3,
     "solution": true,
     "task": false
    }
   },
   "outputs": [
    {
     "data": {
      "image/png": "[encoded data removed]",
      "text/plain": [
       "<Figure size 432x288 with 1 Axes>"
      ]
     },
     "metadata": {
      "needs_background": "light"
     },
     "output_type": "display_data"
    }
   ],
   "source": [
    "plt.plot(xs, func(xs), label=\"func(x)\")\n",
    "plt.plot(xs, ys, label=\"dados\")\n",
    "plt.legend()\n",
    "ax = plt.gca()"
   ]
  },
  {
   "cell_type": "code",
   "execution_count": 92,
   "metadata": {
    "deletable": false,
    "editable": false,
    "nbgrader": {
     "cell_type": "code",
     "checksum": "8307578849f8ae08f9278a2db58d77da",
     "grade": true,
     "grade_id": "cell-a70c8ac74cb68566",
     "locked": true,
     "points": 1,
     "schema_version": 3,
     "solution": false,
     "task": false
    }
   },
   "outputs": [],
   "source": [
    "assert len(ax.lines) == 2\n",
    "assert len(ax.legend().texts) == 2"
   ]
  },
  {
   "cell_type": "code",
   "execution_count": 93,
   "metadata": {
    "deletable": false,
    "editable": false,
    "nbgrader": {
     "cell_type": "code",
     "checksum": "0e20ad9cf876227ab8a2cf8902c2438d",
     "grade": true,
     "grade_id": "cell-f4acc5a35220fa23",
     "locked": true,
     "points": 1,
     "schema_version": 3,
     "solution": false,
     "task": false
    }
   },
   "outputs": [],
   "source": [
    "for l in ax.lines:\n",
    "    xgraph = l.get_xdata()\n",
    "    assert min(xgraph) == 0\n",
    "    assert max(xgraph) == 2*np.pi"
   ]
  },
  {
   "cell_type": "code",
   "execution_count": 94,
   "metadata": {
    "deletable": false,
    "editable": false,
    "nbgrader": {
     "cell_type": "code",
     "checksum": "284d6e649d976b08fa8e1a0e63145b65",
     "grade": false,
     "grade_id": "cell-05b800941b224167",
     "locked": true,
     "schema_version": 3,
     "solution": false,
     "task": false
    }
   },
   "outputs": [],
   "source": [
    "ax = None"
   ]
  },
  {
   "cell_type": "markdown",
   "metadata": {},
   "source": [
    "## Questão 3: Interpolando e observando\n",
    "\n",
    "Agora, calcule o ajuste \"interpolador\" destes dados, com senos e cossenos,\n",
    "e faça um gráfico com a função original, os dados e a função interpoladora.\n",
    "\n",
    "Lembre-se: para interpolar os dados, é necessário ter o mesmo número de funções na base\n",
    "do que pontos para interpolar.\n",
    "\n",
    "\n",
    "Dica: use as funções `make_sin` e `make_cos` para criar uma lista de funções `fs`."
   ]
  },
  {
   "cell_type": "code",
   "execution_count": 163,
   "metadata": {
    "deletable": false,
    "nbgrader": {
     "cell_type": "code",
     "checksum": "eeea43e15549251579e45e97af0035b5",
     "grade": false,
     "grade_id": "cell-02aa01b7b6ec89d4",
     "locked": false,
     "schema_version": 3,
     "solution": true,
     "task": false
    }
   },
   "outputs": [
    {
     "data": {
      "image/png": "[encoded data removed]",
      "text/plain": [
       "<Figure size 432x288 with 1 Axes>"
      ]
     },
     "metadata": {
      "needs_background": "light"
     },
     "output_type": "display_data"
    }
   ],
   "source": [
    "\n",
    "def solvlin(xs,ys):\n",
    "    m = model_M(xs, fs)\n",
    "    coefs =  np.linalg.solve(m, ys)\n",
    "    \n",
    "    return coefs\n",
    "\n",
    "    \n",
    "N = 19\n",
    "\n",
    "xs = np.linspace(a,b,N)\n",
    "ys = func(xs)\n",
    "np.random.seed(2)\n",
    "errs = np.random.normal(scale=0.5,size=N)\n",
    "ys += errs\n",
    "\n",
    "fs = [lambda x: 2+0*x]\n",
    "\n",
    "for i in range(N-1):\n",
    "    if i%2:\n",
    "        fs.append(make_sin(i+2))\n",
    "    else:\n",
    "        fs.append(make_cos(i+3))\n",
    "\n",
    "coefs = solvlin(xs,ys)\n",
    "def pol(x):\n",
    "    poli = []\n",
    "    ind = 0\n",
    "    for i in coefs:\n",
    "        poli.append(i*fs[ind](x))\n",
    "        ind +=1\n",
    "    return np.sum(poli)\n",
    "pol = np.vectorize(pol)\n",
    "\n",
    "plt.plot(xs, pol(xs), \"--\", label=\"interpolador\")\n",
    "plt.plot(xs, func(xs), \":\",label=\"func\")\n",
    "plt.plot(xs, ys, label=\"dados\")\n",
    "plt.legend()\n",
    "ax = plt.gca()"
   ]
  },
  {
   "cell_type": "code",
   "execution_count": 164,
   "metadata": {
    "deletable": false,
    "editable": false,
    "nbgrader": {
     "cell_type": "code",
     "checksum": "5a3806381711df7566bcb0c4eb5334ea",
     "grade": true,
     "grade_id": "cell-be66eab0f2e662f3",
     "locked": true,
     "points": 1,
     "schema_version": 3,
     "solution": false,
     "task": false
    }
   },
   "outputs": [],
   "source": [
    "assert len(ax.lines) == 3\n",
    "assert len(ax.legend().texts) == 3\n",
    "\n",
    "for l in ax.lines:\n",
    "    xgraph = l.get_xdata()\n",
    "    assert min(xgraph) == 0\n",
    "    assert max(xgraph) == 2*np.pi"
   ]
  },
  {
   "cell_type": "markdown",
   "metadata": {},
   "source": [
    "O que você observa neste gráfico?"
   ]
  },
  {
   "cell_type": "markdown",
   "metadata": {
    "deletable": false,
    "nbgrader": {
     "cell_type": "markdown",
     "checksum": "433a2366087dc6515af6a192b694b466",
     "grade": true,
     "grade_id": "cell-f0e6924e2d4d1f71",
     "locked": false,
     "points": 2,
     "schema_version": 3,
     "solution": true,
     "task": false
    }
   },
   "source": [
    "O interpolador ficou bem aproximado dos dados, sem erros tão grandes."
   ]
  },
  {
   "cell_type": "code",
   "execution_count": 165,
   "metadata": {
    "deletable": false,
    "editable": false,
    "nbgrader": {
     "cell_type": "code",
     "checksum": "280a23a708427247a96938e6a6aaff82",
     "grade": false,
     "grade_id": "cell-8d6d2def68410ac0",
     "locked": true,
     "schema_version": 3,
     "solution": false,
     "task": false
    }
   },
   "outputs": [],
   "source": [
    "ax = None"
   ]
  },
  {
   "cell_type": "markdown",
   "metadata": {},
   "source": [
    "Faça, agora, um gráfico do valor absoluto (\"amplitude\") dos coeficientes de cada função."
   ]
  },
  {
   "cell_type": "code",
   "execution_count": 166,
   "metadata": {
    "deletable": false,
    "nbgrader": {
     "cell_type": "code",
     "checksum": "511abf2bd82e88a13c61e2527f15d410",
     "grade": false,
     "grade_id": "cell-addded500673bfd2",
     "locked": false,
     "schema_version": 3,
     "solution": true,
     "task": false
    }
   },
   "outputs": [
    {
     "data": {
      "image/png": "[encoded data removed]",
      "text/plain": [
       "<Figure size 432x288 with 1 Axes>"
      ]
     },
     "metadata": {
      "needs_background": "light"
     },
     "output_type": "display_data"
    }
   ],
   "source": [
    "\n",
    "m = model_M(xs, fs)\n",
    "coefs =  np.linalg.solve(m, ys2)\n",
    "plt.semilogy(range(len(coefs)), abs(coefs))\n",
    "plt.xticks(np.arange(0,19,2))\n",
    "ax = plt.gca()"
   ]
  },
  {
   "cell_type": "markdown",
   "metadata": {},
   "source": [
    "O que você percebe?"
   ]
  },
  {
   "cell_type": "markdown",
   "metadata": {
    "deletable": false,
    "nbgrader": {
     "cell_type": "markdown",
     "checksum": "246e55237edf6c1568da1238d670ff7a",
     "grade": true,
     "grade_id": "cell-f20c663cfd20db20",
     "locked": false,
     "points": 1,
     "schema_version": 3,
     "solution": true,
     "task": false
    }
   },
   "source": [
    "Os módulos no geral são bem grandes, exceto dois que estão próximos de 1. "
   ]
  },
  {
   "cell_type": "markdown",
   "metadata": {},
   "source": [
    "Quais as funções que correspondem às maiores amplitudes?"
   ]
  },
  {
   "cell_type": "code",
   "execution_count": 167,
   "metadata": {
    "deletable": false,
    "nbgrader": {
     "cell_type": "code",
     "checksum": "0ff3468607ec1fc37334959dee21e2a4",
     "grade": true,
     "grade_id": "cell-115822e4f098779a",
     "locked": false,
     "points": 2,
     "schema_version": 3,
     "solution": true,
     "task": false
    }
   },
   "outputs": [
    {
     "data": {
      "image/png": "[encoded data removed]",
      "text/plain": [
       "<Figure size 432x288 with 1 Axes>"
      ]
     },
     "metadata": {
      "needs_background": "light"
     },
     "output_type": "display_data"
    }
   ],
   "source": [
    "index = [1,3,8,11,13]\n",
    "fs2 = []\n",
    "N = 20\n",
    "for i in range(N):\n",
    "    if i%2:\n",
    "        fs2.append(make_sin(i+2))\n",
    "    else:\n",
    "        fs2.append(make_cos(i+3))\n",
    "def f(x):\n",
    "    if x%2:\n",
    "        return f\"sin({x+2}x)\"\n",
    "    else: \n",
    "        return f\"cos({x+3}x)\"\n",
    "xs = np.linspace(0, np.pi/2, 100)\n",
    "for i in index:\n",
    "    plt.plot(xs, fs[i](xs), label=f\"{i}: {f(i)}\")\n",
    "\n",
    "plt.legend();"
   ]
  },
  {
   "cell_type": "markdown",
   "metadata": {},
   "source": [
    "## Questão 4: Coeficientes principais\n",
    "\n",
    "Agora que vimos que algumas funções parecem mais importantes do que outras,\n",
    "selecione apenas as que correspondem aos 3 maiores coeficientes,\n",
    "e **recalcule** o ajuste, usando apenas estas três.\n",
    "Você terá uma regressão, já que temos menos funções na base do que pontos (\"dados\")."
   ]
  },
  {
   "cell_type": "code",
   "execution_count": 168,
   "metadata": {
    "deletable": false,
    "nbgrader": {
     "cell_type": "code",
     "checksum": "364c1fc685d773917406e1fa2bedffbc",
     "grade": false,
     "grade_id": "cell-89ec447bdaeaff60",
     "locked": false,
     "schema_version": 3,
     "solution": true,
     "task": false
    }
   },
   "outputs": [
    {
     "data": {
      "text/plain": [
       "[<matplotlib.lines.Line2D at 0x2af509a37b8>]"
      ]
     },
     "execution_count": 168,
     "metadata": {},
     "output_type": "execute_result"
    },
    {
     "data": {
      "image/png": "[encoded data removed]",
      "text/plain": [
       "<Figure size 432x288 with 1 Axes>"
      ]
     },
     "metadata": {
      "needs_background": "light"
     },
     "output_type": "display_data"
    }
   ],
   "source": [
    " def F3(x):\n",
    "    \n",
    "    xs = np.linspace(0,2*np.pi, 19)\n",
    "    ys = func(xs)\n",
    "    np.random.seed(2)\n",
    "    errs = np.random.normal(scale=0.5,size=N)\n",
    "    ys += errs\n",
    "\n",
    "    fs = []\n",
    "    index = [1,11,13]\n",
    "    for i in index:\n",
    "        if i%2:\n",
    "            fs.append(make_sin(i+2))\n",
    "        else:\n",
    "            fs.append(make_cos(i+3))\n",
    "    coefs = model_par(xs,ys,fs)\n",
    "    def pol(x):\n",
    "        poli = []\n",
    "        ind = 0\n",
    "        for i in coefs:\n",
    "            poli.append(i*fs[ind](x))\n",
    "            ind +=1\n",
    "        return np.sum(poli)\n",
    "    pol = np.vectorize(pol)\n",
    "    return pol(x)\n",
    "a = 0\n",
    "b = 2*np.pi\n",
    "N = 19\n",
    "xs = np.linspace(a,b,N)\n",
    "plt.plot(xs, F3(xs))\n",
    "plt.plot(xs, ys)"
   ]
  },
  {
   "cell_type": "code",
   "execution_count": 169,
   "metadata": {
    "deletable": false,
    "editable": false,
    "nbgrader": {
     "cell_type": "code",
     "checksum": "7344ad062ff365d8dc6364e900967da2",
     "grade": true,
     "grade_id": "cell-e8e6f08a1715a154",
     "locked": true,
     "points": 1,
     "schema_version": 3,
     "solution": false,
     "task": false
    }
   },
   "outputs": [
    {
     "ename": "AssertionError",
     "evalue": "0.0",
     "output_type": "error",
     "traceback": [
      "\u001b[1;31m---------------------------------------------------------------------------\u001b[0m",
      "\u001b[1;31mAssertionError\u001b[0m                            Traceback (most recent call last)",
      "\u001b[1;32m<ipython-input-169-43054fbf0f4d>\u001b[0m in \u001b[0;36m<module>\u001b[1;34m\u001b[0m\n\u001b[1;32m----> 1\u001b[1;33m \u001b[1;32massert\u001b[0m \u001b[0mnp\u001b[0m\u001b[1;33m.\u001b[0m\u001b[0misclose\u001b[0m\u001b[1;33m(\u001b[0m\u001b[0mF3\u001b[0m\u001b[1;33m(\u001b[0m\u001b[1;36m0\u001b[0m\u001b[1;33m)\u001b[0m\u001b[1;33m,\u001b[0m \u001b[1;33m-\u001b[0m\u001b[1;36m1.1243170678683723\u001b[0m\u001b[1;33m)\u001b[0m\u001b[1;33m,\u001b[0m \u001b[1;33m(\u001b[0m\u001b[0mF3\u001b[0m\u001b[1;33m(\u001b[0m\u001b[1;36m0\u001b[0m\u001b[1;33m)\u001b[0m\u001b[1;33m)\u001b[0m\u001b[1;33m\u001b[0m\u001b[1;33m\u001b[0m\u001b[0m\n\u001b[0m",
      "\u001b[1;31mAssertionError\u001b[0m: 0.0"
     ]
    }
   ],
   "source": [
    "assert np.isclose(F3(0), -1.1243170678683723), (F3(0))"
   ]
  },
  {
   "cell_type": "code",
   "execution_count": 170,
   "metadata": {
    "deletable": false,
    "editable": false,
    "nbgrader": {
     "cell_type": "code",
     "checksum": "bfce6db8f0fa2eb6363a7de367b38b72",
     "grade": true,
     "grade_id": "cell-5dca451cbd412e62",
     "locked": true,
     "points": 1,
     "schema_version": 3,
     "solution": false,
     "task": false
    }
   },
   "outputs": [
    {
     "ename": "AssertionError",
     "evalue": "",
     "output_type": "error",
     "traceback": [
      "\u001b[1;31m---------------------------------------------------------------------------\u001b[0m",
      "\u001b[1;31mAssertionError\u001b[0m                            Traceback (most recent call last)",
      "\u001b[1;32m<ipython-input-170-26f0587d2ea4>\u001b[0m in \u001b[0;36m<module>\u001b[1;34m\u001b[0m\n\u001b[1;32m----> 1\u001b[1;33m \u001b[1;32massert\u001b[0m \u001b[0mnp\u001b[0m\u001b[1;33m.\u001b[0m\u001b[0misclose\u001b[0m\u001b[1;33m(\u001b[0m\u001b[0mF3\u001b[0m\u001b[1;33m(\u001b[0m\u001b[0mnp\u001b[0m\u001b[1;33m.\u001b[0m\u001b[0mpi\u001b[0m\u001b[1;33m/\u001b[0m\u001b[1;36m2\u001b[0m\u001b[1;33m)\u001b[0m\u001b[1;33m,\u001b[0m \u001b[1;33m-\u001b[0m\u001b[1;36m0.37679705173515127\u001b[0m\u001b[1;33m)\u001b[0m\u001b[1;33m\u001b[0m\u001b[1;33m\u001b[0m\u001b[0m\n\u001b[0m",
      "\u001b[1;31mAssertionError\u001b[0m: "
     ]
    }
   ],
   "source": [
    "assert np.isclose(F3(np.pi/2), -0.37679705173515127)"
   ]
  },
  {
   "cell_type": "markdown",
   "metadata": {},
   "source": [
    "Faça o gráfico da função correspondente aos 3 maiores coeficientes da interpolação,\n",
    "e compare com a função original `func` e sua interpolação."
   ]
  },
  {
   "cell_type": "code",
   "execution_count": null,
   "metadata": {
    "deletable": false,
    "nbgrader": {
     "cell_type": "code",
     "checksum": "e8d1116c790b8030db550c0a56d60185",
     "grade": false,
     "grade_id": "cell-676a578eafb4acd5",
     "locked": false,
     "schema_version": 3,
     "solution": true,
     "task": false
    }
   },
   "outputs": [],
   "source": [
    "plt.figure(figsize=(10,6))\n",
    "\n",
    "# YOUR CODE HERE\n",
    "raise NotImplementedError()\n",
    "\n",
    "ax=plt.gca()"
   ]
  },
  {
   "cell_type": "code",
   "execution_count": null,
   "metadata": {
    "deletable": false,
    "editable": false,
    "nbgrader": {
     "cell_type": "code",
     "checksum": "3738ae77e63212d300338f2fc7622b80",
     "grade": true,
     "grade_id": "cell-ec04d3628246feec",
     "locked": true,
     "points": 1,
     "schema_version": 3,
     "solution": false,
     "task": false
    }
   },
   "outputs": [],
   "source": [
    "assert len(ax.lines) == 3\n",
    "assert len(ax.legend().texts) == 3"
   ]
  },
  {
   "cell_type": "code",
   "execution_count": null,
   "metadata": {
    "deletable": false,
    "editable": false,
    "nbgrader": {
     "cell_type": "code",
     "checksum": "f098751500023f83e0ddb78161effe1f",
     "grade": false,
     "grade_id": "cell-83d9f427f9721fdc",
     "locked": true,
     "schema_version": 3,
     "solution": false,
     "task": false
    }
   },
   "outputs": [],
   "source": [
    "ax = None"
   ]
  },
  {
   "cell_type": "markdown",
   "metadata": {},
   "source": [
    "Qual ajuste parece melhor?  Porquê?"
   ]
  },
  {
   "cell_type": "markdown",
   "metadata": {
    "deletable": false,
    "nbgrader": {
     "cell_type": "markdown",
     "checksum": "c028d7975c75d63953cca7c33a5b773f",
     "grade": true,
     "grade_id": "cell-cb4cb5e0069913b0",
     "locked": false,
     "points": 1,
     "schema_version": 3,
     "solution": true,
     "task": false
    }
   },
   "source": [
    "YOUR ANSWER HERE"
   ]
  },
  {
   "cell_type": "markdown",
   "metadata": {},
   "source": [
    "## Questão 5: Erros\n",
    "\n",
    "Para observar como o erro evolui ao incluirmos mais pontos,\n",
    "vamos recalcular o ajuste para todos os valores de $n$, de 1 a 19,\n",
    "e observar o erro quadrático médio no intervalo (refinado!).\n",
    "\n",
    "Ao recalcular, escolha as funções em ordem decrescente\n",
    "do valor absoluto do coeficiente encontrado pela interpolação.\n",
    "\n",
    "Para auxiliar, construa a função `best_reg(fs,xs,ys,n)`,\n",
    "que retorna a função dada pela regressão usando as $n$ funções com os maiores coeficientes.\n",
    "(Para evitar variáveis globais, você pode primeiro calcular a interpolação,\n",
    "para descobrir os maiores coeficientes, e daí escolher as funções para a regressão\n",
    "e calcular de novo)"
   ]
  },
  {
   "cell_type": "code",
   "execution_count": null,
   "metadata": {
    "deletable": false,
    "nbgrader": {
     "cell_type": "code",
     "checksum": "c8c7d8023dc397cc83bd62411c4b661c",
     "grade": false,
     "grade_id": "cell-566afbe3ba1ab4cb",
     "locked": false,
     "schema_version": 3,
     "solution": true,
     "task": false
    }
   },
   "outputs": [],
   "source": [
    "def best_reg(fs, xs, ys, n):\n",
    "    \"\"\"Melhor regressor a partir da base `fs`, baseado nos $n$ maiores coeficientes da interpolação.\"\"\"\n",
    "    # YOUR CODE HERE\n",
    "    raise NotImplementedError()"
   ]
  },
  {
   "cell_type": "code",
   "execution_count": null,
   "metadata": {
    "deletable": false,
    "editable": false,
    "nbgrader": {
     "cell_type": "code",
     "checksum": "d612b079c554feb1644bf8cd73c6cd83",
     "grade": true,
     "grade_id": "cell-eee56e18b3b2b44e",
     "locked": true,
     "points": 1,
     "schema_version": 3,
     "solution": false,
     "task": false
    }
   },
   "outputs": [],
   "source": [
    "F1 = best_reg(fs, xs, ys, n=1)\n",
    "assert np.abs(F1(2) + 1) < 0.1"
   ]
  },
  {
   "cell_type": "code",
   "execution_count": null,
   "metadata": {
    "deletable": false,
    "editable": false,
    "nbgrader": {
     "cell_type": "code",
     "checksum": "8e2de0526ae9b1622209b272fccc45a4",
     "grade": true,
     "grade_id": "cell-ec54e37fa4a09fcb",
     "locked": true,
     "points": 1,
     "schema_version": 3,
     "solution": false,
     "task": false
    }
   },
   "outputs": [],
   "source": [
    "F10 = best_reg(fs, xs, ys, n=10)\n",
    "assert F10(1) > 2"
   ]
  },
  {
   "cell_type": "code",
   "execution_count": null,
   "metadata": {
    "deletable": false,
    "editable": false,
    "nbgrader": {
     "cell_type": "code",
     "checksum": "5b31f8c6304398a3f81e8ec1430bd96e",
     "grade": true,
     "grade_id": "cell-4c4f844dcfd72e79",
     "locked": true,
     "points": 1,
     "schema_version": 3,
     "solution": false,
     "task": false
    }
   },
   "outputs": [],
   "source": [
    "F2 = best_reg(fs, xs, ys, n=2)\n",
    "assert np.isclose(F2(2), -1.732407192511482)"
   ]
  },
  {
   "cell_type": "code",
   "execution_count": null,
   "metadata": {
    "deletable": false,
    "editable": false,
    "nbgrader": {
     "cell_type": "code",
     "checksum": "9ae28b9748ea2b0d38cc1ff306c4ba7a",
     "grade": false,
     "grade_id": "cell-d755c232c7d96a9f",
     "locked": true,
     "schema_version": 3,
     "solution": false,
     "task": false
    }
   },
   "outputs": [],
   "source": [
    "def midpoint(f,a,b,n=100):\n",
    "    ts,h = np.linspace(a,b,n, endpoint=False, retstep=True)\n",
    "    mids = ts+h/2\n",
    "    return np.sum(f(mids)) * h\n",
    "\n",
    "def regress_err_quad(ftrue, fs,xs,ys,n, a,b,num_div=100):\n",
    "    \"\"\"Calcula o erro quadrático médio, no intervalo [a,b], entre\n",
    "    `ftrue` e a regressão dos dados (xs,ys) nas n melhors funções da base `fs`.\"\"\"\n",
    "    F = best_reg(fs,xs,ys,n)\n",
    "    def err(x):\n",
    "        return (ftrue(x) - F(x))**2\n",
    "    return midpoint(err,a,b,n=num_div)"
   ]
  },
  {
   "cell_type": "markdown",
   "metadata": {},
   "source": [
    "Agora, faça o gráfico do erro quadrático médio,\n",
    "em função do número de funções na base."
   ]
  },
  {
   "cell_type": "code",
   "execution_count": null,
   "metadata": {
    "deletable": false,
    "nbgrader": {
     "cell_type": "code",
     "checksum": "1b25eb135a37eb11415a6fa960f7de27",
     "grade": true,
     "grade_id": "cell-cf156d4b4d79444e",
     "locked": false,
     "points": 2,
     "schema_version": 3,
     "solution": true,
     "task": false
    }
   },
   "outputs": [],
   "source": [
    "regress_errs_quad = []\n",
    "ns = np.arange(1,20)\n",
    "\n",
    "# YOUR CODE HERE\n",
    "raise NotImplementedError()\n",
    "\n",
    "plt.xticks(np.arange(1,20,3))\n",
    "plt.grid()\n",
    "ax = plt.gca()"
   ]
  },
  {
   "cell_type": "markdown",
   "metadata": {},
   "source": [
    "O que você percebe?"
   ]
  },
  {
   "cell_type": "markdown",
   "metadata": {
    "deletable": false,
    "nbgrader": {
     "cell_type": "markdown",
     "checksum": "27bb3dfa63456b6e205639020b8d33e0",
     "grade": true,
     "grade_id": "cell-dd48e4c9516b7996",
     "locked": false,
     "points": 1,
     "schema_version": 3,
     "solution": true,
     "task": false
    }
   },
   "source": [
    "YOUR ANSWER HERE"
   ]
  }
 ],
 "metadata": {
  "kernelspec": {
   "display_name": "Python 3",
   "language": "python",
   "name": "python3"
  },
  "language_info": {
   "codemirror_mode": {
    "name": "ipython",
    "version": 3
   },
   "file_extension": ".py",
   "mimetype": "text/x-python",
   "name": "python",
   "nbconvert_exporter": "python",
   "pygments_lexer": "ipython3",
   "version": "3.7.3"
  },
  "metadata": {
   "interpreter": {
    "hash": "aa8e4de9f4426ab75fdef01f3d7947e2b3e9cfbdb80ba65115d4f20988c8517e"
   }
  }
 },
 "nbformat": 4,
 "nbformat_minor": 4
}
