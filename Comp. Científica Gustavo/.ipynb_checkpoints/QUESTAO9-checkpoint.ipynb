{
 "cells": [
  {
   "cell_type": "markdown",
   "metadata": {},
   "source": [
    "![CC-BY-SA](https://mirrors.creativecommons.org/presskit/buttons/88x31/svg/by-sa.svg)\n",
    "\n",
    "\n",
    "This notebook was created by [Bernardo Freitas Paulo da Costa](http://www.im.ufrj.br/bernardofpc),\n",
    "and is licensed under Creative Commons BY-SA."
   ]
  },
  {
   "cell_type": "markdown",
   "metadata": {},
   "source": [
    "Antes de enviar este Teste, verifique que tudo está funcionando como esperado.\n",
    "Por exemplo, **rode o código inteiro, do zero**.\n",
    "Para isso, vá no menu, escolha _Kernel_, depois _Restart & Run All_.\n",
    "\n",
    "Verifique, também, que você respondeu todas as questões:\n",
    "* as questões de código têm `YOUR CODE HERE` (e você pode apagar o `raise NotImplemented` ao incluir sua resposta)\n",
    "* as questões discursivas têm \"YOUR ANSWER HERE\"."
   ]
  },
  {
   "cell_type": "markdown",
   "metadata": {},
   "source": [
    "---"
   ]
  },
  {
   "cell_type": "code",
   "execution_count": 1,
   "metadata": {},
   "outputs": [],
   "source": [
    "import numpy as np\n",
    "import matplotlib.pyplot as plt"
   ]
  },
  {
   "cell_type": "code",
   "execution_count": 2,
   "metadata": {},
   "outputs": [],
   "source": [
    "from itertools import combinations"
   ]
  },
  {
   "cell_type": "markdown",
   "metadata": {},
   "source": [
    "# Interpolação em pontos diferentes\n",
    "\n",
    "Vamos continuar observando a interpolação de Lagrange.\n",
    "Agora, vamos escolher pontos que não são uniformemente espaçados nos intervalos."
   ]
  },
  {
   "cell_type": "code",
   "execution_count": 3,
   "metadata": {
    "deletable": false,
    "nbgrader": {
     "cell_type": "code",
     "checksum": "3f5371920dd909a70f7698aa1adc1111",
     "grade": false,
     "grade_id": "cell-c706d1ad462d25b8",
     "locked": false,
     "schema_version": 3,
     "solution": true,
     "task": false
    }
   },
   "outputs": [],
   "source": [
    "def lagrange_coefs(xs,ys):\n",
    "    \"\"\" \n",
    "    Coeficientes (em ordem crescente) do polinômio interpolador dos pontos (x_i, y_i).\n",
    "    \"\"\"\n",
    "    assert(len(xs) == len(ys))\n",
    "    M = np.vander(xs, len(xs))\n",
    "    inv_M = np.linalg.inv(M)\n",
    "    Coef_cresc = np.flip(np.matmul(inv_M, ys))\n",
    "    return Coef_cresc\n",
    "\n",
    "def lagrange(xs,ys):\n",
    "    \"\"\" \n",
    "    Retorna uma função que calcula polinômio interpolador de Lagrange dos pontos (x_i, y_i). \n",
    "    \"\"\"\n",
    "    Coef_cresc = lagrange_coefs(xs, ys)\n",
    "    def f(x): return sum([c*(x**i) for i, c in enumerate(Coef_cresc)])\n",
    "    return f"
   ]
  },
  {
   "cell_type": "markdown",
   "metadata": {},
   "source": [
    "# Parte 1: Escolhendo três pontos para interpolar\n",
    "\n",
    "Vamos usar 11 pontos no intervalo $[-1,1]$, e ver qual escolha de pontos dá o menor erro de interpolação."
   ]
  },
  {
   "cell_type": "markdown",
   "metadata": {},
   "source": [
    "## Questão 1: Medindo o máximo do erro\n",
    "\n",
    "Para observar o erro entre $f$ e o (um) polinômio interpolador $P_f$, precisamos de uma função para medir o erro.\n",
    "Vamos usar o máximo do erro no intervalo $[a,b]$.\n",
    "Aqui, novamente, vamos usar os \"pontos médios\" de uma subdivisão,\n",
    "para evitar privilegiar os extremos do intervalo."
   ]
  },
  {
   "cell_type": "code",
   "execution_count": 4,
   "metadata": {
    "deletable": false,
    "nbgrader": {
     "cell_type": "code",
     "checksum": "77194d47a5b399fdd49f83d9c39c4220",
     "grade": false,
     "grade_id": "cell-2d60ad4002a4ba00",
     "locked": false,
     "schema_version": 3,
     "solution": true,
     "task": false
    }
   },
   "outputs": [],
   "source": [
    "def maxerr(f, P, a, b, n=100):\n",
    "    xs, h = np.linspace(a, b, num=n, endpoint=False, retstep=True)\n",
    "    l = abs(f(xs+h/2)-P(xs+h/2))\n",
    "    return max(l)"
   ]
  },
  {
   "cell_type": "code",
   "execution_count": 5,
   "metadata": {
    "deletable": false,
    "editable": false,
    "nbgrader": {
     "cell_type": "code",
     "checksum": "87c128cc9d648bdbb1dbb0abb122fa81",
     "grade": true,
     "grade_id": "cell-d1ebcf4b35edf552",
     "locked": true,
     "points": 1,
     "schema_version": 3,
     "solution": false,
     "task": false
    }
   },
   "outputs": [],
   "source": [
    "assert maxerr(np.sin, np.cos, 0, np.pi) > 1.41"
   ]
  },
  {
   "cell_type": "code",
   "execution_count": 6,
   "metadata": {
    "deletable": false,
    "editable": false,
    "nbgrader": {
     "cell_type": "code",
     "checksum": "e2d97c50c8d2db069af32810ff6c7f72",
     "grade": true,
     "grade_id": "cell-540b328661601784",
     "locked": true,
     "points": 1,
     "schema_version": 3,
     "solution": false,
     "task": false
    }
   },
   "outputs": [],
   "source": [
    "assert maxerr(np.sin, np.cos, 16, 17, n=300) < 0.7"
   ]
  },
  {
   "cell_type": "markdown",
   "metadata": {},
   "source": [
    "## Questão 2: Variando os pontos\n",
    "\n",
    "Considere os 11 pontos abaixo.\n",
    "Para todas as $\\binom{11}{3} = 165$ escolhas possíveis de 3 pontos,\n",
    "calcule o máximo do erro de interpolação (no intervalo $[-1,1]$)\n",
    "entre o polinômio e a função `np.exp`."
   ]
  },
  {
   "cell_type": "code",
   "execution_count": 7,
   "metadata": {
    "deletable": false,
    "nbgrader": {
     "cell_type": "code",
     "checksum": "77609540a8957f4aa8c9ceead4e767a8",
     "grade": true,
     "grade_id": "cell-4f250181db6daaf5",
     "locked": false,
     "points": 2,
     "schema_version": 3,
     "solution": true,
     "task": false
    }
   },
   "outputs": [],
   "source": [
    "ts = np.linspace(-1,1,11)\n",
    "errs_max = []\n",
    "combinations_list = []\n",
    "\n",
    "for xs in combinations(ts, 3):\n",
    "    P = lagrange(xs, np.exp(xs))\n",
    "    err = maxerr(np.exp, P, -1, 1)\n",
    "    errs_max.append(err)\n",
    "    combinations_list.append(xs)"
   ]
  },
  {
   "cell_type": "markdown",
   "metadata": {},
   "source": [
    "Abaixo, vamos ver como ficam os erros, tanto em escala natural como em escala log."
   ]
  },
  {
   "cell_type": "code",
   "execution_count": 8,
   "metadata": {
    "deletable": false,
    "editable": false,
    "nbgrader": {
     "cell_type": "code",
     "checksum": "42e1e873609a1a3412d43745b6c773fb",
     "grade": false,
     "grade_id": "cell-4e11008aaabaeb27",
     "locked": true,
     "schema_version": 3,
     "solution": false,
     "task": false
    }
   },
   "outputs": [],
   "source": [
    "def histogramas(errs):\n",
    "    fig, (ax1, ax2) = plt.subplots(ncols=2, figsize=(13,4))\n",
    "    ax1.hist(errs, bins=20)\n",
    "    ax2.hist(np.log2(errs), bins=20)\n",
    "\n",
    "    ax1.set_title(\"Distribuição dos erros\")\n",
    "    ax1.set_xlabel(\"Erro\")\n",
    "    ax2.set_title(\"Distribuição dos erros\")\n",
    "    ax2.set_xlabel(\"Log em base 2 do erro\")"
   ]
  },
  {
   "cell_type": "code",
   "execution_count": 9,
   "metadata": {
    "deletable": false,
    "editable": false,
    "nbgrader": {
     "cell_type": "code",
     "checksum": "897a8c7b024343be6721301fce6d901e",
     "grade": false,
     "grade_id": "cell-0e584cec87899f28",
     "locked": true,
     "schema_version": 3,
     "solution": false,
     "task": false
    }
   },
   "outputs": [
    {
     "data": {
      "image/png": "[encoded data removed]",
      "text/plain": [
       "<Figure size 936x288 with 2 Axes>"
      ]
     },
     "metadata": {
      "needs_background": "light"
     },
     "output_type": "display_data"
    }
   ],
   "source": [
    "histogramas(errs_max)"
   ]
  },
  {
   "cell_type": "markdown",
   "metadata": {},
   "source": [
    "O que você percebe quanto à distribuição dos erros?"
   ]
  },
  {
   "cell_type": "markdown",
   "metadata": {
    "deletable": false,
    "nbgrader": {
     "cell_type": "markdown",
     "checksum": "7523739e4e2d25e036750ce556288607",
     "grade": true,
     "grade_id": "cell-caca0bbed48c107d",
     "locked": false,
     "points": 2,
     "schema_version": 3,
     "solution": true,
     "task": false
    }
   },
   "source": [
    "Percebe-se que os erros estão concentrados na faixa de ordem $x = [2^{-3}, 2^{-1}]$, perto de $2^{-2}$ temos o valor mais frequente. E também, que os erros menores chegam próximo $2^{-4}= 0.125$ enquanto os maiores, são perto de 1.4. "
   ]
  },
  {
   "cell_type": "markdown",
   "metadata": {},
   "source": [
    "Qual a combinação de pontos teve o maior erro? E qual teve o menor erro?\n",
    "\n",
    "Dica: Você pode usar as funções `np.argmax()`, `np.argmin()`."
   ]
  },
  {
   "cell_type": "code",
   "execution_count": 10,
   "metadata": {
    "deletable": false,
    "nbgrader": {
     "cell_type": "code",
     "checksum": "2081dccc999548da3a2d8a631b586884",
     "grade": true,
     "grade_id": "cell-a60cf8dfb94f60ef",
     "locked": false,
     "points": 2,
     "schema_version": 3,
     "solution": true,
     "task": false
    }
   },
   "outputs": [
    {
     "name": "stdout",
     "output_type": "stream",
     "text": [
      "Maior erro: (0.6000000000000001, 0.8, 1.0)\n",
      "Menor erro: (-0.8, 0.20000000000000018, 0.8)\n"
     ]
    }
   ],
   "source": [
    "max_ = combinations_list[np.argmax(errs_max)]\n",
    "min_ = combinations_list[np.argmin(errs_max)]\n",
    "print(f\"Maior erro: {max_}\")\n",
    "print(f\"Menor erro: {min_}\")"
   ]
  },
  {
   "cell_type": "markdown",
   "metadata": {},
   "source": [
    "Faça o gráfico dos dois polinômios interpoladores correspondentes,\n",
    "sobrepostos ao gráfico da função exponencial."
   ]
  },
  {
   "cell_type": "code",
   "execution_count": 11,
   "metadata": {
    "deletable": false,
    "nbgrader": {
     "cell_type": "code",
     "checksum": "5287de41e4d3d6b0c59e80ac2838effd",
     "grade": true,
     "grade_id": "cell-e6e8b1bda846615a",
     "locked": false,
     "points": 1,
     "schema_version": 3,
     "solution": true,
     "task": false
    }
   },
   "outputs": [
    {
     "data": {
      "image/png": "[encoded data removed]",
      "text/plain": [
       "<Figure size 432x288 with 1 Axes>"
      ]
     },
     "metadata": {
      "needs_background": "light"
     },
     "output_type": "display_data"
    }
   ],
   "source": [
    "P_max = lagrange(max_, np.exp(max_))\n",
    "P_min = lagrange(min_, np.exp(min_))\n",
    "plt.plot(ts, np.exp(ts), label=\"Função exponencial\")\n",
    "plt.plot(ts, P_max(ts), label=\"Polinômio maior erro\")\n",
    "plt.plot(ts, P_min(ts), label=\"Polinômio menor erro\")\n",
    "plt.legend()\n",
    "plt.grid()\n",
    "\n",
    "ax = plt.gca()"
   ]
  },
  {
   "cell_type": "code",
   "execution_count": 12,
   "metadata": {
    "deletable": false,
    "editable": false,
    "nbgrader": {
     "cell_type": "code",
     "checksum": "211b32b66f98aa0a9d3cf3ea1f6ce1d6",
     "grade": true,
     "grade_id": "cell-7ca442f203faa0d8",
     "locked": true,
     "points": 1,
     "schema_version": 3,
     "solution": false,
     "task": false
    }
   },
   "outputs": [],
   "source": [
    "assert len(ax.lines) == 3\n",
    "assert len(ax.legend().texts) == 3"
   ]
  },
  {
   "cell_type": "markdown",
   "metadata": {},
   "source": [
    "Comente, por exemplo:\n",
    "- O comportamento destas curvas é esperado, dados os pontos usados para interpolação?\n",
    "- Quão grandes estão os erros?"
   ]
  },
  {
   "cell_type": "markdown",
   "metadata": {
    "deletable": false,
    "nbgrader": {
     "cell_type": "markdown",
     "checksum": "8bc51430f947c34467f7325d9becfe2e",
     "grade": true,
     "grade_id": "cell-a010bbf5a478fde2",
     "locked": false,
     "points": 2,
     "schema_version": 3,
     "solution": true,
     "task": false
    }
   },
   "source": [
    "Sim, pois utilizando pontos muito próximos(logo, pegando característica apenas de parte da curva), é esperado que a curva não se aproxime corretamente na parte em que não foram pegado os pontos. Desse modo, o polinômio com maior erro, que tem coeficientes todos acima de 0.5, acaba errando muito na interpolação do lado negativo do intervalo. Enquanto que o polinômio com menor erro, possui pontos espaçados mais igualmente e consegue se aproximar melhor da função exponencial em todo o intervalo. "
   ]
  },
  {
   "cell_type": "markdown",
   "metadata": {},
   "source": [
    "## Questão 3: Pontos uniformemente espaçados\n",
    "\n",
    "Para comparar com o polinômio obtido por pontos igualmente espaçados,\n",
    "modifique a função `histogramas` para receber outro argumento,\n",
    "e traçar uma linha vertical na posição correspondente\n",
    "(nos dois eixos!)."
   ]
  },
  {
   "cell_type": "code",
   "execution_count": 13,
   "metadata": {
    "deletable": false,
    "nbgrader": {
     "cell_type": "code",
     "checksum": "227d1c55389bc4a47415ed10449b692e",
     "grade": true,
     "grade_id": "cell-abd2e4b7210dc5ca",
     "locked": false,
     "points": 1,
     "schema_version": 3,
     "solution": true,
     "task": false
    }
   },
   "outputs": [],
   "source": [
    "def histogramas(errs, y_destaque):\n",
    "    fig, (ax1, ax2) = plt.subplots(ncols=2, figsize=(13,4))\n",
    "    ax1.hist(errs, bins=20)\n",
    "    ax2.hist(np.log2(errs), bins=20)\n",
    "\n",
    "    ax1.set_title(\"Distribuição dos erros\")\n",
    "    ax1.set_xlabel(\"Erro\")\n",
    "    ax1.axvline(y_destaque, color=\"black\")\n",
    "    ax2.set_title(\"Distribuição dos erros\")\n",
    "    ax2.set_xlabel(\"Log em base 2 do erro\")\n",
    "    ax2.axvline(np.log2(y_destaque), color=\"black\")"
   ]
  },
  {
   "cell_type": "markdown",
   "metadata": {},
   "source": [
    "Agora, calcule o erro máximo cometido pelo polinômio interpolador com 3 pontos igualmente espaçados em $[-1,1]$:"
   ]
  },
  {
   "cell_type": "code",
   "execution_count": 14,
   "metadata": {
    "deletable": false,
    "nbgrader": {
     "cell_type": "code",
     "checksum": "c74c411632b4664f3d887676edda38aa",
     "grade": true,
     "grade_id": "cell-08ef1b4c9daeb61d",
     "locked": false,
     "points": 1,
     "schema_version": 3,
     "solution": true,
     "task": false
    }
   },
   "outputs": [],
   "source": [
    "ts2 = np.linspace(-1,1,3)\n",
    "P = lagrange(ts2, np.exp(ts2))\n",
    "err_unif = maxerr(np.exp, P, -1, 1)"
   ]
  },
  {
   "cell_type": "code",
   "execution_count": 15,
   "metadata": {
    "deletable": false,
    "editable": false,
    "nbgrader": {
     "cell_type": "code",
     "checksum": "4974d1984e6b80fed4d6631481cf6a9b",
     "grade": false,
     "grade_id": "cell-78dcfb936d152bc8",
     "locked": true,
     "schema_version": 3,
     "solution": false,
     "task": false
    }
   },
   "outputs": [
    {
     "data": {
      "image/png": "[encoded data removed]",
      "text/plain": [
       "<Figure size 936x288 with 2 Axes>"
      ]
     },
     "metadata": {
      "needs_background": "light"
     },
     "output_type": "display_data"
    }
   ],
   "source": [
    "histogramas(errs_max, err_unif)"
   ]
  },
  {
   "cell_type": "markdown",
   "metadata": {},
   "source": [
    "Comente."
   ]
  },
  {
   "cell_type": "markdown",
   "metadata": {
    "deletable": false,
    "nbgrader": {
     "cell_type": "markdown",
     "checksum": "029223f3f2710810f8be8bfb762fd49a",
     "grade": true,
     "grade_id": "cell-e7b48c534994c65e",
     "locked": false,
     "points": 2,
     "schema_version": 3,
     "solution": true,
     "task": false
    }
   },
   "source": [
    "YOUR ANSWER HERE"
   ]
  },
  {
   "cell_type": "markdown",
   "metadata": {},
   "source": [
    "## Questão 4: Mais pontos!\n",
    "\n",
    "Agora, repita o estudo anterior para 31 pontos uniformemente espaçados em $[-1,1]$."
   ]
  },
  {
   "cell_type": "code",
   "execution_count": 16,
   "metadata": {
    "deletable": false,
    "nbgrader": {
     "cell_type": "code",
     "checksum": "85f99319959e59e8a26b86fbcc46331f",
     "grade": false,
     "grade_id": "cell-a14d9c1ee59082b9",
     "locked": false,
     "schema_version": 3,
     "solution": true,
     "task": false
    }
   },
   "outputs": [],
   "source": [
    "def all_errs(f, n, pts, errfun):\n",
    "    \"\"\"Retorna todos os erros dos polinômios interpoladores para a função  f,\n",
    "    gerados pela escolha de  n  pontos da lista/array  pts.\n",
    "\n",
    "    A função  errfun  recebe duas funções  f e g  e retorna o erro entre elas.\"\"\"\n",
    "    errs_unif = []\n",
    "\n",
    "    for xs in combinations(pts, n):\n",
    "        P = lagrange(xs, np.exp(xs))\n",
    "        err = errfun(f, P)\n",
    "        errs_unif.append(err)\n",
    "\n",
    "    return errs_unif"
   ]
  },
  {
   "cell_type": "code",
   "execution_count": 17,
   "metadata": {
    "deletable": false,
    "editable": false,
    "nbgrader": {
     "cell_type": "code",
     "checksum": "23c594884bef041f2edfcb9e393561da",
     "grade": true,
     "grade_id": "cell-837ec20ed5dfb3e2",
     "locked": true,
     "points": 1,
     "schema_version": 3,
     "solution": false,
     "task": false
    }
   },
   "outputs": [],
   "source": [
    "def aux_maxerr(f, g):\n",
    "    return maxerr(f, g, -1, 1, n=200)\n",
    "\n",
    "errs31 = all_errs(np.exp, 3, np.linspace(-1,1,31), aux_maxerr)\n",
    "assert len(errs31) == 31*30*29//6, (len(errs31), 31*30*29//6)"
   ]
  },
  {
   "cell_type": "code",
   "execution_count": 18,
   "metadata": {
    "deletable": false,
    "editable": false,
    "nbgrader": {
     "cell_type": "code",
     "checksum": "ac69c8ac6ad21a0bf284d7f45085aa5a",
     "grade": true,
     "grade_id": "cell-65b38e1aa0aa06bc",
     "locked": true,
     "points": 1,
     "schema_version": 3,
     "solution": false,
     "task": false
    }
   },
   "outputs": [],
   "source": [
    "assert np.abs(min(errs31) - 0.05) < 1e-3\n",
    "assert 1.9 < max(errs31) < 2.0"
   ]
  },
  {
   "cell_type": "markdown",
   "metadata": {},
   "source": [
    "Vejamos os histogramas dos erros:"
   ]
  },
  {
   "cell_type": "code",
   "execution_count": 19,
   "metadata": {
    "deletable": false,
    "editable": false,
    "nbgrader": {
     "cell_type": "code",
     "checksum": "c5f136f2faf43552ad08e93133c33f78",
     "grade": false,
     "grade_id": "cell-0faaa8527b06a021",
     "locked": true,
     "schema_version": 3,
     "solution": false,
     "task": false
    }
   },
   "outputs": [
    {
     "data": {
      "image/png": "[encoded data removed]",
      "text/plain": [
       "<Figure size 936x288 with 2 Axes>"
      ]
     },
     "metadata": {
      "needs_background": "light"
     },
     "output_type": "display_data"
    }
   ],
   "source": [
    "histogramas(errs31, err_unif)"
   ]
  },
  {
   "cell_type": "markdown",
   "metadata": {},
   "source": [
    "O que você observa, em comparação com o caso inicial com apenas 11 pontos?"
   ]
  },
  {
   "cell_type": "markdown",
   "metadata": {
    "deletable": false,
    "nbgrader": {
     "cell_type": "markdown",
     "checksum": "46a64bd9508df70a337619cd6c0147a4",
     "grade": true,
     "grade_id": "cell-a9646523b66a28cb",
     "locked": false,
     "points": 2,
     "schema_version": 3,
     "solution": true,
     "task": false
    }
   },
   "source": [
    "Os erros chegaram a valores maiores, a distribuição dos erros em log na base 2 ficou mais compacta, mais parecida com uma distribuição normal, e ambos gráficos estão mais \"contínuos\", ou lisos. Além disso, o maior erro cometido pelo polinômio gerado por 3 pontos uniformemente espaçados, indicado pela reta vertical, agora coincide com a ordem do terceiro menor erro."
   ]
  },
  {
   "cell_type": "markdown",
   "metadata": {},
   "source": [
    "Calcule o melhor e pior polinômios:"
   ]
  },
  {
   "cell_type": "code",
   "execution_count": 20,
   "metadata": {
    "deletable": false,
    "nbgrader": {
     "cell_type": "code",
     "checksum": "abfc35933858a770f0618bab51518b3b",
     "grade": true,
     "grade_id": "cell-3a962475a27f675e",
     "locked": false,
     "points": 1,
     "schema_version": 3,
     "solution": true,
     "task": false
    }
   },
   "outputs": [
    {
     "data": {
      "image/png": "[encoded data removed]",
      "text/plain": [
       "<Figure size 432x288 with 1 Axes>"
      ]
     },
     "metadata": {
      "needs_background": "light"
     },
     "output_type": "display_data"
    }
   ],
   "source": [
    "def melhor_e_pior(f, a, b, n, npts, nts):\n",
    "    \n",
    "    errfun = lambda f, g: maxerr(f, g, a, b, n=nts)\n",
    "    \n",
    "    errs_unif = []\n",
    "    combs = []\n",
    "    pts = np.linspace(a,b,npts)\n",
    "\n",
    "    for xs in combinations(pts, n):\n",
    "       \n",
    "        P = lagrange(xs, np.exp(xs))\n",
    "        err = errfun(f, P)\n",
    "        errs_unif.append(err)\n",
    "        combs.append(xs)\n",
    "\n",
    "    pts_melhor = combs[np.argmin(errs_unif)]\n",
    "    pts_pior = combs[np.argmax(errs_unif)]\n",
    "    p_melhor = lagrange(pts_melhor, np.exp(pts_melhor))\n",
    "    p_pior = lagrange(pts_pior, np.exp(pts_pior))\n",
    "\n",
    "    return pts_melhor, pts_pior, p_melhor, p_pior, errs_unif\n",
    "\n",
    "_, _, p_melhor, p_pior, _ = melhor_e_pior(np.exp, -1, 1, 3, 31, 200)\n",
    "plt.plot(ts, p_melhor(ts), label=\"melhor\")\n",
    "plt.plot(ts, p_pior(ts), label=\"pior\")\n",
    "plt.plot(ts, np.exp(ts), label=\"função\")\n",
    "plt.title(\"Melhor e Pior Interpolação das Combinações de Pontos\")\n",
    "plt.legend()\n",
    "ax = plt.gca()"
   ]
  },
  {
   "cell_type": "code",
   "execution_count": 21,
   "metadata": {
    "deletable": false,
    "editable": false,
    "nbgrader": {
     "cell_type": "code",
     "checksum": "b67a05eb345b839e408eb3d838316b30",
     "grade": true,
     "grade_id": "cell-df2b40c31748029f",
     "locked": true,
     "points": 1,
     "schema_version": 3,
     "solution": false,
     "task": false
    }
   },
   "outputs": [],
   "source": [
    "assert len(ax.lines) == 3\n",
    "assert len(ax.legend().texts) == 3"
   ]
  },
  {
   "cell_type": "markdown",
   "metadata": {},
   "source": [
    "Faça, agora, o gráfico do erro para os dois polinômios."
   ]
  },
  {
   "cell_type": "code",
   "execution_count": 22,
   "metadata": {
    "deletable": false,
    "nbgrader": {
     "cell_type": "code",
     "checksum": "e0f89872265495c848e17f1fc62d06f5",
     "grade": true,
     "grade_id": "cell-c2228efe7331689c",
     "locked": false,
     "points": 1,
     "schema_version": 3,
     "solution": true,
     "task": false
    }
   },
   "outputs": [
    {
     "data": {
      "image/png": "[encoded data removed]",
      "text/plain": [
       "<Figure size 936x288 with 2 Axes>"
      ]
     },
     "metadata": {
      "needs_background": "light"
     },
     "output_type": "display_data"
    }
   ],
   "source": [
    "fig, (ax1, ax2) = plt.subplots(ncols=2, figsize=(13,4))\n",
    "\n",
    "ax1.plot(ts, abs(p_pior(ts)-np.exp(ts)))\n",
    "ax1.set_title(\"Erro do pior\")\n",
    "ax2.plot(ts, abs(p_melhor(ts)-np.exp(ts)))\n",
    "ax2.set_title(\"Erro do melhor\")\n",
    "\n",
    "ax1.grid()\n",
    "ax2.grid()"
   ]
  },
  {
   "cell_type": "code",
   "execution_count": 23,
   "metadata": {
    "deletable": false,
    "editable": false,
    "nbgrader": {
     "cell_type": "code",
     "checksum": "344b5d281ceba810e111098b7fa72950",
     "grade": true,
     "grade_id": "cell-0553a136bf74a232",
     "locked": true,
     "points": 1,
     "schema_version": 3,
     "solution": false,
     "task": false
    }
   },
   "outputs": [],
   "source": [
    "for ax in (ax1, ax2):\n",
    "    assert len(ax.lines) == 1\n",
    "    assert ax.get_title() != \"\""
   ]
  },
  {
   "cell_type": "markdown",
   "metadata": {},
   "source": [
    "## Questão 5: Outras funções\n",
    "\n",
    "Repita a análise com 31 pontos (ou mais, se seu código e computador forem rápidos o suficiente!)\n",
    "para as seguintes funções:\n",
    "\n",
    "- cosseno, em $[-1,1]$\n",
    "- log, em $[2,10]$,\n",
    "- $\\frac{1}{1 + x^2}$ em $[-1,1]$\n",
    "\n",
    "Para evitar repetir muito código, crie uma função `analise` para fazer as contas e os gráficos!"
   ]
  },
  {
   "cell_type": "code",
   "execution_count": 24,
   "metadata": {
    "deletable": false,
    "nbgrader": {
     "cell_type": "code",
     "checksum": "69d3a105fb9f059bf625be57cc789e04",
     "grade": true,
     "grade_id": "cell-eecb4f2f6c9b2310",
     "locked": false,
     "points": 2,
     "schema_version": 3,
     "solution": true,
     "task": false
    }
   },
   "outputs": [],
   "source": [
    "def analise(f, a, b, deg, npts, nfine):\n",
    "    \"\"\"Análise de erro de interpolação da função  f, no intervalo  [a,b], com polinômios de grau  deg.\n",
    "    Usa  npts  pontos igualmente espaçados para escolher os nós de interpolação,\n",
    "    e  nfine  pontos para calcular erros / fazer gráficos.\n",
    "    \n",
    "    Faz\n",
    "    - os histogramas dos erros\n",
    "    - gráficos dos erros do melhor / pior polinômio\n",
    "    E retorna os pontos correspondentes à melhor / pior interpolação.\"\"\"\n",
    "    assert npts > deg\n",
    "    tfine = np.linspace(a,b,nfine)\n",
    "\n",
    "    pts_melhor, pts_pior, p_melhor, p_pior, errs = melhor_e_pior(f, a, b, deg, npts , nfine)\n",
    "  \n",
    "    fig, (ax1, ax2, ax3) = plt.subplots(ncols=3, figsize=(20,4))\n",
    "   \n",
    "    ax1.hist(errs, bins=20)\n",
    "    ax2.hist(np.log2(errs), bins=20)\n",
    "    ax1.set_title(\"Distribuição dos erros\")\n",
    "    ax1.set_xlabel(\"Erro\")\n",
    "    ax2.set_title(\"Distribuição dos erros\")\n",
    "    ax2.set_xlabel(\"Log em base 2 do erro\")\n",
    "\n",
    "    ax3.plot(tfine, abs(p_melhor(tfine) - f(tfine)), label=\"Erros melhor polinomio\")\n",
    "    ax3.plot(tfine, abs(p_pior(tfine) - f(tfine)), label=\"Erros pior polinomio\")\n",
    "    ax3.set_title(\"Erros do pior e do melhor polinomio\")\n",
    "  \n",
    "    plt.legend()\n",
    "   \n",
    "    print(f\"Pontos do melhor polinomio: {pts_melhor}\")\n",
    "    print(f\"Pontos do pior polinomio: {pts_pior}\")\n",
    "    "
   ]
  },
  {
   "cell_type": "code",
   "execution_count": 25,
   "metadata": {
    "deletable": false,
    "editable": false,
    "nbgrader": {
     "cell_type": "code",
     "checksum": "d1cb7066cb2101d815fd8fd6c929a096",
     "grade": false,
     "grade_id": "cell-d206b4ba2f0a3cb5",
     "locked": true,
     "schema_version": 3,
     "solution": false,
     "task": false
    }
   },
   "outputs": [
    {
     "name": "stdout",
     "output_type": "stream",
     "text": [
      "Pontos do melhor polinomio: (-0.6, 0.8)\n",
      "Pontos do pior polinomio: (0.9333333333333333, 1.0)\n"
     ]
    },
    {
     "data": {
      "image/png": "[encoded data removed]",
      "text/plain": [
       "<Figure size 1440x288 with 3 Axes>"
      ]
     },
     "metadata": {
      "needs_background": "light"
     },
     "output_type": "display_data"
    }
   ],
   "source": [
    "# Verifique que está dando certo!\n",
    "analise(np.exp, -1, 1, 2, 31, 200)"
   ]
  },
  {
   "cell_type": "code",
   "execution_count": 26,
   "metadata": {},
   "outputs": [
    {
     "name": "stdout",
     "output_type": "stream",
     "text": [
      "Pontos do melhor polinomio: (-1.0, -0.9333333333333333)\n",
      "Pontos do pior polinomio: (0.9333333333333333, 1.0)\n"
     ]
    },
    {
     "data": {
      "image/png": "[encoded data removed]",
      "text/plain": [
       "<Figure size 1440x288 with 3 Axes>"
      ]
     },
     "metadata": {
      "needs_background": "light"
     },
     "output_type": "display_data"
    }
   ],
   "source": [
    "analise(np.cos, -1, 1, 2, 31, 200)"
   ]
  },
  {
   "cell_type": "code",
   "execution_count": 27,
   "metadata": {
    "scrolled": true
   },
   "outputs": [
    {
     "name": "stdout",
     "output_type": "stream",
     "text": [
      "Pontos do melhor polinomio: (2.0, 2.2666666666666666)\n",
      "Pontos do pior polinomio: (9.733333333333334, 10.0)\n"
     ]
    },
    {
     "data": {
      "image/png": "[encoded data removed]",
      "text/plain": [
       "<Figure size 1440x288 with 3 Axes>"
      ]
     },
     "metadata": {
      "needs_background": "light"
     },
     "output_type": "display_data"
    }
   ],
   "source": [
    "analise(np.log, 2, 10, 2, 31, 200)"
   ]
  },
  {
   "cell_type": "code",
   "execution_count": 28,
   "metadata": {
    "deletable": false,
    "editable": false,
    "nbgrader": {
     "cell_type": "code",
     "checksum": "e465edcb565b7392aa150a143dfbcb29",
     "grade": false,
     "grade_id": "cell-96e29ca22d9965b1",
     "locked": true,
     "schema_version": 3,
     "solution": false,
     "task": false
    }
   },
   "outputs": [],
   "source": [
    "def cauchy(x):\n",
    "    x = np.asarray(x)\n",
    "    return 1/(1 + x**2)"
   ]
  },
  {
   "cell_type": "code",
   "execution_count": 29,
   "metadata": {},
   "outputs": [
    {
     "name": "stdout",
     "output_type": "stream",
     "text": [
      "Pontos do melhor polinomio: (-1.0, -0.9333333333333333)\n",
      "Pontos do pior polinomio: (0.9333333333333333, 1.0)\n"
     ]
    },
    {
     "data": {
      "image/png": "[encoded data removed]",
      "text/plain": [
       "<Figure size 1440x288 with 3 Axes>"
      ]
     },
     "metadata": {
      "needs_background": "light"
     },
     "output_type": "display_data"
    }
   ],
   "source": [
    "analise(cauchy, -1, 1, 2, 31, 200)"
   ]
  },
  {
   "cell_type": "markdown",
   "metadata": {},
   "source": [
    "Comente:\n",
    "- como ficaram as distribuições dos erros\n",
    "- como ficam as curvas de erro para o melhor / pior caso\n",
    "    - se isso faz sentido"
   ]
  },
  {
   "cell_type": "markdown",
   "metadata": {
    "deletable": false,
    "nbgrader": {
     "cell_type": "markdown",
     "checksum": "6846871bbc3d0deff1a810be7eb74c79",
     "grade": true,
     "grade_id": "cell-20090005accca597",
     "locked": false,
     "points": 2,
     "schema_version": 3,
     "solution": true,
     "task": false
    }
   },
   "source": [
    "YOUR ANSWER HERE"
   ]
  },
  {
   "cell_type": "markdown",
   "metadata": {},
   "source": [
    "Agora, comente:\n",
    "- quais foram os pontos escolhidos para melhor / pior caso\n",
    "- e novamente se isso faz sentido."
   ]
  },
  {
   "cell_type": "markdown",
   "metadata": {
    "deletable": false,
    "nbgrader": {
     "cell_type": "markdown",
     "checksum": "3e91ceabf265668b8322ce5f7b407725",
     "grade": true,
     "grade_id": "cell-49ab92e4266a7a31",
     "locked": false,
     "points": 2,
     "schema_version": 3,
     "solution": true,
     "task": false
    }
   },
   "source": [
    "YOUR ANSWER HERE"
   ]
  },
  {
   "cell_type": "markdown",
   "metadata": {},
   "source": [
    "# Parte 2: Regressão\n",
    "\n",
    "Em vez de tentarmos encontrar o melhor polinômio de grau $2$ que aproxima $f$\n",
    "percorrendo todas as $\\binom{N}{3}$ combinações possíveis de pontos igualmente espaçados,\n",
    "vamos fazer algo diferente:\n",
    "- Vamos calcular a função $f$ nos $N$ pontos; e\n",
    "- ajustar um polinômio de grau $2$ por regressão."
   ]
  },
  {
   "cell_type": "markdown",
   "metadata": {},
   "source": [
    "## Questão 6: Calculando o ajuste\n",
    "\n",
    "Escreva uma função `poly_reg`, que recebe $f$, $[a,b]$, o número de pontos $N$ e o grau desejado $d$,\n",
    "e retorna o melhor polinômio de grau $d$ por mínimos quadrados."
   ]
  },
  {
   "cell_type": "code",
   "execution_count": 30,
   "metadata": {
    "deletable": false,
    "nbgrader": {
     "cell_type": "code",
     "checksum": "cfa1299180f4b8553b0b985ea518f82f",
     "grade": false,
     "grade_id": "cell-f68b0b0da88cbf15",
     "locked": false,
     "schema_version": 3,
     "solution": true,
     "task": false
    }
   },
   "outputs": [],
   "source": [
    "def poly_reg(f, a, b, N, d):\n",
    "    def model_M(ts,fs):\n",
    "        #Constrói a matriz M = [[f1(t1), f2(t1), ...],[f1(t2), f2(t2), ...],[f1(t3), f2(t3), ...], ...] (array) correspondente ao sistema  y_j = \\sum a_i f_i(t_j)\n",
    "        M = []\n",
    "        for t in ts:\n",
    "                M += [[f(t) for f in fs]]\n",
    "        return np.array(M)\n",
    "\n",
    "    def model_par(ts,ys,fs):\n",
    "        # Calcula os coeficientes  a_i  que minimizam o erro quadrático do sistema  y_j = \\sum a_i f_i(t_j)\n",
    "        M = model_M(ts,fs)\n",
    "        coefs, *_ = np.linalg.lstsq(M,ys,rcond=None)\n",
    "        return coefs\n",
    "\n",
    "    def pol(coefs):\n",
    "        p = np.poly1d(coefs)\n",
    "        return p\n",
    "\n",
    "    \"\"\"fs = [lambda x: x**0]\n",
    "    for i in range(d):\n",
    "        fs.append(lambda x: x**(i+1))\"\"\"\n",
    "    def f2(n):\n",
    "        def f1(x): return x**n\n",
    "        return f1\n",
    "    fs = []\n",
    "    for i in range(d+1):\n",
    "        fs.append(f2(i))\n",
    "    \n",
    "    pts = np.linspace(a, b, num=N)\n",
    "    \"\"\"\n",
    "    ts = combinations(pts, N)\n",
    "    errs = []\n",
    "    combs = []\n",
    "\n",
    "    for t in ts:\n",
    "        ys = f(t)\n",
    "        coefs = model_par(t,ys,fs)\n",
    "        p = lambda x: np.polyval(pol(coefs), x)\n",
    "        err = maxerr(f, p, a, b, n=N)\n",
    "        errs.append(err)\n",
    "        combs.append(t)\n",
    "\n",
    "    pts_melhor = combs[np.argmin(errs)]\n",
    "    ys_melhor = f(pts_melhor)\n",
    "    coefs_melhor = model_par(pts_melhor,ys_melhor,fs)\n",
    "    p_melhor = lambda x: np.polyval(pol(coefs_melhor),x)\"\"\"\n",
    "    \n",
    "    coefs = model_par(pts, f(pts), fs)\n",
    "    def p_melhor(x): return sum([f(x)*c for f, c in zip(fs, coefs)])\n",
    "\n",
    "    return p_melhor "
   ]
  },
  {
   "cell_type": "code",
   "execution_count": 31,
   "metadata": {
    "deletable": false,
    "editable": false,
    "nbgrader": {
     "cell_type": "code",
     "checksum": "05c6772d89d351e0c8320197dadf84e8",
     "grade": true,
     "grade_id": "cell-2bf26a5fb1b2d302",
     "locked": true,
     "points": 2,
     "schema_version": 3,
     "solution": false,
     "task": false
    },
    "tags": []
   },
   "outputs": [],
   "source": [
    "P_reg = poly_reg(np.sin, -1, 1, 31, 2)\n",
    "assert np.isclose(P_reg(0), 0)\n",
    "assert np.isclose(P_reg(1), - P_reg(-1))"
   ]
  },
  {
   "cell_type": "code",
   "execution_count": 32,
   "metadata": {
    "deletable": false,
    "editable": false,
    "nbgrader": {
     "cell_type": "code",
     "checksum": "c0e71e5d2d71aeb8e8a135ec6586fe89",
     "grade": true,
     "grade_id": "cell-497b6770f04d71ee",
     "locked": true,
     "points": 1,
     "schema_version": 3,
     "solution": false,
     "task": false
    },
    "tags": []
   },
   "outputs": [],
   "source": [
    "P_reg = poly_reg(cauchy, -1, 1, 31, 2)\n",
    "assert maxerr(cauchy, P_reg, -1, 1, 100) < 0.06, maxerr(cauchy, P_reg, -1, 1, 100)"
   ]
  },
  {
   "cell_type": "code",
   "execution_count": 33,
   "metadata": {
    "deletable": false,
    "editable": false,
    "nbgrader": {
     "cell_type": "code",
     "checksum": "88b4c867a0a8d7616e199e5ecd48cf21",
     "grade": true,
     "grade_id": "cell-d97d2bfd73d1d4ff",
     "locked": true,
     "points": 1,
     "schema_version": 3,
     "solution": false,
     "task": false
    }
   },
   "outputs": [],
   "source": [
    "P_reg = poly_reg(cauchy, -1, 1, 31, 20)\n",
    "assert 1e-7 < maxerr(cauchy, P_reg, -1, 1, 2000) < 5e-7"
   ]
  },
  {
   "cell_type": "code",
   "execution_count": 34,
   "metadata": {
    "deletable": false,
    "editable": false,
    "nbgrader": {
     "cell_type": "code",
     "checksum": "4cf677ed0bc2d228e338eb16097d9ea3",
     "grade": true,
     "grade_id": "cell-55954f12f4f8a5e8",
     "locked": true,
     "points": 1,
     "schema_version": 3,
     "solution": false,
     "task": false
    },
    "scrolled": true
   },
   "outputs": [],
   "source": [
    "P_reg = poly_reg(cauchy, -1, 1, 301, 20)\n",
    "assert 5e-9 < maxerr(cauchy, P_reg, -1, 1, 20000) < 20e-9"
   ]
  },
  {
   "cell_type": "markdown",
   "metadata": {},
   "source": [
    "Comente os três últimos `assert`s:\n",
    "- o que você deduz de aumentar o grau? e aumentar o número de pontos?\n",
    "- porque usar 2000 e 20000 pontos para o máximo do erro?"
   ]
  },
  {
   "cell_type": "markdown",
   "metadata": {
    "deletable": false,
    "nbgrader": {
     "cell_type": "markdown",
     "checksum": "52ea54c395d32fb8ced07fc666e469da",
     "grade": true,
     "grade_id": "cell-5e69e9313de954c4",
     "locked": false,
     "points": 2,
     "schema_version": 3,
     "solution": true,
     "task": false
    }
   },
   "source": [
    "YOUR ANSWER HERE"
   ]
  },
  {
   "cell_type": "code",
   "execution_count": 35,
   "metadata": {
    "deletable": false,
    "editable": false,
    "nbgrader": {
     "cell_type": "code",
     "checksum": "ec924d5496900e5b374f53c561a043b8",
     "grade": false,
     "grade_id": "cell-31aca7daa90ec662",
     "locked": true,
     "schema_version": 3,
     "solution": false,
     "task": false
    }
   },
   "outputs": [
    {
     "data": {
      "text/plain": [
       "1.8839711457552255e-08"
      ]
     },
     "execution_count": 35,
     "metadata": {},
     "output_type": "execute_result"
    }
   ],
   "source": [
    "P_reg = poly_reg(cauchy, -1, 1, 3001, 20)\n",
    "maxerr(cauchy, P_reg, -1, 1, 20000)"
   ]
  },
  {
   "cell_type": "markdown",
   "metadata": {},
   "source": [
    "O que esta última caixa sugere?"
   ]
  },
  {
   "cell_type": "markdown",
   "metadata": {
    "deletable": false,
    "nbgrader": {
     "cell_type": "markdown",
     "checksum": "0f65da0e2da8209cfdf34e17e1d0e574",
     "grade": true,
     "grade_id": "cell-7193e8a89fbf5f31",
     "locked": false,
     "points": 2,
     "schema_version": 3,
     "solution": true,
     "task": false
    }
   },
   "source": [
    "YOUR ANSWER HERE"
   ]
  },
  {
   "cell_type": "markdown",
   "metadata": {},
   "source": [
    "## Questão 7: comparações\n",
    "\n",
    "Agora, compare os erros para:\n",
    "- o melhor polinômio de grau 2, buscando em 31 pontos;\n",
    "- o melhor polinômio de grau 2, fazendo regressão em 31 pontos;\n",
    "- o polinômio de grau 2, usando pontos igualmente espaçados."
   ]
  },
  {
   "cell_type": "code",
   "execution_count": 36,
   "metadata": {
    "deletable": false,
    "nbgrader": {
     "cell_type": "code",
     "checksum": "26672b9dc7b38439be8cf25041a7ac04",
     "grade": true,
     "grade_id": "cell-d6d38df4baf54481",
     "locked": false,
     "points": 2,
     "schema_version": 3,
     "solution": true,
     "task": false
    }
   },
   "outputs": [],
   "source": [
    "def compara_erros(f, a, b, npts, deg, nfine):\n",
    "    \"\"\"Cria três gráficos dos erros dos polinômios de grau  deg, usando as 3 estratégias acima,\n",
    "    para  f  no intervalo [a,b], a partir de  npts  pontos.\"\"\"\n",
    "    assert npts > deg\n",
    "    tfine = np.linspace(a,b,nfine)\n",
    "    fig, (ax1, ax2, ax3) = plt.subplots(ncols=3, figsize=(18,4), sharey=True)\n",
    "    # YOUR CODE HERE\n",
    "    raise NotImplementedError()"
   ]
  },
  {
   "cell_type": "code",
   "execution_count": 37,
   "metadata": {
    "deletable": false,
    "editable": false,
    "nbgrader": {
     "cell_type": "code",
     "checksum": "19d55af5ff09a5556ec71b6908051834",
     "grade": false,
     "grade_id": "cell-d353fcf48b148ba8",
     "locked": true,
     "schema_version": 3,
     "solution": false,
     "task": false
    }
   },
   "outputs": [
    {
     "ename": "NotImplementedError",
     "evalue": "",
     "output_type": "error",
     "traceback": [
      "\u001b[0;31m---------------------------------------------------------------------------\u001b[0m",
      "\u001b[0;31mNotImplementedError\u001b[0m                       Traceback (most recent call last)",
      "\u001b[0;32m<ipython-input-37-a6da009dc08e>\u001b[0m in \u001b[0;36m<module>\u001b[0;34m\u001b[0m\n\u001b[0;32m----> 1\u001b[0;31m \u001b[0mcompara_erros\u001b[0m\u001b[0;34m(\u001b[0m\u001b[0mnp\u001b[0m\u001b[0;34m.\u001b[0m\u001b[0mexp\u001b[0m\u001b[0;34m,\u001b[0m \u001b[0;34m-\u001b[0m\u001b[0;36m1\u001b[0m\u001b[0;34m,\u001b[0m \u001b[0;36m1\u001b[0m\u001b[0;34m,\u001b[0m \u001b[0;36m31\u001b[0m\u001b[0;34m,\u001b[0m \u001b[0;36m2\u001b[0m\u001b[0;34m,\u001b[0m \u001b[0;36m200\u001b[0m\u001b[0;34m)\u001b[0m\u001b[0;34m\u001b[0m\u001b[0;34m\u001b[0m\u001b[0m\n\u001b[0m",
      "\u001b[0;32m<ipython-input-36-8279876fe6d7>\u001b[0m in \u001b[0;36mcompara_erros\u001b[0;34m(f, a, b, npts, deg, nfine)\u001b[0m\n\u001b[1;32m      6\u001b[0m     \u001b[0mfig\u001b[0m\u001b[0;34m,\u001b[0m \u001b[0;34m(\u001b[0m\u001b[0max1\u001b[0m\u001b[0;34m,\u001b[0m \u001b[0max2\u001b[0m\u001b[0;34m,\u001b[0m \u001b[0max3\u001b[0m\u001b[0;34m)\u001b[0m \u001b[0;34m=\u001b[0m \u001b[0mplt\u001b[0m\u001b[0;34m.\u001b[0m\u001b[0msubplots\u001b[0m\u001b[0;34m(\u001b[0m\u001b[0mncols\u001b[0m\u001b[0;34m=\u001b[0m\u001b[0;36m3\u001b[0m\u001b[0;34m,\u001b[0m \u001b[0mfigsize\u001b[0m\u001b[0;34m=\u001b[0m\u001b[0;34m(\u001b[0m\u001b[0;36m18\u001b[0m\u001b[0;34m,\u001b[0m\u001b[0;36m4\u001b[0m\u001b[0;34m)\u001b[0m\u001b[0;34m,\u001b[0m \u001b[0msharey\u001b[0m\u001b[0;34m=\u001b[0m\u001b[0;32mTrue\u001b[0m\u001b[0;34m)\u001b[0m\u001b[0;34m\u001b[0m\u001b[0;34m\u001b[0m\u001b[0m\n\u001b[1;32m      7\u001b[0m     \u001b[0;31m# YOUR CODE HERE\u001b[0m\u001b[0;34m\u001b[0m\u001b[0;34m\u001b[0m\u001b[0;34m\u001b[0m\u001b[0m\n\u001b[0;32m----> 8\u001b[0;31m     \u001b[0;32mraise\u001b[0m \u001b[0mNotImplementedError\u001b[0m\u001b[0;34m(\u001b[0m\u001b[0;34m)\u001b[0m\u001b[0;34m\u001b[0m\u001b[0;34m\u001b[0m\u001b[0m\n\u001b[0m",
      "\u001b[0;31mNotImplementedError\u001b[0m: "
     ]
    },
    {
     "data": {
      "image/png": "[encoded data removed]",
      "text/plain": [
       "<Figure size 1296x288 with 3 Axes>"
      ]
     },
     "metadata": {
      "needs_background": "light"
     },
     "output_type": "display_data"
    }
   ],
   "source": [
    "compara_erros(np.exp, -1, 1, 31, 2, 200)"
   ]
  },
  {
   "cell_type": "code",
   "execution_count": null,
   "metadata": {
    "deletable": false,
    "editable": false,
    "nbgrader": {
     "cell_type": "code",
     "checksum": "65986f5dd2b508a46843962cd19e11a3",
     "grade": false,
     "grade_id": "cell-966437b4be9e591b",
     "locked": true,
     "schema_version": 3,
     "solution": false,
     "task": false
    }
   },
   "outputs": [],
   "source": [
    "compara_erros(np.cos, -1, 1, 31, 2, 200)"
   ]
  },
  {
   "cell_type": "markdown",
   "metadata": {},
   "source": [
    "O que você percebe nestes gráficos?"
   ]
  },
  {
   "cell_type": "markdown",
   "metadata": {
    "deletable": false,
    "nbgrader": {
     "cell_type": "markdown",
     "checksum": "55152c0d3fb25eb54e0043f9602e4d91",
     "grade": true,
     "grade_id": "cell-2993fa62eb1c9e28",
     "locked": false,
     "points": 2,
     "schema_version": 3,
     "solution": true,
     "task": false
    }
   },
   "source": [
    "YOUR ANSWER HERE"
   ]
  },
  {
   "cell_type": "code",
   "execution_count": null,
   "metadata": {},
   "outputs": [],
   "source": [
    "compara_erros(np.log, 2, 10, 31, 2, 200)\n",
    "compara_erros(cauchy, -1, 1, 31, 2, 200)"
   ]
  },
  {
   "cell_type": "markdown",
   "metadata": {},
   "source": [
    "Para estas funções, o que você observa de similar / diferente quanto às duas anteriores?"
   ]
  },
  {
   "cell_type": "markdown",
   "metadata": {
    "deletable": false,
    "nbgrader": {
     "cell_type": "markdown",
     "checksum": "c05be03f968a84fd94574a4655b7517b",
     "grade": true,
     "grade_id": "cell-cca30a1a0c9cab4d",
     "locked": false,
     "points": 2,
     "schema_version": 3,
     "solution": true,
     "task": false
    }
   },
   "source": [
    "YOUR ANSWER HERE"
   ]
  },
  {
   "cell_type": "markdown",
   "metadata": {},
   "source": [
    "## Questão 8: Aumentando o grau\n",
    "\n",
    "Vamos agora tentar achar polinômios de grau 4.\n",
    "A caixa abaixo pode levar um certo tempo para rodar... (tente ficar abaixo de 1 min, mas não é o mais importante)"
   ]
  },
  {
   "cell_type": "code",
   "execution_count": null,
   "metadata": {
    "deletable": false,
    "editable": false,
    "nbgrader": {
     "cell_type": "code",
     "checksum": "e5a63fbbc23aa36e072b11a0da4c4477",
     "grade": false,
     "grade_id": "cell-8d2cdeefa042a5f2",
     "locked": true,
     "schema_version": 3,
     "solution": false,
     "task": false
    }
   },
   "outputs": [],
   "source": [
    "%time compara_erros(cauchy, -1, 1, 31, 4, 200)"
   ]
  },
  {
   "cell_type": "markdown",
   "metadata": {},
   "source": [
    "O que você percebe de similar / diferente neste caso, com relação aos polinômios de grau 2?"
   ]
  },
  {
   "cell_type": "markdown",
   "metadata": {
    "deletable": false,
    "nbgrader": {
     "cell_type": "markdown",
     "checksum": "a40c30bba826534318a3f3abb354ef4f",
     "grade": true,
     "grade_id": "cell-fc1c2e2af0bf63b2",
     "locked": false,
     "points": 2,
     "schema_version": 3,
     "solution": true,
     "task": false
    }
   },
   "source": [
    "YOUR ANSWER HERE"
   ]
  },
  {
   "cell_type": "markdown",
   "metadata": {},
   "source": [
    "Qual é a parte mais demorada de `compara_erros`?\n",
    "Porquê?"
   ]
  },
  {
   "cell_type": "markdown",
   "metadata": {
    "deletable": false,
    "nbgrader": {
     "cell_type": "markdown",
     "checksum": "df11fc7371312caf36aded4f0c78acfb",
     "grade": true,
     "grade_id": "cell-4160689bf7ce45fb",
     "locked": false,
     "points": 2,
     "schema_version": 3,
     "solution": true,
     "task": false
    }
   },
   "source": [
    "YOUR ANSWER HERE"
   ]
  },
  {
   "cell_type": "markdown",
   "metadata": {},
   "source": [
    "## Questão 9: Aumentando ainda mais o grau\n",
    "\n",
    "Uma outra forma de calcular aproximações é usar o polinômio de Taylor.\n",
    "Defina, abaixo, a função `exp_taylor` que calcula a aproximação da exponencial\n",
    "pelo polinômio de Taylor:\n",
    "$$ e^x \\simeq 1 + x + \\frac{x^2}{2} + \\ldots + \\frac{x^n}{n!}. $$"
   ]
  },
  {
   "cell_type": "code",
   "execution_count": 64,
   "metadata": {
    "deletable": false,
    "nbgrader": {
     "cell_type": "code",
     "checksum": "2e7b7e692a24017cfe236f841a255cc2",
     "grade": false,
     "grade_id": "cell-b0b0efaf037a64a4",
     "locked": false,
     "schema_version": 3,
     "solution": true,
     "task": false
    }
   },
   "outputs": [],
   "source": [
    "def exp_taylor(xs, deg):\n",
    "    \"\"\"Série de Taylor da exponencial, com grau  deg\"\"\"\n",
    "    notarray = False\n",
    "    try:\n",
    "        len(xs)\n",
    "    except:\n",
    "        xs = [xs]\n",
    "        notarray = True\n",
    "    xs = np.asarray(xs, dtype=np.float64)\n",
    "    #cur = np.ones_like(xs)\n",
    "    cur = []\n",
    "    for x in xs:\n",
    "        e = []\n",
    "        e.append(1)\n",
    "        for j in range(1,deg+1):\n",
    "            e.append((x**j)/np.prod([n for n in range(1, j+1)]))\n",
    "        cur.append(sum(e))\n",
    "    if notarray:\n",
    "        cur = cur[0]\n",
    "    return cur"
   ]
  },
  {
   "cell_type": "code",
   "execution_count": 65,
   "metadata": {
    "deletable": false,
    "editable": false,
    "nbgrader": {
     "cell_type": "code",
     "checksum": "133fd22db936d9c8f1e41244f000f7cf",
     "grade": true,
     "grade_id": "cell-8c0c1bc36ce6c98b",
     "locked": true,
     "points": 1,
     "schema_version": 3,
     "solution": false,
     "task": false
    }
   },
   "outputs": [],
   "source": [
    "assert exp_taylor(1, 3) == 1 + 1 + 1/2 + 1/6"
   ]
  },
  {
   "cell_type": "code",
   "execution_count": 66,
   "metadata": {
    "deletable": false,
    "editable": false,
    "nbgrader": {
     "cell_type": "code",
     "checksum": "c407f6dfd59bf325eacfb82302d404d3",
     "grade": true,
     "grade_id": "cell-16b51b53b35ddcd6",
     "locked": true,
     "points": 1,
     "schema_version": 3,
     "solution": false,
     "task": false
    }
   },
   "outputs": [],
   "source": [
    "xs = [-1,1,0.6]\n",
    "assert not np.allclose(exp_taylor(xs, 5), np.exp(xs))\n",
    "assert np.allclose(exp_taylor(xs, 8), np.exp(xs))"
   ]
  },
  {
   "cell_type": "markdown",
   "metadata": {},
   "source": [
    "Agora, faça um gráfico comparando os erros, no intervalo $[-1,1]$:\n",
    "- do polinômio de Taylor de grau 5 para a exponencial\n",
    "- do polinômio interpolador de grau 5\n",
    "- do polinômio de grau 5 obtido por regressão em 100 pontos."
   ]
  },
  {
   "cell_type": "code",
   "execution_count": 81,
   "metadata": {
    "deletable": false,
    "nbgrader": {
     "cell_type": "code",
     "checksum": "c68b6b9733ef7ab0f98d4e5b6c883bf0",
     "grade": true,
     "grade_id": "cell-e9bb62be17a7f1f8",
     "locked": false,
     "points": 1,
     "schema_version": 3,
     "solution": true,
     "task": false
    }
   },
   "outputs": [
    {
     "data": {
      "image/png": "[encoded data removed]",
      "text/plain": [
       "<Figure size 432x288 with 1 Axes>"
      ]
     },
     "metadata": {
      "needs_background": "light"
     },
     "output_type": "display_data"
    }
   ],
   "source": [
    "xs = np.linspace(-1, 1, num=100)\n",
    "\n",
    "xs_6 = [xs[i] for i in [1, 21, 40, 60, 79, 98]]\n",
    "\n",
    "p_interpolation = lagrange(xs_6, np.exp(xs_6))\n",
    "p_regression = poly_reg(np.exp, -1, 1, 100, 5)\n",
    "\n",
    "ys = np.exp(xs)\n",
    "\n",
    "plt.plot(xs, abs(ys - exp_taylor(xs, 5)), label=\"Taylor\")\n",
    "plt.plot(xs, abs(ys - p_interpolation(xs)), label=\"Interpolador\")\n",
    "plt.plot(xs, abs(ys - p_regression(xs)), label=\"Regressão\")\n",
    "\n",
    "plt.legend(title=\"Método\", bbox_to_anchor=(1, 0.5), loc=\"center left\")\n",
    "plt.title(\"Erros grau 5\")\n",
    "plt.grid()\n",
    "ax = plt.gca()"
   ]
  },
  {
   "cell_type": "code",
   "execution_count": 80,
   "metadata": {
    "deletable": false,
    "editable": false,
    "nbgrader": {
     "cell_type": "code",
     "checksum": "22c321b22562f24ce94fa73d45cfbfa8",
     "grade": true,
     "grade_id": "cell-96e053bf343b1da8",
     "locked": true,
     "points": 1,
     "schema_version": 3,
     "solution": false,
     "task": false
    }
   },
   "outputs": [],
   "source": [
    "assert len(ax.lines) == 3\n",
    "assert len(ax.legend().texts) == 3\n",
    "assert ax.get_title() != \"\""
   ]
  },
  {
   "cell_type": "markdown",
   "metadata": {},
   "source": [
    "O que você observa quanto aos erros de cada método?"
   ]
  },
  {
   "cell_type": "markdown",
   "metadata": {
    "deletable": false,
    "nbgrader": {
     "cell_type": "markdown",
     "checksum": "87fa48f4b2e17318ce70eadee72c460c",
     "grade": true,
     "grade_id": "cell-41ac6eabe481c9c2",
     "locked": false,
     "points": 2,
     "schema_version": 3,
     "solution": true,
     "task": false
    }
   },
   "source": [
    "**R:** Os erros de Taylor são maiores nas extremidades. Os erros dos polinômios seguem um padrão oscilatório parecido, no qual o erro fica muito próximo de zero para valores de $x$ próximos dos valores que dividem o intervalo em 6 partes iguais, como é possível notar no gráfico abaixo."
   ]
  },
  {
   "cell_type": "code",
   "execution_count": 97,
   "metadata": {},
   "outputs": [
    {
     "data": {
      "image/png": "[encoded data removed]",
      "text/plain": [
       "<Figure size 432x288 with 1 Axes>"
      ]
     },
     "metadata": {
      "needs_background": "light"
     },
     "output_type": "display_data"
    }
   ],
   "source": [
    "plt.plot(xs, abs(ys - p_interpolation(xs)), label=\"Interpolador\")\n",
    "plt.plot(xs, abs(ys - p_regression(xs)), label=\"Regressão\")\n",
    "\n",
    "plt.legend(title=\"Método\", bbox_to_anchor=(1, 0.5), loc=\"center left\")\n",
    "plt.title(\"Erros grau 5\")\n",
    "plt.grid()\n",
    "plt.xticks(np.linspace(-1, 1, num=6))\n",
    "ax = plt.gca()"
   ]
  },
  {
   "cell_type": "markdown",
   "metadata": {},
   "source": [
    "Agora, faça para grau 10"
   ]
  },
  {
   "cell_type": "code",
   "execution_count": 99,
   "metadata": {
    "deletable": false,
    "nbgrader": {
     "cell_type": "code",
     "checksum": "8357de978f5ece122e90282d3ac2a184",
     "grade": false,
     "grade_id": "cell-f8afda04e91b2cc4",
     "locked": false,
     "schema_version": 3,
     "solution": true,
     "task": false
    }
   },
   "outputs": [
    {
     "data": {
      "image/png": "[encoded data removed]",
      "text/plain": [
       "<Figure size 432x288 with 1 Axes>"
      ]
     },
     "metadata": {
      "needs_background": "light"
     },
     "output_type": "display_data"
    }
   ],
   "source": [
    "xs_10 = [xs[i] for i in [1, 11, 20, 30, 40, 50, 60, 70, 80, 89, 98]]\n",
    "\n",
    "p_interpolation = lagrange(xs_10, np.exp(xs_10))\n",
    "p_regression = poly_reg(np.exp, -1, 1, 100, 10)\n",
    "\n",
    "ys = np.exp(xs)\n",
    "\n",
    "plt.plot(xs, abs(ys - exp_taylor(xs, 10)), label=\"Taylor\")\n",
    "plt.plot(xs, abs(ys - p_interpolation(xs)), label=\"Interpolador\")\n",
    "plt.plot(xs, abs(ys - p_regression(xs)), label=\"Regressão\")\n",
    "\n",
    "\n",
    "plt.legend(title=\"Método\", bbox_to_anchor=(1, 0.5), loc=\"center left\")\n",
    "plt.grid()\n",
    "plt.title(\"Erros grau 10\")\n",
    "ax = plt.gca()"
   ]
  },
  {
   "cell_type": "code",
   "execution_count": 83,
   "metadata": {},
   "outputs": [],
   "source": [
    "assert len(ax.lines) == 3\n",
    "for l in ax.lines:\n",
    "    ys = l.get_ydata()\n",
    "    assert max(np.abs(ys)) < 1e-6"
   ]
  },
  {
   "cell_type": "markdown",
   "metadata": {},
   "source": [
    "Comente."
   ]
  },
  {
   "cell_type": "markdown",
   "metadata": {
    "deletable": false,
    "nbgrader": {
     "cell_type": "markdown",
     "checksum": "2e6af6661b799a0dd7ad692755a42992",
     "grade": true,
     "grade_id": "cell-3745cdedd0a58e23",
     "locked": false,
     "points": 1,
     "schema_version": 3,
     "solution": true,
     "task": false
    }
   },
   "source": [
    "**R:** O comportamento foi parecido, mas agora a diferença do erro em Taylos para os outros, nas extremidades, é muito maior. Também é possível notar, pelo gráfico abaixo, que o mesmo padrão oscilatório segue, mas agora o erro no polinômio da regressão tem raízes em valores mais distantes dos valores que dividem o intervalo em $d+1$ partes iguais, com $d$ sendo o grau do polinômio. Já o erro polinômio interpolador continua com as raízes próximas a esses valores, já que os pontos usados na interpolação estão próximos a esses valores. "
   ]
  },
  {
   "cell_type": "code",
   "execution_count": 101,
   "metadata": {},
   "outputs": [
    {
     "data": {
      "image/png": "[encoded data removed]",
      "text/plain": [
       "<Figure size 432x288 with 1 Axes>"
      ]
     },
     "metadata": {
      "needs_background": "light"
     },
     "output_type": "display_data"
    }
   ],
   "source": [
    "plt.plot(xs, abs(ys - p_interpolation(xs)), label=\"Interpolador\")\n",
    "plt.plot(xs, abs(ys - p_regression(xs)), label=\"Regressão\")\n",
    "\n",
    "plt.legend(title=\"Método\", bbox_to_anchor=(1, 0.5), loc=\"center left\")\n",
    "plt.title(\"Erros grau 10\")\n",
    "plt.grid()\n",
    "plt.xticks(np.linspace(-1, 1, num=11))\n",
    "ax = plt.gca()"
   ]
  },
  {
   "cell_type": "markdown",
   "metadata": {},
   "source": [
    "## Questão 10: Interpolando em um intervalo maior\n",
    "\n",
    "Agora, faça para a função `cauchy`, no intervalo $[-4,4]$.\n",
    "Como a série de Taylor (em zero) é simplesmente a \"fórmula da PG\":\n",
    "\n",
    "$$ \\text{cauchy}(x) = 1 - x^2 + x^4 - x^6 \\ldots, $$\n",
    "\n",
    "que não converge fora de $(-1,1)$,\n",
    "faça apenas dos polinômios de grau 5 (e depois 10) por Lagrange uniforme e por regressão."
   ]
  },
  {
   "cell_type": "code",
   "execution_count": null,
   "metadata": {
    "deletable": false,
    "nbgrader": {
     "cell_type": "code",
     "checksum": "8bd74ceddfb74cee89f1f78fb7190454",
     "grade": false,
     "grade_id": "cell-33cb1e72bbe65fcd",
     "locked": false,
     "schema_version": 3,
     "solution": true,
     "task": false
    }
   },
   "outputs": [],
   "source": [
    "# Ajuste em grau 5\n",
    "# YOUR CODE HERE\n",
    "raise NotImplementedError()\n",
    "\n",
    "plt.legend(title=\"Método\", bbox_to_anchor=(1, 0.5), loc=\"center left\")\n",
    "plt.grid()\n",
    "ax = plt.gca()"
   ]
  },
  {
   "cell_type": "code",
   "execution_count": null,
   "metadata": {
    "deletable": false,
    "editable": false,
    "nbgrader": {
     "cell_type": "code",
     "checksum": "f1069b4a023098b3df816f3a032a240b",
     "grade": true,
     "grade_id": "cell-a08adf82967bcfcb",
     "locked": true,
     "points": 1,
     "schema_version": 3,
     "solution": false,
     "task": false
    }
   },
   "outputs": [],
   "source": [
    "assert len(ax.lines) == 2\n",
    "for l in ax.lines:\n",
    "    ys = l.get_ydata()\n",
    "    assert max(np.abs(ys)) > 1e-1"
   ]
  },
  {
   "cell_type": "code",
   "execution_count": null,
   "metadata": {
    "deletable": false,
    "nbgrader": {
     "cell_type": "code",
     "checksum": "da8d5ee69bb99b4c905371d2256882e4",
     "grade": false,
     "grade_id": "cell-722ec09e8834ab2e",
     "locked": false,
     "schema_version": 3,
     "solution": true,
     "task": false
    }
   },
   "outputs": [],
   "source": [
    "# Ajuste em grau 10\n",
    "# YOUR CODE HERE\n",
    "raise NotImplementedError()\n",
    "\n",
    "plt.legend(title=\"Método\", bbox_to_anchor=(1, 0.5), loc=\"center left\")\n",
    "plt.grid()\n",
    "ax = plt.gca()"
   ]
  },
  {
   "cell_type": "code",
   "execution_count": null,
   "metadata": {
    "deletable": false,
    "editable": false,
    "nbgrader": {
     "cell_type": "code",
     "checksum": "ebf2bd4ec52e3d1788315f81220749c1",
     "grade": true,
     "grade_id": "cell-b57e46fcd05b1481",
     "locked": true,
     "points": 1,
     "schema_version": 3,
     "solution": false,
     "task": false
    }
   },
   "outputs": [],
   "source": [
    "assert len(ax.lines) == 2\n",
    "for l in ax.lines:\n",
    "    ys = l.get_ydata()\n",
    "    assert max(np.abs(ys)) > 1e-2"
   ]
  },
  {
   "cell_type": "markdown",
   "metadata": {},
   "source": [
    "O que você vê de diferente?"
   ]
  },
  {
   "cell_type": "markdown",
   "metadata": {
    "deletable": false,
    "nbgrader": {
     "cell_type": "markdown",
     "checksum": "f3d886a559bc45b9b77041a68f18c932",
     "grade": true,
     "grade_id": "cell-54c73cc651faa445",
     "locked": false,
     "points": 1,
     "schema_version": 3,
     "solution": true,
     "task": false
    }
   },
   "source": [
    "YOUR ANSWER HERE"
   ]
  },
  {
   "cell_type": "markdown",
   "metadata": {},
   "source": [
    "Faça, agora, para polinômios de grau 20. "
   ]
  },
  {
   "cell_type": "code",
   "execution_count": null,
   "metadata": {
    "deletable": false,
    "nbgrader": {
     "cell_type": "code",
     "checksum": "11a4c7318c7e3540642775248f103f30",
     "grade": false,
     "grade_id": "cell-7eb0028d834ff5ff",
     "locked": false,
     "schema_version": 3,
     "solution": true,
     "task": false
    }
   },
   "outputs": [],
   "source": [
    "# Ajuste em grau 20\n",
    "# YOUR CODE HERE\n",
    "raise NotImplementedError()"
   ]
  },
  {
   "cell_type": "markdown",
   "metadata": {},
   "source": [
    "Como o erro de ajuste evolui, ao aumentar $n$, para o método de Lagrange?\n",
    "E para o método de regressão?"
   ]
  },
  {
   "cell_type": "markdown",
   "metadata": {
    "deletable": false,
    "nbgrader": {
     "cell_type": "markdown",
     "checksum": "0209c1c805d034b4571eca94c9d208f4",
     "grade": true,
     "grade_id": "cell-ab3f6af99d5a9283",
     "locked": false,
     "points": 2,
     "schema_version": 3,
     "solution": true,
     "task": false
    }
   },
   "source": [
    "YOUR ANSWER HERE"
   ]
  }
 ],
 "metadata": {
  "kernelspec": {
   "display_name": "Python 3 (ipykernel)",
   "language": "python",
   "name": "python3"
  },
  "language_info": {
   "codemirror_mode": {
    "name": "ipython",
    "version": 3
   },
   "file_extension": ".py",
   "mimetype": "text/x-python",
   "name": "python",
   "nbconvert_exporter": "python",
   "pygments_lexer": "ipython3",
   "version": "3.9.12"
  },
  "metadata": {
   "interpreter": {
    "hash": "aa8e4de9f4426ab75fdef01f3d7947e2b3e9cfbdb80ba65115d4f20988c8517e"
   }
  }
 },
 "nbformat": 4,
 "nbformat_minor": 4
}
