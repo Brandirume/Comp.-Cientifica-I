{
 "cells": [
  {
   "cell_type": "markdown",
   "metadata": {},
   "source": [
    "![CC-BY-SA](https://mirrors.creativecommons.org/presskit/buttons/88x31/svg/by-sa.svg)\n",
    "\n",
    "\n",
    "This notebook was created by [Bernardo Freitas Paulo da Costa](http://www.im.ufrj.br/bernardofpc),\n",
    "and is licensed under Creative Commons BY-SA."
   ]
  },
  {
   "cell_type": "markdown",
   "metadata": {},
   "source": [
    "Antes de enviar este Teste, verifique que tudo está funcionando como esperado.\n",
    "Por exemplo, **rode o código inteiro, do zero**.\n",
    "Para isso, vá no menu, escolha _Kernel_, depois _Restart & Run All_.\n",
    "\n",
    "Verifique, também, que você respondeu todas as questões:\n",
    "* as questões de código têm `YOUR CODE HERE` (e você pode apagar o `raise NotImplemented` ao incluir sua resposta)\n",
    "* as questões discursivas têm \"YOUR ANSWER HERE\"."
   ]
  },
  {
   "cell_type": "markdown",
   "metadata": {},
   "source": [
    "---"
   ]
  },
  {
   "cell_type": "markdown",
   "metadata": {},
   "source": [
    "# Integrando funções menos regulares"
   ]
  },
  {
   "cell_type": "code",
   "execution_count": null,
   "metadata": {
    "deletable": false,
    "editable": false,
    "nbgrader": {
     "cell_type": "code",
     "checksum": "6deb08579ec373034e710565eec09399",
     "grade": false,
     "grade_id": "cell-0883be87dad8a37a",
     "locked": true,
     "schema_version": 3,
     "solution": false,
     "task": false
    }
   },
   "outputs": [],
   "source": [
    "import numpy as np\n",
    "import matplotlib.pyplot as plt"
   ]
  },
  {
   "cell_type": "code",
   "execution_count": null,
   "metadata": {
    "deletable": false,
    "nbgrader": {
     "cell_type": "code",
     "checksum": "c759f4542401856dcddf62c16972e0e6",
     "grade": false,
     "grade_id": "cell-25b2a1e4698b3883",
     "locked": false,
     "schema_version": 3,
     "solution": true,
     "task": false
    }
   },
   "outputs": [],
   "source": [
    "def midpoint(f, a, b, n=1000):\n",
    "    l, h = np.linspace(a,b, num=n, endpoint=False, retstep=True)\n",
    "    if n == 1:\n",
    "        h = abs(b-a)\n",
    "    mids = l + h/2\n",
    "    return np.sum(f(mids))*h\n",
    "\n",
    "def simpson(f, a, b, n=1000):\n",
    "    l, h = np.linspace(a, b, num=n, endpoint=False, retstep=True)\n",
    "    if n == 1:\n",
    "        h = abs(b-a)\n",
    "    mids = l + h/2\n",
    "    return (4*np.sum(f(mids)) + 2*np.sum(f(l)) + (f(b)-f(a))) * h/6"
   ]
  },
  {
   "cell_type": "code",
   "execution_count": null,
   "metadata": {
    "deletable": false,
    "editable": false,
    "nbgrader": {
     "cell_type": "code",
     "checksum": "24234f8137bdd812696bf83eee436eee",
     "grade": false,
     "grade_id": "cell-b5dc08dde552e0a8",
     "locked": true,
     "schema_version": 3,
     "solution": false,
     "task": false
    }
   },
   "outputs": [],
   "source": [
    "def f(x):\n",
    "    return np.abs(np.sin(x))"
   ]
  },
  {
   "cell_type": "markdown",
   "metadata": {},
   "source": [
    "## Questão 1: Primitiva\n",
    "\n",
    "Dê uma primitiva analítica de $f$.\n",
    "\n",
    "Dica: use a função `divmod` do python."
   ]
  },
  {
   "cell_type": "code",
   "execution_count": null,
   "metadata": {
    "deletable": false,
    "nbgrader": {
     "cell_type": "code",
     "checksum": "c334496229ed82e9cd8b871a3b13e5a1",
     "grade": false,
     "grade_id": "cell-ab540a7e7e80c2e9",
     "locked": false,
     "schema_version": 3,
     "solution": true,
     "task": false
    }
   },
   "outputs": [],
   "source": [
    "def F(x):\n",
    "    n = np.sign(np.sin(x))\n",
    "    s = divmod(x,np.pi)\n",
    "    return (-1 + 2*(np.sign(s[0]%2)))*np.cos(x) + 2*abs(s[0]) + 1\n"
   ]
  },
  {
   "cell_type": "code",
   "execution_count": null,
   "metadata": {
    "deletable": false,
    "editable": false,
    "nbgrader": {
     "cell_type": "code",
     "checksum": "5dbd85a58776a3877ed95a6248517cf6",
     "grade": true,
     "grade_id": "cell-3a001c03b90f0783",
     "locked": true,
     "points": 1,
     "schema_version": 3,
     "solution": false,
     "task": false
    }
   },
   "outputs": [],
   "source": [
    "assert np.isclose(F(10+0.1), F(10) + 0.1 * f(10), atol=1e-2)"
   ]
  },
  {
   "cell_type": "code",
   "execution_count": null,
   "metadata": {
    "deletable": false,
    "editable": false,
    "nbgrader": {
     "cell_type": "code",
     "checksum": "c72dcfa44d0e2765afbb5c8c1ab72bcc",
     "grade": true,
     "grade_id": "cell-324c73c9738ddcb5",
     "locked": true,
     "points": 1,
     "schema_version": 3,
     "solution": false,
     "task": false
    }
   },
   "outputs": [],
   "source": [
    "assert np.isclose(F(2+0.01), F(2) + 0.01 * f(2), atol=1e-4)"
   ]
  },
  {
   "cell_type": "code",
   "execution_count": null,
   "metadata": {
    "deletable": false,
    "editable": false,
    "nbgrader": {
     "cell_type": "code",
     "checksum": "65479ce3ffadcf070f5c7e5edbb1d805",
     "grade": true,
     "grade_id": "cell-7e35b488ce517af7",
     "locked": true,
     "points": 1,
     "schema_version": 3,
     "solution": false,
     "task": false
    },
    "scrolled": true
   },
   "outputs": [],
   "source": [
    "ts = np.linspace(0,10, num=200)\n",
    "Fts = F(ts)\n",
    "assert np.all(Fts[1:] > Fts[:-1])"
   ]
  },
  {
   "cell_type": "markdown",
   "metadata": {},
   "source": [
    "## Questão 2: Erros\n",
    "\n",
    "Faça um gráfico dos erros de integração de $f$\n",
    "pelos métodos do ponto médio e Simpson, no intervalo $[0,3]$"
   ]
  },
  {
   "cell_type": "code",
   "execution_count": null,
   "metadata": {
    "deletable": false,
    "nbgrader": {
     "cell_type": "code",
     "checksum": "9a58afc3d75eb42f3eb546e111c1d5b6",
     "grade": true,
     "grade_id": "cell-f522838820185ccf",
     "locked": false,
     "points": 1,
     "schema_version": 3,
     "solution": true,
     "task": false
    }
   },
   "outputs": [],
   "source": [
    "a, b = 0, 3\n",
    "exact = F(b) - F(a)\n",
    "ns = np.logspace(3,13, num=20, dtype=int, base=2)\n",
    "plt.loglog(ns, [abs(midpoint(f, a, b, n) - exact) for n in ns], label=\"midpoint\")\n",
    "plt.loglog(ns, [abs(simpson(f,a, b, n) - exact) for n in ns], label=\"simpson\")\n",
    "plt.legend()\n",
    "ax = plt.gca()"
   ]
  },
  {
   "cell_type": "code",
   "execution_count": null,
   "metadata": {
    "deletable": false,
    "editable": false,
    "nbgrader": {
     "cell_type": "code",
     "checksum": "f0a8add1dde34ebb462208af1494fd1a",
     "grade": true,
     "grade_id": "cell-9160718d1a3426a9",
     "locked": true,
     "points": 2,
     "schema_version": 3,
     "solution": false,
     "task": false
    }
   },
   "outputs": [],
   "source": [
    "assert len(ax.lines) == 2\n",
    "assert len(ax.legend().texts) == 2"
   ]
  },
  {
   "cell_type": "markdown",
   "metadata": {},
   "source": [
    "Agora, repita o gráfico para o intervalo $[0,6]$:"
   ]
  },
  {
   "cell_type": "code",
   "execution_count": null,
   "metadata": {
    "deletable": false,
    "nbgrader": {
     "cell_type": "code",
     "checksum": "9e13b51fa174a0571cd9d75b8834d022",
     "grade": false,
     "grade_id": "cell-e771e7f45189eb47",
     "locked": false,
     "schema_version": 3,
     "solution": true,
     "task": false
    }
   },
   "outputs": [],
   "source": [
    "a, b = 0, 6\n",
    "exact = F(b) - F(a)\n",
    "ns = np.logspace(3,13, num=20, dtype=int, base=2)\n",
    "plt.loglog(ns, [abs(midpoint(f, a, b, n) - exact) for n in ns], label=\"midpoint\")\n",
    "plt.loglog(ns, [abs(simpson(f,a, b, n) - exact) for n in ns], label=\"simpson\")\n",
    "plt.legend()\n",
    "ax = plt.gca()"
   ]
  },
  {
   "cell_type": "code",
   "execution_count": null,
   "metadata": {
    "deletable": false,
    "editable": false,
    "nbgrader": {
     "cell_type": "code",
     "checksum": "8572dacd499d53b4dcb701734e6c3889",
     "grade": true,
     "grade_id": "cell-ffe3f5d3cdbd5614",
     "locked": true,
     "points": 1,
     "schema_version": 3,
     "solution": false,
     "task": false
    }
   },
   "outputs": [],
   "source": [
    "assert len(ax.lines) == 2\n",
    "assert len(ax.legend().texts) == 2"
   ]
  },
  {
   "cell_type": "code",
   "execution_count": null,
   "metadata": {
    "deletable": false,
    "editable": false,
    "nbgrader": {
     "cell_type": "code",
     "checksum": "ee872aca1fdcc05322f5627567c84fab",
     "grade": true,
     "grade_id": "cell-bed176376358bb71",
     "locked": true,
     "points": 1,
     "schema_version": 3,
     "solution": false,
     "task": false
    }
   },
   "outputs": [],
   "source": [
    "for l in ax.lines:\n",
    "    assert 1e-10 < min(l.get_ydata()) < 1e-7"
   ]
  },
  {
   "cell_type": "markdown",
   "metadata": {},
   "source": [
    "Como esse gráfico é diferente do outro?"
   ]
  },
  {
   "cell_type": "markdown",
   "metadata": {
    "deletable": false,
    "nbgrader": {
     "cell_type": "markdown",
     "checksum": "4187cd94351499fdb7301b70be7eea97",
     "grade": true,
     "grade_id": "cell-d6d2104f2e3363f0",
     "locked": false,
     "points": 2,
     "schema_version": 3,
     "solution": true,
     "task": false
    }
   },
   "source": [
    "Além da ordem de grandeza ser menor, ou seja erro maior, este gráfico também apresenta diversas variações, ou descontinuidades, diferente do anterior."
   ]
  },
  {
   "cell_type": "markdown",
   "metadata": {},
   "source": [
    "Faça para mais um intervalo."
   ]
  },
  {
   "cell_type": "code",
   "execution_count": null,
   "metadata": {
    "deletable": false,
    "nbgrader": {
     "cell_type": "code",
     "checksum": "991124a0d6c93a5b0d6a7295aa40de7c",
     "grade": true,
     "grade_id": "cell-09c85288ab35fa07",
     "locked": false,
     "points": 1,
     "schema_version": 3,
     "solution": true,
     "task": false
    }
   },
   "outputs": [],
   "source": [
    "a, b = 0, np.pi\n",
    "exact = F(b) - F(a)\n",
    "ns = np.logspace(3,13, num=20, dtype=int, base=2)\n",
    "plt.loglog(ns, [abs(midpoint(f, a, b, n) - exact) for n in ns], label=\"midpoint\")\n",
    "plt.loglog(ns, [abs(simpson(f,a, b, n) - exact) for n in ns], label=\"simpson\")\n",
    "plt.legend()\n",
    "ax = plt.gca()"
   ]
  },
  {
   "cell_type": "markdown",
   "metadata": {},
   "source": [
    "Como isso ajuda a explicar o que você viu?"
   ]
  },
  {
   "cell_type": "markdown",
   "metadata": {
    "deletable": false,
    "nbgrader": {
     "cell_type": "markdown",
     "checksum": "0b381d2d7140e9cc738e596cf7410773",
     "grade": true,
     "grade_id": "cell-72c1540408517e44",
     "locked": false,
     "points": 1,
     "schema_version": 3,
     "solution": true,
     "task": false
    }
   },
   "source": [
    "Quando não há descontinuidade dentro do intervalo, o gráfico é liso, contínuo, esse novo gráfico demonstra isso ao usar o intervalo terminado em $\\pi$, evitando passar por pontos descontínuos "
   ]
  },
  {
   "cell_type": "markdown",
   "metadata": {},
   "source": [
    "## Questão 3: Encontrando o intervalo contendo $\\pi$\n",
    "\n",
    "Como $|\\sin(x)|$ não é derivável em $\\pi$, vamos ver quanto erro tem no sub-intervalo que \"atravessa\" $\\pi$.\n",
    "\n",
    "Escreva a função `I_x(a, b, x, n)` que retorna o intervalo contendo $x$ ao dividir $[a,b]$ em $n$ partes."
   ]
  },
  {
   "cell_type": "code",
   "execution_count": null,
   "metadata": {
    "deletable": false,
    "nbgrader": {
     "cell_type": "code",
     "checksum": "0b0aefe50155bfbca0e5f06ce73b0cf2",
     "grade": false,
     "grade_id": "cell-ebebd4ecbff8d451",
     "locked": false,
     "schema_version": 3,
     "solution": true,
     "task": false
    }
   },
   "outputs": [],
   "source": [
    "def I_x(a, b, x, n):\n",
    "    \"\"\"The interval  [xi, xi+h]  containing  x, when  [a,b]  is divided in  n  equal parts.\n",
    "    Returns  None  if  x  is outside  [a,b]\"\"\"\n",
    "    if (x-a)*(x-b) > 0:\n",
    "        return None\n",
    "    m = abs((b-a)/n)\n",
    "    ns = [a + m*i for i in range(n)]\n",
    "    ma = []\n",
    "    me = []\n",
    "    for i in range(len(ns)):\n",
    "        if ns[i]>x:\n",
    "            ma.append(ns[i])\n",
    "        if ns[i]<x:\n",
    "            me.append(ns[i])\n",
    "    ma = min(ma)\n",
    "    me = max(me)\n",
    "    return me, ma"
   ]
  },
  {
   "cell_type": "code",
   "execution_count": null,
   "metadata": {
    "deletable": false,
    "editable": false,
    "nbgrader": {
     "cell_type": "code",
     "checksum": "890bf3f11b4d2e5863acefb5266926a9",
     "grade": true,
     "grade_id": "cell-6a808a637616f751",
     "locked": true,
     "points": 1,
     "schema_version": 3,
     "solution": false,
     "task": false
    }
   },
   "outputs": [],
   "source": [
    "l, r = I_x(0, 6, np.pi, 10)\n",
    "assert np.isclose(l, 3)\n",
    "assert np.isclose(r, 3.6)"
   ]
  },
  {
   "cell_type": "code",
   "execution_count": null,
   "metadata": {
    "deletable": false,
    "editable": false,
    "nbgrader": {
     "cell_type": "code",
     "checksum": "30ba741487d0445f7ee0c9e75343af8d",
     "grade": true,
     "grade_id": "cell-046e03f8c340519a",
     "locked": true,
     "points": 1,
     "schema_version": 3,
     "solution": false,
     "task": false
    }
   },
   "outputs": [],
   "source": [
    "l, r = I_x(0, 60, np.pi, 10)\n",
    "assert l <= np.pi <= r"
   ]
  },
  {
   "cell_type": "code",
   "execution_count": null,
   "metadata": {
    "deletable": false,
    "editable": false,
    "nbgrader": {
     "cell_type": "code",
     "checksum": "78461e9ebd8b95c0c5fef2c73f66f742",
     "grade": true,
     "grade_id": "cell-776e14883a36013b",
     "locked": true,
     "points": 1,
     "schema_version": 3,
     "solution": false,
     "task": false
    }
   },
   "outputs": [],
   "source": [
    "l, r = I_x(0, 1, 0.4, 36)\n",
    "assert l < 0.4 < r"
   ]
  },
  {
   "cell_type": "markdown",
   "metadata": {},
   "source": [
    "Agora, faça o gráfico do erro de integração pelos métodos do ponto médio e de Simpson\n",
    "apenas no intervalo contendo a \"discontinuidade\" $\\pi$,\n",
    "em função de $n$."
   ]
  },
  {
   "cell_type": "code",
   "execution_count": null,
   "metadata": {
    "deletable": false,
    "nbgrader": {
     "cell_type": "code",
     "checksum": "15e815c96fc23124a5a97aee2bd9f008",
     "grade": false,
     "grade_id": "cell-a667781d9a71248b",
     "locked": false,
     "schema_version": 3,
     "solution": true,
     "task": false
    }
   },
   "outputs": [],
   "source": [
    "ns = np.logspace(3,13, num=20, dtype=int, base=2)\n",
    "y1, y2 = [], []\n",
    "for n in ns:\n",
    "    a, b = I_x(0,6,np.pi,n)\n",
    "    exact = (F(b)-F(a))\n",
    "    y1.append(abs(midpoint(f, a, b, 1) - exact)) \n",
    "    y2.append(abs(simpson(f,a, b, 1) - exact))\n",
    "plt.loglog(ns, y1, label=\"midpoint\")\n",
    "plt.loglog(ns, y2, label=\"simpson\")\n",
    "plt.legend()\n",
    "ax = plt.gca()"
   ]
  },
  {
   "cell_type": "code",
   "execution_count": null,
   "metadata": {
    "deletable": false,
    "editable": false,
    "nbgrader": {
     "cell_type": "code",
     "checksum": "2cf13e75d797ed187ea9bd405362b565",
     "grade": true,
     "grade_id": "cell-37ae30958f69fd59",
     "locked": true,
     "points": 1,
     "schema_version": 3,
     "solution": false,
     "task": false
    }
   },
   "outputs": [],
   "source": [
    "assert len(ax.lines) == 2\n",
    "assert len(ax.legend().texts) == 2"
   ]
  },
  {
   "cell_type": "code",
   "execution_count": null,
   "metadata": {
    "deletable": false,
    "editable": false,
    "nbgrader": {
     "cell_type": "code",
     "checksum": "a0685e6b2617dfa673bfe4f04e6d2df9",
     "grade": true,
     "grade_id": "cell-22932ced6fcb2767",
     "locked": true,
     "points": 1,
     "schema_version": 3,
     "solution": false,
     "task": false
    }
   },
   "outputs": [],
   "source": [
    "for l in ax.lines:\n",
    "    assert 1e-10 < min(l.get_ydata()) < 1e-7"
   ]
  },
  {
   "cell_type": "markdown",
   "metadata": {},
   "source": [
    "Quanto do erro de cada método é causado pelo erro em apenas um intervalo?\n",
    "\n",
    "Faça um gráfico comparando esses erros"
   ]
  },
  {
   "cell_type": "code",
   "execution_count": null,
   "metadata": {
    "deletable": false,
    "nbgrader": {
     "cell_type": "code",
     "checksum": "2ba69469793f5bbb9ab89cf831ec3d93",
     "grade": true,
     "grade_id": "cell-64ea43a87311541c",
     "locked": false,
     "points": 2,
     "schema_version": 3,
     "solution": true,
     "task": false
    }
   },
   "outputs": [],
   "source": [
    "ns = np.logspace(3,13, num=20, dtype=int, base=2)\n",
    "m1,m2, s1,s2 = [], [], [], []\n",
    "for n in ns:\n",
    "    a, b = I_x(0,6,np.pi,n)\n",
    "    exact = (F(b)-F(a))\n",
    "    m1.append(abs(midpoint(f, a, b, 1) - exact)) \n",
    "    s1.append(abs(simpson(f,a, b, 1) - exact))\n",
    "a, b = 0, 6\n",
    "exact = F(b)-F(a)\n",
    "m2 = [abs(midpoint(f, a, b, n) - exact) for n in ns]\n",
    "s2 = [abs(simpson(f,a, b, n) - exact) for n in ns]\n",
    "y1 = [(m1[i])/m2[i] for i in range(len(ns))]\n",
    "y2 = [(s1[i])/s2[i] for i in range(len(ns))]\n",
    "plt.loglog(ns, y1, label=\"midpoint\")\n",
    "plt.loglog(ns, y2, label=\"simpson\")\n",
    "plt.legend()\n",
    "ax = plt.gca()"
   ]
  },
  {
   "cell_type": "markdown",
   "metadata": {},
   "source": [
    "Mude a integral de $[0,6]$ por duas integrais, uma em $[0,\\pi]$ e outra em $[\\pi,6]$.\n",
    "Faça um gráfico comparando os erros dos 4 métodos:\n",
    "- Ponto médio vs Simpson\n",
    "- Integral única vs Integral em 2 partes\n",
    "\n",
    "Cuide de usar o mesmo número $n$ total de sub-intervalos, para não \"roubar\" em favor do que usa 2 intervalos :-)"
   ]
  },
  {
   "cell_type": "code",
   "execution_count": null,
   "metadata": {
    "deletable": false,
    "nbgrader": {
     "cell_type": "code",
     "checksum": "3c4d8761ea15afeb823e456f74a8b4d2",
     "grade": false,
     "grade_id": "cell-089770b7f62c0c00",
     "locked": false,
     "schema_version": 3,
     "solution": true,
     "task": false
    }
   },
   "outputs": [],
   "source": [
    "\n",
    "exact = F(b) - F(a)\n",
    "\n",
    "ns = np.logspace(3,13, num=20, dtype=int, base=2)\n",
    "y1, y2, y3, y4 = [], [], [], []\n",
    "\n",
    "for n in ns:\n",
    "    a, b = I_x(0,6,np.pi,n)\n",
    "    exact = (F(b)-F(a))\n",
    "    y1.append(abs(midpoint(f, a, b, 1) - exact)) \n",
    "    y2.append(abs(simpson(f,a, b, 1) - exact))\n",
    "\n",
    "a, c, b = 0, np.pi, 6\n",
    "exact = (F(b)-F(a))\n",
    "for n in ns:\n",
    "    y3.append(abs(midpoint(f, a, c, n/2) + midpoint(f, a, c, n/2) - exact)) \n",
    "    y4.append(abs(simpson(f,a, c, n/2) + simpson(f,c, b, n/2) - exact))    \n",
    "    \n",
    "plt.loglog(ns, y1, label=\"midpoint integral única\")\n",
    "plt.loglog(ns, y2, label=\"simpson integral única\")\n",
    "plt.loglog(ns, y3, label=\"midpoint 2 partes\")\n",
    "plt.loglog(ns, y4, label=\"simpson 2 partes\")\n",
    "plt.legend()\n",
    "ax = plt.gca()"
   ]
  },
  {
   "cell_type": "code",
   "execution_count": null,
   "metadata": {
    "deletable": false,
    "editable": false,
    "nbgrader": {
     "cell_type": "code",
     "checksum": "b088b94e4eaa58e395d014af11379841",
     "grade": true,
     "grade_id": "cell-91853f85eda5c297",
     "locked": true,
     "points": 1,
     "schema_version": 3,
     "solution": false,
     "task": false
    }
   },
   "outputs": [],
   "source": [
    "assert len(ax.lines) == 4\n",
    "assert len(ax.legend().texts) == 4"
   ]
  },
  {
   "cell_type": "markdown",
   "metadata": {},
   "source": [
    "O que você observa?\n",
    "O que você conclui?"
   ]
  },
  {
   "cell_type": "markdown",
   "metadata": {
    "deletable": false,
    "nbgrader": {
     "cell_type": "markdown",
     "checksum": "91c2b15c724beda5963606c1ecef177f",
     "grade": true,
     "grade_id": "cell-9b400f10460b7b4b",
     "locked": false,
     "points": 2,
     "schema_version": 3,
     "solution": true,
     "task": false
    }
   },
   "source": [
    "ambos método utilizados, quando calculada a integral por 2 partes, resultam em uma curva lisa, quando calculada por integral única, possuem algumas variações. No entando, o simpson em 2 partes é muito menor e decresce mais do que todos outros meios, diferente do midpoint em 2 partes, muito maior que todos outos. O ponto no qual o intervalo foi divido para calcular as integrais em 2 partes tem descontinuidade e, quando dividido, podemos evitá-la."
   ]
  }
 ],
 "metadata": {
  "kernelspec": {
   "display_name": "Python 3",
   "language": "python",
   "name": "python3"
  },
  "language_info": {
   "codemirror_mode": {
    "name": "ipython",
    "version": 3
   },
   "file_extension": ".py",
   "mimetype": "text/x-python",
   "name": "python",
   "nbconvert_exporter": "python",
   "pygments_lexer": "ipython3",
   "version": "3.7.3"
  }
 },
 "nbformat": 4,
 "nbformat_minor": 4
}
