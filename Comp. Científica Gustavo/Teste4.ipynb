{
 "cells": [
  {
   "cell_type": "markdown",
   "metadata": {
    "toc": true
   },
   "source": [
    "<h1>Table of Contents<span class=\"tocSkip\"></span></h1>\n",
    "<div class=\"toc\"><ul class=\"toc-item\"><li><span><a href=\"#Calculando-o-mínimo-de-uma-função\" data-toc-modified-id=\"Calculando-o-mínimo-de-uma-função-1\"><span class=\"toc-item-num\">1&nbsp;&nbsp;</span>Calculando o mínimo de uma função</a></span></li><li><span><a href=\"#1:-Funções-básicas\" data-toc-modified-id=\"1:-Funções-básicas-2\"><span class=\"toc-item-num\">2&nbsp;&nbsp;</span>1: Funções básicas</a></span><ul class=\"toc-item\"><li><span><a href=\"#Métodos-de-bisseção-e-Newton\" data-toc-modified-id=\"Métodos-de-bisseção-e-Newton-2.1\"><span class=\"toc-item-num\">2.1&nbsp;&nbsp;</span>Métodos de bisseção e Newton</a></span></li><li><span><a href=\"#Derivadas-numéricas\" data-toc-modified-id=\"Derivadas-numéricas-2.2\"><span class=\"toc-item-num\">2.2&nbsp;&nbsp;</span>Derivadas numéricas</a></span></li><li><span><a href=\"#Erro-de-aproximação-da-derivada-central-iterada\" data-toc-modified-id=\"Erro-de-aproximação-da-derivada-central-iterada-2.3\"><span class=\"toc-item-num\">2.3&nbsp;&nbsp;</span>Erro de aproximação da derivada central iterada</a></span></li></ul></li><li><span><a href=\"#2:-Um-problema-modelo\" data-toc-modified-id=\"2:-Um-problema-modelo-3\"><span class=\"toc-item-num\">3&nbsp;&nbsp;</span>2: Um problema modelo</a></span><ul class=\"toc-item\"><li><span><a href=\"#Preparando-a-bisseção\" data-toc-modified-id=\"Preparando-a-bisseção-3.1\"><span class=\"toc-item-num\">3.1&nbsp;&nbsp;</span>Preparando a bisseção</a></span></li><li><span><a href=\"#Gráficos-da-bisseção\" data-toc-modified-id=\"Gráficos-da-bisseção-3.2\"><span class=\"toc-item-num\">3.2&nbsp;&nbsp;</span>Gráficos da bisseção</a></span></li><li><span><a href=\"#Newton\" data-toc-modified-id=\"Newton-3.3\"><span class=\"toc-item-num\">3.3&nbsp;&nbsp;</span>Newton</a></span></li></ul></li><li><span><a href=\"#3:-O-mesmo-problema,-mais-complicado\" data-toc-modified-id=\"3:-O-mesmo-problema,-mais-complicado-4\"><span class=\"toc-item-num\">4&nbsp;&nbsp;</span>3: O mesmo problema, mais complicado</a></span></li></ul></div>"
   ]
  },
  {
   "cell_type": "markdown",
   "metadata": {},
   "source": [
    "![CC-BY-SA](https://mirrors.creativecommons.org/presskit/buttons/88x31/svg/by-sa.svg)\n",
    "\n",
    "\n",
    "This notebook was created by [Bernardo Freitas Paulo da Costa](http://www.im.ufrj.br/bernardofpc),\n",
    "and is licensed under Creative Commons BY-SA."
   ]
  },
  {
   "cell_type": "markdown",
   "metadata": {},
   "source": [
    "Antes de enviar este Teste, verifique que tudo está funcionando como esperado.\n",
    "Por exemplo, **rode o código inteiro, do zero**.\n",
    "Para isso, vá no menu, escolha _Kernel_, depois _Restart & Run All_.\n",
    "\n",
    "Verifique, também, que você respondeu todas as questões:\n",
    "* as questões de código têm `YOUR CODE HERE` (e você pode apagar o `raise NotImplemented` ao incluir sua resposta)\n",
    "* as questões discursivas têm \"YOUR ANSWER HERE\"."
   ]
  },
  {
   "cell_type": "markdown",
   "metadata": {},
   "source": [
    "---"
   ]
  },
  {
   "cell_type": "markdown",
   "metadata": {},
   "source": [
    "Ideias e funções: Luan Lima \\& Bernardo Costa"
   ]
  },
  {
   "cell_type": "code",
   "execution_count": 1,
   "metadata": {
    "deletable": false,
    "editable": false,
    "nbgrader": {
     "cell_type": "code",
     "checksum": "fad3c375e7e9bea49e1af8a31ba4ae42",
     "grade": false,
     "grade_id": "cell-65e15f0c80a778ad",
     "locked": true,
     "schema_version": 3,
     "solution": false,
     "task": false
    }
   },
   "outputs": [],
   "source": [
    "import numpy as np\n",
    "import matplotlib.pyplot as plt"
   ]
  },
  {
   "cell_type": "markdown",
   "metadata": {
    "deletable": false,
    "editable": false,
    "nbgrader": {
     "cell_type": "markdown",
     "checksum": "f0356207f3ddab37b3a572f7ea4b12e9",
     "grade": false,
     "grade_id": "cell-a29e7d7add82d4c0",
     "locked": true,
     "schema_version": 3,
     "solution": false,
     "task": false
    }
   },
   "source": [
    "# Calculando o mínimo de uma função\n",
    "\n",
    "Encontrar o mínimo de uma função derivável é (quase) equivalente a resolver a equação $f'(x) = 0$.\n",
    "\n",
    "Vamos explorar algumas destas ideias."
   ]
  },
  {
   "cell_type": "markdown",
   "metadata": {
    "deletable": false,
    "editable": false,
    "nbgrader": {
     "cell_type": "markdown",
     "checksum": "9309a02cac44696888270aa5581d5d95",
     "grade": false,
     "grade_id": "cell-4c63876feb475715",
     "locked": true,
     "schema_version": 3,
     "solution": false,
     "task": false
    }
   },
   "source": [
    "# 1: Funções básicas\n",
    "\n",
    "## Métodos de bisseção e Newton"
   ]
  },
  {
   "cell_type": "code",
   "execution_count": 2,
   "metadata": {
    "deletable": false,
    "nbgrader": {
     "cell_type": "code",
     "checksum": "da15f4441c6a20aaed87fe0ab02f3364",
     "grade": false,
     "grade_id": "cell-b115a314a5fec568",
     "locked": false,
     "schema_version": 3,
     "solution": true,
     "task": false
    }
   },
   "outputs": [],
   "source": [
    "def bissecao_pts(f, a, b, xtol=1e-8, ytol=1e-8, maxiter=100):\n",
    "    \"\"\"\n",
    "    Encontra uma raiz de  f  pelo algoritmo da bissecao, retornando\n",
    "    todos os pontos pelos quais o algoritmo passa.\n",
    "    \"\"\"\n",
    "    iters = 0\n",
    "    m = (a+b)/2\n",
    "    pts = [m]\n",
    "    fm = f(m)\n",
    "    while abs(b-a)>xtol and abs(fm)>ytol and iters<maxiter:\n",
    "        if f(a)*fm<0:\n",
    "            if a not in pts: pts.append(a);\n",
    "            b = m\n",
    "        elif f(b)*fm<0:\n",
    "            if b not in pts: pts.append(b);\n",
    "            a = m\n",
    "        elif fm==0:\n",
    "            return m, pts\n",
    "        else:\n",
    "            if f(a)==0:\n",
    "                if a not in pts: pts.append(a);\n",
    "                return a, pts\n",
    "            if f(b)==0:\n",
    "                if b not in pts: pts.append(b);\n",
    "                return b, pts\n",
    "            else: \n",
    "                return \"sem resposta\", pts\n",
    "        m = (a+b)/2\n",
    "        fm = f(m)\n",
    "        if m not in pts: pts.append(m);\n",
    "        iters+=1\n",
    "    return pts"
   ]
  },
  {
   "cell_type": "code",
   "execution_count": 3,
   "metadata": {
    "deletable": false,
    "nbgrader": {
     "cell_type": "code",
     "checksum": "607f2b0a74a5256049a9f7d4216cfa0f",
     "grade": false,
     "grade_id": "cell-0b468dfa529cf20c",
     "locked": false,
     "schema_version": 3,
     "solution": true,
     "task": false
    }
   },
   "outputs": [],
   "source": [
    "def newton_pts(f, df, x, xtol=1e-8, ytol=1e-8, maxiter=100):\n",
    "    \"\"\"\n",
    "    Método de Newton para encontrar uma raiz de  f  a partir do valor inicial  x.\n",
    "    Retorna todos os pontos pelos quais o algoritmo passa.\n",
    "    \"\"\"\n",
    "    fx = f(x)\n",
    "    step = fx/df(x)\n",
    "    iters = 0\n",
    "    pts = [x]\n",
    "    while abs(fx)>ytol and abs(step)>xtol and iters < maxiter:\n",
    "        x = x - step\n",
    "        fx = f(x)\n",
    "        step = fx/df(x)\n",
    "        if x not in pts: pts.append(x);\n",
    "        iters+=1\n",
    "    return pts"
   ]
  },
  {
   "cell_type": "markdown",
   "metadata": {
    "deletable": false,
    "editable": false,
    "nbgrader": {
     "cell_type": "markdown",
     "checksum": "b1294b72c66ed0608c69193bd6915a5b",
     "grade": false,
     "grade_id": "cell-6ff29452853ee3a2",
     "locked": true,
     "schema_version": 3,
     "solution": false,
     "task": false
    }
   },
   "source": [
    "## Derivadas numéricas"
   ]
  },
  {
   "cell_type": "code",
   "execution_count": 4,
   "metadata": {
    "deletable": false,
    "nbgrader": {
     "cell_type": "code",
     "checksum": "017080c36145ceee19aa97e75720bd2e",
     "grade": false,
     "grade_id": "cell-1daa58322d288c07",
     "locked": false,
     "schema_version": 3,
     "solution": true,
     "task": false
    }
   },
   "outputs": [],
   "source": [
    "def df_central(f, x, h=1e-5):\n",
    "    \"\"\"Derivada central de  f  em  x, com passo  h\"\"\"\n",
    "    d = (f(x + h) - f(x-h))/(2*h)\n",
    "    return d\n",
    "\n",
    "def ddf_central(f, x, h=1e-4):\n",
    "    \"\"\"Aproximação da segunda derivada de  f  em  x, usando a derivada central iterada com passo  h.\"\"\"\n",
    "    d1 = lambda x: df_central(f,x,h)\n",
    "    return df_central(d1, x, h)\n"
   ]
  },
  {
   "cell_type": "markdown",
   "metadata": {
    "deletable": false,
    "editable": false,
    "nbgrader": {
     "cell_type": "markdown",
     "checksum": "5b715c646555740b82fd514ffc215c78",
     "grade": false,
     "grade_id": "cell-c16d8a91f6447f9a",
     "locked": true,
     "schema_version": 3,
     "solution": false,
     "task": false
    }
   },
   "source": [
    "## Erro de aproximação da derivada central iterada\n",
    "\n",
    "Varie $h$ no intervalo $[2^{-27}, 2^0]$,\n",
    "e faça um gráfico do erro da derivada central iterada para derivada segunda,\n",
    "para a exponencial em $x = 0$."
   ]
  },
  {
   "cell_type": "code",
   "execution_count": 5,
   "metadata": {
    "deletable": false,
    "nbgrader": {
     "cell_type": "code",
     "checksum": "48465f1971e3970e495c481aa5edce90",
     "grade": false,
     "grade_id": "cell-f9ef9935a20af648",
     "locked": false,
     "schema_version": 3,
     "solution": true,
     "task": false
    }
   },
   "outputs": [
    {
     "data": {
      "image/png": "[encoded data removed]",
      "text/plain": [
       "<Figure size 432x288 with 1 Axes>"
      ]
     },
     "metadata": {
      "needs_background": "light"
     },
     "output_type": "display_data"
    }
   ],
   "source": [
    "hs = np.logspace(-27,0,base=2, num=100)\n",
    "f = lambda x: np.exp(x)\n",
    "y = [abs(ddf_central(f, 0, h)-np.exp(0)) for h in hs]\n",
    "plt.loglog(hs, y)\n",
    "plt.title(\"Erro da derivada central de exp(0) para diferentes h\")\n",
    "plt.xlabel(\"h\")\n",
    "plt.ylabel(\"Erro\")\n",
    "ax = plt.gca()"
   ]
  },
  {
   "cell_type": "code",
   "execution_count": 6,
   "metadata": {
    "deletable": false,
    "editable": false,
    "nbgrader": {
     "cell_type": "code",
     "checksum": "1123815067d547cb7964991529b1afe7",
     "grade": true,
     "grade_id": "cell-b05755409653a3ae",
     "locked": true,
     "points": 1,
     "schema_version": 3,
     "solution": false,
     "task": false
    }
   },
   "outputs": [],
   "source": [
    "assert len(ax.lines) == 1\n",
    "assert ax.title.get_text() != \"\"\n",
    "assert ax.get_xlabel() != \"\""
   ]
  },
  {
   "cell_type": "markdown",
   "metadata": {
    "deletable": false,
    "editable": false,
    "nbgrader": {
     "cell_type": "markdown",
     "checksum": "c06e999b9687092a631395757269665d",
     "grade": false,
     "grade_id": "cell-ae0793549d9e71a6",
     "locked": true,
     "schema_version": 3,
     "solution": false,
     "task": false
    }
   },
   "source": [
    "Como esse gráfico muda se escolhermos outros pontos no intervalo $[-2,2]$?\n",
    "\n",
    "Obs: Use erros relativos!"
   ]
  },
  {
   "cell_type": "code",
   "execution_count": 7,
   "metadata": {
    "deletable": false,
    "nbgrader": {
     "cell_type": "code",
     "checksum": "dd15fe897c27a33df3d529a16533c1d9",
     "grade": false,
     "grade_id": "cell-cd0d59a4500b0609",
     "locked": false,
     "schema_version": 3,
     "solution": true,
     "task": false
    }
   },
   "outputs": [
    {
     "name": "stderr",
     "output_type": "stream",
     "text": [
      "C:\\Users\\gusta\\Anaconda3\\lib\\site-packages\\ipykernel_launcher.py:7: RuntimeWarning: divide by zero encountered in double_scalars\n",
      "  import sys\n",
      "C:\\Users\\gusta\\Anaconda3\\lib\\site-packages\\ipykernel_launcher.py:7: RuntimeWarning: invalid value encountered in double_scalars\n",
      "  import sys\n"
     ]
    },
    {
     "data": {
      "image/png": "[encoded data removed]",
      "text/plain": [
       "<Figure size 432x288 with 1 Axes>"
      ]
     },
     "metadata": {
      "needs_background": "light"
     },
     "output_type": "display_data"
    }
   ],
   "source": [
    "hs = np.logspace(-27,0,base=2, num=100)\n",
    "xs = np.linspace(-2,2,num=9)\n",
    "yp = y\n",
    "\n",
    "for x in xs:\n",
    "    ys = [abs((ddf_central(f, x, h)-np.exp(x))) for h in hs]\n",
    "    ys = [ys[i]/y[i] for i in range(100)] \n",
    "    plt.loglog(hs, ys, label=f\"{x}\")\n",
    "\n",
    "plt.legend(title=\"x\", bbox_to_anchor=(1,0.5), loc=\"center left\")\n",
    "plt.title(\"Erro relativo da segunda derivada de exp(x) para diferentes valores de h\")\n",
    "plt.ylabel(\"Erro\")\n",
    "plt.xlabel(\"h\")\n",
    "ax = plt.gca()"
   ]
  },
  {
   "cell_type": "code",
   "execution_count": 8,
   "metadata": {
    "deletable": false,
    "editable": false,
    "nbgrader": {
     "cell_type": "code",
     "checksum": "e20f49160d619397e041d7cf3915f22b",
     "grade": true,
     "grade_id": "cell-9c6df51d67a4e19a",
     "locked": true,
     "points": 2,
     "schema_version": 3,
     "solution": false,
     "task": false
    }
   },
   "outputs": [],
   "source": [
    "assert len(ax.lines) >= 8\n",
    "assert ax.title.get_text() != \"\"\n",
    "assert ax.get_xlabel() != \"\""
   ]
  },
  {
   "cell_type": "markdown",
   "metadata": {
    "deletable": false,
    "editable": false,
    "nbgrader": {
     "cell_type": "markdown",
     "checksum": "b34daa4b20059e25e7944c7c5527338e",
     "grade": false,
     "grade_id": "cell-f384f93ee7b42f89",
     "locked": true,
     "schema_version": 3,
     "solution": false,
     "task": false
    }
   },
   "source": [
    "Comente."
   ]
  },
  {
   "cell_type": "markdown",
   "metadata": {
    "deletable": false,
    "nbgrader": {
     "cell_type": "markdown",
     "checksum": "541195bc2b2a521df317d40a8c12fb7c",
     "grade": true,
     "grade_id": "cell-729164762fe133a2",
     "locked": false,
     "points": 2,
     "schema_version": 3,
     "solution": true,
     "task": false
    }
   },
   "source": [
    "Para valores de x maiores que 0, a ordem de grandeza do erro aumenta; para velores menores, diminui. Na primeira metade dos valores de h, todos os erros de todos os x, variam desordenadamente por conta do truncamento. Na segunda metade os valores são relativamente constantes em suas ordens de grandeza. Como os erros foram feitos relativamente, dividindo pelo erro com x=0, alguns pontos não estão definidos quando a divisão seria por um erro considerado 0."
   ]
  },
  {
   "cell_type": "markdown",
   "metadata": {
    "deletable": false,
    "editable": false,
    "nbgrader": {
     "cell_type": "markdown",
     "checksum": "94e002dee6039be77bd85c9094adc79a",
     "grade": false,
     "grade_id": "cell-f73db6f03ad40c68",
     "locked": true,
     "schema_version": 3,
     "solution": false,
     "task": false
    }
   },
   "source": [
    "# 2: Um problema modelo\n",
    "\n",
    "Vamos minimizar a função $f(x) = e^x - 2x$."
   ]
  },
  {
   "cell_type": "code",
   "execution_count": 9,
   "metadata": {
    "deletable": false,
    "editable": false,
    "nbgrader": {
     "cell_type": "code",
     "checksum": "258a73b0040029bcbb6ba512bb1a0901",
     "grade": false,
     "grade_id": "cell-50e439bd375c6d83",
     "locked": true,
     "schema_version": 3,
     "solution": false,
     "task": false
    }
   },
   "outputs": [],
   "source": [
    "def f(x):\n",
    "    return np.exp(x) - 2*x"
   ]
  },
  {
   "cell_type": "markdown",
   "metadata": {
    "deletable": false,
    "editable": false,
    "nbgrader": {
     "cell_type": "markdown",
     "checksum": "4eb888fa284466b2ceb633d7457dad99",
     "grade": false,
     "grade_id": "cell-e3d3efb25ad5cc63",
     "locked": true,
     "schema_version": 3,
     "solution": false,
     "task": false
    }
   },
   "source": [
    "## Preparando a bisseção\n",
    "\n",
    "Escreva 3 funções:\n",
    "- a derivada analítica $g_1(x) = f'(x)$\n",
    "- a derivada central $g_2(x)$ com passo `h = 1e-3`\n",
    "- a derivada central $g_2(x)$ com passo `h = 1e-5`"
   ]
  },
  {
   "cell_type": "code",
   "execution_count": 10,
   "metadata": {
    "deletable": false,
    "nbgrader": {
     "cell_type": "code",
     "checksum": "db10c8b675effc6aed57ab25fda764a1",
     "grade": false,
     "grade_id": "cell-24a45d23c8e14f1d",
     "locked": false,
     "schema_version": 3,
     "solution": true,
     "task": false
    }
   },
   "outputs": [],
   "source": [
    "def g1(x):\n",
    "    return np.exp(x) - 2\n",
    "\n",
    "def g2(x):\n",
    "    return df_central(f, x, h=1e-3)\n",
    "\n",
    "def g3(x):\n",
    "    return df_central(f, x, h=1e-5)"
   ]
  },
  {
   "cell_type": "code",
   "execution_count": 11,
   "metadata": {
    "deletable": false,
    "editable": false,
    "nbgrader": {
     "cell_type": "code",
     "checksum": "9bad8fc87cb31dbed9ebd102c3914d35",
     "grade": true,
     "grade_id": "cell-29fc4f72f2ac4d50",
     "locked": true,
     "points": 2,
     "schema_version": 3,
     "solution": false,
     "task": false
    }
   },
   "outputs": [],
   "source": [
    "np.random.seed(41)\n",
    "for x in np.random.rand(10):\n",
    "    assert np.isclose(g1(x), g2(x)), x\n",
    "    assert np.isclose(g1(x), g3(x)), x"
   ]
  },
  {
   "cell_type": "markdown",
   "metadata": {
    "deletable": false,
    "editable": false,
    "nbgrader": {
     "cell_type": "markdown",
     "checksum": "b08068b8f965d045973eee6f5c1df9b2",
     "grade": false,
     "grade_id": "cell-829fb63ccb4c0cca",
     "locked": true,
     "schema_version": 3,
     "solution": false,
     "task": false
    }
   },
   "source": [
    "Faça o gráfico de $f(x)$ e determine um intervalo para fazer bisseção para encontrar um zero da derivada."
   ]
  },
  {
   "cell_type": "code",
   "execution_count": 12,
   "metadata": {
    "deletable": false,
    "nbgrader": {
     "cell_type": "code",
     "checksum": "5edb59d346550a5328f3a7631ee43ccc",
     "grade": false,
     "grade_id": "cell-a58ac0f52b122daf",
     "locked": false,
     "schema_version": 3,
     "solution": true,
     "task": false
    }
   },
   "outputs": [
    {
     "data": {
      "image/png": "[encoded data removed]",
      "text/plain": [
       "<Figure size 432x288 with 1 Axes>"
      ]
     },
     "metadata": {
      "needs_background": "light"
     },
     "output_type": "display_data"
    }
   ],
   "source": [
    "xs = np.linspace(0.6,0.8,201)\n",
    "plt.plot(xs,f(xs))\n",
    "plt.title(\"Gráfico de f(x) próximo do zero da derivada\")\n",
    "ax = plt.gca()"
   ]
  },
  {
   "cell_type": "code",
   "execution_count": 13,
   "metadata": {
    "deletable": false,
    "editable": false,
    "nbgrader": {
     "cell_type": "code",
     "checksum": "ea476aa7ebd6797fcd4bbde18628c64d",
     "grade": true,
     "grade_id": "cell-0cb823848a9c5e2a",
     "locked": true,
     "points": 1,
     "schema_version": 3,
     "solution": false,
     "task": false
    }
   },
   "outputs": [],
   "source": [
    "assert len(ax.lines) == 1\n",
    "assert ax.title.get_text() != \"\""
   ]
  },
  {
   "cell_type": "markdown",
   "metadata": {
    "deletable": false,
    "editable": false,
    "nbgrader": {
     "cell_type": "markdown",
     "checksum": "24d0428ef62235734304e2dc752bc3dd",
     "grade": false,
     "grade_id": "cell-cad1aa84b713fa03",
     "locked": true,
     "schema_version": 3,
     "solution": false,
     "task": false
    }
   },
   "source": [
    "Qual intervalo você escolheria?\n",
    "Porquê?"
   ]
  },
  {
   "cell_type": "markdown",
   "metadata": {
    "deletable": false,
    "nbgrader": {
     "cell_type": "markdown",
     "checksum": "c5facd8e4669f216c60015a4fccac44a",
     "grade": true,
     "grade_id": "cell-747a80c3022bd503",
     "locked": false,
     "points": 1,
     "schema_version": 3,
     "solution": true,
     "task": false
    }
   },
   "source": [
    "Escolheria o intervalo $[0.6,0.8]$, pois pelo gráfico há um ponto de mínimo dentro dele e é seguro e suficientemente pequeno. "
   ]
  },
  {
   "cell_type": "markdown",
   "metadata": {
    "deletable": false,
    "editable": false,
    "nbgrader": {
     "cell_type": "markdown",
     "checksum": "1e82977f797c04ea5e49000032bb19ba",
     "grade": false,
     "grade_id": "cell-e16fe2100c91ac0b",
     "locked": true,
     "schema_version": 3,
     "solution": false,
     "task": false
    }
   },
   "source": [
    "## Gráficos da bisseção\n",
    "\n",
    "Aplique o método da bisseção usando $g_1$, $g_2$ e $g_3$ para encontrar uma raiz de $f$.\n",
    "\n",
    "Faça um gráfico mostrando como evolui (ao longo das iterações)\n",
    "a distância do ponto considerado até a raiz ($\\log(2)$),\n",
    "para cada um dos métodos."
   ]
  },
  {
   "cell_type": "code",
   "execution_count": 14,
   "metadata": {
    "deletable": false,
    "nbgrader": {
     "cell_type": "code",
     "checksum": "536e45660e994de7d3936c6ea48fa178",
     "grade": false,
     "grade_id": "cell-5898a28e8d84011e",
     "locked": false,
     "schema_version": 3,
     "solution": true,
     "task": false
    }
   },
   "outputs": [
    {
     "data": {
      "image/png": "[encoded data removed]",
      "text/plain": [
       "<Figure size 432x288 with 1 Axes>"
      ]
     },
     "metadata": {
      "needs_background": "light"
     },
     "output_type": "display_data"
    }
   ],
   "source": [
    "iters = np.linspace(1,100,100)\n",
    "plt.semilogy(iters, [abs(bissecao_pts(g1, 0.6, 0.8, maxiter=i)[-1] - np.log(2)) for i in iters], label=\"g1\")\n",
    "plt.semilogy(iters, [abs(bissecao_pts(g2, 0.6, 0.8, maxiter=i)[-1] - np.log(2)) for i in iters], label=\"g2\", linestyle=\"--\")\n",
    "plt.semilogy(iters, [abs(bissecao_pts(g3, 0.6, 0.8, maxiter=i)[-1] - np.log(2)) for i in iters], label=\"g3\", linestyle=\":\")\n",
    "\n",
    "plt.title(\"Evolução da distância entre a raíz e o retorno da bisseção\")\n",
    "plt.xlabel(\"iterações\")\n",
    "plt.legend()\n",
    "\n",
    "ax = plt.gca()"
   ]
  },
  {
   "cell_type": "code",
   "execution_count": 15,
   "metadata": {
    "deletable": false,
    "editable": false,
    "nbgrader": {
     "cell_type": "code",
     "checksum": "371a5eb6691e3a545842396edccb0a4b",
     "grade": true,
     "grade_id": "cell-6c548be9ea138bca",
     "locked": true,
     "points": 2,
     "schema_version": 3,
     "solution": false,
     "task": false
    }
   },
   "outputs": [],
   "source": [
    "assert len(ax.lines) == 3\n",
    "assert len(ax.legend().texts) == 3\n",
    "assert ax.title.get_text() != \"\"\n",
    "assert ax.get_xlabel() != \"\""
   ]
  },
  {
   "cell_type": "markdown",
   "metadata": {
    "deletable": false,
    "editable": false,
    "nbgrader": {
     "cell_type": "markdown",
     "checksum": "7ceaa67e3078c8fd2ffda661a9a0df13",
     "grade": false,
     "grade_id": "cell-25c5ce8287aa00a4",
     "locked": true,
     "schema_version": 3,
     "solution": false,
     "task": false
    }
   },
   "source": [
    "O que você vê no gráfico acima?\n",
    "Como você explica?"
   ]
  },
  {
   "cell_type": "markdown",
   "metadata": {
    "deletable": false,
    "nbgrader": {
     "cell_type": "markdown",
     "checksum": "08a80b4de713a17fe757e076d555bd09",
     "grade": true,
     "grade_id": "cell-b7f111b2be544b98",
     "locked": false,
     "points": 2,
     "schema_version": 3,
     "solution": true,
     "task": false
    }
   },
   "source": [
    "Até um número próximo de 20 iterações os três gráficos estavam identicos, passando nos mesmos pontos, oscilando em torno de uma reta com inclinação negativa. Ainda mais próximo de 20 iterações, os erros de g1 e g3 têm uma queda maior, mas ainda passando pelos mesmos pontos e g2 para de diminuir. Depois disso, de mais ou menos 20 iterações em diante, todas viraram uma reta horizontal, diferindo apenas da altura em que estão. g1 e g3, juntas estão bem mais abaixo da g2. A precisão da g2 é limitada pelo valor de h da definição dela. g1, não possui limitente por definição, então limita-se pela bisseção, e g3 como tem valor de h bem pequeno, permitindo maior precisão, consegue atingir o limite padrão da bisseção, junto com g1."
   ]
  },
  {
   "cell_type": "markdown",
   "metadata": {
    "deletable": false,
    "editable": false,
    "nbgrader": {
     "cell_type": "markdown",
     "checksum": "8dbccd2631fc56a8ad603f9008b64063",
     "grade": false,
     "grade_id": "cell-23da70c6d88da324",
     "locked": true,
     "schema_version": 3,
     "solution": false,
     "task": false
    }
   },
   "source": [
    "## Newton\n",
    "\n",
    "Para usar o método de Newton, será necessário usarmos mais uma derivada numérica.\n",
    "\n",
    "Implemente\n",
    "- $h_1(x)$, a segunda derivada analítica, e\n",
    "- $h_2(x)$ a derivada numérica (que pode ser obtida a partir de `ddf_central`)."
   ]
  },
  {
   "cell_type": "code",
   "execution_count": 16,
   "metadata": {
    "deletable": false,
    "nbgrader": {
     "cell_type": "code",
     "checksum": "5404878115634b009970291c4afae16f",
     "grade": false,
     "grade_id": "cell-6f3276844ea70932",
     "locked": false,
     "schema_version": 3,
     "solution": true,
     "task": false
    }
   },
   "outputs": [],
   "source": [
    "def h1(x):\n",
    "    return np.exp(x)\n",
    "\n",
    "def h2(x):\n",
    "    return ddf_central(f, x)"
   ]
  },
  {
   "cell_type": "code",
   "execution_count": 17,
   "metadata": {
    "deletable": false,
    "editable": false,
    "nbgrader": {
     "cell_type": "code",
     "checksum": "b03ce24db28b1b65b76091ac88b7b84f",
     "grade": true,
     "grade_id": "cell-c10da51972d62af4",
     "locked": true,
     "points": 1,
     "schema_version": 3,
     "solution": false,
     "task": false
    }
   },
   "outputs": [],
   "source": [
    "np.random.seed(41)\n",
    "for x in np.random.rand(10):\n",
    "    assert np.isclose(h1(x), h2(x)), x"
   ]
  },
  {
   "cell_type": "markdown",
   "metadata": {
    "deletable": false,
    "editable": false,
    "nbgrader": {
     "cell_type": "markdown",
     "checksum": "16d6f04597392e72afb177d7a4aed7c7",
     "grade": false,
     "grade_id": "cell-2e22f9380c6d0178",
     "locked": true,
     "schema_version": 3,
     "solution": false,
     "task": false
    }
   },
   "source": [
    "Agora, aplique o método de Newton (com tolerâncias padrão):\n",
    "- com ambas as derivadas analíticas\n",
    "- com a primeira derivada analítica, e a segunda numérica\n",
    "- com ambas as derivadas numéricas (use a \"melhor\" derivada central que você puder).\n",
    "\n",
    "Faça, como no caso da bisseção, o gráfico da distância até a mínimo da função."
   ]
  },
  {
   "cell_type": "code",
   "execution_count": 31,
   "metadata": {
    "deletable": false,
    "nbgrader": {
     "cell_type": "code",
     "checksum": "55cf4c6fc14a5618fa060ef44894ccbd",
     "grade": false,
     "grade_id": "cell-1d13bf7169526341",
     "locked": false,
     "schema_version": 3,
     "solution": true,
     "task": false
    }
   },
   "outputs": [
    {
     "data": {
      "image/png": "[encoded data removed]",
      "text/plain": [
       "<Figure size 432x288 with 1 Axes>"
      ]
     },
     "metadata": {
      "needs_background": "light"
     },
     "output_type": "display_data"
    }
   ],
   "source": [
    "iters = np.linspace(1,100,100)\n",
    "\n",
    "plt.loglog(iters, [abs(newton_pts(g1, h1, 0.65, maxiter=i)[-1]-np.log(2)) for i in iters], label=\"g1 e h1\", linestyle=\"dotted\")\n",
    "\n",
    "plt.loglog(iters, [abs(newton_pts(g1, h2, 0.65, maxiter=i)[-1]-np.log(2)) for i in iters], label=\"g1 e h2\")\n",
    "\n",
    "plt.loglog(iters, [abs(newton_pts(g2, h2, 0.65, maxiter=i)[-1]-np.log(2)) for i in iters], label=\"g2 e h2\", linestyle=\"--\")\n",
    "\n",
    "plt.legend()\n",
    "plt.title(\"Evolução da distancia\");\n",
    "plt.xlabel(\"iterações\");\n",
    "ax = plt.gca();"
   ]
  },
  {
   "cell_type": "code",
   "execution_count": 19,
   "metadata": {
    "deletable": false,
    "editable": false,
    "nbgrader": {
     "cell_type": "code",
     "checksum": "ace81e81269c29557de33862e75e13c8",
     "grade": true,
     "grade_id": "cell-66860f1fda7d0769",
     "locked": true,
     "points": 1,
     "schema_version": 3,
     "solution": false,
     "task": false
    }
   },
   "outputs": [],
   "source": [
    "assert len(ax.lines) == 3\n",
    "assert len(ax.legend().texts) == 3\n",
    "assert ax.title.get_text() != \"\"\n",
    "assert ax.get_xlabel() != \"\""
   ]
  },
  {
   "cell_type": "markdown",
   "metadata": {
    "deletable": false,
    "editable": false,
    "nbgrader": {
     "cell_type": "markdown",
     "checksum": "c7f395843dd76b9406656cd4a989c80b",
     "grade": false,
     "grade_id": "cell-80622fba5962c988",
     "locked": true,
     "schema_version": 3,
     "solution": false,
     "task": false
    }
   },
   "source": [
    "Agora, reduza ambas as tolerâncias do método para `1e-15`, e refaça os gráficos."
   ]
  },
  {
   "cell_type": "code",
   "execution_count": 29,
   "metadata": {
    "deletable": false,
    "nbgrader": {
     "cell_type": "code",
     "checksum": "3735d31827898e3337581fa6db3ea1c6",
     "grade": true,
     "grade_id": "cell-99d9571ec5ff0bb4",
     "locked": false,
     "points": 1,
     "schema_version": 3,
     "solution": true,
     "task": false
    }
   },
   "outputs": [
    {
     "data": {
      "image/png": "[encoded data removed]",
      "text/plain": [
       "<Figure size 432x288 with 1 Axes>"
      ]
     },
     "metadata": {
      "needs_background": "light"
     },
     "output_type": "display_data"
    }
   ],
   "source": [
    "iters = np.linspace(1,100,100)\n",
    "\n",
    "plt.loglog(iters, [abs(newton_pts(g1, h1, 0.65, maxiter=i, xtol=1e-15, ytol=1e-15)[-1]-np.log(2)) for i in iters], label=\"g1 e h1\", linestyle=\"dotted\")\n",
    "\n",
    "plt.loglog(iters, [abs(newton_pts(g1, h2, 0.65, maxiter=i, xtol=1e-15, ytol=1e-15)[-1]-np.log(2)) for i in iters], label=\"g1 e h2\")\n",
    "\n",
    "plt.loglog(iters, [abs(newton_pts(g2, h2, 0.65, maxiter=i, xtol=1e-15, ytol=1e-15)[-1]-np.log(2)) for i in iters], label=\"g2 e h2\", linestyle=\"--\")\n",
    "\n",
    "plt.legend()\n",
    "plt.title(\"Evolução da distancia\");\n",
    "plt.xlabel(\"iterações\");\n",
    "ax = plt.gca();"
   ]
  },
  {
   "cell_type": "markdown",
   "metadata": {
    "deletable": false,
    "editable": false,
    "nbgrader": {
     "cell_type": "markdown",
     "checksum": "74ca5df8fcfd3e57d63283c23c0136c9",
     "grade": false,
     "grade_id": "cell-01eb8bb00f1f5bdb",
     "locked": true,
     "schema_version": 3,
     "solution": false,
     "task": false
    }
   },
   "source": [
    "Deveria haver (pelo menos) duas diferenças entre este gráfico e o anterior.\n",
    "\n",
    "- Quais você observa?\n",
    "- Como você as explica?"
   ]
  },
  {
   "cell_type": "code",
   "execution_count": 21,
   "metadata": {},
   "outputs": [
    {
     "name": "stdout",
     "output_type": "stream",
     "text": [
      "a = 0.6931471805599454\n",
      "\n",
      "b = 0.6931471805599453\n",
      "\n",
      "0.6931471805599453\n"
     ]
    }
   ],
   "source": [
    "## Código para explicação do gráfico ##\n",
    "\n",
    "a= newton_pts(g1, h1, 0.65, maxiter=4, xtol=1e-15, ytol=1e-15)[-1]\n",
    "print(f\"a = {a}\\n\")\n",
    "b= newton_pts(g1, h2, 0.65, maxiter=4, xtol=1e-15, ytol=1e-15)[-1]\n",
    "print(f\"b = {b}\\n\")\n",
    "print(np.log(2))"
   ]
  },
  {
   "cell_type": "markdown",
   "metadata": {
    "deletable": false,
    "nbgrader": {
     "cell_type": "markdown",
     "checksum": "0933d483ff8f446d9225d3095a6ff333",
     "grade": true,
     "grade_id": "cell-7f4f22e525bf8a98",
     "locked": false,
     "points": 3,
     "schema_version": 3,
     "solution": true,
     "task": false
    }
   },
   "source": [
    "A primeira é a ordem de grandeza dos erros: Para a curva \"g2 e h2\" não parece ter mudado, já para as outras duas, foram muito menores que na anterior. A diferença entre \"g2 e h2\" e as outras duas aumentou muito mais conforme o aumento do número de iterações. A segunda diferença é que a curva \"g1 e h2\" não acompanhou a \"g1 e h1\" até o fim, ela foi a zero antes mesmo de atingir yto - diferente da outra, que atinge e vira uma reta pro resto do gráfico - por isso sua curva virou uma reta vertical. Como dito na explição anterior, para o gráfico usando a bisseção, g1 é limitada, e nesse caso, é pela precisão escolhida na função newton - diferente da g2, limitada pelo seu valor de h - então ambas descem ainda mais se comparada com a análise feita com os limites padrões do método de newton. No entanto, por terem as derivadas calculadas de formas diferentes, o step dentro do metodo de newton é também diferente entre elas: o valor retornado por h2, por ser uma aproximação limitada, é maior que o de h1 então o step calculado com a h2 é menor. Na quarta iteração, ambas atingem o limite ytol e xtol, mas a que utiliza h1, por ter step maior, arredonda para cima do valor de np.log(2) e a com h2, chega exatamente a este valor."
   ]
  },
  {
   "cell_type": "markdown",
   "metadata": {
    "deletable": false,
    "editable": false,
    "nbgrader": {
     "cell_type": "markdown",
     "checksum": "e47055e0ef025c7e55b8dafd6a99cc15",
     "grade": false,
     "grade_id": "cell-fa08d17ea63fb838",
     "locked": true,
     "schema_version": 3,
     "solution": false,
     "task": false
    }
   },
   "source": [
    "# 3: O mesmo problema, mais complicado\n",
    "\n",
    "Queremos achar o mínimo da função $$ f(x) = e^{x^2-2x+1}-2^{x^3-6x+12} $$\n",
    "no intervalo $[-2,2]$.\n",
    "\n",
    "Defina $f$, e faça um gráfico para encontrar um intervalo para bisseção e um ponto inicial para Newton."
   ]
  },
  {
   "cell_type": "code",
   "execution_count": 22,
   "metadata": {
    "deletable": false,
    "nbgrader": {
     "cell_type": "code",
     "checksum": "0ced7e6818e714424989f7e7986e33bf",
     "grade": false,
     "grade_id": "cell-f50afc7c95af2a39",
     "locked": false,
     "schema_version": 3,
     "solution": true,
     "task": false
    }
   },
   "outputs": [
    {
     "data": {
      "image/png": "[encoded data removed]",
      "text/plain": [
       "<Figure size 432x288 with 1 Axes>"
      ]
     },
     "metadata": {
      "needs_background": "light"
     },
     "output_type": "display_data"
    }
   ],
   "source": [
    "f2 = lambda x: np.exp((x**2) - (2*x) + 1) - 2**((x**3) - (6*x) + 12)\n",
    "ys = np.linspace(-2,2, num=100)\n",
    "plt.plot(ys, f2(ys))\n",
    "plt.title(\"Gráfico de f2(x)\")\n",
    "ax = plt.gca()"
   ]
  },
  {
   "cell_type": "code",
   "execution_count": 23,
   "metadata": {
    "deletable": false,
    "editable": false,
    "nbgrader": {
     "cell_type": "code",
     "checksum": "34341cf7cc79160c950d6c993bbf2835",
     "grade": true,
     "grade_id": "cell-b3efe4063d0789aa",
     "locked": true,
     "points": 1,
     "schema_version": 3,
     "solution": false,
     "task": false
    }
   },
   "outputs": [],
   "source": [
    "assert len(ax.lines) == 1\n",
    "assert ax.title.get_text() != \"\"\n",
    "\n",
    "yvals = ax.lines[0].get_ydata()\n",
    "assert min(yvals) <= -20000\n",
    "assert np.all(yvals <= 0)"
   ]
  },
  {
   "cell_type": "markdown",
   "metadata": {
    "deletable": false,
    "editable": false,
    "nbgrader": {
     "cell_type": "markdown",
     "checksum": "d5e0e2f2cb67874b7c299b07e5d77063",
     "grade": false,
     "grade_id": "cell-3cf7c7f8b9c917bf",
     "locked": true,
     "schema_version": 3,
     "solution": false,
     "task": false
    }
   },
   "source": [
    "Calcule a raiz exata (a menos da precisão) do computador,\n",
    "aplicando o método da bisseção à derivada analítica de $f$."
   ]
  },
  {
   "cell_type": "code",
   "execution_count": 24,
   "metadata": {
    "deletable": false,
    "nbgrader": {
     "cell_type": "code",
     "checksum": "a58bf31aa4bba8ee06c03c0edc80aede",
     "grade": false,
     "grade_id": "cell-24d5013349e7f661",
     "locked": false,
     "schema_version": 3,
     "solution": true,
     "task": false
    }
   },
   "outputs": [],
   "source": [
    "df2 = lambda x: np.exp((x**2) - (2*x) + 1)*(2*x - 2) - ((2**((x**3) - (6*x) + 12)))*np.log(a)*(3*(x**2) - 6)\n",
    "xs = bissecao_pts(df2, -1.75,-1.25)"
   ]
  },
  {
   "cell_type": "markdown",
   "metadata": {
    "deletable": false,
    "editable": false,
    "nbgrader": {
     "cell_type": "markdown",
     "checksum": "b74703f8033db78b8d42c36ceaa81e61",
     "grade": false,
     "grade_id": "cell-40c7aaafebc60a39",
     "locked": true,
     "schema_version": 3,
     "solution": false,
     "task": false
    }
   },
   "source": [
    "Calcule o valor de $f$ nos pontos obtidos.\n",
    "Em qual/quais deles ocorreu o mínimo?"
   ]
  },
  {
   "cell_type": "code",
   "execution_count": 25,
   "metadata": {
    "deletable": false,
    "nbgrader": {
     "cell_type": "code",
     "checksum": "e7a8bce40f0ae85e789f796c790d3c34",
     "grade": true,
     "grade_id": "cell-c6e8bb7029f4e79b",
     "locked": false,
     "points": 1,
     "schema_version": 3,
     "solution": true,
     "task": false
    }
   },
   "outputs": [
    {
     "name": "stdout",
     "output_type": "stream",
     "text": [
      "Valor de f nos pontos : [-201622.64448320126, -191327.43213335058, -205448.07103413306, -205941.94199760057, -206288.00613773827, -206265.11269190558, -206313.90682410283, -206298.87313136252, -206308.72769884934, -206304.38524777826, -206306.70263193815, -206305.58048575453, -206304.99200401639, -206305.28852910115, -206305.43507846963, -206305.36194654737, -206305.32527351487, -206305.34361895346, -206305.33444846486, -206305.33903426703, -206305.33674150563, -206305.33559502033, -206305.3361682717, -206305.3364548907, -206305.33631158172, -206305.33623992695, -206305.33627575406, -206305.33625784054]\n",
      "\n",
      "Mínimo em x = -1.4140625, cujo f(x) = -206313.90682410283\n"
     ]
    }
   ],
   "source": [
    "fs = [f2(x) for x in xs]\n",
    "print(f\"Valor de f nos pontos : {fs}\\n\")\n",
    "i= fs.index(min(fs))\n",
    "print(f\"Mínimo em x = {xs[i]}, cujo f(x) = {fs[i]}\")"
   ]
  },
  {
   "cell_type": "markdown",
   "metadata": {
    "deletable": false,
    "editable": false,
    "nbgrader": {
     "cell_type": "markdown",
     "checksum": "e65ad2e99a7a5b85c2a7fe0fa22a03de",
     "grade": false,
     "grade_id": "cell-5beca6356c3e27a2",
     "locked": true,
     "schema_version": 3,
     "solution": false,
     "task": false
    }
   },
   "source": [
    "Qual a distância deste ponto ao último ponto produzido pela bisseção?"
   ]
  },
  {
   "cell_type": "code",
   "execution_count": 26,
   "metadata": {
    "deletable": false,
    "nbgrader": {
     "cell_type": "code",
     "checksum": "99d42db2387a4fe1e27e36ff4cbcce2b",
     "grade": true,
     "grade_id": "cell-6345a587885e746f",
     "locked": false,
     "points": 1,
     "schema_version": 3,
     "solution": true,
     "task": false
    }
   },
   "outputs": [
    {
     "name": "stdout",
     "output_type": "stream",
     "text": [
      "Distância do mínimo até último produzido pela bisseção: 0.002736669033765793\n"
     ]
    }
   ],
   "source": [
    "print(f\"Distância do mínimo até último produzido pela bisseção: {xs[i] - xs[-1]}\")"
   ]
  },
  {
   "cell_type": "markdown",
   "metadata": {
    "deletable": false,
    "editable": false,
    "nbgrader": {
     "cell_type": "markdown",
     "checksum": "c908ed0939326673dbee1ea51699735f",
     "grade": false,
     "grade_id": "cell-ac38132ef810a31c",
     "locked": true,
     "schema_version": 3,
     "solution": false,
     "task": false
    }
   },
   "source": [
    "Agora, compare o erro com o método da bisseção e o de Newton, usando as derivadas numéricas.\n",
    "\n",
    "Como sugerem as contas acima, aqui há vários problemas de precisão numérica.\n",
    "Assim, tente botar tolerâncias pequenas, mas não pequenas demais para seus métodos."
   ]
  },
  {
   "cell_type": "code",
   "execution_count": 27,
   "metadata": {
    "deletable": false,
    "nbgrader": {
     "cell_type": "code",
     "checksum": "eeab84f96605262deb3cd7fd3ec298c7",
     "grade": true,
     "grade_id": "cell-e6a2e19935b8f52c",
     "locked": false,
     "points": 2,
     "schema_version": 3,
     "solution": true,
     "task": false
    },
    "scrolled": true
   },
   "outputs": [
    {
     "name": "stdout",
     "output_type": "stream",
     "text": [
      "Mínimo do Método da bisseção: x= -1.4128724038600922, f2= -206314.77303578667\n",
      "Distância até o último retornado: 6.548361852765083e-10\n",
      "\n",
      "Mínimo do Método de Newton: x= -1.4128724038600922, f2= -206314.77303578667\n",
      "Distância até o último retornado:  0.0\n"
     ]
    }
   ],
   "source": [
    "df2_n = lambda x: df_central(f2, x)\n",
    "ddf2_n = lambda x: ddf_central(f2, x)\n",
    "x_bis = bissecao_pts(df2_n,-1.75,-1.25, xtol=1e-15, ytol=1e-15)\n",
    "x_new = newton_pts(df2_n, ddf2_n, -1.5, xtol=1e-15, ytol=1e-15)\n",
    "\n",
    "ys_bis = [f2(x) for x in x_bis]\n",
    "y_min_bis = min(ys_bis)\n",
    "x_min_bis = x_bis[ys_bis.index(y_min_bis)]\n",
    "\n",
    "ys_new = [f2(x) for x in x_new]\n",
    "y_min_new = min(ys_new)\n",
    "x_min_new = x_new[ys_new.index(y_min_new)]\n",
    "\n",
    "print(f\"Mínimo do Método da bisseção: x= {x_min_bis}, f2= {y_min_bis}\")\n",
    "print(f\"Distância até o último retornado: {abs(x_min_bis - x_bis[-1])}\")\n",
    "\n",
    "print(f\"\\nMínimo do Método de Newton: x= {x_min_bis}, f2= {y_min_bis}\")\n",
    "\n",
    "\n",
    "print(f\"Distância até o último retornado:  {abs(x_min_new - x_new[-1])}\")"
   ]
  },
  {
   "cell_type": "code",
   "execution_count": null,
   "metadata": {},
   "outputs": [],
   "source": []
  }
 ],
 "metadata": {
  "@webio": {
   "lastCommId": null,
   "lastKernelId": null
  },
  "hide_input": false,
  "kernelspec": {
   "display_name": "Python 3",
   "language": "python",
   "name": "python3"
  },
  "language_info": {
   "codemirror_mode": {
    "name": "ipython",
    "version": 3
   },
   "file_extension": ".py",
   "mimetype": "text/x-python",
   "name": "python",
   "nbconvert_exporter": "python",
   "pygments_lexer": "ipython3",
   "version": "3.7.3"
  },
  "toc": {
   "base_numbering": 1,
   "nav_menu": {},
   "number_sections": true,
   "sideBar": true,
   "skip_h1_title": false,
   "title_cell": "Table of Contents",
   "title_sidebar": "Contents",
   "toc_cell": true,
   "toc_position": {},
   "toc_section_display": true,
   "toc_window_display": true
  }
 },
 "nbformat": 4,
 "nbformat_minor": 4
}
