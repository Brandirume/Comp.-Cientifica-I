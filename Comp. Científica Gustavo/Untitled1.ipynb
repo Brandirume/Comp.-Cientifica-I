{
 "cells": [
  {
   "cell_type": "markdown",
   "metadata": {},
   "source": [
    "## Algoritmo da Bisseção\n",
    "\n",
    "Usado para encontrar um valor arbitrariamente próximo ao de uma raíz de uma função contínua dado um intervalo de parâmetro.\n",
    "\n",
    "Para isso, há de se escolher um intervalo em que a função mude de sinal, ou seja, _**$[a,b]$ | $f(a)<0, f(b)>0$**_, ou o contrário. Dessa forma, por ser contínua, a função necessariamente passa pelo eixo _**$x$**_, isto é, _**$f(x)=0, x \\in [a,b]$**_, então existe uma raíz neste intervalo. \n",
    "Nessa lógica, se agora considerarmos o ponto médio deste intervalo, _**$m$**_, teremos dois outros intervalos, _**[a,m]**_ e _**[m,b]**_. Desses intervalos, apenas um compreende um intervalo que cruza o eixo _**$x$**_, ou seja, ou _**f(a)**_ e _**f(m)**_ possuem sinais opostos, ou _**f(m)**_ e _**f(b)**_, já que _**f(a)**_ e _**f(b)**_ já têm sinais opostos, _**$f(m)$**_ vai ter ou o sinal de um ou de outro, obviamente. Assim, teremos outro intervalo em que certamente há uma raíz, então novamente consideraremos o ponto médio deste novo intervalo e o dividiremos em outros dois repetindo tudo de novo. Assim, nos aproximaríamos cada vez mais do valor da raíz, o mais próximo quanto quisermos.\n"
   ]
  },
  {
   "cell_type": "markdown",
   "metadata": {},
   "source": [
    "A seguir, o que foi dito em forma de um algoritmo. No entando ele ainda não é funcional."
   ]
  },
  {
   "cell_type": "code",
   "execution_count": 1,
   "metadata": {},
   "outputs": [],
   "source": [
    "def bissecao(f, a, b):\n",
    "    m = (a+b)/2\n",
    "    # Note que se f(a)*f(m) < 0, significa que a funçao tem sinais diferentes nesses pontos.\n",
    "    if f(a)*f(b) < 0:\n",
    "        # Dessa forma teremos um novo intervalo [a.m], e repetiremos o processo. Ou sejo, chameremos a função novamente, criando uma recursão.\n",
    "        return bissecao(f, a, m)\n",
    "    else: \n",
    "        return bissecao(f, m, b)\n",
    "        # Do contrário, f(b)*f(m) < 0.\n",
    "        "
   ]
  },
  {
   "cell_type": "markdown",
   "metadata": {},
   "source": [
    "O algoritmo acima implementa uma função que não terminaria de ser executada nunca, pois não há um ponto em que ela pare, pode-se dividir o intervalo por 2 infinitamente, pois não definimos o quão próximo da raíz queremos chegar. Para isso, precisamos de critérios de parada."
   ]
  },
  {
   "cell_type": "markdown",
   "metadata": {},
   "source": [
    "## Critérios de Parada\n",
    "\n",
    "Podemos considerar três parâmetros para serem usados como critério de parada:\n",
    "**1 - Tamanho do intervalo :** quanto menor, mais próximo da raíz;\n",
    "**2 - Módulo da _$f(m)$_ :** quanto menor, mais próximo de zero, a raíz;\n",
    "**3 - # de iterações**: quanto maior, mais próximo da raíz."
   ]
  },
  {
   "cell_type": "code",
   "execution_count": null,
   "metadata": {},
   "outputs": [],
   "source": []
  }
 ],
 "metadata": {
  "kernelspec": {
   "display_name": "Python 3",
   "language": "python",
   "name": "python3"
  },
  "language_info": {
   "codemirror_mode": {
    "name": "ipython",
    "version": 3
   },
   "file_extension": ".py",
   "mimetype": "text/x-python",
   "name": "python",
   "nbconvert_exporter": "python",
   "pygments_lexer": "ipython3",
   "version": "3.7.3"
  }
 },
 "nbformat": 4,
 "nbformat_minor": 4
}
