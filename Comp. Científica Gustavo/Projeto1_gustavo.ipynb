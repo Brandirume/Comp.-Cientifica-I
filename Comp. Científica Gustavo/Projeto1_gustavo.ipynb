{
 "cells": [
  {
   "cell_type": "markdown",
   "metadata": {},
   "source": [
    "![CC-BY-SA](https://mirrors.creativecommons.org/presskit/buttons/88x31/svg/by-sa.svg)\n",
    "\n",
    "\n",
    "This notebook was created by [Bernardo Freitas Paulo da Costa](http://www.im.ufrj.br/bernardofpc),\n",
    "and is licensed under Creative Commons BY-SA."
   ]
  },
  {
   "cell_type": "markdown",
   "metadata": {},
   "source": [
    "Antes de enviar este Teste, verifique que tudo está funcionando como esperado.\n",
    "Por exemplo, **rode o código inteiro, do zero**.\n",
    "Para isso, vá no menu, escolha _Kernel_, depois _Restart & Run All_.\n",
    "\n",
    "Verifique, também, que você respondeu todas as questões:\n",
    "* as questões de código têm `YOUR CODE HERE` (e você pode apagar o `raise NotImplemented` ao incluir sua resposta)\n",
    "* as questões discursivas têm \"YOUR ANSWER HERE\"."
   ]
  },
  {
   "cell_type": "markdown",
   "metadata": {},
   "source": [
    "---"
   ]
  },
  {
   "cell_type": "markdown",
   "metadata": {
    "deletable": false,
    "editable": false,
    "nbgrader": {
     "cell_type": "markdown",
     "checksum": "9fdd8680dff6e6d25c487ef80fdc7fa5",
     "grade": false,
     "grade_id": "cell-b55aae11f3b4295b",
     "locked": true,
     "schema_version": 3,
     "solution": false,
     "task": false
    }
   },
   "source": [
    "# Funções inversas e algoritmos de cálculo de raízes"
   ]
  },
  {
   "cell_type": "code",
   "execution_count": 1,
   "metadata": {
    "deletable": false,
    "editable": false,
    "nbgrader": {
     "cell_type": "code",
     "checksum": "95b1d86bf80872478e5b6c85a6daa982",
     "grade": false,
     "grade_id": "cell-1a3e54d71d633ff5",
     "locked": true,
     "schema_version": 3,
     "solution": false,
     "task": false
    }
   },
   "outputs": [],
   "source": [
    "import numpy as np\n",
    "import matplotlib.pyplot as plt"
   ]
  },
  {
   "cell_type": "markdown",
   "metadata": {
    "deletable": false,
    "editable": false,
    "nbgrader": {
     "cell_type": "markdown",
     "checksum": "d9b9b13efa184434e57b7c8da57739aa",
     "grade": false,
     "grade_id": "cell-a8ca76438cd9863f",
     "locked": true,
     "schema_version": 3,
     "solution": false,
     "task": false
    }
   },
   "source": [
    "# Parte 0: Inversa em um intervalo\n",
    "\n",
    "Se a função $f: [a,b] \\to R$ é injetiva em $[a,b]$,\n",
    "ela possui uma inversa $g$, definida da imagem de $f$ e com valores no intervalo $[a,b]$."
   ]
  },
  {
   "cell_type": "markdown",
   "metadata": {
    "deletable": false,
    "editable": false,
    "nbgrader": {
     "cell_type": "markdown",
     "checksum": "6b132172e5b737f7822bc1cdfc21794a",
     "grade": false,
     "grade_id": "cell-fc15e54d3ef3127e",
     "locked": true,
     "schema_version": 3,
     "solution": false,
     "task": false
    }
   },
   "source": [
    "Explique porque $f$ ser contínua e monótona garante que $f(x) = y$\n",
    "sempre terá uma única raiz para $y$ entre $f(a)$ e $f(b)$.\n",
    "\n",
    "Conclua que a bisseção sempre funciona neste caso."
   ]
  },
  {
   "cell_type": "markdown",
   "metadata": {
    "deletable": false,
    "nbgrader": {
     "cell_type": "markdown",
     "checksum": "85799f2f36d00790c64ef117f726ed30",
     "grade": true,
     "grade_id": "cell-1a9b124157ff2936",
     "locked": false,
     "points": 3,
     "schema_version": 3,
     "solution": true,
     "task": false
    }
   },
   "source": [
    "Por ser monótona, a função ou sempre cresce ou sempre decresce, então para cada $y$ só há no máximo um $x$ associado, visto que no resto do intervalo, estará sempre acima ou abaixo desse ponto. No entanto, somente isso não garante que ela passe por esse ou qualquer ponto, isto é, pode haver um y em que $f(x)$ não está definida, uma descontinuidade. A bisseção não funcionaria nesse caso. Por isso, precisa ser também contínua. Dessa forma, a função passa - com certeza - em todos os pontos e uma única vez. Logo, existe uma única raíz para $f(x) = y$ para algum $y$ entre $f(a)$ e $f(b)$. "
   ]
  },
  {
   "cell_type": "markdown",
   "metadata": {
    "deletable": false,
    "editable": false,
    "nbgrader": {
     "cell_type": "markdown",
     "checksum": "33692605ec15888fdc91036b108c7748",
     "grade": false,
     "grade_id": "cell-98cde122ae409c5c",
     "locked": true,
     "schema_version": 3,
     "solution": false,
     "task": false
    }
   },
   "source": [
    "Se, além disso, $f$ for derivável, isso garante que o método de Newton vai encontrar uma raiz para $f(x) = y$?"
   ]
  },
  {
   "cell_type": "markdown",
   "metadata": {
    "deletable": false,
    "nbgrader": {
     "cell_type": "markdown",
     "checksum": "5e209d0a9ebb97655d57c6a4f4bb2969",
     "grade": true,
     "grade_id": "cell-67e54abe65012bf6",
     "locked": false,
     "points": 2,
     "schema_version": 3,
     "solution": true,
     "task": false
    }
   },
   "source": [
    "Dependendo da função, podem haver pontos que fazem o método entrar em loop e não conseguir divergir, pois fica alternando entre este ponto e algum outro, isso pode acontecer mesmo que a função seja contínua, monótona e derivável. Além disso, se a derivada em um ponto de uma função for zero, o método também não converge, pois o x seguinte seria o infinito."
   ]
  },
  {
   "cell_type": "markdown",
   "metadata": {
    "deletable": false,
    "editable": false,
    "nbgrader": {
     "cell_type": "markdown",
     "checksum": "58fec5e4039c56cf1443aae4a1dc1ff2",
     "grade": false,
     "grade_id": "cell-d641a5c92ed1a636",
     "locked": true,
     "schema_version": 3,
     "solution": false,
     "task": false
    }
   },
   "source": [
    "# Parte 1: Usando a bisseção"
   ]
  },
  {
   "cell_type": "markdown",
   "metadata": {
    "deletable": false,
    "editable": false,
    "nbgrader": {
     "cell_type": "markdown",
     "checksum": "9abeb14fdedf65ae7d6db3a9dfeb0cce",
     "grade": false,
     "grade_id": "cell-8ca04a0116344dea",
     "locked": true,
     "schema_version": 3,
     "solution": false,
     "task": false
    }
   },
   "source": [
    "## Questão 1: Implementação\n",
    "\n",
    "Escreva uma função `biss_solve(f, y, a, b)` que encontra a solução de $f(x) = y$ no intervalo $[a,b]$,\n",
    "supondo que $f$ é contínua e monótona neste intervalo.\n",
    "Não esqueça de testar que, de fato, tem uma solução!"
   ]
  },
  {
   "cell_type": "code",
   "execution_count": 14,
   "metadata": {
    "deletable": false,
    "nbgrader": {
     "cell_type": "code",
     "checksum": "8862d9c3b0a5b3fa32d02add93b824af",
     "grade": false,
     "grade_id": "cell-a895bd89981bb8fa",
     "locked": false,
     "schema_version": 3,
     "solution": true,
     "task": false
    }
   },
   "outputs": [],
   "source": [
    "def biss_solve(f, y, a, b, xtol=1e-8, ytol=1e-8):\n",
    "    \"\"\"Bissects the interval  [a,b]  until an approximate solution to  f(x) = y  is found.\n",
    "    Also returns the number of bissections\"\"\"\n",
    "    eq = lambda x: f(x) - y\n",
    "    m = (a+b)/2\n",
    "    nbiss = 1\n",
    "    if eq(a)==0:\n",
    "        print(f\"eq(a) = 0, a = {a}\")\n",
    "        return a, nbiss\n",
    "    elif eq(b) == 0:\n",
    "        print(f\"eq(b) = 0, b = {b}\")\n",
    "        return b, nbiss\n",
    "    while abs(b-a)>xtol and abs(eq(m))>ytol:\n",
    "        eqm = eq(m)\n",
    "        if eqm*eq(a) < 0:\n",
    "            b = m\n",
    "            m = (a+b)/2 \n",
    "        elif eqm*eq(b) < 0:\n",
    "            a = m\n",
    "            m = (a+b)/2 \n",
    "        elif eqm==0:\n",
    "            print(f\"eq(m) = 0, m = {m}\")\n",
    "            return m, nbiss\n",
    "        else:\n",
    "            return \"Sem solução\", nbiss\n",
    "        nbiss+=1\n",
    "    return m, nbiss"
   ]
  },
  {
   "cell_type": "markdown",
   "metadata": {
    "deletable": false,
    "editable": false,
    "nbgrader": {
     "cell_type": "markdown",
     "checksum": "de43a60226d71b983900b74f4bb4e639",
     "grade": false,
     "grade_id": "cell-c89f44076a21b705",
     "locked": true,
     "schema_version": 3,
     "solution": false,
     "task": false
    }
   },
   "source": [
    "### Testes da bisseção"
   ]
  },
  {
   "cell_type": "code",
   "execution_count": 15,
   "metadata": {
    "deletable": false,
    "editable": false,
    "nbgrader": {
     "cell_type": "code",
     "checksum": "28d53dcf79b6a180510aa7214ba01f04",
     "grade": true,
     "grade_id": "cell-b853f2aa1fba546a",
     "locked": true,
     "points": 1,
     "schema_version": 3,
     "solution": false,
     "task": false
    }
   },
   "outputs": [],
   "source": [
    "z1, n1 = biss_solve(np.sin, 0.5, 0, np.pi/2)\n",
    "z2, n2 = biss_solve(np.sin, 0.5, -np.pi/2, np.pi/2)\n",
    "assert np.sin(z1) <= 1e-8 or abs(np.arcsin(0.5) - z1) < 1e-8\n",
    "assert np.sin(z2) <= 1e-8 or abs(np.arcsin(0.5) - z2) < 1e-8"
   ]
  },
  {
   "cell_type": "code",
   "execution_count": 16,
   "metadata": {
    "deletable": false,
    "editable": false,
    "nbgrader": {
     "cell_type": "code",
     "checksum": "87e7e317cdc52a696c52b19f232be43a",
     "grade": true,
     "grade_id": "cell-9b75beecdd10af5c",
     "locked": true,
     "points": 1,
     "schema_version": 3,
     "solution": false,
     "task": false
    }
   },
   "outputs": [],
   "source": [
    "z1, n1 = biss_solve(np.sin, 0.5, 0, np.pi/2)\n",
    "z2, n2 = biss_solve(np.sin, 0.5, -np.pi/2, np.pi/2)\n",
    "assert 20 <= n1 <= 30\n",
    "assert 20 <= n2 <= 30"
   ]
  },
  {
   "cell_type": "code",
   "execution_count": 17,
   "metadata": {
    "deletable": false,
    "editable": false,
    "nbgrader": {
     "cell_type": "code",
     "checksum": "f385514bc9094fbe8f97d6ecaa665ef3",
     "grade": true,
     "grade_id": "cell-7a44f6087c5b5b27",
     "locked": true,
     "points": 1,
     "schema_version": 3,
     "solution": false,
     "task": false
    }
   },
   "outputs": [],
   "source": [
    "z1, n1 = biss_solve(np.sin, 0.5, 0, np.pi/2)\n",
    "z2, n2 = biss_solve(np.sin, 0.5, -np.pi/2, np.pi/2)\n",
    "assert z1 == z2\n",
    "assert n1 + 1 == n2"
   ]
  },
  {
   "cell_type": "markdown",
   "metadata": {
    "deletable": false,
    "editable": false,
    "nbgrader": {
     "cell_type": "markdown",
     "checksum": "98a7975a3d6f61da7988ec5767d1425c",
     "grade": false,
     "grade_id": "cell-54e72a3dbfe2e150",
     "locked": true,
     "schema_version": 3,
     "solution": false,
     "task": false
    }
   },
   "source": [
    "Explique os testes da caixa acima."
   ]
  },
  {
   "cell_type": "markdown",
   "metadata": {
    "deletable": false,
    "nbgrader": {
     "cell_type": "markdown",
     "checksum": "1c195460444d8ad36085363ac8c0770b",
     "grade": true,
     "grade_id": "cell-62e7ae256b09a0a1",
     "locked": false,
     "points": 2,
     "schema_version": 3,
     "solution": true,
     "task": false
    }
   },
   "source": [
    "Duas bisseções foram chamadas para resolver a mesma equação, $sin(x) = 0.5$, mas com intervalos diferentes. O primeiro assert verifica se as duas retornaram a mesma raiz, o que é esperado, por serem a mesma equação. O segundo assert verifica se o número de iterações n2 é 1 a mais do que n1, isso ocorre porque o intervalo da segunda chamada é o dobro do intervalo da primeira. A primeira chamada já começa com $[0, \\pi/2]$, já a segunda, com $[\\pi/2,-\\pi/2]$, só após a primeira iteração que a segunda chamada chega ao intervalo que começa a primeira."
   ]
  },
  {
   "cell_type": "markdown",
   "metadata": {
    "deletable": false,
    "editable": false,
    "nbgrader": {
     "cell_type": "markdown",
     "checksum": "290179de000ca7781964ee9eed608fb7",
     "grade": false,
     "grade_id": "cell-e33240a3fadc3687",
     "locked": true,
     "schema_version": 3,
     "solution": false,
     "task": false
    }
   },
   "source": [
    "### E mais testes..."
   ]
  },
  {
   "cell_type": "code",
   "execution_count": 18,
   "metadata": {
    "deletable": false,
    "editable": false,
    "nbgrader": {
     "cell_type": "code",
     "checksum": "7f7a84e7a6e54d45e6fdc43e9fe48e25",
     "grade": true,
     "grade_id": "cell-1900fc29c52b5e2e",
     "locked": true,
     "points": 1,
     "schema_version": 3,
     "solution": false,
     "task": false
    }
   },
   "outputs": [],
   "source": [
    "z1, n1 = biss_solve(np.sin, 0.5, np.pi/2, 3*np.pi/2)\n",
    "assert np.sin(z1) <= 1e-8 or abs(np.pi - np.arcsin(0.5) - z1) < 1e-8\n",
    "assert 20 <= n1 <= 30"
   ]
  },
  {
   "cell_type": "code",
   "execution_count": 19,
   "metadata": {
    "deletable": false,
    "editable": false,
    "nbgrader": {
     "cell_type": "code",
     "checksum": "47b3e9de86ce51a99b01089e24a3bf1d",
     "grade": true,
     "grade_id": "cell-788fdbf2d3a9cc6d",
     "locked": true,
     "points": 1,
     "schema_version": 3,
     "solution": false,
     "task": false
    }
   },
   "outputs": [],
   "source": [
    "z1, n1 = biss_solve(np.sin, 0.5, 5*np.pi/2, 3*np.pi/2)\n",
    "assert np.sin(z1) <= 1e-8 or abs(2*np.pi + np.arcsin(0.5) - z1) < 1e-8\n",
    "assert 20 <= n1 <= 30"
   ]
  },
  {
   "cell_type": "markdown",
   "metadata": {
    "deletable": false,
    "editable": false,
    "nbgrader": {
     "cell_type": "markdown",
     "checksum": "ab95c68f1f82acc0ae8b149d35574f15",
     "grade": false,
     "grade_id": "cell-2b5e6ad6ed60ada4",
     "locked": true,
     "schema_version": 3,
     "solution": false,
     "task": false
    }
   },
   "source": [
    "Comente os testes das duas caixas acima."
   ]
  },
  {
   "cell_type": "markdown",
   "metadata": {
    "deletable": false,
    "nbgrader": {
     "cell_type": "markdown",
     "checksum": "8d1a3c2d7dca35dd858a6c146b185a0c",
     "grade": true,
     "grade_id": "cell-ddeb67af1320d169",
     "locked": false,
     "points": 1,
     "schema_version": 3,
     "solution": true,
     "task": false
    }
   },
   "source": [
    "As duas caixas tem dois teste iguais: um para o erro em y da bisseção e outro para o número de iterações. O teste do erro é feito de duas formas, uma calculando a função na raíz retornada e outra calculando a inversa e subtraindo da raiz retornada. Apesar disso, os intervalos da bisseções são diferentes em cada caixa, na primeira o intervalo compreende o lado negativo do eixo x, na segunda, o positivo. Por este motivo e pela função sen(x) ter duas diferentes raízes para sen(x)=0.5, uma dentro do primeiro intervalo e outra no segundo, a segunda forma usada para testar o erro do y é diferente em cada caixa, pois z1 é diferente."
   ]
  },
  {
   "cell_type": "markdown",
   "metadata": {
    "deletable": false,
    "editable": false,
    "nbgrader": {
     "cell_type": "markdown",
     "checksum": "772bd92bdf4ccb1b1af2fa0bb18f9b00",
     "grade": false,
     "grade_id": "cell-0dc7ce231060398e",
     "locked": true,
     "schema_version": 3,
     "solution": false,
     "task": false
    }
   },
   "source": [
    "## Questão 2: Gráficos\n",
    "\n",
    "Varie $y$ no intervalo $[0.05, 0.95]$ e faça o gráfico do número de iterações,\n",
    "em função de y, para encontrar uma raiz de $\\sin(x) = y$ no intervalo $[-\\pi/2, \\pi/2]$.\n",
    "\n",
    "Use as tolerâncias padrão."
   ]
  },
  {
   "cell_type": "code",
   "execution_count": 20,
   "metadata": {
    "deletable": false,
    "nbgrader": {
     "cell_type": "code",
     "checksum": "8369b0067a31cbc339f82a461d5acadc",
     "grade": true,
     "grade_id": "cell-aa115151385cf047",
     "locked": false,
     "points": 1,
     "schema_version": 3,
     "solution": true,
     "task": false
    }
   },
   "outputs": [
    {
     "data": {
      "image/png": "[encoded data removed]",
      "text/plain": [
       "<Figure size 432x288 with 1 Axes>"
      ]
     },
     "metadata": {
      "needs_background": "light"
     },
     "output_type": "display_data"
    }
   ],
   "source": [
    "ys = np.linspace(0.05,0.95, num=50)\n",
    "iters = [biss_solve(np.sin, y, -np.pi/2, np.pi/2)[1] for y in ys]\n",
    "plt.plot(ys, iters)\n",
    "plt.title(\"Iterações feitas para cada y em sen(x) = y\")\n",
    "plt.xlabel(\"y\")\n",
    "plt.ylabel(\"iterações\")\n",
    "ax = plt.gca()"
   ]
  },
  {
   "cell_type": "code",
   "execution_count": 21,
   "metadata": {
    "deletable": false,
    "editable": false,
    "nbgrader": {
     "cell_type": "code",
     "checksum": "f23c3e050f0bdcb813fe12f07e5c0346",
     "grade": true,
     "grade_id": "cell-5c10381e0a4e6c80",
     "locked": true,
     "points": 1,
     "schema_version": 3,
     "solution": false,
     "task": false
    }
   },
   "outputs": [],
   "source": [
    "assert len(ax.lines) == 1\n",
    "assert ax.title.get_text() != \"\"\n",
    "assert ax.get_xlabel() != \"\"\n",
    "assert ax.get_ylabel() != \"\""
   ]
  },
  {
   "cell_type": "markdown",
   "metadata": {
    "deletable": false,
    "editable": false,
    "nbgrader": {
     "cell_type": "markdown",
     "checksum": "8f4f87003758ee4f364258d85df96c0a",
     "grade": false,
     "grade_id": "cell-f0a87b5b3ddcc648",
     "locked": true,
     "schema_version": 3,
     "solution": false,
     "task": false
    }
   },
   "source": [
    "Faça, agora, o gráfico do erro em $x$ (usando `np.arcsin`) e em $y$."
   ]
  },
  {
   "cell_type": "code",
   "execution_count": 22,
   "metadata": {
    "deletable": false,
    "nbgrader": {
     "cell_type": "code",
     "checksum": "83e6673e23ab79725b3d76b968d4993b",
     "grade": true,
     "grade_id": "cell-6aac1a9d3bdaf7f9",
     "locked": false,
     "points": 1,
     "schema_version": 3,
     "solution": true,
     "task": false
    }
   },
   "outputs": [
    {
     "data": {
      "image/png": "[encoded data removed]",
      "text/plain": [
       "<Figure size 432x288 with 1 Axes>"
      ]
     },
     "metadata": {
      "needs_background": "light"
     },
     "output_type": "display_data"
    }
   ],
   "source": [
    "## Em dúvida se ta certo ##\n",
    "\n",
    "ys = np.linspace(0.05,0.95, num=50)\n",
    "xs = [biss_solve(np.sin, y, -np.pi/2, np.pi/2)[0] for y in ys]\n",
    "\n",
    "erro_x = [abs(xs[i] - np.arcsin(ys[i])) for i in range(50)]\n",
    "erro_y = [abs(np.sin(xs[i]) - ys[i]) for i in range(50)]\n",
    "\n",
    "plt.plot(ys, erro_x, label=\"x\")\n",
    "plt.plot(ys,erro_y, label=\"y\")\n",
    "plt.title(\"Erro em x e y para cada y em sen(x) = y\")\n",
    "plt.xlabel(\"y\")\n",
    "plt.ylabel(\"Erro\")\n",
    "plt.legend()\n",
    "ax = plt.gca()"
   ]
  },
  {
   "cell_type": "code",
   "execution_count": 23,
   "metadata": {
    "deletable": false,
    "editable": false,
    "nbgrader": {
     "cell_type": "code",
     "checksum": "ac9ca34e7f061be7ccb01170e3f4521d",
     "grade": true,
     "grade_id": "cell-659b21d6ac4866a9",
     "locked": true,
     "points": 1,
     "schema_version": 3,
     "solution": false,
     "task": false
    }
   },
   "outputs": [],
   "source": [
    "assert len(ax.lines) == 2\n",
    "assert len(ax.legend().texts) == 2"
   ]
  },
  {
   "cell_type": "code",
   "execution_count": 24,
   "metadata": {
    "deletable": false,
    "editable": false,
    "nbgrader": {
     "cell_type": "code",
     "checksum": "2075c49076b3524dfe00dff62c62c68f",
     "grade": true,
     "grade_id": "cell-df9afbd30cd1dd0a",
     "locked": true,
     "points": 1,
     "schema_version": 3,
     "solution": false,
     "task": false
    }
   },
   "outputs": [],
   "source": [
    "assert ax.title.get_text() != \"\"\n",
    "assert ax.get_xlabel() != \"\"\n",
    "assert ax.get_ylabel() != \"\""
   ]
  },
  {
   "cell_type": "markdown",
   "metadata": {
    "deletable": false,
    "editable": false,
    "nbgrader": {
     "cell_type": "markdown",
     "checksum": "4a509b98965835097687da4264f25762",
     "grade": false,
     "grade_id": "cell-df14645d3c62e335",
     "locked": true,
     "schema_version": 3,
     "solution": false,
     "task": false
    }
   },
   "source": [
    "O que você percebe neste gráfico?"
   ]
  },
  {
   "cell_type": "markdown",
   "metadata": {
    "deletable": false,
    "nbgrader": {
     "cell_type": "markdown",
     "checksum": "384f0d3d410df2205a75d9376699d0a5",
     "grade": true,
     "grade_id": "cell-d2e03e8d8e7824d9",
     "locked": false,
     "points": 2,
     "schema_version": 3,
     "solution": true,
     "task": false
    }
   },
   "source": [
    "Os erros começam com valores iguais, oscilando em um intervalo em comum, com o aumento de y, o intervalo de valores do erro em x aumenta, enquanto que o erro em y permanece em geral no mesmo."
   ]
  },
  {
   "cell_type": "markdown",
   "metadata": {
    "deletable": false,
    "editable": false,
    "nbgrader": {
     "cell_type": "markdown",
     "checksum": "bbe1601432c011913926c85c45f2eecb",
     "grade": false,
     "grade_id": "cell-a7142d9d0ee527a2",
     "locked": true,
     "schema_version": 3,
     "solution": false,
     "task": false
    }
   },
   "source": [
    "Faça um gráfico do quociente entre os erros."
   ]
  },
  {
   "cell_type": "code",
   "execution_count": 25,
   "metadata": {
    "deletable": false,
    "nbgrader": {
     "cell_type": "code",
     "checksum": "f82a935b3f8497b71db50fddf3a33dba",
     "grade": true,
     "grade_id": "cell-216e4515d4c1b61e",
     "locked": false,
     "points": 1,
     "schema_version": 3,
     "solution": true,
     "task": false
    }
   },
   "outputs": [
    {
     "data": {
      "image/png": "[encoded data removed]",
      "text/plain": [
       "<Figure size 432x288 with 1 Axes>"
      ]
     },
     "metadata": {
      "needs_background": "light"
     },
     "output_type": "display_data"
    }
   ],
   "source": [
    "plt.plot(ys, [erro_x[i]/erro_y[i] for i in range(50)])\n",
    "plt.xlabel(\"y\")\n",
    "plt.ylabel(\"erro em x / erro em y\");"
   ]
  },
  {
   "cell_type": "markdown",
   "metadata": {
    "deletable": false,
    "editable": false,
    "nbgrader": {
     "cell_type": "markdown",
     "checksum": "48600197375a7d5a7a21db5592051f4b",
     "grade": false,
     "grade_id": "cell-3c24203297096e87",
     "locked": true,
     "schema_version": 3,
     "solution": false,
     "task": false
    }
   },
   "source": [
    "Como este gráfico ajuda a explicar o anterior?"
   ]
  },
  {
   "cell_type": "markdown",
   "metadata": {
    "deletable": false,
    "nbgrader": {
     "cell_type": "markdown",
     "checksum": "5ac674561ef75771ae0f97912a07803d",
     "grade": true,
     "grade_id": "cell-ef13ed4aa3cd24b4",
     "locked": false,
     "points": 2,
     "schema_version": 3,
     "solution": true,
     "task": false
    }
   },
   "source": [
    "Considerando o gráfico apenas do quociente entre os erros, podemos melhor ver o evolução da diferença entre os erros do gráfico anterior."
   ]
  },
  {
   "cell_type": "markdown",
   "metadata": {
    "deletable": false,
    "editable": false,
    "nbgrader": {
     "cell_type": "markdown",
     "checksum": "0bc1d70a90ddda8ee68bfce34c60ef90",
     "grade": false,
     "grade_id": "cell-cb5acc256855fd7a",
     "locked": true,
     "schema_version": 3,
     "solution": false,
     "task": false
    }
   },
   "source": [
    "# Parte 2: Newton"
   ]
  },
  {
   "cell_type": "markdown",
   "metadata": {
    "deletable": false,
    "editable": false,
    "nbgrader": {
     "cell_type": "markdown",
     "checksum": "fe05ac760bfaf79f6dccfd345a205cf8",
     "grade": false,
     "grade_id": "cell-4537ceb4073a55c8",
     "locked": true,
     "schema_version": 3,
     "solution": false,
     "task": false
    }
   },
   "source": [
    "## Questão 3: Implementação\n",
    "\n",
    "Escreva uma função `newton_solve(f, df, y, x0)` que encontra uma solução de $f(x) = y$,\n",
    "a partir de $x_0$."
   ]
  },
  {
   "cell_type": "code",
   "execution_count": null,
   "metadata": {
    "deletable": false,
    "nbgrader": {
     "cell_type": "code",
     "checksum": "14864ce88f86d58be55812bfc75a5f1f",
     "grade": false,
     "grade_id": "cell-b4601196fa5db578",
     "locked": false,
     "schema_version": 3,
     "solution": true,
     "task": false
    }
   },
   "outputs": [],
   "source": [
    "def newton_solve(f, df, y, x0, xtol=1e-8, ytol=1e-8, maxiter=100):\n",
    "    \"\"\"Newton's algorithm for solving  f(x) = y  starting from  x0.\n",
    "    Also returns the number of evaluations of f\"\"\"\n",
    "    nevals = 0\n",
    "    # YOUR CODE HERE\n",
    "    raise NotImplementedError()"
   ]
  },
  {
   "cell_type": "markdown",
   "metadata": {
    "deletable": false,
    "editable": false,
    "nbgrader": {
     "cell_type": "markdown",
     "checksum": "1014aef36945d84b465da2ff5c962c1a",
     "grade": false,
     "grade_id": "cell-4a01aeae5488f66b",
     "locked": true,
     "schema_version": 3,
     "solution": false,
     "task": false
    }
   },
   "source": [
    "### Testes do algoritmo de Newton"
   ]
  },
  {
   "cell_type": "code",
   "execution_count": null,
   "metadata": {
    "deletable": false,
    "editable": false,
    "nbgrader": {
     "cell_type": "code",
     "checksum": "6cc14ce2ca2185ac7a357627846d4d52",
     "grade": true,
     "grade_id": "cell-eafc03e88f24ac88",
     "locked": true,
     "points": 1,
     "schema_version": 3,
     "solution": false,
     "task": false
    }
   },
   "outputs": [],
   "source": [
    "z1, n1 = newton_solve(np.sin, np.cos, 0.5, 0)\n",
    "z2, n2 = newton_solve(np.sin, np.cos, 0.5, 0.5)\n",
    "assert np.sin(z1) <= 1e-8 or abs(np.arcsin(0.5) - z1) < 1e-8\n",
    "assert np.sin(z2) <= 1e-8 or abs(np.arcsin(0.5) - z2) < 1e-8"
   ]
  },
  {
   "cell_type": "code",
   "execution_count": null,
   "metadata": {
    "deletable": false,
    "editable": false,
    "nbgrader": {
     "cell_type": "code",
     "checksum": "ec57a7ac9766ed88145ea4e50e451143",
     "grade": true,
     "grade_id": "cell-ee25431086ff5de5",
     "locked": true,
     "points": 1,
     "schema_version": 3,
     "solution": false,
     "task": false
    }
   },
   "outputs": [],
   "source": [
    "z1, n1 = newton_solve(np.sin, np.cos, 0.5, 0)\n",
    "z2, n2 = newton_solve(np.sin, np.cos, 0.5, 0.5)\n",
    "assert 3 <= n1 <= 6\n",
    "assert 3 <= n2 <= 6"
   ]
  },
  {
   "cell_type": "code",
   "execution_count": null,
   "metadata": {
    "deletable": false,
    "editable": false,
    "nbgrader": {
     "cell_type": "code",
     "checksum": "f29eb74ef118001e6fd08eb839674b62",
     "grade": true,
     "grade_id": "cell-b8952664190cc62c",
     "locked": true,
     "points": 1,
     "schema_version": 3,
     "solution": false,
     "task": false
    }
   },
   "outputs": [],
   "source": [
    "z1, n1 = newton_solve(np.sin, np.cos, 0.5, 0)\n",
    "z2, n2 = newton_solve(np.sin, np.cos, 0.5, 0.5)\n",
    "assert z1 == z2\n",
    "assert n1 == n2 + 1"
   ]
  },
  {
   "cell_type": "markdown",
   "metadata": {
    "deletable": false,
    "editable": false,
    "nbgrader": {
     "cell_type": "markdown",
     "checksum": "453603ec8fc8f68724f761e7fba8d1c9",
     "grade": false,
     "grade_id": "cell-be3b29780cc2b75d",
     "locked": true,
     "schema_version": 3,
     "solution": false,
     "task": false
    }
   },
   "source": [
    "Explique os testes da caixa acima, e compare com o teste equivalente para a bisseção."
   ]
  },
  {
   "cell_type": "markdown",
   "metadata": {
    "deletable": false,
    "nbgrader": {
     "cell_type": "markdown",
     "checksum": "087829a93c5e476b649147a27ce2b097",
     "grade": true,
     "grade_id": "cell-b87571f0079ec8e7",
     "locked": false,
     "points": 2,
     "schema_version": 3,
     "solution": true,
     "task": false
    }
   },
   "source": [
    "YOUR ANSWER HERE"
   ]
  },
  {
   "cell_type": "markdown",
   "metadata": {
    "deletable": false,
    "editable": false,
    "nbgrader": {
     "cell_type": "markdown",
     "checksum": "1289eae5bd96770d397b875b170e8e3a",
     "grade": false,
     "grade_id": "cell-a6b3cf48e9a4a09f",
     "locked": true,
     "schema_version": 3,
     "solution": false,
     "task": false
    }
   },
   "source": [
    "### E mais testes..."
   ]
  },
  {
   "cell_type": "code",
   "execution_count": null,
   "metadata": {
    "deletable": false,
    "editable": false,
    "nbgrader": {
     "cell_type": "code",
     "checksum": "c14d1dcebfb80de150533217bd59d81b",
     "grade": true,
     "grade_id": "cell-10b72ac1045a2e41",
     "locked": true,
     "points": 1,
     "schema_version": 3,
     "solution": false,
     "task": false
    }
   },
   "outputs": [],
   "source": [
    "z0, n0 = newton_solve(np.sin, np.cos, 0.5, 0)\n",
    "\n",
    "for n in range(1,100):\n",
    "    z1, n1 = newton_solve(np.sin, np.cos, 0.5, 2*n*np.pi)\n",
    "    assert np.sin(z1) <= 1e-8 or abs(2*n*np.pi + np.arcsin(0.5) - z1) < 1e-8, n\n",
    "    assert 2 <= n1 <= 6, n\n",
    "    assert n1 == n0, n\n",
    "    assert np.isclose(z1, z0 + (2*n*np.pi), atol=1e-15, rtol=1e-15), n"
   ]
  },
  {
   "cell_type": "markdown",
   "metadata": {
    "deletable": false,
    "editable": false,
    "nbgrader": {
     "cell_type": "markdown",
     "checksum": "7c6884629a6805eebd5a80ef71844136",
     "grade": false,
     "grade_id": "cell-83db4d041aa22027",
     "locked": true,
     "schema_version": 3,
     "solution": false,
     "task": false
    }
   },
   "source": [
    "Comente a caixa anterior."
   ]
  },
  {
   "cell_type": "markdown",
   "metadata": {
    "deletable": false,
    "nbgrader": {
     "cell_type": "markdown",
     "checksum": "cca3e238a8d9961b7f6ab58169d36d6c",
     "grade": true,
     "grade_id": "cell-e3eaee34f4567475",
     "locked": false,
     "points": 2,
     "schema_version": 3,
     "solution": true,
     "task": false
    }
   },
   "source": [
    "YOUR ANSWER HERE"
   ]
  },
  {
   "cell_type": "markdown",
   "metadata": {
    "deletable": false,
    "editable": false,
    "nbgrader": {
     "cell_type": "markdown",
     "checksum": "5ee1b3ca6afb97f46675236fd7685391",
     "grade": false,
     "grade_id": "cell-c9ec5a65844c19e8",
     "locked": true,
     "schema_version": 3,
     "solution": false,
     "task": false
    }
   },
   "source": [
    "## Questão 4: Gráficos\n",
    "\n",
    "Varie $y$ no intervalo $[0.05, 0.95]$ e faça o gráfico do número de iterações,\n",
    "em função de y, para encontrar uma raiz de $\\sin(x) = y$ no intervalo $[-\\pi/2, \\pi/2]$.\n",
    "\n",
    "Use as tolerâncias padrão."
   ]
  },
  {
   "cell_type": "code",
   "execution_count": null,
   "metadata": {
    "deletable": false,
    "nbgrader": {
     "cell_type": "code",
     "checksum": "7283219380a0f675cdbac26855ff084b",
     "grade": false,
     "grade_id": "cell-362d141732651100",
     "locked": false,
     "schema_version": 3,
     "solution": true,
     "task": false
    }
   },
   "outputs": [],
   "source": [
    "ys = np.linspace(0.05,0.95, num=50)\n",
    "# YOUR CODE HERE\n",
    "raise NotImplementedError()\n",
    "\n",
    "ax = plt.gca()"
   ]
  },
  {
   "cell_type": "code",
   "execution_count": null,
   "metadata": {
    "deletable": false,
    "editable": false,
    "nbgrader": {
     "cell_type": "code",
     "checksum": "71fc48f0e54679c539f567bc8655ad41",
     "grade": true,
     "grade_id": "cell-03bdf4e90851e28f",
     "locked": true,
     "points": 1,
     "schema_version": 3,
     "solution": false,
     "task": false
    }
   },
   "outputs": [],
   "source": [
    "assert len(ax.lines) == 1\n",
    "assert ax.title.get_text() != \"\"\n",
    "assert ax.get_xlabel() != \"\"\n",
    "assert ax.get_ylabel() != \"\""
   ]
  },
  {
   "cell_type": "markdown",
   "metadata": {
    "deletable": false,
    "editable": false,
    "nbgrader": {
     "cell_type": "markdown",
     "checksum": "f58e2c2e2b16195f74bf37cf087b6ec5",
     "grade": false,
     "grade_id": "cell-072dd0578623e381",
     "locked": true,
     "schema_version": 3,
     "solution": false,
     "task": false
    }
   },
   "source": [
    "Comente as diferenças entre este gráfico e o correpondente para a bisseção."
   ]
  },
  {
   "cell_type": "markdown",
   "metadata": {},
   "source": []
  },
  {
   "cell_type": "markdown",
   "metadata": {
    "deletable": false,
    "nbgrader": {
     "cell_type": "markdown",
     "checksum": "b0d22345dd2ca085e924734e3996045b",
     "grade": true,
     "grade_id": "cell-6379e66d59544cd6",
     "locked": false,
     "points": 2,
     "schema_version": 3,
     "solution": true,
     "task": false
    }
   },
   "source": [
    "YOUR ANSWER HERE"
   ]
  },
  {
   "cell_type": "markdown",
   "metadata": {
    "deletable": false,
    "editable": false,
    "nbgrader": {
     "cell_type": "markdown",
     "checksum": "6b7b82d29c71ed63aa1c8bbc69793748",
     "grade": false,
     "grade_id": "cell-d1eb8c7ca6a3606e",
     "locked": true,
     "schema_version": 3,
     "solution": false,
     "task": false
    }
   },
   "source": [
    "Como você explica estas diferenças?"
   ]
  },
  {
   "cell_type": "markdown",
   "metadata": {
    "deletable": false,
    "nbgrader": {
     "cell_type": "markdown",
     "checksum": "3315491431984c4616f1716755654d72",
     "grade": true,
     "grade_id": "cell-9271081f4894aa8d",
     "locked": false,
     "points": 2,
     "schema_version": 3,
     "solution": true,
     "task": false
    }
   },
   "source": [
    "YOUR ANSWER HERE"
   ]
  },
  {
   "cell_type": "markdown",
   "metadata": {
    "deletable": false,
    "editable": false,
    "nbgrader": {
     "cell_type": "markdown",
     "checksum": "dcd475ea64f3736b143385af9a432560",
     "grade": false,
     "grade_id": "cell-57404fbbd59abbb0",
     "locked": true,
     "schema_version": 3,
     "solution": false,
     "task": false
    }
   },
   "source": [
    "Faça, agora, o gráfico do erro em $x$ (usando `np.arcsin`) e em $y$."
   ]
  },
  {
   "cell_type": "code",
   "execution_count": null,
   "metadata": {
    "deletable": false,
    "nbgrader": {
     "cell_type": "code",
     "checksum": "d0d8c1f204a10ce858043b397fe5d7fe",
     "grade": false,
     "grade_id": "cell-db87524237962a2c",
     "locked": false,
     "schema_version": 3,
     "solution": true,
     "task": false
    }
   },
   "outputs": [],
   "source": [
    "ys = np.linspace(0.05,0.95, num=50)\n",
    "# YOUR CODE HERE\n",
    "raise NotImplementedError()\n",
    "\n",
    "ax = plt.gca()"
   ]
  },
  {
   "cell_type": "code",
   "execution_count": null,
   "metadata": {
    "deletable": false,
    "editable": false,
    "nbgrader": {
     "cell_type": "code",
     "checksum": "1b516917da79b6559131b89e21601c13",
     "grade": true,
     "grade_id": "cell-f9ad65fd49094a66",
     "locked": true,
     "points": 1,
     "schema_version": 3,
     "solution": false,
     "task": false
    }
   },
   "outputs": [],
   "source": [
    "assert len(ax.lines) == 2\n",
    "assert len(ax.legend().texts) == 2\n",
    "\n",
    "assert ax.title.get_text() != \"\"\n",
    "assert ax.get_xlabel() != \"\"\n",
    "assert ax.get_ylabel() != \"\""
   ]
  },
  {
   "cell_type": "markdown",
   "metadata": {
    "deletable": false,
    "editable": false,
    "nbgrader": {
     "cell_type": "markdown",
     "checksum": "a58592c4fcb9d29e8f6edf87e7c23084",
     "grade": false,
     "grade_id": "cell-a1191845fcac8844",
     "locked": true,
     "schema_version": 3,
     "solution": false,
     "task": false
    }
   },
   "source": [
    "O que você percebe neste gráfico?\n",
    "Em que sentido ele é similar ao correspondente à bisseção, e em que sentido ele é diferente?"
   ]
  },
  {
   "cell_type": "markdown",
   "metadata": {
    "deletable": false,
    "nbgrader": {
     "cell_type": "markdown",
     "checksum": "bf994860d4a73df3b5383702feb7fe4e",
     "grade": true,
     "grade_id": "cell-5f26f201808c4771",
     "locked": false,
     "points": 3,
     "schema_version": 3,
     "solution": true,
     "task": false
    }
   },
   "source": [
    "Segue o mesmo comportamento do estudo da bisseção. Com o aumento de y o erro em x cresce. Ele é diferente pela ordem de grandeza do erro ser muito menor do que o da bisseção.\n"
   ]
  },
  {
   "cell_type": "markdown",
   "metadata": {
    "deletable": false,
    "editable": false,
    "nbgrader": {
     "cell_type": "markdown",
     "checksum": "048a476d24ce8a84b1c637b61e7016fa",
     "grade": false,
     "grade_id": "cell-e90865a028c451b0",
     "locked": true,
     "schema_version": 3,
     "solution": false,
     "task": false
    }
   },
   "source": [
    "# Parte 3: Aproximações sucessivas\n",
    "\n",
    "O método de Newton funciona bem quando o valor de $x_0$, candidato a raiz de $f(x) = y$,\n",
    "está próximo da raiz real $x = f^{-1}(y)$.\n",
    "\n",
    "Nesta parte, vamos investigar um pouco a ideia de \"começar em um ponto conhecido e seguir daí em diante\"."
   ]
  },
  {
   "cell_type": "markdown",
   "metadata": {
    "deletable": false,
    "editable": false,
    "nbgrader": {
     "cell_type": "markdown",
     "checksum": "dfdb06d1334744874896fa0a129e21d6",
     "grade": false,
     "grade_id": "cell-940b6bc4d7f405e3",
     "locked": true,
     "schema_version": 3,
     "solution": false,
     "task": false
    }
   },
   "source": [
    "## Questão 5: Newton por partes\n",
    "\n",
    "Implemente a função `newton_inv(f, df, ys, x0)`, que calcula todas as soluções de $f(x) = y$,\n",
    "para cada $y$ no vetor `ys`, que supomos ordenado.\n",
    "Use $x_0$ para iniciar o método, e depois use a raiz anterior para continuar."
   ]
  },
  {
   "cell_type": "code",
   "execution_count": null,
   "metadata": {
    "deletable": false,
    "nbgrader": {
     "cell_type": "code",
     "checksum": "9b884ff0de73da317baea68ea307bd66",
     "grade": false,
     "grade_id": "cell-09e4b4951c1af3fa",
     "locked": false,
     "schema_version": 3,
     "solution": true,
     "task": false
    }
   },
   "outputs": [],
   "source": [
    "def newton_inv(f, df, ys, x0, xtol=1e-8, ytol=1e-8, maxiter=100):\n",
    "    \"\"\"Newton's algorithm for solving  f(x) = y  for each  y  in the list  ys.\n",
    "    Returns two lists, one of the (approximate) roots, another of the iterations for each one.\"\"\"\n",
    "    xs     = []\n",
    "    nevals = []\n",
    "    # YOUR CODE HERE\n",
    "    raise NotImplementedError()\n",
    "\n",
    "    return xs, nevals"
   ]
  },
  {
   "cell_type": "code",
   "execution_count": null,
   "metadata": {
    "deletable": false,
    "editable": false,
    "nbgrader": {
     "cell_type": "code",
     "checksum": "4f55e1e3f41df6ad64da56ce68a31aab",
     "grade": true,
     "grade_id": "cell-4a4cae0a719651e2",
     "locked": true,
     "points": 1,
     "schema_version": 3,
     "solution": false,
     "task": false
    }
   },
   "outputs": [],
   "source": [
    "ys = np.linspace(0,0.5,num=6)\n",
    "xs, ns = newton_inv(np.sin, np.cos, ys, 0, xtol=1e-12, ytol=1e-12)\n",
    "assert len(xs) == len(ys)\n",
    "assert len(ns) == len(ys)"
   ]
  },
  {
   "cell_type": "code",
   "execution_count": null,
   "metadata": {
    "deletable": false,
    "editable": false,
    "nbgrader": {
     "cell_type": "code",
     "checksum": "955125535e563c2275decd167aa87ab7",
     "grade": true,
     "grade_id": "cell-4f7ab9ed2dedbf2a",
     "locked": true,
     "points": 1,
     "schema_version": 3,
     "solution": false,
     "task": false
    }
   },
   "outputs": [],
   "source": [
    "ys = np.linspace(0,0.5,num=6)\n",
    "xs, ns = newton_inv(np.sin, np.cos, ys, 0, xtol=1e-12, ytol=1e-12)\n",
    "assert np.allclose(np.sin(xs), ys, atol=1e-12, rtol=1e-12)"
   ]
  },
  {
   "cell_type": "code",
   "execution_count": null,
   "metadata": {
    "deletable": false,
    "editable": false,
    "nbgrader": {
     "cell_type": "code",
     "checksum": "192b9683323135e2f7bd058c15574953",
     "grade": true,
     "grade_id": "cell-d81092b99f7cc5d3",
     "locked": true,
     "points": 1,
     "schema_version": 3,
     "solution": false,
     "task": false
    }
   },
   "outputs": [],
   "source": [
    "ys = np.linspace(0,0.5,num=6)\n",
    "xs, ns = newton_inv(np.sin, np.cos, ys, 0, xtol=1e-12, ytol=1e-12)\n",
    "assert ns[0] == 1\n",
    "assert np.all(3 <= np.array(ns[1:]))\n",
    "assert np.all(np.array(ns[1:]) <= 6)"
   ]
  },
  {
   "cell_type": "code",
   "execution_count": null,
   "metadata": {
    "deletable": false,
    "editable": false,
    "nbgrader": {
     "cell_type": "code",
     "checksum": "32157a9ed30e1e1ee4549f91ce285f9c",
     "grade": true,
     "grade_id": "cell-ff2332868a7c5816",
     "locked": true,
     "points": 1,
     "schema_version": 3,
     "solution": false,
     "task": false
    }
   },
   "outputs": [],
   "source": [
    "ys = np.linspace(0,0.5,num=11)\n",
    "xs, ns = newton_inv(np.sin, np.cos, ys, 0, xtol=1e-15, ytol=1e-15)\n",
    "assert np.allclose(np.sin(xs), ys, atol=1e-15, rtol=1e-15)"
   ]
  },
  {
   "cell_type": "markdown",
   "metadata": {
    "deletable": false,
    "editable": false,
    "nbgrader": {
     "cell_type": "markdown",
     "checksum": "56455ba6c5318b8f6b67e495c8c389c8",
     "grade": false,
     "grade_id": "cell-0e8f4f8f58e8fdd4",
     "locked": true,
     "schema_version": 3,
     "solution": false,
     "task": false
    }
   },
   "source": [
    "## Questão 6: Gráficos\n",
    "\n",
    "Faça um gráfico do número de iterações necessárias para calcular a inversa do seno,\n",
    "em cada ponto do intervalo $[0, 0.9]$, com precisão de $10^{-15}$,\n",
    "para os três métodos:\n",
    "- bisseção\n",
    "- Newton\n",
    "- Newton por partes"
   ]
  },
  {
   "cell_type": "code",
   "execution_count": null,
   "metadata": {
    "deletable": false,
    "nbgrader": {
     "cell_type": "code",
     "checksum": "89361dfb654a0db4fa65732b6426e7db",
     "grade": false,
     "grade_id": "cell-e2beb8ea34012b46",
     "locked": false,
     "schema_version": 3,
     "solution": true,
     "task": false
    }
   },
   "outputs": [],
   "source": [
    "ys = np.linspace(0.,0.95, num=150)\n",
    "# YOUR CODE HERE\n",
    "raise NotImplementedError()\n",
    "\n",
    "ax = plt.gca()"
   ]
  },
  {
   "cell_type": "code",
   "execution_count": null,
   "metadata": {
    "deletable": false,
    "editable": false,
    "nbgrader": {
     "cell_type": "code",
     "checksum": "18e3592d2d60aac9877df1b34e9ee722",
     "grade": true,
     "grade_id": "cell-f2e4f5c631726dc8",
     "locked": true,
     "points": 2,
     "schema_version": 3,
     "solution": false,
     "task": false
    }
   },
   "outputs": [],
   "source": [
    "assert len(ax.lines) == 3\n",
    "assert len(ax.legend().texts) == 3\n",
    "\n",
    "assert ax.title.get_text() != \"\"\n",
    "assert ax.get_xlabel() != \"\"\n",
    "assert ax.get_ylabel() != \"\""
   ]
  },
  {
   "cell_type": "markdown",
   "metadata": {
    "deletable": false,
    "editable": false,
    "nbgrader": {
     "cell_type": "markdown",
     "checksum": "33c084e8c2ed072a7e8706189f65941f",
     "grade": false,
     "grade_id": "cell-2ab96277ff22a6b9",
     "locked": true,
     "schema_version": 3,
     "solution": false,
     "task": false
    }
   },
   "source": [
    "O que você observa?"
   ]
  },
  {
   "cell_type": "markdown",
   "metadata": {
    "deletable": false,
    "nbgrader": {
     "cell_type": "markdown",
     "checksum": "1b11788083dd250c2aa1d42abf349009",
     "grade": true,
     "grade_id": "cell-3cfa5cea1cb4c3f0",
     "locked": false,
     "points": 2,
     "schema_version": 3,
     "solution": true,
     "task": false
    }
   },
   "source": [
    "YOUR ANSWER HERE"
   ]
  },
  {
   "cell_type": "markdown",
   "metadata": {
    "deletable": false,
    "editable": false,
    "nbgrader": {
     "cell_type": "markdown",
     "checksum": "53b85d31202889cc4819b395b5f6b201",
     "grade": false,
     "grade_id": "cell-e86bc1b9fb53084c",
     "locked": true,
     "schema_version": 3,
     "solution": false,
     "task": false
    }
   },
   "source": [
    "## Questão 7: Logaritmos e Exponenciais"
   ]
  },
  {
   "cell_type": "code",
   "execution_count": null,
   "metadata": {
    "deletable": false,
    "editable": false,
    "nbgrader": {
     "cell_type": "code",
     "checksum": "5912305c302f820fe0af224b2e3703cf",
     "grade": false,
     "grade_id": "cell-e6e2736e6c6ffaa7",
     "locked": true,
     "schema_version": 3,
     "solution": false,
     "task": false
    }
   },
   "outputs": [],
   "source": [
    "def mulinv(x):\n",
    "    return 1/x"
   ]
  },
  {
   "cell_type": "code",
   "execution_count": null,
   "metadata": {
    "deletable": false,
    "editable": false,
    "nbgrader": {
     "cell_type": "code",
     "checksum": "89907b49b4da52b834d95caa29497cb4",
     "grade": true,
     "grade_id": "cell-9cfa78985f984779",
     "locked": true,
     "points": 1,
     "schema_version": 3,
     "solution": false,
     "task": false
    }
   },
   "outputs": [],
   "source": [
    "x, n = newton_solve(np.log, mulinv, -0.1, 1)\n",
    "assert np.isclose(np.log(x), -0.1)"
   ]
  },
  {
   "cell_type": "code",
   "execution_count": null,
   "metadata": {
    "deletable": false,
    "editable": false,
    "nbgrader": {
     "cell_type": "code",
     "checksum": "0e9b844782759ca9b4cce54b0a2a95e5",
     "grade": false,
     "grade_id": "cell-7d680ea350bbf2bf",
     "locked": true,
     "schema_version": 3,
     "solution": false,
     "task": false
    }
   },
   "outputs": [],
   "source": [
    "for y in [0.9, 0.99, 0.999, 0.9999, 0.99999]:\n",
    "    print(y, newton_solve(np.log, mulinv, -y, 1))"
   ]
  },
  {
   "cell_type": "code",
   "execution_count": null,
   "metadata": {
    "deletable": false,
    "editable": false,
    "nbgrader": {
     "cell_type": "code",
     "checksum": "848878426d40741b2d76c8a3251d147c",
     "grade": false,
     "grade_id": "cell-f67e3e975a8cbe9c",
     "locked": true,
     "schema_version": 3,
     "solution": false,
     "task": false
    }
   },
   "outputs": [],
   "source": [
    "newton_solve(np.log, mulinv, -1.0, 1)"
   ]
  },
  {
   "cell_type": "markdown",
   "metadata": {
    "deletable": false,
    "editable": false,
    "nbgrader": {
     "cell_type": "markdown",
     "checksum": "376115694b38be895a1b08ae26b5fef0",
     "grade": false,
     "grade_id": "cell-d34b9a91183a1818",
     "locked": true,
     "schema_version": 3,
     "solution": false,
     "task": false
    }
   },
   "source": [
    "Explique o que aconteceu nas duas caixas acima."
   ]
  },
  {
   "cell_type": "markdown",
   "metadata": {
    "deletable": false,
    "nbgrader": {
     "cell_type": "markdown",
     "checksum": "9871de982c4555693b3ffc994ce9260c",
     "grade": true,
     "grade_id": "cell-57ce1c33285c75c0",
     "locked": false,
     "points": 2,
     "schema_version": 3,
     "solution": true,
     "task": false
    }
   },
   "source": [
    "YOUR ANSWER HERE"
   ]
  },
  {
   "cell_type": "code",
   "execution_count": null,
   "metadata": {
    "deletable": false,
    "editable": false,
    "nbgrader": {
     "cell_type": "code",
     "checksum": "f7d520c47d4a91611105d639f73190f7",
     "grade": false,
     "grade_id": "cell-60af8f9dfcacead2",
     "locked": true,
     "schema_version": 3,
     "solution": false,
     "task": false
    }
   },
   "outputs": [],
   "source": [
    "print(newton_solve(np.log, mulinv, -1.99999, 1/np.e))\n",
    "print(newton_solve(np.log, mulinv, -2.0, 1/np.e))"
   ]
  },
  {
   "cell_type": "markdown",
   "metadata": {
    "deletable": false,
    "editable": false,
    "nbgrader": {
     "cell_type": "markdown",
     "checksum": "2bd70aa6359047689f28f738f82ad2a1",
     "grade": false,
     "grade_id": "cell-316fa52118471839",
     "locked": true,
     "schema_version": 3,
     "solution": false,
     "task": false
    }
   },
   "source": [
    "Explique porque esta caixa é semelhante às anteriores,\n",
    "e o que isso sugere quanto à dificuldade de resolver, usando o método de Newton,\n",
    "a equação $\\log(x) = y$ para $y$ negativo."
   ]
  },
  {
   "cell_type": "markdown",
   "metadata": {
    "deletable": false,
    "nbgrader": {
     "cell_type": "markdown",
     "checksum": "5346cd27d80bb23f7ac99a25e09ced05",
     "grade": true,
     "grade_id": "cell-a479d53d3f185ae8",
     "locked": false,
     "points": 2,
     "schema_version": 3,
     "solution": true,
     "task": false
    }
   },
   "source": [
    "YOUR ANSWER HERE"
   ]
  },
  {
   "cell_type": "code",
   "execution_count": null,
   "metadata": {
    "deletable": false,
    "editable": false,
    "nbgrader": {
     "cell_type": "code",
     "checksum": "d04af4dd1d2e6ccde933d2042f766e47",
     "grade": true,
     "grade_id": "cell-dd49858a69241213",
     "locked": true,
     "points": 1,
     "schema_version": 3,
     "solution": false,
     "task": false
    }
   },
   "outputs": [],
   "source": [
    "ys = np.linspace(0,20,num=30)\n",
    "xs, ns = newton_inv(np.log, mulinv, -ys, 1, xtol=1e-15, ytol=1e-15)\n",
    "assert np.allclose(np.log(xs), -ys)"
   ]
  },
  {
   "cell_type": "markdown",
   "metadata": {
    "deletable": false,
    "editable": false,
    "nbgrader": {
     "cell_type": "markdown",
     "checksum": "e9775616b9047b47e8ac06b3365a7ab8",
     "grade": false,
     "grade_id": "cell-891785ebb4f54863",
     "locked": true,
     "schema_version": 3,
     "solution": false,
     "task": false
    }
   },
   "source": [
    "Explique porque o método de aproximações funciona."
   ]
  },
  {
   "cell_type": "markdown",
   "metadata": {
    "deletable": false,
    "nbgrader": {
     "cell_type": "markdown",
     "checksum": "ca672d8d98e6d1d77516febee49e169f",
     "grade": true,
     "grade_id": "cell-f5b4f6bc3d0ab303",
     "locked": false,
     "points": 2,
     "schema_version": 3,
     "solution": true,
     "task": false
    }
   },
   "source": [
    "YOUR ANSWER HERE"
   ]
  },
  {
   "cell_type": "markdown",
   "metadata": {
    "deletable": false,
    "editable": false,
    "nbgrader": {
     "cell_type": "markdown",
     "checksum": "14f1789ed5000e3d14b0c19e1c6d12e1",
     "grade": false,
     "grade_id": "cell-d662bd89284daddb",
     "locked": true,
     "schema_version": 3,
     "solution": false,
     "task": false
    }
   },
   "source": [
    "Qual seria a dificuldade para adaptar o método de \"aproximação sucessiva\" para a Bisseção?"
   ]
  },
  {
   "cell_type": "markdown",
   "metadata": {
    "deletable": false,
    "nbgrader": {
     "cell_type": "markdown",
     "checksum": "5cd1c8e7ab98e355dc041f5ac8c3dbcb",
     "grade": true,
     "grade_id": "cell-e31c71484c8862cd",
     "locked": false,
     "points": 2,
     "schema_version": 3,
     "solution": true,
     "task": false
    }
   },
   "source": [
    "YOUR ANSWER HERE"
   ]
  },
  {
   "cell_type": "markdown",
   "metadata": {
    "deletable": false,
    "editable": false,
    "nbgrader": {
     "cell_type": "markdown",
     "checksum": "f1843b084ae64883c0c7230a14819d9b",
     "grade": false,
     "grade_id": "cell-a537b48accebd868",
     "locked": true,
     "schema_version": 3,
     "solution": false,
     "task": false
    }
   },
   "source": [
    "## Questão 8: Uma função parecida\n",
    "\n",
    "Resolva a equação $\\log(x) + 10^9 x = -20$."
   ]
  },
  {
   "cell_type": "code",
   "execution_count": null,
   "metadata": {
    "deletable": false,
    "editable": false,
    "nbgrader": {
     "cell_type": "code",
     "checksum": "17920b696de09558f0dee83eaa50d881",
     "grade": false,
     "grade_id": "cell-96fc7f74dedd7676",
     "locked": true,
     "schema_version": 3,
     "solution": false,
     "task": false
    }
   },
   "outputs": [],
   "source": [
    "def f(x):\n",
    "    return np.log(x) + 1e9*x\n",
    "def df(x):\n",
    "    return 1/x + 1e9"
   ]
  },
  {
   "cell_type": "code",
   "execution_count": null,
   "metadata": {
    "deletable": false,
    "nbgrader": {
     "cell_type": "code",
     "checksum": "af441710bb9607c2cd1344b96959b1c5",
     "grade": false,
     "grade_id": "cell-1314c1b7c73c7c39",
     "locked": false,
     "schema_version": 3,
     "solution": true,
     "task": false
    }
   },
   "outputs": [],
   "source": [
    "# Dê sua resposta da forma\n",
    "# x = ...\n",
    "# YOUR CODE HERE\n",
    "raise NotImplementedError()"
   ]
  },
  {
   "cell_type": "code",
   "execution_count": null,
   "metadata": {
    "deletable": false,
    "editable": false,
    "nbgrader": {
     "cell_type": "code",
     "checksum": "162819a2869bef948bd3ca747f980d3f",
     "grade": true,
     "grade_id": "cell-5ac95ef375f9bfc7",
     "locked": true,
     "points": 2,
     "schema_version": 3,
     "solution": false,
     "task": false
    }
   },
   "outputs": [],
   "source": [
    "assert np.isclose(f(x), -20, atol=1e-13, rtol=1e-13)"
   ]
  }
 ],
 "metadata": {
  "kernelspec": {
   "display_name": "Python 3",
   "language": "python",
   "name": "python3"
  },
  "language_info": {
   "codemirror_mode": {
    "name": "ipython",
    "version": 3
   },
   "file_extension": ".py",
   "mimetype": "text/x-python",
   "name": "python",
   "nbconvert_exporter": "python",
   "pygments_lexer": "ipython3",
   "version": "3.7.3"
  },
  "metadata": {
   "interpreter": {
    "hash": "aa8e4de9f4426ab75fdef01f3d7947e2b3e9cfbdb80ba65115d4f20988c8517e"
   }
  }
 },
 "nbformat": 4,
 "nbformat_minor": 4
}
