{
 "cells": [
  {
   "cell_type": "markdown",
   "metadata": {},
   "source": [
    "![CC-BY-SA](https://mirrors.creativecommons.org/presskit/buttons/88x31/svg/by-sa.svg)\n",
    "\n",
    "\n",
    "This notebook was created by [Bernardo Freitas Paulo da Costa](http://www.im.ufrj.br/bernardofpc),\n",
    "and is licensed under Creative Commons BY-SA."
   ]
  },
  {
   "cell_type": "markdown",
   "metadata": {},
   "source": [
    "Antes de enviar este Teste, verifique que tudo está funcionando como esperado.\n",
    "Por exemplo, **rode o código inteiro, do zero**.\n",
    "Para isso, vá no menu, escolha _Kernel_, depois _Restart & Run All_.\n",
    "\n",
    "Verifique, também, que você respondeu todas as questões:\n",
    "* as questões de código têm `YOUR CODE HERE` (e você pode apagar o `raise NotImplemented` ao incluir sua resposta)\n",
    "* as questões discursivas têm \"YOUR ANSWER HERE\"."
   ]
  },
  {
   "cell_type": "markdown",
   "metadata": {},
   "source": [
    "---"
   ]
  },
  {
   "cell_type": "code",
   "execution_count": 1,
   "metadata": {},
   "outputs": [],
   "source": [
    "import numpy as np\n",
    "import matplotlib.pyplot as plt\n",
    "from time import time"
   ]
  },
  {
   "cell_type": "markdown",
   "metadata": {},
   "source": [
    "# Resolvendo sistemas especiais\n",
    "\n",
    "## Questão 1: Algoritmo\n",
    "\n",
    "Uma matriz é dita tridiagonal quando só possui entradas diferentes de zero na diagonal,\n",
    "e imediatamente acima ou abaixo dela.\n",
    "\n",
    "Explique porque, ao fazer a eliminação, o algoritmo só precisa operar nas três \"diagonais centrais\".\n",
    "Inclusive, dê um exemplo de uma matriz, com muitos zeros, mas para a qual o algoritmo de eliminação\n",
    "vai ter que acessar e calcular nas entradas correspondentes."
   ]
  },
  {
   "cell_type": "markdown",
   "metadata": {
    "deletable": false,
    "nbgrader": {
     "cell_type": "markdown",
     "checksum": "9fc580eb409c7160b373c9ba848736b1",
     "grade": true,
     "grade_id": "cell-671f1d7ad1aebc5e",
     "locked": false,
     "points": 2,
     "schema_version": 3,
     "solution": true,
     "task": false
    }
   },
   "source": [
    "Elementos que não estejam nas diagonais principais são zero, logo, na execução do algoritmo, ou estará no fator, zerando toda uma equação, correspondente a uma das duas linhas de dada eliminação, e fazendo sobrar somente a outra, ou estará nos coeficientes de uma delas, zerando termos da equação e fazendo sobrar somente os com coeficientes que são elementos das diagonais principais. $$\\begin{bmatrix} a_{11} & 0 & 0 \\\\ a_{21} & 0 & a_{23} \\\\ 0 & a_{32} & a_{33} \\end{bmatrix}$$"
   ]
  },
  {
   "cell_type": "markdown",
   "metadata": {},
   "source": [
    "Agora, escreva a função `tridiag_solve` para resolver sistemas tridiagonais, ou seja,\n",
    "aqueles cuja matriz de coeficientes é tridiagonal.\n",
    "\n",
    "Esta função deve realizar o algoritmo de eliminação,\n",
    "mas, para ter uma boa performance, opere apenas nas entradas das diagonais centrais."
   ]
  },
  {
   "cell_type": "code",
   "execution_count": 2,
   "metadata": {
    "deletable": false,
    "nbgrader": {
     "cell_type": "code",
     "checksum": "3b57e2d5f8e93159a5f5d2e76cac1d98",
     "grade": false,
     "grade_id": "cell-462b708f5e397ecf",
     "locked": false,
     "schema_version": 3,
     "solution": true,
     "task": false
    }
   },
   "outputs": [],
   "source": [
    "def tridiag_solve(A, b):\n",
    "    A = np.copy(np.asarray(A, dtype=np.float))\n",
    "    b = np.copy(np.asarray(b, dtype=np.float))\n",
    "    n,m = np.shape(A)\n",
    "    assert m == len(b)\n",
    "    assert n == m, \"Matrix must be square\"\n",
    "    for k in range(0,n-1):        \n",
    "        fator = -(A[k+1][k]/A[k][k])\n",
    "        b[k+1] = b[k+1] + fator*b[k]\n",
    "        A[k+1][k] = 0\n",
    "        A[k+1][k+1] = A[k+1][k+1] + fator*A[k][k+1] \n",
    "    xs = []\n",
    "    xs.append(b[m-1]/A[n-1][m-1])\n",
    "    for i in range(m-1,0,-1):\n",
    "        xs.append((b[i-1] - A[i-1][i]*xs[-1])/A[i-1][i-1])\n",
    "    return xs[::-1]"
   ]
  },
  {
   "cell_type": "markdown",
   "metadata": {},
   "source": [
    "Qual o papel do primeiro assert?"
   ]
  },
  {
   "cell_type": "markdown",
   "metadata": {
    "deletable": false,
    "nbgrader": {
     "cell_type": "markdown",
     "checksum": "f7374d595c9876249cb7f8693191382d",
     "grade": true,
     "grade_id": "cell-7a4214ebd68e358c",
     "locked": false,
     "points": 1,
     "schema_version": 3,
     "solution": true,
     "task": false
    }
   },
   "source": [
    "Confirmar que o número de colunas da matriz A, com coeficientes, é igual ao tamanho do vetor b, dos termos dependentes, $y_i$. "
   ]
  },
  {
   "cell_type": "code",
   "execution_count": 3,
   "metadata": {
    "deletable": false,
    "editable": false,
    "nbgrader": {
     "cell_type": "code",
     "checksum": "2e4b59ab9571801024d1e03249fd5458",
     "grade": true,
     "grade_id": "cell-65f2e07cb2fa5887",
     "locked": true,
     "points": 1,
     "schema_version": 3,
     "solution": false,
     "task": false
    }
   },
   "outputs": [
    {
     "name": "stderr",
     "output_type": "stream",
     "text": [
      "C:\\Users\\brand\\AppData\\Local\\Temp\\ipykernel_5228\\2514715951.py:2: DeprecationWarning: `np.float` is a deprecated alias for the builtin `float`. To silence this warning, use `float` by itself. Doing this will not modify any behavior and is safe. If you specifically wanted the numpy scalar type, use `np.float64` here.\n",
      "Deprecated in NumPy 1.20; for more details and guidance: https://numpy.org/devdocs/release/1.20.0-notes.html#deprecations\n",
      "  A = np.copy(np.asarray(A, dtype=np.float))\n",
      "C:\\Users\\brand\\AppData\\Local\\Temp\\ipykernel_5228\\2514715951.py:3: DeprecationWarning: `np.float` is a deprecated alias for the builtin `float`. To silence this warning, use `float` by itself. Doing this will not modify any behavior and is safe. If you specifically wanted the numpy scalar type, use `np.float64` here.\n",
      "Deprecated in NumPy 1.20; for more details and guidance: https://numpy.org/devdocs/release/1.20.0-notes.html#deprecations\n",
      "  b = np.copy(np.asarray(b, dtype=np.float))\n"
     ]
    }
   ],
   "source": [
    "A = [[1, 2, 0], [2, 1, -1], [0, 1, -2]]\n",
    "b = [1,1,1]\n",
    "\n",
    "x1 = np.linalg.solve(A,b)\n",
    "x2 = tridiag_solve(A, b)\n",
    "assert np.allclose(x1, x2, atol=1e-14, rtol=1e-14), (x1,x2)"
   ]
  },
  {
   "cell_type": "code",
   "execution_count": 4,
   "metadata": {
    "deletable": false,
    "editable": false,
    "nbgrader": {
     "cell_type": "code",
     "checksum": "f9ce16344b327878f74ae2a53d78a9e5",
     "grade": true,
     "grade_id": "cell-20bb3249b0db5e25",
     "locked": true,
     "points": 1,
     "schema_version": 3,
     "solution": false,
     "task": false
    }
   },
   "outputs": [
    {
     "name": "stderr",
     "output_type": "stream",
     "text": [
      "C:\\Users\\brand\\AppData\\Local\\Temp\\ipykernel_5228\\2514715951.py:2: DeprecationWarning: `np.float` is a deprecated alias for the builtin `float`. To silence this warning, use `float` by itself. Doing this will not modify any behavior and is safe. If you specifically wanted the numpy scalar type, use `np.float64` here.\n",
      "Deprecated in NumPy 1.20; for more details and guidance: https://numpy.org/devdocs/release/1.20.0-notes.html#deprecations\n",
      "  A = np.copy(np.asarray(A, dtype=np.float))\n",
      "C:\\Users\\brand\\AppData\\Local\\Temp\\ipykernel_5228\\2514715951.py:3: DeprecationWarning: `np.float` is a deprecated alias for the builtin `float`. To silence this warning, use `float` by itself. Doing this will not modify any behavior and is safe. If you specifically wanted the numpy scalar type, use `np.float64` here.\n",
      "Deprecated in NumPy 1.20; for more details and guidance: https://numpy.org/devdocs/release/1.20.0-notes.html#deprecations\n",
      "  b = np.copy(np.asarray(b, dtype=np.float))\n"
     ]
    }
   ],
   "source": [
    "np.random.seed(9)\n",
    "A = np.diag(range(3,8)) + np.diag([-1,-1,-2,-2], k=1) + np.diag([-2,-2,-1,-1], k=-1)\n",
    "b = np.random.randn(5)\n",
    "\n",
    "x1 = np.linalg.solve(A, b)\n",
    "x2 = tridiag_solve(A, b)\n",
    "assert np.allclose(x1, x2, atol=1e-13, rtol=1e-13)"
   ]
  },
  {
   "cell_type": "markdown",
   "metadata": {},
   "source": [
    "Se você não tivesse acesso a `np.linalg.solve`, como você poderia testar sua função?\n",
    "Explique abaixo, e dê um exemplo de teste na caixa seguinte."
   ]
  },
  {
   "cell_type": "markdown",
   "metadata": {
    "deletable": false,
    "nbgrader": {
     "cell_type": "markdown",
     "checksum": "d7e005d192564f3abfad3c2639865f43",
     "grade": true,
     "grade_id": "cell-880f3f95c45d504d",
     "locked": false,
     "points": 1,
     "schema_version": 3,
     "solution": true,
     "task": false
    }
   },
   "source": [
    "A função retorna os valores de x em uma matriz 1 por m, ou um vetor de tamanho m, então podemos fazer a multiplicação de matrizes entre ela a matriz dos coeficientes, A. O resultado é um vetor que, se a função tiver sido implementada corretamente,deve ser igual ao vetor b, usado para encontrar os x. "
   ]
  },
  {
   "cell_type": "code",
   "execution_count": 5,
   "metadata": {
    "deletable": false,
    "nbgrader": {
     "cell_type": "code",
     "checksum": "a43fd073452357c400e95e3d94b8e664",
     "grade": true,
     "grade_id": "cell-e359c03c250b063f",
     "locked": false,
     "points": 1,
     "schema_version": 3,
     "solution": true,
     "task": false
    }
   },
   "outputs": [
    {
     "name": "stderr",
     "output_type": "stream",
     "text": [
      "C:\\Users\\brand\\AppData\\Local\\Temp\\ipykernel_5228\\2514715951.py:2: DeprecationWarning: `np.float` is a deprecated alias for the builtin `float`. To silence this warning, use `float` by itself. Doing this will not modify any behavior and is safe. If you specifically wanted the numpy scalar type, use `np.float64` here.\n",
      "Deprecated in NumPy 1.20; for more details and guidance: https://numpy.org/devdocs/release/1.20.0-notes.html#deprecations\n",
      "  A = np.copy(np.asarray(A, dtype=np.float))\n",
      "C:\\Users\\brand\\AppData\\Local\\Temp\\ipykernel_5228\\2514715951.py:3: DeprecationWarning: `np.float` is a deprecated alias for the builtin `float`. To silence this warning, use `float` by itself. Doing this will not modify any behavior and is safe. If you specifically wanted the numpy scalar type, use `np.float64` here.\n",
      "Deprecated in NumPy 1.20; for more details and guidance: https://numpy.org/devdocs/release/1.20.0-notes.html#deprecations\n",
      "  b = np.copy(np.asarray(b, dtype=np.float))\n"
     ]
    }
   ],
   "source": [
    "# Exemplo de teste\n",
    "A = [[1, 2, 0], [2, 1, -1], [0, 1, -2]]\n",
    "b = [1,1,1]\n",
    "n,m = np.shape(A)\n",
    "x1 = tridiag_solve(A, b)\n",
    "for l in range(m):\n",
    "    sum = 0\n",
    "    for i in range(n):\n",
    "        sum += A[l][i]*x1[i]\n",
    "    assert sum == b[l]  \n"
   ]
  },
  {
   "cell_type": "markdown",
   "metadata": {},
   "source": [
    "## Questão 2: Tempos\n",
    "\n",
    "Para cada um dos `ns` dados a seguir, monte um sistema tridiagonal $n \\times n$,\n",
    "e calcule o tempo (usando `time`) para:\n",
    "1. Criar a matriz A e o vetor b (podem ser aleatórios, podem não ser)\n",
    "2. Resolver o sistema usando `tridiag_solve`\n",
    "\n",
    "Armazene os tempos em duas listas, `t_create` e `t_solve`.\n",
    "\n",
    "Obs: o caixa abaixo pode usar algo como 2G de RAM, por conta das matrizes 8k\n",
    "(ou até mais, dependendo de **como** você criar as matrizes).\n",
    "Assim, para testar, diminua a amplitude do logspace, terminando em $2^{10}$ em vez de $2^{13}$.\n",
    "Se você não conseguir fazer funcionar até $2^{13}$,\n",
    "reduza o maior valor do `logspace`, mas não reduza demais."
   ]
  },
  {
   "cell_type": "code",
   "execution_count": 6,
   "metadata": {
    "deletable": false,
    "nbgrader": {
     "cell_type": "code",
     "checksum": "e184a87f620ac340bc7ea381dd896ad6",
     "grade": true,
     "grade_id": "cell-84a663322d8e87f5",
     "locked": false,
     "points": 2,
     "schema_version": 3,
     "solution": true,
     "task": false
    }
   },
   "outputs": [
    {
     "name": "stderr",
     "output_type": "stream",
     "text": [
      "C:\\Users\\brand\\AppData\\Local\\Temp\\ipykernel_5228\\2514715951.py:2: DeprecationWarning: `np.float` is a deprecated alias for the builtin `float`. To silence this warning, use `float` by itself. Doing this will not modify any behavior and is safe. If you specifically wanted the numpy scalar type, use `np.float64` here.\n",
      "Deprecated in NumPy 1.20; for more details and guidance: https://numpy.org/devdocs/release/1.20.0-notes.html#deprecations\n",
      "  A = np.copy(np.asarray(A, dtype=np.float))\n",
      "C:\\Users\\brand\\AppData\\Local\\Temp\\ipykernel_5228\\2514715951.py:3: DeprecationWarning: `np.float` is a deprecated alias for the builtin `float`. To silence this warning, use `float` by itself. Doing this will not modify any behavior and is safe. If you specifically wanted the numpy scalar type, use `np.float64` here.\n",
      "Deprecated in NumPy 1.20; for more details and guidance: https://numpy.org/devdocs/release/1.20.0-notes.html#deprecations\n",
      "  b = np.copy(np.asarray(b, dtype=np.float))\n"
     ]
    }
   ],
   "source": [
    "ns = np.logspace(4,13, base=2, num=28, dtype=int)\n",
    "t_create = []\n",
    "t_solve  = []\n",
    "for i, n in enumerate(ns):\n",
    "    start = time()\n",
    "    dig = np.full(n-1, -1)\n",
    "    A = np.diag(np.random.randint(1,100, n)) + np.diag(dig, k=1) + np.diag(dig[::-1], k=-1)\n",
    "    b = np.random.randn(n)\n",
    "    finish = time()\n",
    "    t_create.append(finish-start)\n",
    "    \n",
    "    start = time()\n",
    "    x = tridiag_solve(A,b)\n",
    "    finish = time()\n",
    "    t_solve.append(finish-start)\n"
   ]
  },
  {
   "cell_type": "markdown",
   "metadata": {},
   "source": [
    "Agora, faça um gráfico destes tempos, em função de $n$."
   ]
  },
  {
   "cell_type": "code",
   "execution_count": 7,
   "metadata": {
    "deletable": false,
    "nbgrader": {
     "cell_type": "code",
     "checksum": "b5fdd2f0ee670e68830b6b9abf309be9",
     "grade": false,
     "grade_id": "cell-a67d25ce0784d87f",
     "locked": false,
     "schema_version": 3,
     "solution": true,
     "task": false
    }
   },
   "outputs": [
    {
     "data": {
      "image/png": "[encoded data removed]",
      "text/plain": [
       "<Figure size 640x480 with 1 Axes>"
      ]
     },
     "metadata": {},
     "output_type": "display_data"
    }
   ],
   "source": [
    "\n",
    "plt.plot(ns, t_create, label=\"Tempo para criar\")\n",
    "plt.plot(ns, t_solve, label=\"Tempo para resolver\")\n",
    "plt.ylabel('segundos')\n",
    "plt.xlabel('dimensão n da matriz')\n",
    "plt.legend()\n",
    "plt.title(\"Tempo para criar e resolver uma matriz tridiagonal\")\n",
    "ax = plt.gca()"
   ]
  },
  {
   "cell_type": "code",
   "execution_count": 8,
   "metadata": {
    "deletable": false,
    "editable": false,
    "nbgrader": {
     "cell_type": "code",
     "checksum": "328b139fc4112f5d0fe4ee451d929982",
     "grade": true,
     "grade_id": "cell-e3e0f254799598f9",
     "locked": true,
     "points": 1,
     "schema_version": 3,
     "solution": false,
     "task": false
    }
   },
   "outputs": [],
   "source": [
    "assert len(ax.lines) == 2\n",
    "assert len(ax.legend().texts) == 2\n",
    "assert ax.get_title() != \"\""
   ]
  },
  {
   "cell_type": "code",
   "execution_count": 9,
   "metadata": {
    "deletable": false,
    "editable": false,
    "nbgrader": {
     "cell_type": "code",
     "checksum": "4c8d76dd5a2ea1c1ebf4bed1f3a25dc0",
     "grade": true,
     "grade_id": "cell-b0b81c2b16c50f3a",
     "locked": true,
     "points": 1,
     "schema_version": 3,
     "solution": false,
     "task": false
    }
   },
   "outputs": [],
   "source": [
    "for l in ax.lines:\n",
    "    xs = l.get_xdata()\n",
    "    assert min(xs) == 2**4\n",
    "    assert max(xs) <= 2**13"
   ]
  },
  {
   "cell_type": "code",
   "execution_count": 10,
   "metadata": {
    "deletable": false,
    "editable": false,
    "nbgrader": {
     "cell_type": "code",
     "checksum": "418830f6be670487fb4a054bb04a3d4d",
     "grade": false,
     "grade_id": "cell-fe964215dead09c4",
     "locked": true,
     "schema_version": 3,
     "solution": false,
     "task": false
    }
   },
   "outputs": [],
   "source": [
    "ax = None"
   ]
  },
  {
   "cell_type": "markdown",
   "metadata": {},
   "source": [
    "Qual etapa demora mais?\n",
    "Porquê você acha que isso acontece?"
   ]
  },
  {
   "cell_type": "markdown",
   "metadata": {
    "deletable": false,
    "nbgrader": {
     "cell_type": "markdown",
     "checksum": "108666274c95da5a5466ea2107289581",
     "grade": true,
     "grade_id": "cell-7d10cf0ddf503610",
     "locked": false,
     "points": 2,
     "schema_version": 3,
     "solution": true,
     "task": false
    }
   },
   "source": [
    "A criação demora mais, possivelmente porque embora seja tridiagonal, o cógido terá que explicitar que os elementos fora das diagonais principais são cada um igual a zero. Já na hora de resolver, esses elementos não são considerados para nada, somente os da diagonais principais."
   ]
  },
  {
   "cell_type": "markdown",
   "metadata": {},
   "source": [
    "Agora, faça novos gráficos, para tentar descobrir a taxa de crescimento destes tempos:\n",
    "se é linear, quadrático, exponencial, ... em função de $n$.\n",
    "\n",
    "E se são a mesma taxa ou não!"
   ]
  },
  {
   "cell_type": "code",
   "execution_count": 11,
   "metadata": {
    "deletable": false,
    "nbgrader": {
     "cell_type": "code",
     "checksum": "80a4a61f47c75033569dd08f62b92f0e",
     "grade": true,
     "grade_id": "cell-0ac7be496b4ab4a4",
     "locked": false,
     "points": 1,
     "schema_version": 3,
     "solution": true,
     "task": false
    }
   },
   "outputs": [
    {
     "data": {
      "image/png": "[encoded data removed]",
      "text/plain": [
       "<Figure size 640x480 with 1 Axes>"
      ]
     },
     "metadata": {},
     "output_type": "display_data"
    }
   ],
   "source": [
    "\n",
    "plt.plot(ns, t_create, label=\"Tempo para criar\")\n",
    "plt.plot(ns, t_solve, label=\"Tempo para resolver\")\n",
    "plt.plot(ns, (ns**2)/98000000, \".\", label=\"$\\\\frac{10^{-7}}{9,8} \\\\cdot x^2$\")\n",
    "plt.plot(ns, (ns**2)/150000000, \".\", label=\"$\\\\frac{10^{-7}}{15} \\\\cdot x^2$\")\n",
    "plt.ylabel('segundos')\n",
    "plt.xlabel('dimensão n da matriz')\n",
    "plt.legend()\n",
    "plt.title(\"Tempo para criar e resolver uma matriz tridiagonal\")\n",
    "ax = plt.gca()"
   ]
  },
  {
   "cell_type": "markdown",
   "metadata": {},
   "source": [
    "Comente"
   ]
  },
  {
   "cell_type": "markdown",
   "metadata": {
    "deletable": false,
    "nbgrader": {
     "cell_type": "markdown",
     "checksum": "784a859ee835de28f7f4c39f05a628a3",
     "grade": true,
     "grade_id": "cell-c5b389d9a6bae124",
     "locked": false,
     "points": 1,
     "schema_version": 3,
     "solution": true,
     "task": false
    }
   },
   "source": [
    "Pelo gráfico, agora com curvas de outras duas novas funções, podemos inferir a taxa de crescimento das curvas do tempo. Ambas são quadráticas, mas com inclinação, ou coeficientes, diferentes."
   ]
  },
  {
   "cell_type": "markdown",
   "metadata": {},
   "source": [
    "## Questão 3: Sistemas pentadiagonais\n",
    "\n",
    "Agora, suponha que a matriz $A$ é pentadiagonal, ou seja, as entradas não-nulas\n",
    "podem estar até 2 linhas acima ou abaixo da diagonal principal.\n",
    "Generalize o seu programa para resolver sistemas pentadiagonais."
   ]
  },
  {
   "cell_type": "code",
   "execution_count": 12,
   "metadata": {
    "deletable": false,
    "nbgrader": {
     "cell_type": "code",
     "checksum": "2e603c95d4af05978647152e77cf2892",
     "grade": false,
     "grade_id": "cell-41937ff612288545",
     "locked": false,
     "schema_version": 3,
     "solution": true,
     "task": false
    }
   },
   "outputs": [],
   "source": [
    "def pentadiag_solve(A, b):\n",
    "    A = np.copy(np.asarray(A, dtype=np.float))\n",
    "    b = np.copy(np.asarray(b, dtype=np.float))\n",
    "    n,m = np.shape(A)\n",
    "    assert m == len(b)\n",
    "    assert n == m, \"Matrix must be square\"\n",
    "    \n",
    "    max_column = np.where(A[0]!=0)[0][-1]\n",
    "    zeros = m - 1 - max_column\n",
    "\n",
    "    for k in range(0,n-1):  \n",
    "        for linha in range(k+1, m-zeros):    \n",
    "            fator = -(A[linha][k]/A[k][k])      \n",
    "            b[linha] = b[linha] + fator*b[k]\n",
    "\n",
    "            A[linha][k] = 0\n",
    "            for coluna in range(k+1,m-zeros):\n",
    "                A[linha][coluna] = A[linha][coluna] + fator*A[k][coluna] \n",
    "        \n",
    "        zeros = zeros - 1 if zeros > 0 else 0\n",
    "\n",
    "    xs = list(np.zeros(m))\n",
    "    xs[m-1] = b[m-1]/A[m-1][m-1]\n",
    "    \n",
    "    for linha in range(m-2,-1,-1):\n",
    "        n = b[linha]\n",
    "        d = A[linha][linha]\n",
    "        col_max = np.where(A[linha] != 0)[0][-1]\n",
    "        for i in range(linha+1, col_max+1):\n",
    "            n -= A[linha][i]*xs[i]\n",
    "        xs[linha] = n/d\n",
    "    \n",
    "    return xs"
   ]
  },
  {
   "cell_type": "code",
   "execution_count": 13,
   "metadata": {
    "deletable": false,
    "editable": false,
    "nbgrader": {
     "cell_type": "code",
     "checksum": "47970c533b0a3e8bfb9150817c2ebbd0",
     "grade": true,
     "grade_id": "cell-2e48084bf174185d",
     "locked": true,
     "points": 1,
     "schema_version": 3,
     "solution": false,
     "task": false
    }
   },
   "outputs": [
    {
     "name": "stderr",
     "output_type": "stream",
     "text": [
      "C:\\Users\\brand\\AppData\\Local\\Temp\\ipykernel_5228\\2514715951.py:2: DeprecationWarning: `np.float` is a deprecated alias for the builtin `float`. To silence this warning, use `float` by itself. Doing this will not modify any behavior and is safe. If you specifically wanted the numpy scalar type, use `np.float64` here.\n",
      "Deprecated in NumPy 1.20; for more details and guidance: https://numpy.org/devdocs/release/1.20.0-notes.html#deprecations\n",
      "  A = np.copy(np.asarray(A, dtype=np.float))\n",
      "C:\\Users\\brand\\AppData\\Local\\Temp\\ipykernel_5228\\2514715951.py:3: DeprecationWarning: `np.float` is a deprecated alias for the builtin `float`. To silence this warning, use `float` by itself. Doing this will not modify any behavior and is safe. If you specifically wanted the numpy scalar type, use `np.float64` here.\n",
      "Deprecated in NumPy 1.20; for more details and guidance: https://numpy.org/devdocs/release/1.20.0-notes.html#deprecations\n",
      "  b = np.copy(np.asarray(b, dtype=np.float))\n"
     ]
    }
   ],
   "source": [
    "np.random.seed(9)\n",
    "A = np.diag(range(3,8)) + np.diag([-1,-1,-2,-2], k=1) + np.diag([-2,-2,-1,-1], k=-1)\n",
    "b = np.random.randn(5)\n",
    "\n",
    "x2 = tridiag_solve(A, b)\n",
    "x3 = pentadiag_solve(A, b)\n",
    "assert np.allclose(x3, x2, atol=1e-13, rtol=1e-13)"
   ]
  },
  {
   "cell_type": "code",
   "execution_count": 14,
   "metadata": {
    "deletable": false,
    "editable": false,
    "nbgrader": {
     "cell_type": "code",
     "checksum": "04ad339f95eab013a9699fff6e6b1d59",
     "grade": true,
     "grade_id": "cell-ea99873bf680925a",
     "locked": true,
     "points": 2,
     "schema_version": 3,
     "solution": false,
     "task": false
    }
   },
   "outputs": [
    {
     "name": "stderr",
     "output_type": "stream",
     "text": [
      "C:\\Users\\brand\\AppData\\Local\\Temp\\ipykernel_5228\\3833292756.py:2: DeprecationWarning: `np.float` is a deprecated alias for the builtin `float`. To silence this warning, use `float` by itself. Doing this will not modify any behavior and is safe. If you specifically wanted the numpy scalar type, use `np.float64` here.\n",
      "Deprecated in NumPy 1.20; for more details and guidance: https://numpy.org/devdocs/release/1.20.0-notes.html#deprecations\n",
      "  A = np.copy(np.asarray(A, dtype=np.float))\n",
      "C:\\Users\\brand\\AppData\\Local\\Temp\\ipykernel_5228\\3833292756.py:3: DeprecationWarning: `np.float` is a deprecated alias for the builtin `float`. To silence this warning, use `float` by itself. Doing this will not modify any behavior and is safe. If you specifically wanted the numpy scalar type, use `np.float64` here.\n",
      "Deprecated in NumPy 1.20; for more details and guidance: https://numpy.org/devdocs/release/1.20.0-notes.html#deprecations\n",
      "  b = np.copy(np.asarray(b, dtype=np.float))\n"
     ]
    }
   ],
   "source": [
    "np.random.seed(10)\n",
    "A = np.diag(range(3,9)) + np.diag([-1,-1,-2,-2], k=2) + np.diag([-2,-2,-1,-1], k=-2)\n",
    "b = np.random.randn(6)\n",
    "\n",
    "x1 = np.linalg.solve(A, b)\n",
    "x3 = pentadiag_solve(A, b)\n",
    "assert np.allclose(x1, x3, atol=1e-13, rtol=1e-13)"
   ]
  },
  {
   "cell_type": "markdown",
   "metadata": {},
   "source": [
    "Repita os cálculos de tempo, para resolver sistemas de dimensão até $2^{13}$."
   ]
  },
  {
   "cell_type": "code",
   "execution_count": 15,
   "metadata": {
    "deletable": false,
    "nbgrader": {
     "cell_type": "code",
     "checksum": "d38a3acec502a9b0676fd57a5cf6f7ce",
     "grade": true,
     "grade_id": "cell-2e5b4eed7bb22b4b",
     "locked": false,
     "points": 1,
     "schema_version": 3,
     "solution": true,
     "task": false
    }
   },
   "outputs": [
    {
     "name": "stderr",
     "output_type": "stream",
     "text": [
      "C:\\Users\\brand\\AppData\\Local\\Temp\\ipykernel_5228\\3833292756.py:2: DeprecationWarning: `np.float` is a deprecated alias for the builtin `float`. To silence this warning, use `float` by itself. Doing this will not modify any behavior and is safe. If you specifically wanted the numpy scalar type, use `np.float64` here.\n",
      "Deprecated in NumPy 1.20; for more details and guidance: https://numpy.org/devdocs/release/1.20.0-notes.html#deprecations\n",
      "  A = np.copy(np.asarray(A, dtype=np.float))\n",
      "C:\\Users\\brand\\AppData\\Local\\Temp\\ipykernel_5228\\3833292756.py:3: DeprecationWarning: `np.float` is a deprecated alias for the builtin `float`. To silence this warning, use `float` by itself. Doing this will not modify any behavior and is safe. If you specifically wanted the numpy scalar type, use `np.float64` here.\n",
      "Deprecated in NumPy 1.20; for more details and guidance: https://numpy.org/devdocs/release/1.20.0-notes.html#deprecations\n",
      "  b = np.copy(np.asarray(b, dtype=np.float))\n"
     ]
    }
   ],
   "source": [
    "ns = np.logspace(4,13, base=2, num=28, dtype=int)\n",
    "t_create = []\n",
    "t_solve  = []\n",
    "for i, n in enumerate(ns):\n",
    "    start = time()\n",
    "    dig = np.full(n-2, -5)\n",
    "    A = np.diag(np.random.randint(1,100, n)) + np.diag(dig, k=2) + np.diag(dig[::-1], k=-2)\n",
    "    b = np.random.randn(n)\n",
    "    finish = time()\n",
    "    t_create.append(finish-start)\n",
    "    \n",
    "    start = time()\n",
    "    x = pentadiag_solve(A,b)\n",
    "    finish = time()\n",
    "    t_solve.append(finish-start)"
   ]
  },
  {
   "cell_type": "code",
   "execution_count": 16,
   "metadata": {
    "deletable": false,
    "nbgrader": {
     "cell_type": "code",
     "checksum": "498aac693e11746ff8390bc31df8cca1",
     "grade": false,
     "grade_id": "cell-aa08140310aa9c71",
     "locked": false,
     "schema_version": 3,
     "solution": true,
     "task": false
    }
   },
   "outputs": [
    {
     "data": {
      "image/png": "[encoded data removed]",
      "text/plain": [
       "<Figure size 640x480 with 1 Axes>"
      ]
     },
     "metadata": {},
     "output_type": "display_data"
    }
   ],
   "source": [
    "plt.plot(ns, t_create, label=\"Tempo para criar\")\n",
    "plt.plot(ns, t_solve, label=\"Tempo para resolver\")\n",
    "plt.ylabel('segundos')\n",
    "plt.xlabel('dimensão n da matriz')\n",
    "plt.legend()\n",
    "plt.title(\"Tempo para criar e resolver uma matriz pentadiagonal\")\n",
    "ax = plt.gca()"
   ]
  },
  {
   "cell_type": "code",
   "execution_count": 17,
   "metadata": {
    "deletable": false,
    "editable": false,
    "nbgrader": {
     "cell_type": "code",
     "checksum": "e8371fb142125e7ddb5eb1a80ece12ad",
     "grade": true,
     "grade_id": "cell-daef85db8ad2ed47",
     "locked": true,
     "points": 1,
     "schema_version": 3,
     "solution": false,
     "task": false
    }
   },
   "outputs": [],
   "source": [
    "assert len(ax.lines) == 2\n",
    "assert len(ax.legend().texts) == 2\n",
    "assert ax.get_title() != \"\""
   ]
  },
  {
   "cell_type": "markdown",
   "metadata": {},
   "source": [
    "O que mudou?"
   ]
  },
  {
   "cell_type": "markdown",
   "metadata": {
    "deletable": false,
    "nbgrader": {
     "cell_type": "markdown",
     "checksum": "44084f4556a1a31704e85c517105d545",
     "grade": true,
     "grade_id": "cell-7e4a3bc07ef66e1e",
     "locked": false,
     "points": 1,
     "schema_version": 3,
     "solution": true,
     "task": false
    }
   },
   "source": [
    "As curvas estão mais próximas, o que parece fazer sentido, porque agora o algoritmo tem mais diagonais, logo mais elementos, a considerar. Isto é, o número de elementos criados individualmente (todos de todas matrizes), está mais próximo do número de elementos acessados no algoritmo pentadiagonal (até no máximo 2 diagonais em torno da principal) quando comparado com o caso do algoritmo tridiagonal."
   ]
  }
 ],
 "metadata": {
  "kernelspec": {
   "display_name": "Python 3 (ipykernel)",
   "language": "python",
   "name": "python3"
  },
  "language_info": {
   "codemirror_mode": {
    "name": "ipython",
    "version": 3
   },
   "file_extension": ".py",
   "mimetype": "text/x-python",
   "name": "python",
   "nbconvert_exporter": "python",
   "pygments_lexer": "ipython3",
   "version": "3.9.12"
  },
  "metadata": {
   "interpreter": {
    "hash": "aa8e4de9f4426ab75fdef01f3d7947e2b3e9cfbdb80ba65115d4f20988c8517e"
   }
  }
 },
 "nbformat": 4,
 "nbformat_minor": 4
}
