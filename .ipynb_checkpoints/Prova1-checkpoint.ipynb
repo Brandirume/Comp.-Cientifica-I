{
 "cells": [
  {
   "cell_type": "markdown",
   "id": "e765c76d",
   "metadata": {},
   "source": [
    "![CC-BY-SA](https://mirrors.creativecommons.org/presskit/buttons/88x31/svg/by-sa.svg)\n",
    "\n",
    "\n",
    "This notebook was created by [Bernardo Freitas Paulo da Costa](http://www.im.ufrj.br/bernardofpc),\n",
    "and is licensed under Creative Commons BY-SA."
   ]
  },
  {
   "cell_type": "markdown",
   "id": "da7bfe57",
   "metadata": {},
   "source": [
    "Antes de enviar este Teste, verifique que tudo está funcionando como esperado.\n",
    "Por exemplo, **rode o código inteiro, do zero**.\n",
    "Para isso, vá no menu, escolha _Kernel_, depois _Restart & Run All_.\n",
    "\n",
    "Verifique, também, que você respondeu todas as questões:\n",
    "* as questões de código têm `YOUR CODE HERE` (e você pode apagar o `raise NotImplemented` ao incluir sua resposta)\n",
    "* as questões discursivas têm \"YOUR ANSWER HERE\"."
   ]
  },
  {
   "cell_type": "markdown",
   "id": "c506ffa7",
   "metadata": {},
   "source": [
    "---"
   ]
  },
  {
   "cell_type": "code",
   "execution_count": 1,
   "id": "bf7e3288",
   "metadata": {
    "deletable": false,
    "editable": false,
    "nbgrader": {
     "cell_type": "code",
     "checksum": "49483293c32655f488ac31148ad2bce1",
     "grade": false,
     "grade_id": "cell-29960621eaa07728",
     "locked": true,
     "schema_version": 3,
     "solution": false,
     "task": false
    }
   },
   "outputs": [],
   "source": [
    "import numpy as np\n",
    "import matplotlib.pyplot as plt"
   ]
  },
  {
   "cell_type": "code",
   "execution_count": 2,
   "id": "3e4e602a",
   "metadata": {
    "deletable": false,
    "editable": false,
    "nbgrader": {
     "cell_type": "code",
     "checksum": "33b9576a2e33dd46e3aec82294b42d38",
     "grade": false,
     "grade_id": "cell-5cba783ed357b369",
     "locked": true,
     "schema_version": 3,
     "solution": false,
     "task": false
    }
   },
   "outputs": [],
   "source": [
    "def veryclose(a, b):\n",
    "    return np.allclose(a, b, rtol=1e-12, atol=1e-12)"
   ]
  },
  {
   "cell_type": "markdown",
   "id": "93d1d6b1",
   "metadata": {},
   "source": [
    "# Parte 1: Calculando raízes com a segunda derivada\n",
    "\n",
    "Vimos, em aula, que o Método de Newton usa a primeira derivada da função $f$\n",
    "para calcular uma aproximação linear da função, e sucessivamente se aproximar do mínimo.\n",
    "\n",
    "Nesta parte, iremos usar a segunda derivada também."
   ]
  },
  {
   "cell_type": "markdown",
   "id": "9104230f",
   "metadata": {},
   "source": [
    "## Questão 1: Fórmulas\n",
    "\n",
    "Sejam dados\n",
    "$$\\begin{align*}\n",
    "  f(x_0) & = v_0 \\\\\n",
    " f'(x_0) & = v_1 \\\\\n",
    "f''(x_0) & = v_2\n",
    "\\end{align*}$$\n",
    "\n",
    "Dê, em função de $x_0$, $v_0$, $v_1$ e $v_2$, as raizes da parábola correspondente.\n",
    "Em particular, mostre que as raízes (se existirem) são da forma $x_0 + \\text{passo}$."
   ]
  },
  {
   "cell_type": "markdown",
   "id": "66ad93b3",
   "metadata": {
    "deletable": false,
    "nbgrader": {
     "cell_type": "markdown",
     "checksum": "71b9e56134bc1554a8bb85079309a5f6",
     "grade": true,
     "grade_id": "cell-87a8bb4dfe0882ed",
     "locked": false,
     "points": 3,
     "schema_version": 3,
     "solution": true,
     "task": false
    }
   },
   "source": [
    "Bom, se $x_0$ está proximo da raiz, então pelo metodo de newtown:\n",
    "<img src=\"newton.png\">\n",
    "sabemos que a reta tangente ao ponto aproxima a função ao valor da sua raiz, logo se existe uma raiz proxima de $x_0$, o passo do metodo de newton nos aproxima de seu valor\n",
    "Logo se a raiz proxima de $x_0$ existir ela é da forma $v_0-v_0/v_1$"
   ]
  },
  {
   "cell_type": "markdown",
   "id": "1a3e99f1",
   "metadata": {},
   "source": [
    "Qual raiz você escolheria?  Porquê?"
   ]
  },
  {
   "cell_type": "markdown",
   "id": "99894797",
   "metadata": {
    "deletable": false,
    "nbgrader": {
     "cell_type": "markdown",
     "checksum": "45f2ff29aa69ad0b460a04a34dbd0729",
     "grade": true,
     "grade_id": "cell-f04ee114cd36e059",
     "locked": false,
     "points": 2,
     "schema_version": 3,
     "solution": true,
     "task": false
    }
   },
   "source": []
  },
  {
   "cell_type": "markdown",
   "id": "7861bff9",
   "metadata": {},
   "source": [
    "## Questão 2: O passo\n",
    "\n",
    "Escreva a função `step(v0, v1, v2)` que dá o passo a ser feito.\n",
    "\n",
    "Se a parábola não possuir raiz, use, simplesmente, a regra original do método de Newton."
   ]
  },
  {
   "cell_type": "code",
   "execution_count": 3,
   "id": "eb274ca8",
   "metadata": {
    "deletable": false,
    "nbgrader": {
     "cell_type": "code",
     "checksum": "8e836f18219682d88b1266f83e676739",
     "grade": false,
     "grade_id": "cell-f792e287790f83da",
     "locked": false,
     "schema_version": 3,
     "solution": true,
     "task": false
    }
   },
   "outputs": [],
   "source": [
    "def step2(v0, v1, v2):\n",
    "    return v0-((v2/v0)/v1)"
   ]
  },
  {
   "cell_type": "code",
   "execution_count": 4,
   "id": "f7b1c7a8",
   "metadata": {
    "deletable": false,
    "editable": false,
    "nbgrader": {
     "cell_type": "code",
     "checksum": "25d39313f49b457edf9b4970f2b7df6d",
     "grade": true,
     "grade_id": "cell-c966ddab80242c6e",
     "locked": true,
     "points": 1,
     "schema_version": 3,
     "solution": false,
     "task": false
    }
   },
   "outputs": [
    {
     "ename": "AssertionError",
     "evalue": "",
     "output_type": "error",
     "traceback": [
      "\u001b[1;31m---------------------------------------------------------------------------\u001b[0m",
      "\u001b[1;31mAssertionError\u001b[0m                            Traceback (most recent call last)",
      "Input \u001b[1;32mIn [4]\u001b[0m, in \u001b[0;36m<cell line: 1>\u001b[1;34m()\u001b[0m\n\u001b[1;32m----> 1\u001b[0m \u001b[38;5;28;01massert\u001b[39;00m step2(\u001b[38;5;241m1\u001b[39m, \u001b[38;5;241m2\u001b[39m, \u001b[38;5;241m2\u001b[39m) \u001b[38;5;241m==\u001b[39m \u001b[38;5;241m-\u001b[39m\u001b[38;5;241m1\u001b[39m\n",
      "\u001b[1;31mAssertionError\u001b[0m: "
     ]
    }
   ],
   "source": [
    "assert step2(1, 2, 2) == -1"
   ]
  },
  {
   "cell_type": "code",
   "execution_count": null,
   "id": "1be670f4",
   "metadata": {
    "deletable": false,
    "editable": false,
    "nbgrader": {
     "cell_type": "code",
     "checksum": "3d72d28f67e2610ef510dd7f64dde5dd",
     "grade": true,
     "grade_id": "cell-b2302a1039a126d1",
     "locked": true,
     "points": 1,
     "schema_version": 3,
     "solution": false,
     "task": false
    }
   },
   "outputs": [],
   "source": [
    "assert step2(1, 1, 1) == -1"
   ]
  },
  {
   "cell_type": "code",
   "execution_count": null,
   "id": "6301a328",
   "metadata": {
    "deletable": false,
    "editable": false,
    "nbgrader": {
     "cell_type": "code",
     "checksum": "b0b0e925e5cd962c339a3db9f811216f",
     "grade": true,
     "grade_id": "cell-69ffab8c4172b28f",
     "locked": true,
     "points": 1,
     "schema_version": 3,
     "solution": false,
     "task": false
    }
   },
   "outputs": [],
   "source": [
    "assert np.isclose(step2(-1, 1, 0.2), 0.9160797831)"
   ]
  },
  {
   "cell_type": "code",
   "execution_count": null,
   "id": "688e0fa8",
   "metadata": {
    "deletable": false,
    "editable": false,
    "nbgrader": {
     "cell_type": "code",
     "checksum": "6445a4319d7c3a03f40a114d959e24cc",
     "grade": true,
     "grade_id": "cell-fc293f38621a5d12",
     "locked": true,
     "points": 2,
     "schema_version": 3,
     "solution": false,
     "task": false
    }
   },
   "outputs": [],
   "source": [
    "# Um teste mais difícil, não se preocupe muito se não passar\n",
    "assert np.isclose(step2(-1,  1, -0.2), 1.1270166538)\n",
    "assert np.isclose(step2( 1, -1,  0.2), 1.1270166538)"
   ]
  },
  {
   "cell_type": "markdown",
   "id": "8944c6b4",
   "metadata": {},
   "source": [
    "Explique porque os passos dos dois `assert`s da última caixa devem ser iguais."
   ]
  },
  {
   "cell_type": "markdown",
   "id": "7c8c807c",
   "metadata": {
    "deletable": false,
    "nbgrader": {
     "cell_type": "markdown",
     "checksum": "97b58cb65d5457f6222c156258334819",
     "grade": true,
     "grade_id": "cell-fb2903f8d26c749a",
     "locked": false,
     "points": 2,
     "schema_version": 3,
     "solution": true,
     "task": false
    }
   },
   "source": [
    "YOUR ANSWER HERE"
   ]
  },
  {
   "cell_type": "markdown",
   "id": "d93ec829",
   "metadata": {},
   "source": [
    "## Questão 3: Newton\n",
    "\n",
    "Dê, abaixo, o método de Newton, e também o método de \"Newton com segunda derivada\",\n",
    "retornando a lista de todos os pontos visitados a partir de `x0`, inclusive.\n",
    "\n",
    "O critério de parada será, para os dois, quando o tamanho do passo, _relativo ao ponto atual_,\n",
    "for menor do que a precisão indicada por `reltol`.\n",
    "(mas agora que você já calculou o passo, use-o, não custa quase nada!)"
   ]
  },
  {
   "cell_type": "code",
   "execution_count": null,
   "id": "1531715f",
   "metadata": {
    "deletable": false,
    "nbgrader": {
     "cell_type": "code",
     "checksum": "3b6b3e59db6694f6d07e8b3a6cbb7052",
     "grade": false,
     "grade_id": "cell-264ce61ca8c80f59",
     "locked": false,
     "schema_version": 3,
     "solution": true,
     "task": false
    }
   },
   "outputs": [],
   "source": [
    "def newton(f, df, x0, maxsteps=100, reltol=1e-12):\n",
    "    l=[x0]\n",
    "    for i in range(maxsteps):\n",
    "        passo = f(x0)/df(x0)\n",
    "        newx= x-passo\n",
    "        if abs((F(newx-x0)/x0)) < reltol:\n",
    "            return l\n",
    "        l.append(newx)\n",
    "        x0=newx\n",
    "    return l\n",
    "\n",
    "def newton2(f, df, ddf, x0, maxsteps=100, reltol=1e-12):\n",
    "    "
   ]
  },
  {
   "cell_type": "code",
   "execution_count": null,
   "id": "6451e073",
   "metadata": {
    "deletable": false,
    "editable": false,
    "nbgrader": {
     "cell_type": "code",
     "checksum": "9eff0073d8cbd5e730f853ca465f28c4",
     "grade": true,
     "grade_id": "cell-9327782a544e9d2d",
     "locked": true,
     "points": 1,
     "schema_version": 3,
     "solution": false,
     "task": false
    }
   },
   "outputs": [],
   "source": [
    "xs_newton = newton(lambda x: np.exp(x) - 10, np.exp, 1)\n",
    "\n",
    "assert len(xs_newton) == 9\n",
    "assert veryclose(np.exp(xs_newton[-1]), 10)"
   ]
  },
  {
   "cell_type": "code",
   "execution_count": null,
   "id": "cfd5f36d",
   "metadata": {
    "deletable": false,
    "editable": false,
    "nbgrader": {
     "cell_type": "code",
     "checksum": "48cc1ed65b387c58e43953f51e03ffc1",
     "grade": true,
     "grade_id": "cell-949cf7f0fae1c508",
     "locked": true,
     "points": 2,
     "schema_version": 3,
     "solution": false,
     "task": false
    }
   },
   "outputs": [],
   "source": [
    "xs_newton2 = newton2(lambda x: np.exp(x) - 10, np.exp, np.exp, 1, maxsteps=10)\n",
    "\n",
    "assert len(xs_newton2) == 6\n",
    "assert veryclose(np.exp(xs_newton2[-1]), 10)"
   ]
  },
  {
   "cell_type": "markdown",
   "id": "443deae6",
   "metadata": {},
   "source": [
    "Faça, agora, o gráfico do erro para cada um dos métodos ao calcular uma raiz de $e^x = 10$:"
   ]
  },
  {
   "cell_type": "code",
   "execution_count": null,
   "id": "164c7324",
   "metadata": {
    "deletable": false,
    "nbgrader": {
     "cell_type": "code",
     "checksum": "e08a7f32d8380ed354fb49d542962832",
     "grade": true,
     "grade_id": "cell-6d7cc8754f880790",
     "locked": false,
     "points": 1,
     "schema_version": 3,
     "solution": true,
     "task": false
    }
   },
   "outputs": [],
   "source": [
    "# YOUR CODE HERE\n",
    "raise NotImplementedError()\n",
    "\n",
    "ax = plt.gca()"
   ]
  },
  {
   "cell_type": "code",
   "execution_count": null,
   "id": "2a0cf88f",
   "metadata": {
    "deletable": false,
    "editable": false,
    "nbgrader": {
     "cell_type": "code",
     "checksum": "65375a035ec9003ffb025cc3f74f7a43",
     "grade": true,
     "grade_id": "cell-2b52386f58872ca9",
     "locked": true,
     "points": 2,
     "schema_version": 3,
     "solution": false,
     "task": false
    }
   },
   "outputs": [],
   "source": [
    "assert len(ax.lines) == 2\n",
    "assert len(ax.get_legend().texts) == 2\n",
    "assert len(ax.get_title()) >= 10"
   ]
  },
  {
   "cell_type": "markdown",
   "id": "5687895c",
   "metadata": {},
   "source": [
    "Este resultado é esperado? Comente"
   ]
  },
  {
   "cell_type": "markdown",
   "id": "20e2fbb4",
   "metadata": {
    "deletable": false,
    "nbgrader": {
     "cell_type": "markdown",
     "checksum": "f877c69cc91b968480368baf827aba62",
     "grade": true,
     "grade_id": "cell-4fd0e8f2ccb2e43c",
     "locked": false,
     "points": 2,
     "schema_version": 3,
     "solution": true,
     "task": false
    }
   },
   "source": [
    "YOUR ANSWER HERE"
   ]
  },
  {
   "cell_type": "markdown",
   "id": "d7b0efae",
   "metadata": {},
   "source": [
    "Ambos os métodos fizeram uma iteração que \"não saiu do lugar\".\n",
    "Explique porque eles não pararam na iteração anterior."
   ]
  },
  {
   "cell_type": "markdown",
   "id": "d2e5e6f4",
   "metadata": {
    "deletable": false,
    "nbgrader": {
     "cell_type": "markdown",
     "checksum": "0ee7dd54589cffb32b8a6bade352a615",
     "grade": true,
     "grade_id": "cell-316e64d6bc0f25de",
     "locked": false,
     "points": 2,
     "schema_version": 3,
     "solution": true,
     "task": false
    }
   },
   "source": [
    "YOUR ANSWER HERE"
   ]
  },
  {
   "cell_type": "markdown",
   "id": "5c076276",
   "metadata": {},
   "source": [
    "## Questão 4: Uma outra função\n",
    "\n",
    "Use ambos os métodos para encontrar uma raiz de $xe^x = 10$."
   ]
  },
  {
   "cell_type": "markdown",
   "id": "4110dbc8",
   "metadata": {},
   "source": [
    "Dê, abaixo, as funções auxiliares:"
   ]
  },
  {
   "cell_type": "code",
   "execution_count": null,
   "id": "34d54bd4",
   "metadata": {
    "deletable": false,
    "nbgrader": {
     "cell_type": "code",
     "checksum": "317ea465fcde13eb68b7174ae59da533",
     "grade": true,
     "grade_id": "cell-65a42b59031ca11f",
     "locked": false,
     "points": 2,
     "schema_version": 3,
     "solution": true,
     "task": false
    }
   },
   "outputs": [],
   "source": [
    "# YOUR CODE HERE\n",
    "raise NotImplementedError()"
   ]
  },
  {
   "cell_type": "markdown",
   "id": "4a6b83dc",
   "metadata": {},
   "source": [
    "Agora, calcule os pontos gerados por ambos os métodos, começando a partir de $x_0 = 1$:"
   ]
  },
  {
   "cell_type": "code",
   "execution_count": null,
   "id": "93c0597a",
   "metadata": {
    "deletable": false,
    "nbgrader": {
     "cell_type": "code",
     "checksum": "b30495ba1ed87b69d2b82937fb4d4115",
     "grade": true,
     "grade_id": "cell-c4a3ec88a088c959",
     "locked": false,
     "points": 1,
     "schema_version": 3,
     "solution": true,
     "task": false
    }
   },
   "outputs": [],
   "source": [
    "# YOUR CODE HERE\n",
    "raise NotImplementedError()"
   ]
  },
  {
   "cell_type": "markdown",
   "id": "715aa8cb",
   "metadata": {},
   "source": [
    "Faça o gráfico do erro \"em $y$\", ou seja, o quanto a equação está errada (já que não temos a solução analítica)."
   ]
  },
  {
   "cell_type": "code",
   "execution_count": null,
   "id": "fdaba887",
   "metadata": {
    "deletable": false,
    "nbgrader": {
     "cell_type": "code",
     "checksum": "2dd0b3d2e991b5a1c14d83717ce5d57f",
     "grade": true,
     "grade_id": "cell-118462d327941696",
     "locked": false,
     "points": 1,
     "schema_version": 3,
     "solution": true,
     "task": false
    }
   },
   "outputs": [],
   "source": [
    "# YOUR CODE HERE\n",
    "raise NotImplementedError()\n",
    "\n",
    "ax = plt.gca()"
   ]
  },
  {
   "cell_type": "code",
   "execution_count": null,
   "id": "28141a9e",
   "metadata": {
    "deletable": false,
    "editable": false,
    "nbgrader": {
     "cell_type": "code",
     "checksum": "2c29d1462e194f5639cb4c3f600b6d05",
     "grade": true,
     "grade_id": "cell-63f0f83ba7ab13ad",
     "locked": true,
     "points": 2,
     "schema_version": 3,
     "solution": false,
     "task": false
    }
   },
   "outputs": [],
   "source": [
    "assert len(ax.lines) == 2\n",
    "assert len(ax.get_legend().texts) == 2\n",
    "assert len(ax.get_title()) >= 10"
   ]
  },
  {
   "cell_type": "markdown",
   "id": "21eaf901",
   "metadata": {},
   "source": [
    "Comente, novamente, os resultados, indicando eventuais semelhanças e diferenças com o caso anterior."
   ]
  },
  {
   "cell_type": "markdown",
   "id": "d5e64bcc",
   "metadata": {
    "deletable": false,
    "nbgrader": {
     "cell_type": "markdown",
     "checksum": "cd069e46692cdf95ee5b0e03b25f118d",
     "grade": true,
     "grade_id": "cell-30ab5b3b33bf5794",
     "locked": false,
     "points": 2,
     "schema_version": 3,
     "solution": true,
     "task": false
    }
   },
   "source": [
    "YOUR ANSWER HERE"
   ]
  },
  {
   "cell_type": "markdown",
   "id": "20d6bf72",
   "metadata": {},
   "source": [
    "# Parte 2: Calculando integrais\n",
    "\n",
    "Dê, abaixo, os métodos do retângulo, trapézio e ponto médio."
   ]
  },
  {
   "cell_type": "code",
   "execution_count": 5,
   "id": "6a6d28bd",
   "metadata": {
    "deletable": false,
    "nbgrader": {
     "cell_type": "code",
     "checksum": "79ad0690fbf4c594bd69e78238b3a099",
     "grade": false,
     "grade_id": "cell-6646cdaab8c2a5db",
     "locked": false,
     "schema_version": 3,
     "solution": true,
     "task": false
    }
   },
   "outputs": [],
   "source": [
    "def rectangle(f, a, b, n=100):\n",
    "    xs, h = np.linspace(a, b, num=n, endpoint=False, retstep = True)\n",
    "    return np.sum(f(xs))*h\n",
    "def trap(f, a, b, n=100):\n",
    "    ints = []\n",
    "    xs = np.linspace(a, b, num=n, endpoint=False)\n",
    "    d = (b-a)/n\n",
    "    ints = (f(xs) + f(xs+d))/2*d\n",
    "    return np.sum(ints)\n",
    "def midpoint(f, a, b, n=100):\n",
    "    l, h = np.linspace(a,b, num=n, endpoint=False, retstep=True)\n",
    "    if n == 1:\n",
    "        h = abs(b-a)\n",
    "    mids = l + h/2\n",
    "    return np.sum(f(mids)*h)\n",
    "\n",
    "methods = [rectangle, trap, midpoint]"
   ]
  },
  {
   "cell_type": "code",
   "execution_count": 6,
   "id": "22da916c",
   "metadata": {
    "deletable": false,
    "editable": false,
    "nbgrader": {
     "cell_type": "code",
     "checksum": "8b3cc2139caafc65b1d3918af79dd953",
     "grade": true,
     "grade_id": "cell-41405d9df59e0bb4",
     "locked": true,
     "points": 1,
     "schema_version": 3,
     "solution": false,
     "task": false
    }
   },
   "outputs": [],
   "source": [
    "assert not np.isclose(rectangle(np.sin, 0, 1), 1 - np.cos(1))"
   ]
  },
  {
   "cell_type": "code",
   "execution_count": 7,
   "id": "c72fdb19",
   "metadata": {
    "deletable": false,
    "editable": false,
    "nbgrader": {
     "cell_type": "code",
     "checksum": "18d90554561f57e90235ded379654d4f",
     "grade": true,
     "grade_id": "cell-5c0c17d184701790",
     "locked": true,
     "points": 1,
     "schema_version": 3,
     "solution": false,
     "task": false
    }
   },
   "outputs": [],
   "source": [
    "assert np.isclose(trap(np.sin, 0, 1), 1 - np.cos(1))"
   ]
  },
  {
   "cell_type": "code",
   "execution_count": 8,
   "id": "bf70bfc5",
   "metadata": {
    "deletable": false,
    "editable": false,
    "nbgrader": {
     "cell_type": "code",
     "checksum": "f45d7a0674088012bdc68277d16d5922",
     "grade": true,
     "grade_id": "cell-c47c5abdc253b47f",
     "locked": true,
     "points": 1,
     "schema_version": 3,
     "solution": false,
     "task": false
    }
   },
   "outputs": [],
   "source": [
    "assert np.isclose(midpoint(np.sin, 0, 1), 1 - np.cos(1))"
   ]
  },
  {
   "cell_type": "markdown",
   "id": "4c3755c5",
   "metadata": {},
   "source": [
    "## Questão 5: Integrando o cosseno\n",
    "\n",
    "Faça o gráfico do erro de integração da função cosseno, no intervalo $[0, 2\\pi]$,\n",
    "para $n$ indo de $1$ até $30$,\n",
    "para cada um dos métodos."
   ]
  },
  {
   "cell_type": "code",
   "execution_count": 9,
   "id": "5f7001d8",
   "metadata": {
    "deletable": false,
    "nbgrader": {
     "cell_type": "code",
     "checksum": "73bc54602b9f541e043a473774ec57f8",
     "grade": true,
     "grade_id": "cell-b7c228dcf602cf4c",
     "locked": false,
     "points": 1,
     "schema_version": 3,
     "solution": true,
     "task": false
    }
   },
   "outputs": [
    {
     "data": {
      "image/png": "[encoded data removed]",
      "text/plain": [
       "<Figure size 640x480 with 1 Axes>"
      ]
     },
     "metadata": {},
     "output_type": "display_data"
    }
   ],
   "source": [
    "ns = range(1,30+1)\n",
    "def f(x):\n",
    "    return np.cos(x)\n",
    "def F(x):\n",
    "    return -np.sin(x)\n",
    "ans=F(2*np.pi)-F(0)\n",
    "for m in methods:\n",
    "    valores = np.array([m(f,0,2*np.pi,n) for n in ns])\n",
    "    plt.semilogy(ns,abs(ans-valores),label=m.__name__)\n",
    "plt.title(\"grafico de erro dos metodos de integração \")\n",
    "plt.legend()\n",
    "plt.xlabel('variação do n')\n",
    "ax = plt.gca()"
   ]
  },
  {
   "cell_type": "code",
   "execution_count": 10,
   "id": "c7cc1c2d",
   "metadata": {
    "deletable": false,
    "editable": false,
    "nbgrader": {
     "cell_type": "code",
     "checksum": "fbfa4ce5924a34026d1dcf41fd59daa1",
     "grade": true,
     "grade_id": "cell-8ddf9cb69ab238cd",
     "locked": true,
     "points": 2,
     "schema_version": 3,
     "solution": false,
     "task": false
    }
   },
   "outputs": [],
   "source": [
    "assert len(ax.lines) == 3\n",
    "assert len(ax.get_legend().texts) == 3\n",
    "assert len(ax.get_title()) >= 10\n",
    "assert len(ax.get_xlabel()) > 5"
   ]
  },
  {
   "cell_type": "markdown",
   "id": "6162dda4",
   "metadata": {},
   "source": [
    "O que você percebe neste gráfico?  Como você explica?"
   ]
  },
  {
   "cell_type": "markdown",
   "id": "ada677bf",
   "metadata": {
    "deletable": false,
    "nbgrader": {
     "cell_type": "markdown",
     "checksum": "2ffa96d83a3309297169eff5686f1948",
     "grade": true,
     "grade_id": "cell-75138020e41412f4",
     "locked": false,
     "points": 2,
     "schema_version": 3,
     "solution": true,
     "task": false
    }
   },
   "source": [
    "Temos um erro bem pequeno e quase constante para n>2, para todas as 3 formas de integração"
   ]
  },
  {
   "cell_type": "markdown",
   "id": "690110ef",
   "metadata": {},
   "source": [
    "Repita para o intervalo $[0, \\pi]$.\n",
    "Agora, faça cada método em uma figura separada:"
   ]
  },
  {
   "cell_type": "code",
   "execution_count": 11,
   "id": "271fe81c",
   "metadata": {
    "deletable": false,
    "nbgrader": {
     "cell_type": "code",
     "checksum": "a004261fa47a657c7c84a6fbb8ab98ab",
     "grade": true,
     "grade_id": "cell-d394353c80c0ec61",
     "locked": false,
     "points": 1,
     "schema_version": 3,
     "solution": true,
     "task": false
    }
   },
   "outputs": [
    {
     "data": {
      "image/png": "[encoded data removed]",
      "text/plain": [
       "<Figure size 1400x400 with 3 Axes>"
      ]
     },
     "metadata": {},
     "output_type": "display_data"
    }
   ],
   "source": [
    "fig, axs = plt.subplots(ncols=3, figsize=(14,4))\n",
    "for m,ax in zip(methods,axs):\n",
    "    valores = np.array([m(f,0,np.pi,n) for n in ns])\n",
    "    ax.semilogy(ns,abs(valores-ans))\n",
    "    ax.set_title(m.__name__)"
   ]
  },
  {
   "cell_type": "code",
   "execution_count": 12,
   "id": "cd7096f1",
   "metadata": {
    "deletable": false,
    "editable": false,
    "nbgrader": {
     "cell_type": "code",
     "checksum": "6d0416ba0ef94247a462f46ee620a076",
     "grade": true,
     "grade_id": "cell-3c16f3e64c8e6bd8",
     "locked": true,
     "points": 1,
     "schema_version": 3,
     "solution": false,
     "task": false
    }
   },
   "outputs": [],
   "source": [
    "for ax in axs:\n",
    "    assert len(ax.lines) == 1\n",
    "    assert len(ax.get_title()) >= 1"
   ]
  },
  {
   "cell_type": "markdown",
   "id": "325cd1b5",
   "metadata": {},
   "source": [
    "Comente as semelhanças e diferenças do caso anterior."
   ]
  },
  {
   "cell_type": "markdown",
   "id": "06dae25f",
   "metadata": {
    "deletable": false,
    "nbgrader": {
     "cell_type": "markdown",
     "checksum": "d602b3dd74e899baf89a82e0b57983b6",
     "grade": true,
     "grade_id": "cell-0f5150ad9c4996d5",
     "locked": false,
     "points": 2,
     "schema_version": 3,
     "solution": true,
     "task": false
    }
   },
   "source": [
    "o metodo do retangulo é falho para esse intervalo. porém o metodo do trazio e midpoint são uma boa aproximação para a integral pois possuem erros muito pequenos"
   ]
  },
  {
   "cell_type": "markdown",
   "id": "4a88c52a",
   "metadata": {},
   "source": [
    "Qual a velocidade de convergência de cada um dos métodos para a integral no intervalo $[0, \\pi]$?"
   ]
  },
  {
   "cell_type": "markdown",
   "id": "aeabc5c9",
   "metadata": {
    "deletable": false,
    "nbgrader": {
     "cell_type": "markdown",
     "checksum": "44d4d3dc82e4eedb083a449a9f5c9b11",
     "grade": true,
     "grade_id": "cell-8f6d79fe95d1aee6",
     "locked": false,
     "points": 2,
     "schema_version": 3,
     "solution": true,
     "task": false
    }
   },
   "source": []
  },
  {
   "cell_type": "markdown",
   "id": "6749d955",
   "metadata": {},
   "source": [
    "## Questão 6: Uma outra função\n",
    "\n",
    "Calcule a integral de $\\frac{1}{2 + \\cos(x)}$ no intervalo $[0, 2\\pi]$, com cada um dos métodos,\n",
    "e faça novamente o gráfico do erro em função do número de subdivisões."
   ]
  },
  {
   "cell_type": "code",
   "execution_count": 13,
   "id": "a4ac082e",
   "metadata": {
    "deletable": false,
    "nbgrader": {
     "cell_type": "code",
     "checksum": "3250782f580d825ee3d44212a95d8261",
     "grade": true,
     "grade_id": "cell-6aa25fcc7c4c73db",
     "locked": false,
     "points": 1,
     "schema_version": 3,
     "solution": true,
     "task": false
    }
   },
   "outputs": [
    {
     "data": {
      "image/png": "[encoded data removed]",
      "text/plain": [
       "<Figure size 640x480 with 1 Axes>"
      ]
     },
     "metadata": {},
     "output_type": "display_data"
    }
   ],
   "source": [
    "ns = range(1,30+1)\n",
    "def g(x):\n",
    "    return 1/(2+np.cos(x))\n",
    "def G(x):\n",
    "    return (2/(3**1/2))*np.arctan(np.tan(x/2)*(3**1/2))\n",
    "ans1=G(2*np.pi)-G(0)\n",
    "for m in methods:\n",
    "    valores = np.array([m(g,0,2*np.pi,n) for n in ns])\n",
    "    plt.semilogy(ns,abs(ans1-valores),label=m.__name__)\n",
    "plt.title(\"grafico de erro dos metodos de integração \")\n",
    "plt.legend()\n",
    "plt.xlabel('variação do n')\n",
    "ax = plt.gca()"
   ]
  },
  {
   "cell_type": "code",
   "execution_count": 14,
   "id": "ca67d055",
   "metadata": {
    "deletable": false,
    "editable": false,
    "nbgrader": {
     "cell_type": "code",
     "checksum": "c01110a23beeab3c4fc2ce41c49e464e",
     "grade": true,
     "grade_id": "cell-c995335cfa51fa83",
     "locked": true,
     "points": 1,
     "schema_version": 3,
     "solution": false,
     "task": false
    }
   },
   "outputs": [],
   "source": [
    "assert len(ax.lines) == 3\n",
    "assert len(ax.get_legend().texts) == 3\n",
    "assert len(ax.get_title()) >= 10\n",
    "assert len(ax.get_xlabel()) > 5"
   ]
  },
  {
   "cell_type": "markdown",
   "id": "4d526b95",
   "metadata": {},
   "source": [
    "* Qual a velocidade de convergência de cada um dos métodos?\n",
    "* Qual método parece ser mais rápido?"
   ]
  },
  {
   "cell_type": "markdown",
   "id": "f8a18157",
   "metadata": {
    "deletable": false,
    "nbgrader": {
     "cell_type": "markdown",
     "checksum": "8c16d6798b4789590bbbc2ba85327ff2",
     "grade": true,
     "grade_id": "cell-4406dd63ef32d681",
     "locked": false,
     "points": 2,
     "schema_version": 3,
     "solution": true,
     "task": false
    }
   },
   "source": [
    "YOUR ANSWER HERE"
   ]
  },
  {
   "cell_type": "markdown",
   "id": "4c1ad879",
   "metadata": {},
   "source": [
    "Agora, repita para o intervalo $[0, \\pi/2]$."
   ]
  },
  {
   "cell_type": "code",
   "execution_count": 15,
   "id": "81375b91",
   "metadata": {
    "deletable": false,
    "nbgrader": {
     "cell_type": "code",
     "checksum": "d9aeb141eb48917d79e33fc4636dc22b",
     "grade": true,
     "grade_id": "cell-7763dd8ad52621f9",
     "locked": false,
     "points": 1,
     "schema_version": 3,
     "solution": true,
     "task": false
    }
   },
   "outputs": [
    {
     "data": {
      "image/png": "[encoded data removed]",
      "text/plain": [
       "<Figure size 640x480 with 1 Axes>"
      ]
     },
     "metadata": {},
     "output_type": "display_data"
    }
   ],
   "source": [
    "ans=G(np.pi/2)-G(0)\n",
    "for m in methods:\n",
    "    valores = np.array([m(g,0,np.pi/2,n) for n in ns])\n",
    "    plt.semilogy(ns,abs(ans1-valores),label=m.__name__)\n",
    "plt.title(\"grafico de erro dos metodos de integração \")\n",
    "plt.legend()\n",
    "plt.xlabel('variação do n')\n",
    "ax = plt.gca()"
   ]
  },
  {
   "cell_type": "markdown",
   "id": "638da0bf",
   "metadata": {},
   "source": [
    "Compare com os resultados para a integral no intervalo $[0, 2\\pi]$."
   ]
  },
  {
   "cell_type": "markdown",
   "id": "7d7b7f84",
   "metadata": {
    "deletable": false,
    "nbgrader": {
     "cell_type": "markdown",
     "checksum": "f9108eee5aa8ccfa453798b6a87f9afb",
     "grade": true,
     "grade_id": "cell-ed7fb2fc425e1d54",
     "locked": false,
     "points": 2,
     "schema_version": 3,
     "solution": true,
     "task": false
    }
   },
   "source": [
    "a integral de $[0, \\pi/2]$ converge de forma mais suave do que a de $[0, 2\\pi]$"
   ]
  },
  {
   "cell_type": "markdown",
   "id": "a5dc2e14",
   "metadata": {},
   "source": [
    "## Questão 7: E mais uma\n",
    "\n",
    "$$\\int_0^{2\\pi} \\frac{dx}{1 + 2\\cos^2(x)}$$"
   ]
  },
  {
   "cell_type": "code",
   "execution_count": 23,
   "id": "986e3f5a",
   "metadata": {
    "deletable": false,
    "nbgrader": {
     "cell_type": "code",
     "checksum": "39781e44d76b38ee84b31b49520b1fd5",
     "grade": true,
     "grade_id": "cell-8d533039531afa6c",
     "locked": false,
     "points": 1,
     "schema_version": 3,
     "solution": true,
     "task": false
    }
   },
   "outputs": [
    {
     "data": {
      "text/plain": [
       "Text(0.5, 0, 'variação do n')"
      ]
     },
     "execution_count": 23,
     "metadata": {},
     "output_type": "execute_result"
    },
    {
     "data": {
      "image/png": "[encoded data removed]",
      "text/plain": [
       "<Figure size 640x480 with 1 Axes>"
      ]
     },
     "metadata": {},
     "output_type": "display_data"
    }
   ],
   "source": [
    "def g1(x):\n",
    "    return 1/(1+(2*np.cos(x)*np.cos(x)))\n",
    "def G1(x):\n",
    "    return (1/(6**1/2))*np.arctan(((2/3)**1/2)*np.tan(x))\n",
    "ax = plt.gca()\n",
    "ans2=G1(np.pi*2)-G1(0)\n",
    "for m in methods:\n",
    "    valores = np.array([m(g1,0,np.pi*2,n) for n in ns])\n",
    "    plt.semilogy(ns,abs(ans2-valores),label=m.__name__)\n",
    "plt.title(\"grafico de erro dos metodos de integração \")\n",
    "plt.legend()\n",
    "plt.xlabel('variação do n')"
   ]
  },
  {
   "cell_type": "code",
   "execution_count": 24,
   "id": "44d50610",
   "metadata": {
    "deletable": false,
    "editable": false,
    "nbgrader": {
     "cell_type": "code",
     "checksum": "c4e9743c656d508919dd173c3e46239b",
     "grade": true,
     "grade_id": "cell-1b1fa16a62733446",
     "locked": true,
     "points": 1,
     "schema_version": 3,
     "solution": false,
     "task": false
    }
   },
   "outputs": [],
   "source": [
    "assert len(ax.lines) == 3\n",
    "assert len(ax.get_legend().texts) == 3\n",
    "assert len(ax.get_title()) >= 10\n",
    "assert len(ax.get_xlabel()) > 5"
   ]
  },
  {
   "cell_type": "markdown",
   "id": "d0992dc7",
   "metadata": {},
   "source": [
    "Compare com o que você obteve para a função $\\frac{1}{1 + 2 \\cos(x)}$:\n",
    "- O que você percebe de semelhante?\n",
    "- O que há de diferente?\n",
    "- Como você explica as diferenças e similaridades?"
   ]
  },
  {
   "cell_type": "markdown",
   "id": "362956da",
   "metadata": {
    "deletable": false,
    "nbgrader": {
     "cell_type": "markdown",
     "checksum": "89a3f4a5f95f5f4ed3c0d8237cf8ff1e",
     "grade": true,
     "grade_id": "cell-7fabf2aaecbd305c",
     "locked": false,
     "points": 2,
     "schema_version": 3,
     "solution": true,
     "task": false
    }
   },
   "source": [
    "(contando que minha integral do wolfram está errada) como são graficos \"semelhantes\" os metodos pro calculo da integral possuem um erro de ordem semelhantes"
   ]
  },
  {
   "cell_type": "markdown",
   "id": "1b381669",
   "metadata": {},
   "source": [
    "## Questão 8: A última\n",
    "\n",
    "Calcule\n",
    "\n",
    "$$\\int_0^{2\\pi} \\frac{\\sin(1999x)}{\\sin(x)}$$\n",
    "\n",
    "pelo método do ponto médio, variando o número de subdivisões entre $2$ e $2000$ como abaixo,\n",
    "e faça o gráfico do **valor da integral** ao variar $n$."
   ]
  },
  {
   "cell_type": "code",
   "execution_count": null,
   "id": "ddd6a910",
   "metadata": {
    "deletable": false,
    "nbgrader": {
     "cell_type": "code",
     "checksum": "94bc79c38871628e1054312c0c6e14e6",
     "grade": true,
     "grade_id": "cell-ca6ef8a2e7713c54",
     "locked": false,
     "points": 1,
     "schema_version": 3,
     "solution": true,
     "task": false
    }
   },
   "outputs": [],
   "source": [
    "ns = range(2,2000,2)\n",
    "\n",
    "# YOUR CODE HERE\n",
    "raise NotImplementedError()"
   ]
  },
  {
   "cell_type": "markdown",
   "id": "7f7dfbca",
   "metadata": {},
   "source": [
    "O que você vê no gráfico?"
   ]
  },
  {
   "cell_type": "markdown",
   "id": "a85335e9",
   "metadata": {
    "deletable": false,
    "nbgrader": {
     "cell_type": "markdown",
     "checksum": "74cca2d78f68614b1d61410d9acfd279",
     "grade": true,
     "grade_id": "cell-3451bc4cd11eea06",
     "locked": false,
     "points": 2,
     "schema_version": 3,
     "solution": true,
     "task": false
    }
   },
   "source": [
    "YOUR ANSWER HERE"
   ]
  },
  {
   "cell_type": "markdown",
   "id": "902b1c96",
   "metadata": {},
   "source": [
    "Explique porque usar o método do ponto médio, e porque usar um número par de subdivisões."
   ]
  },
  {
   "cell_type": "markdown",
   "id": "aecb9a7c",
   "metadata": {
    "deletable": false,
    "nbgrader": {
     "cell_type": "markdown",
     "checksum": "f5a2e20cedc7228a8a46b4f25671215e",
     "grade": true,
     "grade_id": "cell-2e80fa897cedc724",
     "locked": false,
     "points": 2,
     "schema_version": 3,
     "solution": true,
     "task": false
    }
   },
   "source": [
    "YOUR ANSWER HERE"
   ]
  },
  {
   "cell_type": "markdown",
   "id": "22b9405f",
   "metadata": {},
   "source": [
    "### Bônus\n",
    "\n",
    "Como você faria para ter certeza do valor correto da integral?\n",
    "Explique suas ideias abaixo, e faça contas, se desejar, na caixa seguinte."
   ]
  },
  {
   "cell_type": "markdown",
   "id": "f5c01565",
   "metadata": {
    "deletable": false,
    "nbgrader": {
     "cell_type": "markdown",
     "checksum": "8aa8ce2ab61e625cbb481eab6a587200",
     "grade": true,
     "grade_id": "cell-da1f14da005b0ca7",
     "locked": false,
     "points": 2,
     "schema_version": 3,
     "solution": true,
     "task": false
    }
   },
   "source": [
    "YOUR ANSWER HERE"
   ]
  },
  {
   "cell_type": "code",
   "execution_count": null,
   "id": "8a895981",
   "metadata": {
    "deletable": false,
    "nbgrader": {
     "cell_type": "code",
     "checksum": "f65b7c3074f70a8f5cc68db64b2e5340",
     "grade": true,
     "grade_id": "cell-c7f2efffbad52e81",
     "locked": false,
     "points": 1,
     "schema_version": 3,
     "solution": true,
     "task": false
    }
   },
   "outputs": [],
   "source": [
    "# YOUR CODE HERE\n",
    "raise NotImplementedError()"
   ]
  }
 ],
 "metadata": {
  "kernelspec": {
   "display_name": "Python 3 (ipykernel)",
   "language": "python",
   "name": "python3"
  },
  "language_info": {
   "codemirror_mode": {
    "name": "ipython",
    "version": 3
   },
   "file_extension": ".py",
   "mimetype": "text/x-python",
   "name": "python",
   "nbconvert_exporter": "python",
   "pygments_lexer": "ipython3",
   "version": "3.9.12"
  }
 },
 "nbformat": 4,
 "nbformat_minor": 5
}
