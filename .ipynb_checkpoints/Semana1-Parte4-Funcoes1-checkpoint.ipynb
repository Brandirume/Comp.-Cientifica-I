{
 "cells": [
  {
   "cell_type": "markdown",
   "metadata": {},
   "source": [
    "![CC-BY-SA](https://mirrors.creativecommons.org/presskit/buttons/88x31/svg/by-sa.svg)\n",
    "This notebook was created by [Bernardo Freitas Paulo da Costa](http://www.im.ufrj.br/bernardofpc),\n",
    "and is licensed under Creative Commons BY-SA"
   ]
  },
  {
   "cell_type": "markdown",
   "metadata": {},
   "source": [
    "Funções\n",
    "=======\n",
    "\n",
    "Uma função consolida uma fórmula (ou sucessão de fórmulas) com um nome simples."
   ]
  },
  {
   "cell_type": "code",
   "execution_count": 1,
   "metadata": {},
   "outputs": [],
   "source": [
    "def sq(x):\n",
    "    return x*x"
   ]
  },
  {
   "cell_type": "code",
   "execution_count": 2,
   "metadata": {},
   "outputs": [],
   "source": [
    "def hyp(a,b):\n",
    "    return sqrt(a*a + b*b)"
   ]
  },
  {
   "cell_type": "code",
   "execution_count": 3,
   "metadata": {},
   "outputs": [],
   "source": [
    "def quinto_menor(li):\n",
    "    s = sorted(li)\n",
    "    if len(s) < 5:\n",
    "        return None\n",
    "    else:\n",
    "        return s[4] # /!\\ O quinto elemento tem índice 4."
   ]
  },
  {
   "cell_type": "markdown",
   "metadata": {},
   "source": [
    "Uma função não precisa retornar (ou seja, terminar com o comando `return`). Muitas vezes, funções que não retornam nada são chamadas de **subrotinas** ou (em inglês) **_procedures_**.\n",
    "\n",
    "Invente uma subrotina útil."
   ]
  },
  {
   "cell_type": "code",
   "execution_count": 3,
   "metadata": {},
   "outputs": [],
   "source": []
  },
  {
   "cell_type": "markdown",
   "metadata": {},
   "source": [
    "## Para quê funções?"
   ]
  },
  {
   "cell_type": "markdown",
   "metadata": {},
   "source": [
    "A grande utilidade das funções é organizar o código. Além disso, se você escolher **um bom nome** para as suas funções, o seu programa sera também mais fácil de entender. (É claro que usar nomes muito grandes tem seus inconvenientes, também)\n",
    "\n",
    "Outra característica importante das funções é que você pode ter uma \"torre de funções\", com funções mais complicadas / especializadas utilizando funções mais simples / genéricas. Por exemplo, podemos re-escrever a função da hipotenusa assim:"
   ]
  },
  {
   "cell_type": "code",
   "execution_count": 4,
   "metadata": {},
   "outputs": [],
   "source": [
    "def hyp(a,b):\n",
    "    return sqrt(sq(a) + sq(b))"
   ]
  },
  {
   "cell_type": "markdown",
   "metadata": {},
   "source": [
    "Esta idéia de \"torre\" é muito similar ao que ocorre em matemática. Por exemplo, vetores:\n",
    "\n",
    "Um **vetor** $v$ é um elemento de $R^n$. A **norma** de um vetor é dada pela raiz quadrada da soma dos quadrados de suas coordenadas. A **distância** entre dois vetores é dada pela norma da diferença de ambos. A **diferença** entre dois vetores é o vetor cujas coordenadas são as diferenças entre as suas coordenadas."
   ]
  },
  {
   "cell_type": "code",
   "execution_count": 5,
   "metadata": {},
   "outputs": [],
   "source": [
    "def norma2(v):\n",
    "    return sum([sq(x) for x in v])\n",
    "\n",
    "def norma(v):\n",
    "    return sqrt(norma2(v))"
   ]
  },
  {
   "cell_type": "code",
   "execution_count": 6,
   "metadata": {},
   "outputs": [],
   "source": [
    "def diff(v1, v2):\n",
    "    assert(len(v1) == len(v2))\n",
    "    return [x1 - x2 for (x1,x2) in zip(v1, v2)]"
   ]
  },
  {
   "cell_type": "code",
   "execution_count": 7,
   "metadata": {},
   "outputs": [],
   "source": [
    "def dist(v1, v2):\n",
    "    return norma(diff(v1, v2))"
   ]
  },
  {
   "cell_type": "markdown",
   "metadata": {},
   "source": [
    "Ao longo do curso, vamos construir várias funções que representem os diversos procedimentos que estudamos. Assim, teremos sempre à disposição um conjunto de operações matemáticas tanto _abstratas_ (que utilizaremos para raciocinar e **demonstrar**) quando _concretas_ (que utilizaremos para calcular e **experimentar**)"
   ]
  },
  {
   "cell_type": "markdown",
   "metadata": {},
   "source": [
    "### Exercício\n",
    "\n",
    "O **ângulo** $\\theta$ entre dois vetores é dado pela fórmula\n",
    "$$\\langle u, v\\rangle = \\lvert u\\rvert \\cdot \\lvert v\\rvert \\cdot \\cos(\\theta). $$\n",
    "\n",
    "Implemente uma função que calcule o **produto interno** ($\\langle , \\rangle$) de dois vetores,\n",
    "e em seguida uma que calcule o ângulo entre os vetores."
   ]
  },
  {
   "cell_type": "code",
   "execution_count": 7,
   "metadata": {},
   "outputs": [],
   "source": [
    "u= (3,4)\n",
    "v= (5,6)\n",
    "import numpy as np\n",
    "def norma(u):\n",
    "    p1=0\n",
    "    for x in u:\n",
    "        p1 +=x**2\n",
    "    return np.sqrt(p1)\n",
    "def produto_interno(u,v):\n",
    "    return np.dot(u,v)\n",
    "def cos_2_vetores(u,v):\n",
    "    return np.arccos(produto_interno(u,v)/(norma(u)*norma(v)))"
   ]
  }
 ],
 "metadata": {
  "kernelspec": {
   "display_name": "Python 3 (ipykernel)",
   "language": "python",
   "name": "python3"
  },
  "language_info": {
   "codemirror_mode": {
    "name": "ipython",
    "version": 3
   },
   "file_extension": ".py",
   "mimetype": "text/x-python",
   "name": "python",
   "nbconvert_exporter": "python",
   "pygments_lexer": "ipython3",
   "version": "3.9.12"
  }
 },
 "nbformat": 4,
 "nbformat_minor": 1
}
