{
 "cells": [
  {
   "cell_type": "markdown",
   "id": "2dd086df",
   "metadata": {},
   "source": [
    "![CC-BY-SA](https://mirrors.creativecommons.org/presskit/buttons/88x31/svg/by-sa.svg)\n",
    "\n",
    "\n",
    "This notebook was created by [Bernardo Freitas Paulo da Costa](http://www.im.ufrj.br/bernardofpc),\n",
    "and is licensed under Creative Commons BY-SA."
   ]
  },
  {
   "cell_type": "markdown",
   "id": "b764b198",
   "metadata": {},
   "source": [
    "Antes de enviar este Teste, verifique que tudo está funcionando como esperado.\n",
    "Por exemplo, **rode o código inteiro, do zero**.\n",
    "Para isso, vá no menu, escolha _Kernel_, depois _Restart & Run All_.\n",
    "\n",
    "Verifique, também, que você respondeu todas as questões:\n",
    "* as questões de código têm `YOUR CODE HERE` (e você pode apagar o `raise NotImplemented` ao incluir sua resposta)\n",
    "* as questões discursivas têm \"YOUR ANSWER HERE\"."
   ]
  },
  {
   "cell_type": "markdown",
   "id": "19e99614",
   "metadata": {},
   "source": [
    "---"
   ]
  },
  {
   "cell_type": "code",
   "execution_count": null,
   "id": "9fbb4f6b",
   "metadata": {},
   "outputs": [],
   "source": [
    "import numpy as np\n",
    "import matplotlib.pyplot as plt"
   ]
  },
  {
   "cell_type": "markdown",
   "id": "d26d51ed",
   "metadata": {},
   "source": [
    "# Parte 1: Interpolação, Regressão e Derivadas\n",
    "\n",
    "Vimos que, ao usar interpolação polinomial com pontos igualmente espaçados,\n",
    "a função fica bem melhor aproximada no centro do intervalo do que nas extremidades.\n",
    "Nesta parte, veremos como estas técnicas poderiam ser usadas para aproximar as derivadas de uma função."
   ]
  },
  {
   "cell_type": "markdown",
   "id": "d7876060",
   "metadata": {},
   "source": [
    "## Questão 1: Funções básicas"
   ]
  },
  {
   "cell_type": "code",
   "execution_count": null,
   "id": "78e8dac8",
   "metadata": {
    "deletable": false,
    "nbgrader": {
     "cell_type": "code",
     "checksum": "d42c61b9d6c5862e183c3621b50c2a29",
     "grade": false,
     "grade_id": "cell-566b8544aff904b5",
     "locked": false,
     "schema_version": 3,
     "solution": true,
     "task": false
    }
   },
   "outputs": [],
   "source": [
    "def interp(xs, ys):\n",
    "    \"Retorna os coeficientes do polinomio interpolador para os pontos  (xs, ys).\"\n",
    "    # YOUR CODE HERE\n",
    "    raise NotImplementedError()"
   ]
  },
  {
   "cell_type": "code",
   "execution_count": null,
   "id": "da6ac08b",
   "metadata": {
    "deletable": false,
    "nbgrader": {
     "cell_type": "code",
     "checksum": "62b9879d695be9d3c283a1093dc50f83",
     "grade": false,
     "grade_id": "cell-855e9b9885fc24e8",
     "locked": false,
     "schema_version": 3,
     "solution": true,
     "task": false
    }
   },
   "outputs": [],
   "source": [
    "def regress(xs, ys, d):\n",
    "    \"Retorna os coeficientes do polinomio de grau  d  que aproxima, em mínimos quadrados, os pontos  (xs, ys).\"\n",
    "    # YOUR CODE HERE\n",
    "    raise NotImplementedError()"
   ]
  },
  {
   "cell_type": "code",
   "execution_count": null,
   "id": "3acdf2eb",
   "metadata": {
    "deletable": false,
    "nbgrader": {
     "cell_type": "code",
     "checksum": "bcb0e57dd3892aaa1b979fd33741057e",
     "grade": false,
     "grade_id": "cell-b8e281de75f73d47",
     "locked": false,
     "schema_version": 3,
     "solution": true,
     "task": false
    }
   },
   "outputs": [],
   "source": [
    "def polyval(coefs, t):\n",
    "    \"Calcula o valor do polinômio com coeficietes  coefs  (dados em ordem crescente) nos pontos  t.\"    \n",
    "    # YOUR CODE HERE\n",
    "    raise NotImplementedError()"
   ]
  },
  {
   "cell_type": "code",
   "execution_count": null,
   "id": "f85aa247",
   "metadata": {
    "deletable": false,
    "editable": false,
    "nbgrader": {
     "cell_type": "code",
     "checksum": "db0681c72be6d4af8484e4e8fe9ce04f",
     "grade": true,
     "grade_id": "cell-4e69d2d450f7af2a",
     "locked": true,
     "points": 1,
     "schema_version": 3,
     "solution": false,
     "task": false
    }
   },
   "outputs": [],
   "source": [
    "assert np.allclose(polyval([1,2], [0,1,2,3]), [1,3,5,7])"
   ]
  },
  {
   "cell_type": "code",
   "execution_count": null,
   "id": "fcd94ed4",
   "metadata": {
    "deletable": false,
    "editable": false,
    "nbgrader": {
     "cell_type": "code",
     "checksum": "5c5426cf5d3e50e9e75c0216e076ba49",
     "grade": true,
     "grade_id": "cell-7121181d665e82cd",
     "locked": true,
     "points": 1,
     "schema_version": 3,
     "solution": false,
     "task": false
    }
   },
   "outputs": [],
   "source": [
    "assert np.allclose(polyval([1,0,1,2], [0,1,-1,1/2,3]), [1, 4, 0, 3/2, 64])"
   ]
  },
  {
   "cell_type": "code",
   "execution_count": null,
   "id": "e1588f19",
   "metadata": {
    "deletable": false,
    "nbgrader": {
     "cell_type": "code",
     "checksum": "7452cc90f4c40875bb6526a1bc3a68cd",
     "grade": false,
     "grade_id": "cell-55cbdc3fb66c8801",
     "locked": false,
     "schema_version": 3,
     "solution": true,
     "task": false
    }
   },
   "outputs": [],
   "source": [
    "def derivada(coefs):\n",
    "    \"Retorna a lista dos coeficientes do polinômio que é a derivada do polinômio dados pelos coeficientes  coefs.\"\n",
    "    # YOUR CODE HERE\n",
    "    raise NotImplementedError()"
   ]
  },
  {
   "cell_type": "code",
   "execution_count": null,
   "id": "22e94f06",
   "metadata": {
    "deletable": false,
    "editable": false,
    "nbgrader": {
     "cell_type": "code",
     "checksum": "4e3dacad01c4be8d25344ad6b4e1ab9d",
     "grade": true,
     "grade_id": "cell-ee3ddf220ea61d8b",
     "locked": true,
     "points": 1,
     "schema_version": 3,
     "solution": false,
     "task": false
    }
   },
   "outputs": [],
   "source": [
    "assert np.allclose(derivada([1,2,3,4,5]), [2,6,12,20])"
   ]
  },
  {
   "cell_type": "markdown",
   "id": "69ad6b3f",
   "metadata": {},
   "source": [
    "## Questão 2: Erros de interpolação\n",
    "\n",
    "Usando pontos igualmente espaçados,\n",
    "podemos calular um polinômio $p_d$ de grau $d$ que interpola uma função $f$.\n",
    "Ao derivar este polinômio, obtemos uma aproximação da derivada $f'$.\n",
    "\n",
    "Vamos estudar como este método funciona para a função seno."
   ]
  },
  {
   "cell_type": "markdown",
   "id": "480ad87f",
   "metadata": {},
   "source": [
    "Faça, lado a lado (usando `subplots`),\n",
    "o gráfico do erro cometido pelo polinômio de interpolação de grau 2 para a função seno no intervalo [0,3],\n",
    "e o erro resultante de usar a derivada deste polinômio para aproximar a derivada."
   ]
  },
  {
   "cell_type": "code",
   "execution_count": null,
   "id": "abe080b2",
   "metadata": {
    "deletable": false,
    "nbgrader": {
     "cell_type": "code",
     "checksum": "1351cb0704408487325f5d81bf009617",
     "grade": true,
     "grade_id": "cell-2a7d42db9637df01",
     "locked": false,
     "points": 1,
     "schema_version": 3,
     "solution": true,
     "task": false
    }
   },
   "outputs": [],
   "source": [
    "fig, (ax1, ax2) = plt.subplots(ncols=2, figsize=(13,4))\n",
    "\n",
    "# YOUR CODE HERE\n",
    "raise NotImplementedError()\n",
    "\n",
    "fig = plt.gcf()"
   ]
  },
  {
   "cell_type": "code",
   "execution_count": null,
   "id": "a5256ead",
   "metadata": {
    "deletable": false,
    "editable": false,
    "nbgrader": {
     "cell_type": "code",
     "checksum": "76f75de6010d08146093a192611505ab",
     "grade": true,
     "grade_id": "cell-21255229689d00e2",
     "locked": true,
     "points": 1,
     "schema_version": 3,
     "solution": false,
     "task": false
    }
   },
   "outputs": [],
   "source": [
    "for ax in fig.axes:\n",
    "    assert len(ax.get_title()) >= 10"
   ]
  },
  {
   "cell_type": "markdown",
   "id": "040cb837",
   "metadata": {},
   "source": [
    "Quem tem mais erro: a aproximação da função ou da derivada?\n",
    "(Talvez você tenha que ajustar `ylim` para ver melhor o gráfico)"
   ]
  },
  {
   "cell_type": "markdown",
   "id": "f445f8d4",
   "metadata": {
    "deletable": false,
    "nbgrader": {
     "cell_type": "markdown",
     "checksum": "a730dabdc8cb145d8616c9a606a2922b",
     "grade": true,
     "grade_id": "cell-f401dc89c460fd8a",
     "locked": false,
     "points": 2,
     "schema_version": 3,
     "solution": true,
     "task": false
    }
   },
   "source": [
    "YOUR ANSWER HERE"
   ]
  },
  {
   "cell_type": "markdown",
   "id": "d6ece1b4",
   "metadata": {},
   "source": [
    "## Questão 3: mais graus!\n",
    "\n",
    "Faça também para os graus 4, 6 e 8."
   ]
  },
  {
   "cell_type": "code",
   "execution_count": null,
   "id": "8a616915",
   "metadata": {
    "deletable": false,
    "nbgrader": {
     "cell_type": "code",
     "checksum": "c57de3529c4dc28e8fbe78b07a2e146e",
     "grade": true,
     "grade_id": "cell-973f3ee1fa20a0c4",
     "locked": false,
     "points": 1,
     "schema_version": 3,
     "solution": true,
     "task": false
    }
   },
   "outputs": [],
   "source": [
    "# YOUR CODE HERE\n",
    "raise NotImplementedError()\n",
    "\n",
    "fig = plt.gcf()"
   ]
  },
  {
   "cell_type": "code",
   "execution_count": null,
   "id": "04d92eb4",
   "metadata": {
    "deletable": false,
    "editable": false,
    "nbgrader": {
     "cell_type": "code",
     "checksum": "e7f2ac7c865b38d7e76afeff258b86db",
     "grade": true,
     "grade_id": "cell-048290a33ef62c01",
     "locked": true,
     "points": 1,
     "schema_version": 3,
     "solution": false,
     "task": false
    }
   },
   "outputs": [],
   "source": [
    "assert len(fig.axes) == 2\n",
    "for ax in fig.axes:\n",
    "    assert len(ax.lines) == 3"
   ]
  },
  {
   "cell_type": "code",
   "execution_count": null,
   "id": "a81c2a43",
   "metadata": {
    "deletable": false,
    "editable": false,
    "nbgrader": {
     "cell_type": "code",
     "checksum": "8ab96874c5cded487203758df01214a9",
     "grade": true,
     "grade_id": "cell-32fc335cf5a0b8f2",
     "locked": true,
     "points": 1,
     "schema_version": 3,
     "solution": false,
     "task": false
    }
   },
   "outputs": [],
   "source": [
    "for ax in fig.axes:\n",
    "    assert len(ax.get_title()) >= 10\n",
    "    assert len(ax.get_legend().texts) == 3"
   ]
  },
  {
   "cell_type": "code",
   "execution_count": null,
   "id": "705d260a",
   "metadata": {
    "deletable": false,
    "editable": false,
    "nbgrader": {
     "cell_type": "code",
     "checksum": "a6d1dd07a93f7412c9c59cd03327cdb7",
     "grade": false,
     "grade_id": "cell-38a6b7f425f016ee",
     "locked": true,
     "schema_version": 3,
     "solution": false,
     "task": false
    }
   },
   "outputs": [],
   "source": [
    "fig = None"
   ]
  },
  {
   "cell_type": "markdown",
   "id": "e0f15a8a",
   "metadata": {},
   "source": [
    "O erro é maior para aproximar a função ou a derivada?  De quanto?"
   ]
  },
  {
   "cell_type": "markdown",
   "id": "ecaeb5c3",
   "metadata": {
    "deletable": false,
    "nbgrader": {
     "cell_type": "markdown",
     "checksum": "58c2aeb545ed4fbcde375616433f6cb8",
     "grade": true,
     "grade_id": "cell-72ee9a599552cad7",
     "locked": false,
     "points": 2,
     "schema_version": 3,
     "solution": true,
     "task": false
    }
   },
   "source": [
    "YOUR ANSWER HERE"
   ]
  },
  {
   "cell_type": "markdown",
   "id": "934b369c",
   "metadata": {},
   "source": [
    "O erro da aproximação da derivada é maior no centro ou nas extremidades?  Isso é esperado?"
   ]
  },
  {
   "cell_type": "markdown",
   "id": "e99d6a2c",
   "metadata": {
    "deletable": false,
    "nbgrader": {
     "cell_type": "markdown",
     "checksum": "3a5ec11888398edbd4042e5fae709ddc",
     "grade": true,
     "grade_id": "cell-4d9249c0cb22a125",
     "locked": false,
     "points": 2,
     "schema_version": 3,
     "solution": true,
     "task": false
    }
   },
   "source": [
    "YOUR ANSWER HERE"
   ]
  },
  {
   "cell_type": "markdown",
   "id": "759c6817",
   "metadata": {},
   "source": [
    "### Outros graus\n",
    "\n",
    "Faça agora com graus 3, 5, 7 e 9."
   ]
  },
  {
   "cell_type": "code",
   "execution_count": null,
   "id": "ba62ac7c",
   "metadata": {
    "deletable": false,
    "nbgrader": {
     "cell_type": "code",
     "checksum": "2c8b4547efb6a038de8ff5969cadcda0",
     "grade": false,
     "grade_id": "cell-58e684613a16bef2",
     "locked": false,
     "schema_version": 3,
     "solution": true,
     "task": false
    }
   },
   "outputs": [],
   "source": [
    "# YOUR CODE HERE\n",
    "raise NotImplementedError()\n",
    "\n",
    "fig = plt.gcf()"
   ]
  },
  {
   "cell_type": "code",
   "execution_count": null,
   "id": "fa6ac8ed",
   "metadata": {
    "deletable": false,
    "editable": false,
    "nbgrader": {
     "cell_type": "code",
     "checksum": "93582a4d8f642c148dd84afb80e8d5e3",
     "grade": true,
     "grade_id": "cell-3c290c4cf6af9f75",
     "locked": true,
     "points": 1,
     "schema_version": 3,
     "solution": false,
     "task": false
    }
   },
   "outputs": [],
   "source": [
    "assert len(fig.axes) == 2\n",
    "for ax in fig.axes:\n",
    "    assert len(ax.lines) == 4"
   ]
  },
  {
   "cell_type": "code",
   "execution_count": null,
   "id": "e56f5f41",
   "metadata": {
    "deletable": false,
    "editable": false,
    "nbgrader": {
     "cell_type": "code",
     "checksum": "138359e7e005cca2172be6b78196d5d8",
     "grade": false,
     "grade_id": "cell-2ec1425ae5aa30c2",
     "locked": true,
     "schema_version": 3,
     "solution": false,
     "task": false
    }
   },
   "outputs": [],
   "source": [
    "fig = None"
   ]
  },
  {
   "cell_type": "markdown",
   "id": "31533872",
   "metadata": {},
   "source": [
    "Comente as diferenças e similaridades com o caso anterior.\n",
    "O que você acha que aconteceu?"
   ]
  },
  {
   "cell_type": "markdown",
   "id": "5f77afda",
   "metadata": {
    "deletable": false,
    "nbgrader": {
     "cell_type": "markdown",
     "checksum": "2e309a87e562f0df63e7afe103a0bd9e",
     "grade": true,
     "grade_id": "cell-11769646a4ec04ff",
     "locked": false,
     "points": 2,
     "schema_version": 3,
     "solution": true,
     "task": false
    }
   },
   "source": [
    "YOUR ANSWER HERE"
   ]
  },
  {
   "cell_type": "markdown",
   "id": "98b40090",
   "metadata": {},
   "source": [
    "## Questão 4: Erros de regressão\n",
    "\n",
    "Calcule a função seno em 31 pontos igualmente espaçados no intervalo $[0,3]$,\n",
    "e use-os para ajustar os polinômios de regressão de graus 2, 4, 6 e 8."
   ]
  },
  {
   "cell_type": "code",
   "execution_count": null,
   "id": "d18f80f7",
   "metadata": {
    "deletable": false,
    "nbgrader": {
     "cell_type": "code",
     "checksum": "4b5539e57d18b343480b842c9fa42d7d",
     "grade": true,
     "grade_id": "cell-5fc98e5ce71ab4d8",
     "locked": false,
     "points": 1,
     "schema_version": 3,
     "solution": true,
     "task": false
    }
   },
   "outputs": [],
   "source": [
    "# YOUR CODE HERE\n",
    "raise NotImplementedError()\n",
    "\n",
    "fig = plt.gcf()"
   ]
  },
  {
   "cell_type": "code",
   "execution_count": null,
   "id": "89cf6ba7",
   "metadata": {
    "deletable": false,
    "editable": false,
    "nbgrader": {
     "cell_type": "code",
     "checksum": "81c5b76a727494cdefb5f7e999f46e48",
     "grade": true,
     "grade_id": "cell-f435f72f7f31ebab",
     "locked": true,
     "points": 1,
     "schema_version": 3,
     "solution": false,
     "task": false
    }
   },
   "outputs": [],
   "source": [
    "assert len(fig.axes) == 2\n",
    "for ax in fig.axes:\n",
    "    assert len(ax.lines) == 4"
   ]
  },
  {
   "cell_type": "markdown",
   "id": "05922b1b",
   "metadata": {},
   "source": [
    "Compare os erros de ajuste da função (seno), entre este método e o uso dos polinômios interpoladores."
   ]
  },
  {
   "cell_type": "markdown",
   "id": "97cb4559",
   "metadata": {
    "deletable": false,
    "nbgrader": {
     "cell_type": "markdown",
     "checksum": "3602216aee71f209651c0e40154ce1a9",
     "grade": true,
     "grade_id": "cell-1137e73231f08f5c",
     "locked": false,
     "points": 2,
     "schema_version": 3,
     "solution": true,
     "task": false
    }
   },
   "source": [
    "YOUR ANSWER HERE"
   ]
  },
  {
   "cell_type": "markdown",
   "id": "32a5345e",
   "metadata": {},
   "source": [
    "Compare os erros de ajuste das derivadas."
   ]
  },
  {
   "cell_type": "markdown",
   "id": "8244a879",
   "metadata": {
    "deletable": false,
    "nbgrader": {
     "cell_type": "markdown",
     "checksum": "10399a438e8ba4d40a2084cc3f639270",
     "grade": true,
     "grade_id": "cell-e19b218aaa08e0e6",
     "locked": false,
     "points": 2,
     "schema_version": 3,
     "solution": true,
     "task": false
    }
   },
   "source": [
    "YOUR ANSWER HERE"
   ]
  },
  {
   "cell_type": "markdown",
   "id": "4b24c101",
   "metadata": {},
   "source": [
    "## Questão 5: Derivadas centrais\n",
    "\n",
    "Qual seria o tamanho do passo necessário para calcular uma aproximação da derivada usando a derivada central,\n",
    "de forma a obter um erro comparável com ajuste do polinômio de grau 2? E de grau 4?\n",
    "\n",
    "Faça os cálculos abaixo, indicando **como você chegou nestes valores**."
   ]
  },
  {
   "cell_type": "code",
   "execution_count": null,
   "id": "9d46b4be",
   "metadata": {
    "deletable": false,
    "nbgrader": {
     "cell_type": "code",
     "checksum": "ab457d5064ea6b1d2bd721f89bf3ffd2",
     "grade": true,
     "grade_id": "cell-fb05d08928079d51",
     "locked": false,
     "points": 2,
     "schema_version": 3,
     "solution": true,
     "task": false
    }
   },
   "outputs": [],
   "source": [
    "# YOUR CODE HERE\n",
    "raise NotImplementedError()"
   ]
  },
  {
   "cell_type": "markdown",
   "id": "15590cc5",
   "metadata": {},
   "source": [
    "Agora, faça o ajuste dos polinômios de grau 12, 14 e 16, por interpolação, no intervalo $[0,3]$."
   ]
  },
  {
   "cell_type": "code",
   "execution_count": null,
   "id": "7c502633",
   "metadata": {
    "deletable": false,
    "nbgrader": {
     "cell_type": "code",
     "checksum": "b053a8a5550392f7107a997278fc2be0",
     "grade": true,
     "grade_id": "cell-ea9316fd28a3dd09",
     "locked": false,
     "points": 1,
     "schema_version": 3,
     "solution": true,
     "task": false
    }
   },
   "outputs": [],
   "source": [
    "# YOUR CODE HERE\n",
    "raise NotImplementedError()"
   ]
  },
  {
   "cell_type": "markdown",
   "id": "e776b5d9",
   "metadata": {},
   "source": [
    "Qual a magnitude do erro que você obtém para a derivada, no intervalo $[0,3]$?"
   ]
  },
  {
   "cell_type": "markdown",
   "id": "9b816372",
   "metadata": {
    "deletable": false,
    "nbgrader": {
     "cell_type": "markdown",
     "checksum": "7fa7290bb2cd6c3ea9561fefdfa83745",
     "grade": true,
     "grade_id": "cell-ef3ce90130b9cc69",
     "locked": false,
     "points": 2,
     "schema_version": 3,
     "solution": true,
     "task": false
    }
   },
   "source": [
    "YOUR ANSWER HERE"
   ]
  },
  {
   "cell_type": "markdown",
   "id": "ec695fce",
   "metadata": {},
   "source": [
    "Qual seria o passo no método das derivadas centrais para obter esse erro?"
   ]
  },
  {
   "cell_type": "code",
   "execution_count": null,
   "id": "3fe3eebb",
   "metadata": {
    "deletable": false,
    "nbgrader": {
     "cell_type": "code",
     "checksum": "058e245c01f5255cebff02f72986110d",
     "grade": true,
     "grade_id": "cell-f6760b5dc99933a0",
     "locked": false,
     "points": 1,
     "schema_version": 3,
     "solution": true,
     "task": false
    }
   },
   "outputs": [],
   "source": [
    "# YOUR CODE HERE\n",
    "raise NotImplementedError()"
   ]
  },
  {
   "cell_type": "markdown",
   "id": "c5cc1767",
   "metadata": {},
   "source": [
    "Comente"
   ]
  },
  {
   "cell_type": "markdown",
   "id": "a7d8f5e4",
   "metadata": {
    "deletable": false,
    "nbgrader": {
     "cell_type": "markdown",
     "checksum": "b302dc747ec43865d2d5b1224736f566",
     "grade": true,
     "grade_id": "cell-a01f3874f40c7c92",
     "locked": false,
     "points": 2,
     "schema_version": 3,
     "solution": true,
     "task": false
    }
   },
   "source": [
    "YOUR ANSWER HERE"
   ]
  },
  {
   "cell_type": "markdown",
   "id": "d0b175b1",
   "metadata": {},
   "source": [
    "# Parte 2: Interpolação com derivadas\n",
    "\n",
    "Suponha que, além dos valores $y_i = f(x_i)$, também possuímos $z_i = f'(x_i)$.\n",
    "Deveríamos ser capazes de calcular melhores polinômios interpoladores!"
   ]
  },
  {
   "cell_type": "markdown",
   "id": "7cf44c86",
   "metadata": {},
   "source": [
    "## Questão 6: Equações\n",
    "\n",
    "Suponha que são dados apenas 2 pontos.\n",
    "- Quais equações os coeficientes do polinômio devem satisfazer?\n",
    "- Qual o grau deste polinômio?\n",
    "- A matriz deste sistema é inversível?"
   ]
  },
  {
   "cell_type": "markdown",
   "id": "e6e74238",
   "metadata": {
    "deletable": false,
    "nbgrader": {
     "cell_type": "markdown",
     "checksum": "7ea093afdd193319e16b2bfab75db64d",
     "grade": true,
     "grade_id": "cell-934f5617695c4d35",
     "locked": false,
     "points": 4,
     "schema_version": 3,
     "solution": true,
     "task": false
    }
   },
   "source": [
    "YOUR ANSWER HERE"
   ]
  },
  {
   "cell_type": "markdown",
   "id": "b45b7620",
   "metadata": {},
   "source": [
    "No caso geral, quais são as novas equações que os coeficientes $p_i$ devem satisfazer?"
   ]
  },
  {
   "cell_type": "markdown",
   "id": "fe2fae49",
   "metadata": {
    "deletable": false,
    "nbgrader": {
     "cell_type": "markdown",
     "checksum": "0d213ddfa659c2528822d60105e9ea5c",
     "grade": true,
     "grade_id": "cell-d01ad641148d355c",
     "locked": false,
     "points": 2,
     "schema_version": 3,
     "solution": true,
     "task": false
    }
   },
   "source": [
    "YOUR ANSWER HERE"
   ]
  },
  {
   "cell_type": "markdown",
   "id": "221558fc",
   "metadata": {},
   "source": [
    "Escreva a função `matrix_der(xs,d)` que calcula a matriz que multiplica estes coeficientes,\n",
    "(nas novas equações)\n",
    "em função dos pontos `xs` onde sabemos as derivadas e do grau `d` que o polinômio terá.\n",
    "\n",
    "(Essa função é análoga à função que constrói a matriz para a interpolação e regressão)"
   ]
  },
  {
   "cell_type": "code",
   "execution_count": null,
   "id": "ccae8733",
   "metadata": {
    "deletable": false,
    "nbgrader": {
     "cell_type": "code",
     "checksum": "a119266096c4b5e72bb05fd9770e0792",
     "grade": false,
     "grade_id": "cell-58b77f52d20dd378",
     "locked": false,
     "schema_version": 3,
     "solution": true,
     "task": false
    }
   },
   "outputs": [],
   "source": [
    "def matrix_der(xs, d):\n",
    "    xs = np.asarray(xs, dtype=float)\n",
    "    # YOUR CODE HERE\n",
    "    raise NotImplementedError()"
   ]
  },
  {
   "cell_type": "code",
   "execution_count": null,
   "id": "747ca098",
   "metadata": {
    "deletable": false,
    "editable": false,
    "nbgrader": {
     "cell_type": "code",
     "checksum": "25a2e00a395c135526417c109811a9a6",
     "grade": true,
     "grade_id": "cell-d7fe8f37c5a1619b",
     "locked": true,
     "points": 1,
     "schema_version": 3,
     "solution": false,
     "task": false
    }
   },
   "outputs": [],
   "source": [
    "M1 = matrix_der([1,2,3], 3)\n",
    "ans = [[ 0.,  1.,  2.,  3.],\n",
    "       [ 0.,  1.,  4., 12.],\n",
    "       [ 0.,  1.,  6., 27.]]\n",
    "assert np.allclose(M1, ans)"
   ]
  },
  {
   "cell_type": "code",
   "execution_count": null,
   "id": "f816c8b5",
   "metadata": {
    "deletable": false,
    "editable": false,
    "nbgrader": {
     "cell_type": "code",
     "checksum": "60c21c7fc44f50214a312681dca682c1",
     "grade": true,
     "grade_id": "cell-3b71e23c69074122",
     "locked": true,
     "points": 1,
     "schema_version": 3,
     "solution": false,
     "task": false
    }
   },
   "outputs": [],
   "source": [
    "M1 = matrix_der([1,2,3,4,5], 3)\n",
    "assert np.shape(M1) == (5,4)"
   ]
  },
  {
   "cell_type": "code",
   "execution_count": null,
   "id": "6906620f",
   "metadata": {
    "deletable": false,
    "editable": false,
    "nbgrader": {
     "cell_type": "code",
     "checksum": "0211b079654dff8cba0c7dafa0f26cd3",
     "grade": true,
     "grade_id": "cell-edb9c7dd2d9bda51",
     "locked": true,
     "points": 1,
     "schema_version": 3,
     "solution": false,
     "task": false
    }
   },
   "outputs": [],
   "source": [
    "M1 = matrix_der([1,2,3,4,5], 8)\n",
    "assert np.shape(M1) == (5,9)"
   ]
  },
  {
   "cell_type": "markdown",
   "id": "ec801d22",
   "metadata": {},
   "source": [
    "## Questão 7: Resolvendo o sistema\n",
    "\n",
    "Para construir matrizes e vetores em \"blocos\", você pode usar `np.hstack`, `np.vstack` e/ou `np.block`."
   ]
  },
  {
   "cell_type": "code",
   "execution_count": null,
   "id": "a8533e65",
   "metadata": {
    "deletable": false,
    "nbgrader": {
     "cell_type": "code",
     "checksum": "98f45958385826d5cd98ce746be9f5a5",
     "grade": false,
     "grade_id": "cell-1d00ebde4e7590b3",
     "locked": false,
     "schema_version": 3,
     "solution": true,
     "task": false
    }
   },
   "outputs": [],
   "source": [
    "def interp1(xs, ys, zs):\n",
    "    \"Retorna os coeficientes do polinomio interpolador para os pontos  (xs, ys), com respectivas derivadas zs.\"\n",
    "    # YOUR CODE HERE\n",
    "    raise NotImplementedError()"
   ]
  },
  {
   "cell_type": "code",
   "execution_count": null,
   "id": "85c32f46",
   "metadata": {
    "deletable": false,
    "editable": false,
    "nbgrader": {
     "cell_type": "code",
     "checksum": "3befe4dd0fd295dc4e2998b9b4616927",
     "grade": true,
     "grade_id": "cell-b0a59f2a58a41945",
     "locked": true,
     "points": 1,
     "schema_version": 3,
     "solution": false,
     "task": false
    }
   },
   "outputs": [],
   "source": [
    "coefs = interp1([0], [1], [1])\n",
    "assert np.allclose(coefs, [1,1])"
   ]
  },
  {
   "cell_type": "code",
   "execution_count": null,
   "id": "e615f423",
   "metadata": {
    "deletable": false,
    "editable": false,
    "nbgrader": {
     "cell_type": "code",
     "checksum": "5d06ffdc5b3bed8c5c88a55387cd1f7d",
     "grade": true,
     "grade_id": "cell-40b33dd22778f59b",
     "locked": true,
     "points": 1,
     "schema_version": 3,
     "solution": false,
     "task": false
    }
   },
   "outputs": [],
   "source": [
    "coefs = interp1([1], [1], [1])\n",
    "assert np.allclose(coefs, [0,1])"
   ]
  },
  {
   "cell_type": "markdown",
   "id": "5599f53d",
   "metadata": {},
   "source": [
    "Explique a resposta dos dois `assert`s acima (analiticamente)"
   ]
  },
  {
   "cell_type": "markdown",
   "id": "134a1570",
   "metadata": {
    "deletable": false,
    "nbgrader": {
     "cell_type": "markdown",
     "checksum": "612521d4eb519230d94337ca6f8d0c90",
     "grade": true,
     "grade_id": "cell-4a4775d38cbae6b0",
     "locked": false,
     "points": 2,
     "schema_version": 3,
     "solution": true,
     "task": false
    }
   },
   "source": [
    "YOUR ANSWER HERE"
   ]
  },
  {
   "cell_type": "code",
   "execution_count": null,
   "id": "26db7e5c",
   "metadata": {
    "deletable": false,
    "editable": false,
    "nbgrader": {
     "cell_type": "code",
     "checksum": "defc3c775b1afe5873c39a1584df4344",
     "grade": true,
     "grade_id": "cell-a82a7970fb329e55",
     "locked": true,
     "points": 1,
     "schema_version": 3,
     "solution": false,
     "task": false
    }
   },
   "outputs": [],
   "source": [
    "coefs = interp1([0,1], [1,1], [1,1])\n",
    "assert np.allclose(coefs, [1,1,-3,2])"
   ]
  },
  {
   "cell_type": "code",
   "execution_count": null,
   "id": "c69a0f46",
   "metadata": {
    "deletable": false,
    "editable": false,
    "nbgrader": {
     "cell_type": "code",
     "checksum": "cfa2df466be6aab08dc5e2de2e8d7179",
     "grade": true,
     "grade_id": "cell-c5b7935b4e99250c",
     "locked": true,
     "points": 1,
     "schema_version": 3,
     "solution": false,
     "task": false
    }
   },
   "outputs": [],
   "source": [
    "xs = np.array([0,1.0])\n",
    "ys = np.array([1,3.0])\n",
    "zs = np.array([1,1.0])\n",
    "coefs = interp1(xs, ys, zs)\n",
    "assert np.allclose(coefs, [1,1,3,-2])"
   ]
  },
  {
   "cell_type": "markdown",
   "id": "09c2e9ff",
   "metadata": {},
   "source": [
    "Explique porque os coeficientes de grau 0 e 1 são os mesmos de só fazer a interpolação no zero."
   ]
  },
  {
   "cell_type": "markdown",
   "id": "6989c809",
   "metadata": {
    "deletable": false,
    "nbgrader": {
     "cell_type": "markdown",
     "checksum": "a39c2d80f59c12f8322c1ece7254c324",
     "grade": true,
     "grade_id": "cell-9765128c90047cf1",
     "locked": false,
     "points": 2,
     "schema_version": 3,
     "solution": true,
     "task": false
    }
   },
   "source": [
    "YOUR ANSWER HERE"
   ]
  },
  {
   "cell_type": "markdown",
   "id": "fdf41a29",
   "metadata": {},
   "source": [
    "## Questão 8: Erro\n",
    "\n",
    "O erro decai conforme aumentamos o número de pontos?\n",
    "Teste para as funções $f(x) = \\cos(x)$ e $g(x) = e^x$ no intervalo $[-1, 2]$."
   ]
  },
  {
   "cell_type": "code",
   "execution_count": null,
   "id": "963e1db4",
   "metadata": {
    "deletable": false,
    "nbgrader": {
     "cell_type": "code",
     "checksum": "b11ce4bc711aa561af8fb164b4b54385",
     "grade": true,
     "grade_id": "cell-8b434e2818e22439",
     "locked": false,
     "points": 1,
     "schema_version": 3,
     "solution": true,
     "task": false
    }
   },
   "outputs": [],
   "source": [
    "# Gráficos de erro para o cosseno\n",
    "# YOUR CODE HERE\n",
    "raise NotImplementedError()\n",
    "\n",
    "ax = plt.gca()"
   ]
  },
  {
   "cell_type": "code",
   "execution_count": null,
   "id": "726cac51",
   "metadata": {
    "deletable": false,
    "editable": false,
    "nbgrader": {
     "cell_type": "code",
     "checksum": "c571668d13041e46d80bf92ce19e1f46",
     "grade": true,
     "grade_id": "cell-b2862b82616b2e3d",
     "locked": true,
     "points": 1,
     "schema_version": 3,
     "solution": false,
     "task": false
    }
   },
   "outputs": [],
   "source": [
    "assert len(ax.get_title()) >= 10\n",
    "assert len(ax.lines) >= 5"
   ]
  },
  {
   "cell_type": "code",
   "execution_count": null,
   "id": "d13c8bf2",
   "metadata": {
    "deletable": false,
    "editable": false,
    "nbgrader": {
     "cell_type": "code",
     "checksum": "178cb17dca4784ec71b9f52b5268e0de",
     "grade": false,
     "grade_id": "cell-591eb3fcfd3565d6",
     "locked": true,
     "schema_version": 3,
     "solution": false,
     "task": false
    }
   },
   "outputs": [],
   "source": [
    "ax = None"
   ]
  },
  {
   "cell_type": "code",
   "execution_count": null,
   "id": "85c62886",
   "metadata": {
    "deletable": false,
    "nbgrader": {
     "cell_type": "code",
     "checksum": "9f0a92c2f0aa62c0091f78bdae2c676d",
     "grade": false,
     "grade_id": "cell-9e6c28507fd0599a",
     "locked": false,
     "schema_version": 3,
     "solution": true,
     "task": false
    }
   },
   "outputs": [],
   "source": [
    "# Gráficos de erro para a função exponencial\n",
    "# YOUR CODE HERE\n",
    "raise NotImplementedError()\n",
    "\n",
    "ax = plt.gca()"
   ]
  },
  {
   "cell_type": "code",
   "execution_count": null,
   "id": "f4b8dbc0",
   "metadata": {
    "deletable": false,
    "editable": false,
    "nbgrader": {
     "cell_type": "code",
     "checksum": "14fd7291fb1ae6aebd0af537cecab269",
     "grade": true,
     "grade_id": "cell-3f36983cc18ba65b",
     "locked": true,
     "points": 1,
     "schema_version": 3,
     "solution": false,
     "task": false
    }
   },
   "outputs": [],
   "source": [
    "assert len(ax.get_title()) >= 10\n",
    "assert len(ax.lines) >= 5"
   ]
  },
  {
   "cell_type": "markdown",
   "id": "0a83fbf3",
   "metadata": {},
   "source": [
    "## Questão 9: Comparando\n",
    "\n",
    "Há duas formas de obter um polinômio de grau 9 para interpolar a função cosseno:\n",
    "- calcular a função em 10 pontos igualmente espaçados;\n",
    "- calcular a função e sua derivada em 5 pontos igualmente espaçados.\n",
    "\n",
    "Faça um gráfico dos erros, no interalo $[-1,2]$, para cada um destes polinômios."
   ]
  },
  {
   "cell_type": "code",
   "execution_count": null,
   "id": "ada28258",
   "metadata": {
    "deletable": false,
    "nbgrader": {
     "cell_type": "code",
     "checksum": "20cefbcdef5c6feea4473c038c1ae498",
     "grade": true,
     "grade_id": "cell-1c405a0879f9c946",
     "locked": false,
     "points": 2,
     "schema_version": 3,
     "solution": true,
     "task": false
    }
   },
   "outputs": [],
   "source": [
    "# YOUR CODE HERE\n",
    "raise NotImplementedError()"
   ]
  },
  {
   "cell_type": "markdown",
   "id": "b7fd4c12",
   "metadata": {},
   "source": [
    "Para termos uma medida quantitativa,\n",
    "calcule a soma dos valores absolutos dos erros,\n",
    "para vários pontos ao longo do intervalo $[-1,2]$"
   ]
  },
  {
   "cell_type": "code",
   "execution_count": null,
   "id": "12ac7c7c",
   "metadata": {
    "deletable": false,
    "nbgrader": {
     "cell_type": "code",
     "checksum": "699388985b9a7ce6ed3720f8f5d4172f",
     "grade": true,
     "grade_id": "cell-43d865f7677874aa",
     "locked": false,
     "points": 1,
     "schema_version": 3,
     "solution": true,
     "task": false
    }
   },
   "outputs": [],
   "source": [
    "# YOUR CODE HERE\n",
    "raise NotImplementedError()"
   ]
  },
  {
   "cell_type": "markdown",
   "id": "9e52c83b",
   "metadata": {},
   "source": [
    "Faça o mesmo estudo para polinômios de grau 7, 11 e 15."
   ]
  },
  {
   "cell_type": "code",
   "execution_count": null,
   "id": "386ba4fe",
   "metadata": {
    "deletable": false,
    "nbgrader": {
     "cell_type": "code",
     "checksum": "b1a8ca4746a50539c012ab0fc2f46514",
     "grade": true,
     "grade_id": "cell-0c46b1bc59ecc8aa",
     "locked": false,
     "points": 3,
     "schema_version": 3,
     "solution": true,
     "task": false
    }
   },
   "outputs": [],
   "source": [
    "# YOUR CODE HERE\n",
    "raise NotImplementedError()"
   ]
  },
  {
   "cell_type": "markdown",
   "id": "33cb442f",
   "metadata": {},
   "source": [
    "O que você observa?"
   ]
  },
  {
   "cell_type": "code",
   "execution_count": null,
   "id": "31bbc826",
   "metadata": {
    "deletable": false,
    "nbgrader": {
     "cell_type": "code",
     "checksum": "0ee63faf47ca6905683ec107236e219f",
     "grade": true,
     "grade_id": "cell-f6b609417d4f4b45",
     "locked": false,
     "points": 2,
     "schema_version": 3,
     "solution": true,
     "task": false
    }
   },
   "outputs": [],
   "source": [
    "# YOUR CODE HERE\n",
    "raise NotImplementedError()"
   ]
  },
  {
   "cell_type": "markdown",
   "id": "968391f7",
   "metadata": {},
   "source": [
    "Refaça para a função exponencial, com vários graus."
   ]
  },
  {
   "cell_type": "code",
   "execution_count": null,
   "id": "08e1f586",
   "metadata": {
    "deletable": false,
    "nbgrader": {
     "cell_type": "code",
     "checksum": "d8c587fdc42cbfd9ab8c6f38059d6fe3",
     "grade": true,
     "grade_id": "cell-e49db1b0c6791936",
     "locked": false,
     "points": 1,
     "schema_version": 3,
     "solution": true,
     "task": false
    }
   },
   "outputs": [],
   "source": [
    "# YOUR CODE HERE\n",
    "raise NotImplementedError()"
   ]
  },
  {
   "cell_type": "markdown",
   "id": "9bbd8791",
   "metadata": {},
   "source": [
    "O que você viu no caso do cosseno se mantém aqui?\n",
    "Porque você acha que isso aconteceu?"
   ]
  },
  {
   "cell_type": "code",
   "execution_count": null,
   "id": "0479ed65",
   "metadata": {
    "deletable": false,
    "nbgrader": {
     "cell_type": "code",
     "checksum": "8820611a6e61a7d29daee4355c1e2351",
     "grade": true,
     "grade_id": "cell-9e8630881d65646f",
     "locked": false,
     "points": 2,
     "schema_version": 3,
     "solution": true,
     "task": false
    }
   },
   "outputs": [],
   "source": [
    "# YOUR CODE HERE\n",
    "raise NotImplementedError()"
   ]
  }
 ],
 "metadata": {
  "kernelspec": {
   "display_name": "Python 3 (ipykernel)",
   "language": "python",
   "name": "python3"
  },
  "language_info": {
   "codemirror_mode": {
    "name": "ipython",
    "version": 3
   },
   "file_extension": ".py",
   "mimetype": "text/x-python",
   "name": "python",
   "nbconvert_exporter": "python",
   "pygments_lexer": "ipython3",
   "version": "3.9.12"
  }
 },
 "nbformat": 4,
 "nbformat_minor": 5
}
