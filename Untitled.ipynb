{
 "cells": [
  {
   "cell_type": "code",
   "execution_count": 1,
   "id": "0550b72f",
   "metadata": {},
   "outputs": [],
   "source": [
    "import numpy as np\n",
    "import matplotlib.pyplot as plt"
   ]
  },
  {
   "cell_type": "markdown",
   "id": "4bd13466",
   "metadata": {},
   "source": [
    "# Bisseção com tolerancia:\n",
    "Método simples de calculo da raiz por bisseção, escolhe um intervalo [a,b] e se f(a) vezes f(b) é menor q zero então a função passa por zero, logo existe uma raiz entre esse intervalo.\n",
    "O metodo da bisseção usa isso para tentar se aproximar ao maximo da raiz da função, sempre cortando o \n",
    "intervalo ao meio."
   ]
  },
  {
   "cell_type": "code",
   "execution_count": 2,
   "id": "d79fb256",
   "metadata": {},
   "outputs": [],
   "source": [
    "def bissecao_step(f, a, b):\n",
    "    z = (a+b)/2\n",
    "    if f(a)*f(z)<0:\n",
    "        b=z\n",
    "    else:\n",
    "        a=z\n",
    "    return a,b\n",
    "def bissecao(f, a, b, tol=1e-8, err=1e-8):\n",
    "    e=abs(b-a)\n",
    "    j=0\n",
    "    i=0\n",
    "    while True:\n",
    "        e=abs(b-a)\n",
    "        if e<tol or abs(f((a+b)/2))<err:\n",
    "            break\n",
    "        j +=3\n",
    "        i +=1\n",
    "        a,b = bissecao_step(f, a, b)\n",
    "        e=abs(b-a)\n",
    "    return (a+b)/2,i,j"
   ]
  },
  {
   "cell_type": "markdown",
   "id": "3768d8b2",
   "metadata": {},
   "source": [
    "# Bisseção com Erro para graficos:"
   ]
  },
  {
   "cell_type": "code",
   "execution_count": 3,
   "id": "bac68567",
   "metadata": {},
   "outputs": [],
   "source": [
    "def Err_biss(a,b):\n",
    "    r=(a+b)/2\n",
    "    E_absoluto = abs((b-a)/2)\n",
    "    if a*b<=0:\n",
    "        return E_absoluto, +infty\n",
    "    if a<b:\n",
    "        E_relativo = abs((r-b)/b)\n",
    "    else:\n",
    "        E_relativo = abs((r-a)/a)\n",
    "    return E_absoluto, E_relativo\n",
    "def bissecao_step(f,a,b):\n",
    "    z = (a+b)/2\n",
    "    if f(a)*f(z)<0:\n",
    "        b=z\n",
    "    else:\n",
    "        a=z\n",
    "    return a,b\n",
    "def bissecao_extremidades(f,a,b, abstol=1e-10,reltol=1e-10):\n",
    "    \"\"\" Função que retorna as uma lista contendo os intervalos que a função f possui uma raiz, o metodo \n",
    "    usado é igual ao da função bissecao\"\"\"\n",
    "    l=[]\n",
    "    while True:\n",
    "        l.append([a,b])\n",
    "        e_abs, e_rel = Err_biss(a,b)\n",
    "        if e_abs<abstol and e_rel<reltol:\n",
    "            break\n",
    "        a,b = bissecao_step(f, a, b) \n",
    "    return l"
   ]
  },
  {
   "cell_type": "markdown",
   "id": "0f96f482",
   "metadata": {},
   "source": [
    "# Bisseção para graficos sem Erro:"
   ]
  },
  {
   "cell_type": "code",
   "execution_count": 4,
   "id": "2f5e6f3d",
   "metadata": {},
   "outputs": [],
   "source": [
    "def bissecao_step(f,a,b):\n",
    "    z = (a+b)/2\n",
    "    if f(a)*f(z)<0:\n",
    "        b=z\n",
    "    else:\n",
    "        a=z\n",
    "    return a,b\n",
    "def bissecao_pts(f, a, b, xtol=1e-8, ytol=1e-8):\n",
    "    \"\"\"\n",
    "    Encontra uma raiz de  f  pelo algoritmo da bissecao, retornando\n",
    "    todos os pontos pelos quais o algoritmo passa.\n",
    "    \n",
    "    O algoritmo termina quando o tamanho do intervalo ficar menor do que  xtol,\n",
    "    ou quando o valor absoluto da função ficar abaixo de  ytol.\n",
    "    \"\"\"\n",
    "    pts=[a, b]\n",
    "    while True:\n",
    "        z=(a+b)/2\n",
    "        pts.append(z)\n",
    "        if abs(f(z))<ytol or abs(b-a)<xtol:\n",
    "            break\n",
    "        a,b = bissecao_step(f, a, b)\n",
    "    return pts"
   ]
  },
  {
   "cell_type": "markdown",
   "id": "3177b629",
   "metadata": {},
   "source": [
    "# Newton:"
   ]
  },
  {
   "cell_type": "code",
   "execution_count": 5,
   "id": "e92d8675",
   "metadata": {},
   "outputs": [],
   "source": [
    "def newton_pts(f, df, x, xtol=1e-8, ytol=1e-8, maxiter=100):\n",
    "    l=[x]\n",
    "    for i in range(maxiter):\n",
    "        passo = f(x)/df(x)\n",
    "        newx= x-passo\n",
    "        l.append(newx)\n",
    "        if abs(passo) < xtol or abs(f(newx)) < ytol:\n",
    "            return l\n",
    "        x=newx\n",
    "    return l"
   ]
  },
  {
   "cell_type": "markdown",
   "id": "4d32bcd5",
   "metadata": {},
   "source": [
    "O grafico abaixo mostra como a função do metodo de newton funciona:\n",
    "<img src=\"newton.png\">\n",
    "Basicamente damos um ponto inicial e calculamos a derivada nesse ponto e aproximamos a raiz"
   ]
  },
  {
   "cell_type": "markdown",
   "id": "3f568af6",
   "metadata": {},
   "source": [
    "# Comparação entre o metodo da bisseção e de newton:"
   ]
  },
  {
   "cell_type": "code",
   "execution_count": 26,
   "id": "f3ac5dcb",
   "metadata": {},
   "outputs": [
    {
     "data": {
      "text/plain": [
       "<matplotlib.legend.Legend at 0x17401998c10>"
      ]
     },
     "execution_count": 26,
     "metadata": {},
     "output_type": "execute_result"
    },
    {
     "data": {
      "image/png": "[encoded data removed]",
      "text/plain": [
       "<Figure size 640x480 with 1 Axes>"
      ]
     },
     "metadata": {},
     "output_type": "display_data"
    }
   ],
   "source": [
    "def F(x):\n",
    "    return -2*x**5+x**4+2*x**2+3*x+4\n",
    "def f(x):\n",
    "    return -10*x**4+4*x**3+4*x-3\n",
    "raiz=1.5872110603237\n",
    "bi=bissecao_pts(F,1.5,1.7)\n",
    "err1=[]\n",
    "newton=newton_pts(F,f,1.7)\n",
    "err2=[]\n",
    "for x in bi:\n",
    "    err1.append(abs(raiz-x))\n",
    "for x in newton:\n",
    "    err2.append(abs(raiz-x))\n",
    "plt.semilogy(err1,label='bisseção')\n",
    "plt.semilogy(err2,label='newton')\n",
    "plt.legend()"
   ]
  },
  {
   "cell_type": "markdown",
   "id": "5ac71fa0",
   "metadata": {},
   "source": [
    "# Derivadas numericas:"
   ]
  },
  {
   "cell_type": "code",
   "execution_count": null,
   "id": "1096a7bc",
   "metadata": {},
   "outputs": [],
   "source": [
    "def df_central(f, x, h=1e-5):\n",
    "    \"\"\"Derivada central de  f  em  x, com passo  h\"\"\"\n",
    "    return (f(x+h) - f(x-h))/(2*h)\n",
    "def ddf_central(f,x, h=1e-4):\n",
    "    \"\"\"Aproximação da segunda derivada de  f  em  x, usando a derivada central iterada com passo  h.\"\"\"\n",
    "    return (df_central(f,x+h)-df_central(f,x-h))/(2*h)"
   ]
  },
  {
   "cell_type": "markdown",
   "id": "a60d2bb1",
   "metadata": {},
   "source": [
    "# Método de Euler:\n",
    "Usado pra calcular uma aproximação da função através de sua derivada.\n",
    "é como se você usasse as retas que o metodo de newton aproxima as funções mas no caminho contrario"
   ]
  },
  {
   "cell_type": "code",
   "execution_count": 28,
   "id": "e1de5e10",
   "metadata": {},
   "outputs": [],
   "source": [
    "def euler(F, t0,tf, f0, nsteps=100):\n",
    "    \"\"\"F é a equação diferencial\n",
    "    to o ponto inicial\n",
    "    tf o tempo final\n",
    "    e f0 a condição inicial\"\"\"\n",
    "    l=list(np.linspace(t0,tf,nsteps+1))\n",
    "    f=[f0]\n",
    "    for i in range(len(l)-1):\n",
    "        fn=f[i]+F(l[i],f[i])*(l[i+1]-l[i])\n",
    "        f.append(fn)\n",
    "    return f"
   ]
  },
  {
   "cell_type": "markdown",
   "id": "0f781c23",
   "metadata": {},
   "source": [
    "# método do retangulo:\n"
   ]
  },
  {
   "cell_type": "code",
   "execution_count": null,
   "id": "26ffff20",
   "metadata": {},
   "outputs": [],
   "source": [
    "def retangulo(f,a,b,n=100):\n",
    "    xs, h = np.linspace(a, b, num=n, endpoint=False, retstep = True)\n",
    "    return np.sum(f(xs))*h"
   ]
  },
  {
   "cell_type": "markdown",
   "id": "00fbf99f",
   "metadata": {},
   "source": [
    "# método do ponto médio:"
   ]
  },
  {
   "cell_type": "code",
   "execution_count": null,
   "id": "3357a765",
   "metadata": {},
   "outputs": [],
   "source": [
    "def midpoint(f,a,b,n=100):\n",
    "    l, h = np.linspace(a,b, num=n, endpoint=False, retstep=True)\n",
    "    if n == 1:\n",
    "        h = abs(b-a)\n",
    "    mids = l + h/2\n",
    "    return np.sum(f(mids)*h)"
   ]
  },
  {
   "cell_type": "markdown",
   "id": "9ccdaf52",
   "metadata": {},
   "source": [
    "# método de simpson:"
   ]
  },
  {
   "cell_type": "code",
   "execution_count": null,
   "id": "8c82b519",
   "metadata": {},
   "outputs": [],
   "source": [
    "def simpson(f,a,b,n=100):\n",
    "    l, h = np.linspace(a, b, num=n, endpoint=False, retstep=True)\n",
    "    if n == 1:\n",
    "        h = abs(b-a)\n",
    "    mids = l + h/2\n",
    "    return (4*np.sum(f(mids)) + 2*np.sum(f(l)) + (f(b)-f(a))) * h/6"
   ]
  }
 ],
 "metadata": {
  "kernelspec": {
   "display_name": "Python 3 (ipykernel)",
   "language": "python",
   "name": "python3"
  },
  "language_info": {
   "codemirror_mode": {
    "name": "ipython",
    "version": 3
   },
   "file_extension": ".py",
   "mimetype": "text/x-python",
   "name": "python",
   "nbconvert_exporter": "python",
   "pygments_lexer": "ipython3",
   "version": "3.9.12"
  }
 },
 "nbformat": 4,
 "nbformat_minor": 5
}
